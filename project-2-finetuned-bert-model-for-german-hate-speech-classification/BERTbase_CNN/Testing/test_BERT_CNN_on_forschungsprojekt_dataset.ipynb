{
 "cells": [
  {
   "cell_type": "markdown",
   "source": [
    "# Test and log metrics for the dataset of the research project\n",
    "\n",
    "This notebook uses the model class, loads the saved model and tokenizer and evaluates the chosen model on the \"forschungsprojekt.xls\" dataset. <br>\n",
    "\n",
    "The script automatically logs the data in wandb as well as in the Excel file logged_model_metrics.xlsx which is also used for logging in my Model training code.\n",
    "\n",
    "One section was used from Daniels Code this is marked in the code with a comment."
   ],
   "metadata": {
    "id": "1zdUCjxAOKD6"
   }
  },
  {
   "cell_type": "code",
   "source": [
    "# Import packages\n",
    "import os\n",
    "import pandas as pd\n",
    "import torch\n",
    "from torch import nn\n",
    "from transformers import BertModel, AutoTokenizer\n",
    "from sklearn.metrics import (\n",
    "    accuracy_score,\n",
    "    precision_recall_fscore_support,\n",
    "    classification_report,\n",
    "    confusion_matrix,\n",
    "    fbeta_score,\n",
    "    matthews_corrcoef\n",
    ")\n",
    "import matplotlib.pyplot as plt\n",
    "import seaborn as sns\n",
    "import logging\n",
    "from google.colab import drive, runtime, userdata\n",
    "import threading\n",
    "import wandb\n",
    "import datetime"
   ],
   "metadata": {
    "id": "2sXonbJlNas_"
   },
   "execution_count": null,
   "outputs": []
  },
  {
   "cell_type": "code",
   "source": [
    "# Configure Logging\n",
    "logging.basicConfig(\n",
    "    level=logging.INFO,  # Log INFO\n",
    "    format=\"%(asctime)s - %(levelname)s - %(message)s\",\n",
    "    force=True\n",
    ")\n",
    "\n",
    "logger = logging.getLogger(__name__)"
   ],
   "metadata": {
    "id": "fFjPerg5OYcx"
   },
   "execution_count": null,
   "outputs": []
  },
  {
   "cell_type": "code",
   "source": [
    "# Set Device to GPU / show GPU connection\n",
    "device = torch.device(\"cuda\") if torch.cuda.is_available() else torch.device(\"cpu\")\n",
    "logger.info(f\"Using device: {device}\")\n",
    "if torch.cuda.is_available():\n",
    "    logger.info(f\"GPU Name: {torch.cuda.get_device_name(0)}\")"
   ],
   "metadata": {
    "colab": {
     "base_uri": "https://localhost:8080/"
    },
    "id": "6RJt9HK9OAJb",
    "executionInfo": {
     "status": "ok",
     "timestamp": 1735989082826,
     "user_tz": -60,
     "elapsed": 8,
     "user": {
      "displayName": "Max N.",
      "userId": "17347375569055604559"
     }
    },
    "outputId": "7a3df754-d887-4bb8-e70a-c176c339d0a3"
   },
   "execution_count": null,
   "outputs": [
    {
     "output_type": "stream",
     "name": "stderr",
     "text": [
      "2025-01-04 11:11:22,558 - INFO - Using device: cuda\n",
      "2025-01-04 11:11:22,585 - INFO - GPU Name: Tesla T4\n"
     ]
    }
   ]
  },
  {
   "cell_type": "markdown",
   "source": [
    "## Code classes for testing\n",
    "\n",
    "### Bert + CNN class (uncomment cell for using the class)"
   ],
   "metadata": {
    "id": "wgfKPPa7vxw6"
   }
  },
  {
   "cell_type": "code",
   "source": [
    "class BERT_CNN(nn.Module):\n",
    "    def __init__(self, bert_model_name, num_labels, dropout_rate=0.3, class_weights=None):\n",
    "        super(BERT_CNN, self).__init__()\n",
    "\n",
    "        # Load pre-trained BERT model\n",
    "        self.bert = BertModel.from_pretrained(bert_model_name)\n",
    "\n",
    "        # Dropout for regularization\n",
    "        self.dropout_bert = nn.Dropout(dropout_rate)\n",
    "        self.dropout_cnn = nn.Dropout(dropout_rate)\n",
    "\n",
    "        # CNN-Layer\n",
    "        self.conv1d = nn.Conv1d(\n",
    "            in_channels=self.bert.config.hidden_size,  # Hidden size from BERT\n",
    "            out_channels=128,  # Number of output channels\n",
    "            kernel_size=3,  # Filter size\n",
    "            padding=1\n",
    "        )\n",
    "        self.relu = nn.ReLU()\n",
    "        self.maxpool = nn.MaxPool1d(kernel_size=2)\n",
    "\n",
    "        # Fully Connected Classification Layer\n",
    "        self.classifier = nn.Linear(128, num_labels)\n",
    "\n",
    "        self.class_weights = class_weights\n",
    "\n",
    "    def forward(self, input_ids, attention_mask, labels=None):\n",
    "        # Extract features from BERT\n",
    "        outputs = self.bert(input_ids=input_ids, attention_mask=attention_mask)\n",
    "        sequence_output = outputs.last_hidden_state  # Shape: (batch_size, seq_len, hidden_size)\n",
    "\n",
    "        # Dropout after BERT output\n",
    "        sequence_output = self.dropout_bert(sequence_output)\n",
    "\n",
    "        # Pass through CNN\n",
    "        cnn_output = self.conv1d(sequence_output.permute(0, 2, 1))  # Conv1d expects (batch, channels, seq_len)\n",
    "        cnn_output = self.relu(cnn_output)\n",
    "        cnn_output = self.maxpool(cnn_output)\n",
    "\n",
    "        # Average pooling across the sequence length\n",
    "        pooled_output = torch.mean(cnn_output, dim=2)  # Shape: (batch_size, channels)\n",
    "\n",
    "        # Dropout after CNN output\n",
    "        pooled_output = self.dropout_cnn(pooled_output)\n",
    "\n",
    "        # Pass through the classifier\n",
    "        logits = self.classifier(pooled_output)\n",
    "\n",
    "        # Compute loss if labels are provided\n",
    "        if labels is not None:\n",
    "            loss_fct = nn.CrossEntropyLoss(weight=class_weights) # for balancing the classes\n",
    "            loss = loss_fct(logits.view(-1, self.classifier.out_features), labels.view(-1))\n",
    "            return loss, logits\n",
    "\n",
    "        return logits"
   ],
   "metadata": {
    "id": "5cPrci4fR0Db"
   },
   "execution_count": null,
   "outputs": []
  },
  {
   "cell_type": "markdown",
   "source": [
    "## Load data, model, tokenizer from google drive"
   ],
   "metadata": {
    "id": "Xt_Xdl4kwZ6D"
   }
  },
  {
   "cell_type": "code",
   "source": [
    "# mount google drive for folder access\n",
    "drive.mount('/content/drive')"
   ],
   "metadata": {
    "colab": {
     "base_uri": "https://localhost:8080/"
    },
    "id": "IXHhUE-nOEP7",
    "executionInfo": {
     "status": "ok",
     "timestamp": 1735989118525,
     "user_tz": -60,
     "elapsed": 35704,
     "user": {
      "displayName": "Max N.",
      "userId": "17347375569055604559"
     }
    },
    "outputId": "ed5a7b23-5183-458f-f91e-8fdd7b20b0bd"
   },
   "execution_count": null,
   "outputs": [
    {
     "output_type": "stream",
     "name": "stdout",
     "text": [
      "Mounted at /content/drive\n"
     ]
    }
   ]
  },
  {
   "cell_type": "code",
   "source": [
    "file_name = 'forschungsprojekt_datensatz.xls'\n",
    "data_path = '/content/drive/MyDrive/model/data'\n",
    "dataset_path = os.path.join(data_path, file_name)\n",
    "\n",
    "data = pd.read_csv(dataset_path, encoding='utf-8-sig')\n",
    "logger.info(f\"Dataset loaded with shape: {data.shape}\")\n",
    "\n",
    "data.head()"
   ],
   "metadata": {
    "colab": {
     "base_uri": "https://localhost:8080/",
     "height": 224
    },
    "id": "b0nWy9hpYD9r",
    "executionInfo": {
     "status": "ok",
     "timestamp": 1735989119185,
     "user_tz": -60,
     "elapsed": 661,
     "user": {
      "displayName": "Max N.",
      "userId": "17347375569055604559"
     }
    },
    "outputId": "5134392c-e3e0-46bf-e232-0da4add5b777"
   },
   "execution_count": null,
   "outputs": [
    {
     "output_type": "stream",
     "name": "stderr",
     "text": [
      "2025-01-04 11:11:58,914 - INFO - Dataset loaded with shape: (1592, 5)\n"
     ]
    },
    {
     "output_type": "execute_result",
     "data": {
      "text/plain": [
       "      post_id  annotator_id                                label  \\\n",
       "0   971081249            42      Not Hatespeech (enough context)   \n",
       "1  3678183319            48      Not Hatespeech (enough context)   \n",
       "2  2721805022            52      Hatespeech (not enough context)   \n",
       "3  3885566702            41      Hatespeech (not enough context)   \n",
       "4  3006397832            61  Not Hatespeech (not enough context)   \n",
       "\n",
       "                          filename  \\\n",
       "0        rosenheim24-03-01-all.xml   \n",
       "1  kreiszeitung-2022-03-01-all.xml   \n",
       "2            tz-2022-03-01-all.xml   \n",
       "3     fr-online-2022-03-01-all.xml   \n",
       "4      bgland24-2022-09-15-all.xml   \n",
       "\n",
       "                                                text  \n",
       "0   Irgendwie kann ich mich des Verdachtes nicht ...  \n",
       "1   100 % Co Trainer bei Skripnik und dort 100 % ...  \n",
       "2   Sagenhaft was so bei uns geschieht.Der Staat ...  \n",
       "3   Ein bisschen oberflächlich Ihr Kommentar, wür...  \n",
       "4   ich empfehle hier mal die Seite (http://disq....  "
      ],
      "text/html": [
       "\n",
       "  <div id=\"df-08bd7068-7934-46b1-b207-e4ff6e60d707\" class=\"colab-df-container\">\n",
       "    <div>\n",
       "<style scoped>\n",
       "    .dataframe tbody tr th:only-of-type {\n",
       "        vertical-align: middle;\n",
       "    }\n",
       "\n",
       "    .dataframe tbody tr th {\n",
       "        vertical-align: top;\n",
       "    }\n",
       "\n",
       "    .dataframe thead th {\n",
       "        text-align: right;\n",
       "    }\n",
       "</style>\n",
       "<table border=\"1\" class=\"dataframe\">\n",
       "  <thead>\n",
       "    <tr style=\"text-align: right;\">\n",
       "      <th></th>\n",
       "      <th>post_id</th>\n",
       "      <th>annotator_id</th>\n",
       "      <th>label</th>\n",
       "      <th>filename</th>\n",
       "      <th>text</th>\n",
       "    </tr>\n",
       "  </thead>\n",
       "  <tbody>\n",
       "    <tr>\n",
       "      <th>0</th>\n",
       "      <td>971081249</td>\n",
       "      <td>42</td>\n",
       "      <td>Not Hatespeech (enough context)</td>\n",
       "      <td>rosenheim24-03-01-all.xml</td>\n",
       "      <td>Irgendwie kann ich mich des Verdachtes nicht ...</td>\n",
       "    </tr>\n",
       "    <tr>\n",
       "      <th>1</th>\n",
       "      <td>3678183319</td>\n",
       "      <td>48</td>\n",
       "      <td>Not Hatespeech (enough context)</td>\n",
       "      <td>kreiszeitung-2022-03-01-all.xml</td>\n",
       "      <td>100 % Co Trainer bei Skripnik und dort 100 % ...</td>\n",
       "    </tr>\n",
       "    <tr>\n",
       "      <th>2</th>\n",
       "      <td>2721805022</td>\n",
       "      <td>52</td>\n",
       "      <td>Hatespeech (not enough context)</td>\n",
       "      <td>tz-2022-03-01-all.xml</td>\n",
       "      <td>Sagenhaft was so bei uns geschieht.Der Staat ...</td>\n",
       "    </tr>\n",
       "    <tr>\n",
       "      <th>3</th>\n",
       "      <td>3885566702</td>\n",
       "      <td>41</td>\n",
       "      <td>Hatespeech (not enough context)</td>\n",
       "      <td>fr-online-2022-03-01-all.xml</td>\n",
       "      <td>Ein bisschen oberflächlich Ihr Kommentar, wür...</td>\n",
       "    </tr>\n",
       "    <tr>\n",
       "      <th>4</th>\n",
       "      <td>3006397832</td>\n",
       "      <td>61</td>\n",
       "      <td>Not Hatespeech (not enough context)</td>\n",
       "      <td>bgland24-2022-09-15-all.xml</td>\n",
       "      <td>ich empfehle hier mal die Seite (http://disq....</td>\n",
       "    </tr>\n",
       "  </tbody>\n",
       "</table>\n",
       "</div>\n",
       "    <div class=\"colab-df-buttons\">\n",
       "\n",
       "  <div class=\"colab-df-container\">\n",
       "    <button class=\"colab-df-convert\" onclick=\"convertToInteractive('df-08bd7068-7934-46b1-b207-e4ff6e60d707')\"\n",
       "            title=\"Convert this dataframe to an interactive table.\"\n",
       "            style=\"display:none;\">\n",
       "\n",
       "  <svg xmlns=\"http://www.w3.org/2000/svg\" height=\"24px\" viewBox=\"0 -960 960 960\">\n",
       "    <path d=\"M120-120v-720h720v720H120Zm60-500h600v-160H180v160Zm220 220h160v-160H400v160Zm0 220h160v-160H400v160ZM180-400h160v-160H180v160Zm440 0h160v-160H620v160ZM180-180h160v-160H180v160Zm440 0h160v-160H620v160Z\"/>\n",
       "  </svg>\n",
       "    </button>\n",
       "\n",
       "  <style>\n",
       "    .colab-df-container {\n",
       "      display:flex;\n",
       "      gap: 12px;\n",
       "    }\n",
       "\n",
       "    .colab-df-convert {\n",
       "      background-color: #E8F0FE;\n",
       "      border: none;\n",
       "      border-radius: 50%;\n",
       "      cursor: pointer;\n",
       "      display: none;\n",
       "      fill: #1967D2;\n",
       "      height: 32px;\n",
       "      padding: 0 0 0 0;\n",
       "      width: 32px;\n",
       "    }\n",
       "\n",
       "    .colab-df-convert:hover {\n",
       "      background-color: #E2EBFA;\n",
       "      box-shadow: 0px 1px 2px rgba(60, 64, 67, 0.3), 0px 1px 3px 1px rgba(60, 64, 67, 0.15);\n",
       "      fill: #174EA6;\n",
       "    }\n",
       "\n",
       "    .colab-df-buttons div {\n",
       "      margin-bottom: 4px;\n",
       "    }\n",
       "\n",
       "    [theme=dark] .colab-df-convert {\n",
       "      background-color: #3B4455;\n",
       "      fill: #D2E3FC;\n",
       "    }\n",
       "\n",
       "    [theme=dark] .colab-df-convert:hover {\n",
       "      background-color: #434B5C;\n",
       "      box-shadow: 0px 1px 3px 1px rgba(0, 0, 0, 0.15);\n",
       "      filter: drop-shadow(0px 1px 2px rgba(0, 0, 0, 0.3));\n",
       "      fill: #FFFFFF;\n",
       "    }\n",
       "  </style>\n",
       "\n",
       "    <script>\n",
       "      const buttonEl =\n",
       "        document.querySelector('#df-08bd7068-7934-46b1-b207-e4ff6e60d707 button.colab-df-convert');\n",
       "      buttonEl.style.display =\n",
       "        google.colab.kernel.accessAllowed ? 'block' : 'none';\n",
       "\n",
       "      async function convertToInteractive(key) {\n",
       "        const element = document.querySelector('#df-08bd7068-7934-46b1-b207-e4ff6e60d707');\n",
       "        const dataTable =\n",
       "          await google.colab.kernel.invokeFunction('convertToInteractive',\n",
       "                                                    [key], {});\n",
       "        if (!dataTable) return;\n",
       "\n",
       "        const docLinkHtml = 'Like what you see? Visit the ' +\n",
       "          '<a target=\"_blank\" href=https://colab.research.google.com/notebooks/data_table.ipynb>data table notebook</a>'\n",
       "          + ' to learn more about interactive tables.';\n",
       "        element.innerHTML = '';\n",
       "        dataTable['output_type'] = 'display_data';\n",
       "        await google.colab.output.renderOutput(dataTable, element);\n",
       "        const docLink = document.createElement('div');\n",
       "        docLink.innerHTML = docLinkHtml;\n",
       "        element.appendChild(docLink);\n",
       "      }\n",
       "    </script>\n",
       "  </div>\n",
       "\n",
       "\n",
       "<div id=\"df-84a10d53-9f73-46b9-b866-c8176a2f48a3\">\n",
       "  <button class=\"colab-df-quickchart\" onclick=\"quickchart('df-84a10d53-9f73-46b9-b866-c8176a2f48a3')\"\n",
       "            title=\"Suggest charts\"\n",
       "            style=\"display:none;\">\n",
       "\n",
       "<svg xmlns=\"http://www.w3.org/2000/svg\" height=\"24px\"viewBox=\"0 0 24 24\"\n",
       "     width=\"24px\">\n",
       "    <g>\n",
       "        <path d=\"M19 3H5c-1.1 0-2 .9-2 2v14c0 1.1.9 2 2 2h14c1.1 0 2-.9 2-2V5c0-1.1-.9-2-2-2zM9 17H7v-7h2v7zm4 0h-2V7h2v10zm4 0h-2v-4h2v4z\"/>\n",
       "    </g>\n",
       "</svg>\n",
       "  </button>\n",
       "\n",
       "<style>\n",
       "  .colab-df-quickchart {\n",
       "      --bg-color: #E8F0FE;\n",
       "      --fill-color: #1967D2;\n",
       "      --hover-bg-color: #E2EBFA;\n",
       "      --hover-fill-color: #174EA6;\n",
       "      --disabled-fill-color: #AAA;\n",
       "      --disabled-bg-color: #DDD;\n",
       "  }\n",
       "\n",
       "  [theme=dark] .colab-df-quickchart {\n",
       "      --bg-color: #3B4455;\n",
       "      --fill-color: #D2E3FC;\n",
       "      --hover-bg-color: #434B5C;\n",
       "      --hover-fill-color: #FFFFFF;\n",
       "      --disabled-bg-color: #3B4455;\n",
       "      --disabled-fill-color: #666;\n",
       "  }\n",
       "\n",
       "  .colab-df-quickchart {\n",
       "    background-color: var(--bg-color);\n",
       "    border: none;\n",
       "    border-radius: 50%;\n",
       "    cursor: pointer;\n",
       "    display: none;\n",
       "    fill: var(--fill-color);\n",
       "    height: 32px;\n",
       "    padding: 0;\n",
       "    width: 32px;\n",
       "  }\n",
       "\n",
       "  .colab-df-quickchart:hover {\n",
       "    background-color: var(--hover-bg-color);\n",
       "    box-shadow: 0 1px 2px rgba(60, 64, 67, 0.3), 0 1px 3px 1px rgba(60, 64, 67, 0.15);\n",
       "    fill: var(--button-hover-fill-color);\n",
       "  }\n",
       "\n",
       "  .colab-df-quickchart-complete:disabled,\n",
       "  .colab-df-quickchart-complete:disabled:hover {\n",
       "    background-color: var(--disabled-bg-color);\n",
       "    fill: var(--disabled-fill-color);\n",
       "    box-shadow: none;\n",
       "  }\n",
       "\n",
       "  .colab-df-spinner {\n",
       "    border: 2px solid var(--fill-color);\n",
       "    border-color: transparent;\n",
       "    border-bottom-color: var(--fill-color);\n",
       "    animation:\n",
       "      spin 1s steps(1) infinite;\n",
       "  }\n",
       "\n",
       "  @keyframes spin {\n",
       "    0% {\n",
       "      border-color: transparent;\n",
       "      border-bottom-color: var(--fill-color);\n",
       "      border-left-color: var(--fill-color);\n",
       "    }\n",
       "    20% {\n",
       "      border-color: transparent;\n",
       "      border-left-color: var(--fill-color);\n",
       "      border-top-color: var(--fill-color);\n",
       "    }\n",
       "    30% {\n",
       "      border-color: transparent;\n",
       "      border-left-color: var(--fill-color);\n",
       "      border-top-color: var(--fill-color);\n",
       "      border-right-color: var(--fill-color);\n",
       "    }\n",
       "    40% {\n",
       "      border-color: transparent;\n",
       "      border-right-color: var(--fill-color);\n",
       "      border-top-color: var(--fill-color);\n",
       "    }\n",
       "    60% {\n",
       "      border-color: transparent;\n",
       "      border-right-color: var(--fill-color);\n",
       "    }\n",
       "    80% {\n",
       "      border-color: transparent;\n",
       "      border-right-color: var(--fill-color);\n",
       "      border-bottom-color: var(--fill-color);\n",
       "    }\n",
       "    90% {\n",
       "      border-color: transparent;\n",
       "      border-bottom-color: var(--fill-color);\n",
       "    }\n",
       "  }\n",
       "</style>\n",
       "\n",
       "  <script>\n",
       "    async function quickchart(key) {\n",
       "      const quickchartButtonEl =\n",
       "        document.querySelector('#' + key + ' button');\n",
       "      quickchartButtonEl.disabled = true;  // To prevent multiple clicks.\n",
       "      quickchartButtonEl.classList.add('colab-df-spinner');\n",
       "      try {\n",
       "        const charts = await google.colab.kernel.invokeFunction(\n",
       "            'suggestCharts', [key], {});\n",
       "      } catch (error) {\n",
       "        console.error('Error during call to suggestCharts:', error);\n",
       "      }\n",
       "      quickchartButtonEl.classList.remove('colab-df-spinner');\n",
       "      quickchartButtonEl.classList.add('colab-df-quickchart-complete');\n",
       "    }\n",
       "    (() => {\n",
       "      let quickchartButtonEl =\n",
       "        document.querySelector('#df-84a10d53-9f73-46b9-b866-c8176a2f48a3 button');\n",
       "      quickchartButtonEl.style.display =\n",
       "        google.colab.kernel.accessAllowed ? 'block' : 'none';\n",
       "    })();\n",
       "  </script>\n",
       "</div>\n",
       "\n",
       "    </div>\n",
       "  </div>\n"
      ],
      "application/vnd.google.colaboratory.intrinsic+json": {
       "type": "dataframe",
       "variable_name": "data",
       "summary": "{\n  \"name\": \"data\",\n  \"rows\": 1592,\n  \"fields\": [\n    {\n      \"column\": \"post_id\",\n      \"properties\": {\n        \"dtype\": \"number\",\n        \"std\": 1564727641,\n        \"min\": 331514836,\n        \"max\": 5892898800,\n        \"num_unique_values\": 1592,\n        \"samples\": [\n          5214301433,\n          4556403494,\n          790565901\n        ],\n        \"semantic_type\": \"\",\n        \"description\": \"\"\n      }\n    },\n    {\n      \"column\": \"annotator_id\",\n      \"properties\": {\n        \"dtype\": \"number\",\n        \"std\": 7,\n        \"min\": 39,\n        \"max\": 62,\n        \"num_unique_values\": 10,\n        \"samples\": [\n          54,\n          48,\n          45\n        ],\n        \"semantic_type\": \"\",\n        \"description\": \"\"\n      }\n    },\n    {\n      \"column\": \"label\",\n      \"properties\": {\n        \"dtype\": \"category\",\n        \"num_unique_values\": 4,\n        \"samples\": [\n          \"Hatespeech (not enough context)\",\n          \"Hatespeech (enough context)\",\n          \"Not Hatespeech (enough context)\"\n        ],\n        \"semantic_type\": \"\",\n        \"description\": \"\"\n      }\n    },\n    {\n      \"column\": \"filename\",\n      \"properties\": {\n        \"dtype\": \"category\",\n        \"num_unique_values\": 9,\n        \"samples\": [\n          \"kreiszeitung-03-01-all.xml\",\n          \"kreiszeitung-2022-03-01-all.xml\",\n          \"come-on-2022-09-15-all.xml\"\n        ],\n        \"semantic_type\": \"\",\n        \"description\": \"\"\n      }\n    },\n    {\n      \"column\": \"text\",\n      \"properties\": {\n        \"dtype\": \"string\",\n        \"num_unique_values\": 1592,\n        \"samples\": [\n          \" Und das wird auch durch die x-te Wiederholung nicht richtiger! Es ist lediglich die \\u00fcbliche Leier, mit der Merkel und S\\u00f6der ihr Versagen kaschieren wollen. \",\n          \" Die Linken wollen tats\\u00e4chlich, dass die Komunen Wirtschaftsmigranten aufnehmen, die ihr Leben lang den Steuerzahler eine Menge Geld kosten, w\\u00e4hrend hierzulande manche Rentner Flaschen sammeln oder zum putzen gehen m\\u00fcssen, weil f\\u00fcr sie kein Geld da ist???  Dann wei\\u00df ich, wem ich in Zukunft meine Stimme geben werde! \",\n          \" meinen jetzt sie die Kirche oder die Moschee ? \"\n        ],\n        \"semantic_type\": \"\",\n        \"description\": \"\"\n      }\n    }\n  ]\n}"
      }
     },
     "metadata": {},
     "execution_count": 7
    }
   ]
  },
  {
   "cell_type": "code",
   "source": [
    "model_name =  'model_CNN_trial_23_2025-01-04_07-51.bin' # adjust for the desired model\n",
    "\n",
    "model_dir = '/content/drive/MyDrive/model/best_model_CNN_2025-01-04_07-51' # this is the folder for BERT_CNN\n",
    "\n",
    "\n",
    "model_path = os.path.join(model_dir, model_name)\n",
    "\n",
    "# Load tokenizer\n",
    "tokenizer = AutoTokenizer.from_pretrained(model_dir)\n",
    "\n",
    "# Initialize model\n",
    "model = BERT_CNN(bert_model_name='deepset/gbert-base', num_labels=2)\n",
    "\n",
    "# Load state dict\n",
    "model.load_state_dict(torch.load(model_path, map_location=torch.device('cpu')))\n",
    "model.eval()\n",
    "\n",
    "# Set device\n",
    "device = torch.device(\"cuda\" if torch.cuda.is_available() else \"cpu\")\n",
    "model.to(device)"
   ],
   "metadata": {
    "colab": {
     "base_uri": "https://localhost:8080/",
     "height": 1000,
     "referenced_widgets": [
      "f14691d33d774fe293bebe90d1cb7b9f",
      "89295b2334eb4d90b6d4b364c68ee8f4",
      "bdd6106ac9134573a36c62448174a9b4",
      "365453cccd924c40bcb5784751869ec2",
      "83a8e011cb644d4fbc6ce641aa30576f",
      "e184e277d29a443fb411183e7be7c38f",
      "7960f013275f437f87088e619d2275bd",
      "ae8510fc84cf4007b9567566e88db4ee",
      "b25e5837caef42d8a05d3a234279089d",
      "64bc6db95a804e35bed26a970eab739c",
      "5d57cde7be6747ebabf09c6b46ffc8be",
      "53df659f6e774a439eeb2bcb737a59e5",
      "c02d7b6f87424226854c0dfa9fc62414",
      "3b734a8ed4e045849f2cff7320cd5d74",
      "a3f4fa90ea764ccd8c0da9fb33899bb6",
      "5a933e993a3844cdbd7cc0193fdad476",
      "3a57c634901049958e8fb0cb367107ed",
      "7b59ae82c68f4bbf967f9b2fa17c1df0",
      "b47c65215889489aa1aa4a521120cd45",
      "0c38103db20e42faabcb8a93fe1c5116",
      "3df55557248745e3baf769bd6fcd015b",
      "901eb2f886864cad90620124ee2b485e"
     ]
    },
    "id": "0ISAtoxAQe03",
    "executionInfo": {
     "status": "ok",
     "timestamp": 1735989167400,
     "user_tz": -60,
     "elapsed": 9405,
     "user": {
      "displayName": "Max N.",
      "userId": "17347375569055604559"
     }
    },
    "outputId": "526cdeb0-6f30-4cdf-dd2c-51c00a1a0a00"
   },
   "execution_count": null,
   "outputs": [
    {
     "output_type": "stream",
     "name": "stderr",
     "text": [
      "/usr/local/lib/python3.10/dist-packages/huggingface_hub/utils/_auth.py:94: UserWarning: \n",
      "The secret `HF_TOKEN` does not exist in your Colab secrets.\n",
      "To authenticate with the Hugging Face Hub, create a token in your settings tab (https://huggingface.co/settings/tokens), set it as secret in your Google Colab and restart your session.\n",
      "You will be able to reuse this secret in all of your notebooks.\n",
      "Please note that authentication is recommended but still optional to access public models or datasets.\n",
      "  warnings.warn(\n"
     ]
    },
    {
     "output_type": "display_data",
     "data": {
      "text/plain": [
       "config.json:   0%|          | 0.00/362 [00:00<?, ?B/s]"
      ],
      "application/vnd.jupyter.widget-view+json": {
       "version_major": 2,
       "version_minor": 0,
       "model_id": "f14691d33d774fe293bebe90d1cb7b9f"
      }
     },
     "metadata": {}
    },
    {
     "output_type": "display_data",
     "data": {
      "text/plain": [
       "model.safetensors:   0%|          | 0.00/442M [00:00<?, ?B/s]"
      ],
      "application/vnd.jupyter.widget-view+json": {
       "version_major": 2,
       "version_minor": 0,
       "model_id": "53df659f6e774a439eeb2bcb737a59e5"
      }
     },
     "metadata": {}
    },
    {
     "output_type": "stream",
     "name": "stderr",
     "text": [
      "<ipython-input-9-d50dbaabe2b0>:19: FutureWarning: You are using `torch.load` with `weights_only=False` (the current default value), which uses the default pickle module implicitly. It is possible to construct malicious pickle data which will execute arbitrary code during unpickling (See https://github.com/pytorch/pytorch/blob/main/SECURITY.md#untrusted-models for more details). In a future release, the default value for `weights_only` will be flipped to `True`. This limits the functions that could be executed during unpickling. Arbitrary objects will no longer be allowed to be loaded via this mode unless they are explicitly allowlisted by the user via `torch.serialization.add_safe_globals`. We recommend you start setting `weights_only=True` for any use case where you don't have full control of the loaded file. Please open an issue on GitHub for any issues related to this experimental feature.\n",
      "  model.load_state_dict(torch.load(model_path, map_location=torch.device('cpu')))\n"
     ]
    },
    {
     "output_type": "execute_result",
     "data": {
      "text/plain": [
       "BERT_CNN(\n",
       "  (bert): BertModel(\n",
       "    (embeddings): BertEmbeddings(\n",
       "      (word_embeddings): Embedding(31102, 768, padding_idx=0)\n",
       "      (position_embeddings): Embedding(512, 768)\n",
       "      (token_type_embeddings): Embedding(2, 768)\n",
       "      (LayerNorm): LayerNorm((768,), eps=1e-12, elementwise_affine=True)\n",
       "      (dropout): Dropout(p=0.1, inplace=False)\n",
       "    )\n",
       "    (encoder): BertEncoder(\n",
       "      (layer): ModuleList(\n",
       "        (0-11): 12 x BertLayer(\n",
       "          (attention): BertAttention(\n",
       "            (self): BertSdpaSelfAttention(\n",
       "              (query): Linear(in_features=768, out_features=768, bias=True)\n",
       "              (key): Linear(in_features=768, out_features=768, bias=True)\n",
       "              (value): Linear(in_features=768, out_features=768, bias=True)\n",
       "              (dropout): Dropout(p=0.1, inplace=False)\n",
       "            )\n",
       "            (output): BertSelfOutput(\n",
       "              (dense): Linear(in_features=768, out_features=768, bias=True)\n",
       "              (LayerNorm): LayerNorm((768,), eps=1e-12, elementwise_affine=True)\n",
       "              (dropout): Dropout(p=0.1, inplace=False)\n",
       "            )\n",
       "          )\n",
       "          (intermediate): BertIntermediate(\n",
       "            (dense): Linear(in_features=768, out_features=3072, bias=True)\n",
       "            (intermediate_act_fn): GELUActivation()\n",
       "          )\n",
       "          (output): BertOutput(\n",
       "            (dense): Linear(in_features=3072, out_features=768, bias=True)\n",
       "            (LayerNorm): LayerNorm((768,), eps=1e-12, elementwise_affine=True)\n",
       "            (dropout): Dropout(p=0.1, inplace=False)\n",
       "          )\n",
       "        )\n",
       "      )\n",
       "    )\n",
       "    (pooler): BertPooler(\n",
       "      (dense): Linear(in_features=768, out_features=768, bias=True)\n",
       "      (activation): Tanh()\n",
       "    )\n",
       "  )\n",
       "  (dropout_bert): Dropout(p=0.3, inplace=False)\n",
       "  (dropout_cnn): Dropout(p=0.3, inplace=False)\n",
       "  (conv1d): Conv1d(768, 128, kernel_size=(3,), stride=(1,), padding=(1,))\n",
       "  (relu): ReLU()\n",
       "  (maxpool): MaxPool1d(kernel_size=2, stride=2, padding=0, dilation=1, ceil_mode=False)\n",
       "  (classifier): Linear(in_features=128, out_features=2, bias=True)\n",
       ")"
      ]
     },
     "metadata": {},
     "execution_count": 9
    }
   ]
  },
  {
   "cell_type": "markdown",
   "source": [
    "## Ensure the wandb connection closes and the session terminates"
   ],
   "metadata": {
    "id": "o0U2tB2CwzIa"
   }
  },
  {
   "cell_type": "code",
   "source": [
    "def safe_wandb_finish(timeout=45):\n",
    "    \"\"\"Safely terminates wandb.finish() with a timeout.\"\"\"\n",
    "    def finish_task():\n",
    "        try:\n",
    "            import wandb\n",
    "            wandb.finish()\n",
    "        except Exception as e:\n",
    "            logger.error(f\"Error in wandb.finish(): {e}\")\n",
    "\n",
    "    finish_thread = threading.Thread(target=finish_task)\n",
    "    finish_thread.start()\n",
    "    finish_thread.join(timeout=timeout)  # Wait for up to `timeout` seconds\n",
    "\n",
    "    if finish_thread.is_alive():\n",
    "        logger.warning(\"wandb.finish() timed out. Proceeding with runtime.unassign().\")\n",
    "    else:\n",
    "        logger.info(\"wandb.finish() completed successfully.\")"
   ],
   "metadata": {
    "id": "dvaWAQ0Nc_iW"
   },
   "execution_count": null,
   "outputs": []
  },
  {
   "cell_type": "code",
   "source": [
    "wandbkey = userdata.get('WandbKey')\n",
    "\n",
    "wandb.login(key=wandbkey)\n",
    "\n",
    "# Initialize the wandb runf\n",
    "config = {\n",
    "    \"model_name\": model_name,\n",
    "    \"dataset\": file_name\n",
    "}\n",
    "\n",
    "timestamp = datetime.datetime.now().strftime(\"%Y-%m-%d_%H-%M-%S\")\n",
    "\n",
    "run_name = f\"{model_name}_{file_name}_{timestamp}\"\n",
    "\n",
    "wandb.init(project=\"German_Hate_Speech_Classification\", name=run_name, id=run_name, config=config)"
   ],
   "metadata": {
    "colab": {
     "base_uri": "https://localhost:8080/",
     "height": 215
    },
    "id": "b5Y5lf1qdNoL",
    "executionInfo": {
     "status": "ok",
     "timestamp": 1735989173113,
     "user_tz": -60,
     "elapsed": 5283,
     "user": {
      "displayName": "Max N.",
      "userId": "17347375569055604559"
     }
    },
    "outputId": "7471d9fc-11c4-4791-bd54-c3b45eb49505"
   },
   "execution_count": null,
   "outputs": [
    {
     "output_type": "stream",
     "name": "stderr",
     "text": [
      "\u001B[34m\u001B[1mwandb\u001B[0m: Using wandb-core as the SDK backend.  Please refer to https://wandb.me/wandb-core for more information.\n",
      "\u001B[34m\u001B[1mwandb\u001B[0m: Currently logged in as: \u001B[33mmaxnienh\u001B[0m (\u001B[33mmaxnienh-xx\u001B[0m). Use \u001B[1m`wandb login --relogin`\u001B[0m to force relogin\n",
      "\u001B[34m\u001B[1mwandb\u001B[0m: \u001B[33mWARNING\u001B[0m If you're specifying your api key in code, ensure this code is not shared publicly.\n",
      "\u001B[34m\u001B[1mwandb\u001B[0m: \u001B[33mWARNING\u001B[0m Consider setting the WANDB_API_KEY environment variable, or running `wandb login` from the command line.\n",
      "\u001B[34m\u001B[1mwandb\u001B[0m: Appending key for api.wandb.ai to your netrc file: /root/.netrc\n"
     ]
    },
    {
     "output_type": "display_data",
     "data": {
      "text/plain": [
       "<IPython.core.display.HTML object>"
      ],
      "text/html": [
       "Tracking run with wandb version 0.19.1"
      ]
     },
     "metadata": {}
    },
    {
     "output_type": "display_data",
     "data": {
      "text/plain": [
       "<IPython.core.display.HTML object>"
      ],
      "text/html": [
       "Run data is saved locally in <code>/content/wandb/run-20250104_111250-model_CNN_trial_23_2025-01-04_07-51.bin</code>"
      ]
     },
     "metadata": {}
    },
    {
     "output_type": "display_data",
     "data": {
      "text/plain": [
       "<IPython.core.display.HTML object>"
      ],
      "text/html": [
       "Syncing run <strong><a href='https://wandb.ai/maxnienh-xx/German_Hate_Speech_Classification/runs/model_CNN_trial_23_2025-01-04_07-51.bin' target=\"_blank\">model_CNN_trial_23_2025-01-04_07-51.bin</a></strong> to <a href='https://wandb.ai/maxnienh-xx/German_Hate_Speech_Classification' target=\"_blank\">Weights & Biases</a> (<a href='https://wandb.me/developer-guide' target=\"_blank\">docs</a>)<br>"
      ]
     },
     "metadata": {}
    },
    {
     "output_type": "display_data",
     "data": {
      "text/plain": [
       "<IPython.core.display.HTML object>"
      ],
      "text/html": [
       " View project at <a href='https://wandb.ai/maxnienh-xx/German_Hate_Speech_Classification' target=\"_blank\">https://wandb.ai/maxnienh-xx/German_Hate_Speech_Classification</a>"
      ]
     },
     "metadata": {}
    },
    {
     "output_type": "display_data",
     "data": {
      "text/plain": [
       "<IPython.core.display.HTML object>"
      ],
      "text/html": [
       " View run at <a href='https://wandb.ai/maxnienh-xx/German_Hate_Speech_Classification/runs/model_CNN_trial_23_2025-01-04_07-51.bin' target=\"_blank\">https://wandb.ai/maxnienh-xx/German_Hate_Speech_Classification/runs/model_CNN_trial_23_2025-01-04_07-51.bin</a>"
      ]
     },
     "metadata": {}
    },
    {
     "output_type": "execute_result",
     "data": {
      "text/html": [
       "<button onClick=\"this.nextSibling.style.display='block';this.style.display='none';\">Display W&B run</button><iframe src='https://wandb.ai/maxnienh-xx/German_Hate_Speech_Classification/runs/model_CNN_trial_23_2025-01-04_07-51.bin?jupyter=true' style='border:none;width:100%;height:420px;display:none;'></iframe>"
      ],
      "text/plain": [
       "<wandb.sdk.wandb_run.Run at 0x78ec4942f400>"
      ]
     },
     "metadata": {},
     "execution_count": 11
    }
   ]
  },
  {
   "cell_type": "markdown",
   "source": [
    "## Process data and evaluate the metrics\n",
    "\n",
    "The code logs the data to wandb as well as to the Excel file logged_model_metrics.xlsx which is also used for logging in my Model training code"
   ],
   "metadata": {
    "id": "j7TN-rNJxNdj"
   }
  },
  {
   "cell_type": "code",
   "execution_count": null,
   "metadata": {
    "colab": {
     "base_uri": "https://localhost:8080/",
     "height": 1000
    },
    "id": "M0ei0U3iLYN3",
    "executionInfo": {
     "status": "ok",
     "timestamp": 1735989193102,
     "user_tz": -60,
     "elapsed": 19991,
     "user": {
      "displayName": "Max N.",
      "userId": "17347375569055604559"
     }
    },
    "outputId": "9572aef6-5ed0-430b-b886-8ada656a0536"
   },
   "outputs": [
    {
     "output_type": "stream",
     "name": "stderr",
     "text": [
      "2025-01-04 11:13:10,237 - INFO - ### Classification Metrics ###\n",
      "2025-01-04 11:13:10,239 - INFO - Accuracy: 0.7776\n",
      "2025-01-04 11:13:10,241 - INFO - Precision: 0.4654\n",
      "2025-01-04 11:13:10,243 - INFO - Recall: 0.5106\n",
      "2025-01-04 11:13:10,245 - INFO - F1 Score: 0.4870\n",
      "2025-01-04 11:13:10,246 - INFO - F2 Score: 0.5009\n",
      "2025-01-04 11:13:10,249 - INFO - Matthews Correlation Coefficient (MCC): 0.3460\n",
      "2025-01-04 11:13:10,251 - INFO - S-Score: 0.5870\n",
      "2025-01-04 11:13:10,255 - INFO - \n",
      "Confusion Matrix:\n",
      "2025-01-04 11:13:10,256 - INFO - [[1070  193]\n",
      " [ 161  168]]\n"
     ]
    },
    {
     "output_type": "display_data",
     "data": {
      "text/plain": [
       "<Figure size 600x400 with 2 Axes>"
      ],
      "image/png": "[encoded data removed]"
     },
     "metadata": {}
    },
    {
     "output_type": "stream",
     "name": "stderr",
     "text": [
      "2025-01-04 11:13:11,348 - INFO - Metrics logged to Excel: /content/drive/MyDrive/model/logged_model_metrics.xlsx\n"
     ]
    },
    {
     "output_type": "display_data",
     "data": {
      "text/plain": [
       "<IPython.core.display.HTML object>"
      ],
      "text/html": []
     },
     "metadata": {}
    },
    {
     "output_type": "display_data",
     "data": {
      "text/plain": [
       "<IPython.core.display.HTML object>"
      ],
      "text/html": [
       "<br>    <style><br>        .wandb-row {<br>            display: flex;<br>            flex-direction: row;<br>            flex-wrap: wrap;<br>            justify-content: flex-start;<br>            width: 100%;<br>        }<br>        .wandb-col {<br>            display: flex;<br>            flex-direction: column;<br>            flex-basis: 100%;<br>            flex: 1;<br>            padding: 10px;<br>        }<br>    </style><br><div class=\"wandb-row\"><div class=\"wandb-col\"><h3>Run history:</h3><br/><table class=\"wandb\"><tr><td>test/S</td><td>▁</td></tr><tr><td>test/accuracy</td><td>▁</td></tr><tr><td>test/f1</td><td>▁</td></tr><tr><td>test/f2</td><td>▁</td></tr><tr><td>test/mcc</td><td>▁</td></tr><tr><td>test/precision</td><td>▁</td></tr><tr><td>test/recall</td><td>▁</td></tr></table><br/></div><div class=\"wandb-col\"><h3>Run summary:</h3><br/><table class=\"wandb\"><tr><td>test/S</td><td>0.58695</td></tr><tr><td>test/accuracy</td><td>0.77764</td></tr><tr><td>test/f1</td><td>0.48696</td></tr><tr><td>test/f2</td><td>0.50089</td></tr><tr><td>test/mcc</td><td>0.34601</td></tr><tr><td>test/precision</td><td>0.46537</td></tr><tr><td>test/recall</td><td>0.51064</td></tr></table><br/></div></div>"
      ]
     },
     "metadata": {}
    },
    {
     "output_type": "display_data",
     "data": {
      "text/plain": [
       "<IPython.core.display.HTML object>"
      ],
      "text/html": [
       " View run <strong style=\"color:#cdcd00\">model_CNN_trial_23_2025-01-04_07-51.bin</strong> at: <a href='https://wandb.ai/maxnienh-xx/German_Hate_Speech_Classification/runs/model_CNN_trial_23_2025-01-04_07-51.bin' target=\"_blank\">https://wandb.ai/maxnienh-xx/German_Hate_Speech_Classification/runs/model_CNN_trial_23_2025-01-04_07-51.bin</a><br> View project at: <a href='https://wandb.ai/maxnienh-xx/German_Hate_Speech_Classification' target=\"_blank\">https://wandb.ai/maxnienh-xx/German_Hate_Speech_Classification</a><br>Synced 5 W&B file(s), 0 media file(s), 0 artifact file(s) and 0 other file(s)"
      ]
     },
     "metadata": {}
    },
    {
     "output_type": "display_data",
     "data": {
      "text/plain": [
       "<IPython.core.display.HTML object>"
      ],
      "text/html": [
       "Find logs at: <code>./wandb/run-20250104_111250-model_CNN_trial_23_2025-01-04_07-51.bin/logs</code>"
      ]
     },
     "metadata": {}
    },
    {
     "output_type": "stream",
     "name": "stderr",
     "text": [
      "2025-01-04 11:13:12,817 - INFO - wandb.finish() completed successfully.\n",
      "2025-01-04 11:13:12,818 - INFO - Process finished. Session will be terminated...\n"
     ]
    }
   ],
   "source": [
    "#---------------------------------------------------\n",
    "#This section was coded by Daniel S.\n",
    "\n",
    "# remove parenthesis\n",
    "data['label_cleaned'] = data['label'].str.replace(r\"\\s*\\(.*?\\)\", \"\", regex=True).str.strip()\n",
    "data['label_numeric'] = data['label_cleaned'].map({'Not Hatespeech': 0, 'Hatespeech': 1})\n",
    "data = data.dropna(subset=['label_numeric'])\n",
    "\n",
    "# filter cleaned labes\n",
    "valid_labels = ['Not Hatespeech', 'Hatespeech']\n",
    "data = data[data['label_cleaned'].isin(valid_labels)]\n",
    "\n",
    "# Map the labels on 0 and 1\n",
    "data['label_numeric'] = data['label_cleaned'].map({'Not Hatespeech': 0, 'Hatespeech': 1})\n",
    "\n",
    "\n",
    "# function for classification\n",
    "def classify_text(text, model, tokenizer):\n",
    "    inputs = tokenizer(\n",
    "        text,\n",
    "        truncation=True,\n",
    "        padding=True,\n",
    "        max_length=256,\n",
    "        return_tensors=\"pt\"\n",
    "    )\n",
    "    # remove token_type_ids, if exists\n",
    "    if \"token_type_ids\" in inputs:\n",
    "        inputs.pop(\"token_type_ids\")\n",
    "\n",
    "    # move input to same device as model\n",
    "    inputs = {k: v.to(device) for k, v in inputs.items()}\n",
    "\n",
    "    with torch.no_grad():\n",
    "        logits = model(**inputs)\n",
    "        if isinstance(logits, tuple):  # in case model returns logits, loss\n",
    "            logits = logits[1]\n",
    "        probabilities = torch.softmax(logits, dim=1)\n",
    "        predicted_label = torch.argmax(probabilities, dim=1).item()\n",
    "    return predicted_label\n",
    "\n",
    "# create predictions\n",
    "predictions = []\n",
    "for text in data['text']:\n",
    "    predicted_label = classify_text(text, model, tokenizer)\n",
    "    predictions.append(predicted_label)\n",
    "\n",
    "# add predicted labels\n",
    "data['predicted_label'] = predictions\n",
    "#---------------------------------------------------\n",
    "\n",
    "#---------------------------------------------------\n",
    "#From here on its my (Maxi N.) code again\n",
    "\n",
    "# Calculate metrics\n",
    "true_labels = data['label_numeric']\n",
    "predicted_labels = data['predicted_label']\n",
    "accuracy = accuracy_score(true_labels, predicted_labels)\n",
    "precision, recall, f1, _ = precision_recall_fscore_support(true_labels, predicted_labels, average='binary')\n",
    "f2 = fbeta_score(true_labels, predicted_labels, beta=2, average='binary')\n",
    "mcc = matthews_corrcoef(true_labels, predicted_labels)\n",
    "mcc_normalized = (mcc + 1) / 2  # Normalize to range [0, 1]\n",
    "S = (f2 + mcc_normalized) / 2\n",
    "\n",
    "# Log metrics\n",
    "logger.info(\"### Classification Metrics ###\")\n",
    "logger.info(f\"Accuracy: {accuracy:.4f}\")\n",
    "logger.info(f\"Precision: {precision:.4f}\")\n",
    "logger.info(f\"Recall: {recall:.4f}\")\n",
    "logger.info(f\"F1 Score: {f1:.4f}\")\n",
    "logger.info(f\"F2 Score: {f2:.4f}\")\n",
    "logger.info(f\"Matthews Correlation Coefficient (MCC): {mcc:.4f}\")\n",
    "logger.info(f\"S-Score: {S:.4f}\")\n",
    "\n",
    "# Log metrics to WandB\n",
    "wandb.log({\n",
    "    \"test/accuracy\": accuracy,\n",
    "    \"test/precision\": precision,\n",
    "    \"test/recall\": recall,\n",
    "    \"test/f1\": f1,\n",
    "    \"test/f2\": f2,\n",
    "    \"test/mcc\": mcc,\n",
    "    \"test/S\": S\n",
    "})\n",
    "\n",
    "# Confusion matrix\n",
    "cm = confusion_matrix(true_labels, predicted_labels)\n",
    "logger.info(\"\\nConfusion Matrix:\")\n",
    "logger.info(cm)\n",
    "\n",
    "plt.figure(figsize=(6, 4))\n",
    "sns.heatmap(cm, annot=True, fmt=\"d\", cmap=\"Blues\", xticklabels=[\"Not Hatespeech\", \"Hatespeech\"], yticklabels=[\"Not Hatespeech\", \"Hatespeech\"])\n",
    "plt.ylabel(\"True Labels\")\n",
    "plt.xlabel(\"Predicted Labels\")\n",
    "plt.title(\"Confusion Matrix\")\n",
    "plt.show()\n",
    "\n",
    "# Save confusion matrix as artifact\n",
    "#wandb.log({f\"Confusion Matrix {model_name} / {file_name}\": wandb.Image(plt)})\n",
    "\n",
    "# Save metrics to Excel\n",
    "excel_file_path = '/content/drive/MyDrive/model/logged_model_metrics.xlsx'\n",
    "new_results = pd.DataFrame([{\n",
    "    \"Trial_Name\": model_name,\n",
    "    \"Dataset\": file_name,\n",
    "    \"test_accuracy\": accuracy,\n",
    "    \"test_precision\": precision,\n",
    "    \"test_recall\": recall,\n",
    "    \"test_f1\": f1,\n",
    "    \"test_f2\": f2,\n",
    "    \"test_mcc\": mcc,\n",
    "    \"test_S\": S\n",
    "}])\n",
    "\n",
    "if os.path.exists(excel_file_path):\n",
    "    existing_df = pd.read_excel(excel_file_path)\n",
    "    updated_df = pd.concat([existing_df, new_results], ignore_index=True)\n",
    "else:\n",
    "    updated_df = new_results\n",
    "\n",
    "updated_df.to_excel(excel_file_path, index=False)\n",
    "logger.info(f\"Metrics logged to Excel: {excel_file_path}\")\n",
    "\n",
    "\n",
    "# wandb.finish()\n",
    "safe_wandb_finish(timeout=45)\n",
    "\n",
    "logger.info(\"Process finished. Session will be terminated...\")"
   ]
  },
  {
   "cell_type": "code",
   "source": [
    "# terminate session\n",
    "runtime.unassign()"
   ],
   "metadata": {
    "id": "S4erRq2adnKB"
   },
   "execution_count": null,
   "outputs": []
  }
 ],
 "metadata": {
  "kernelspec": {
   "display_name": "Python 3",
   "name": "python3"
  },
  "language_info": {
   "codemirror_mode": {
    "name": "ipython",
    "version": 3
   },
   "file_extension": ".py",
   "mimetype": "text/x-python",
   "name": "python",
   "nbconvert_exporter": "python",
   "pygments_lexer": "ipython3",
   "version": "3.12.7"
  },
  "colab": {
   "provenance": [],
   "gpuType": "T4"
  },
  "accelerator": "GPU",
  "widgets": {
   "application/vnd.jupyter.widget-state+json": {
    "state": {
        "f14691d33d774fe293bebe90d1cb7b9f": {
     "model_module": "@jupyter-widgets/controls",
     "model_name": "HBoxModel",
     "model_module_version": "1.5.0",
     "state": {
      "_dom_classes": [],
      "_model_module": "@jupyter-widgets/controls",
      "_model_module_version": "1.5.0",
      "_model_name": "HBoxModel",
      "_view_count": null,
      "_view_module": "@jupyter-widgets/controls",
      "_view_module_version": "1.5.0",
      "_view_name": "HBoxView",
      "box_style": "",
      "children": [
       "IPY_MODEL_89295b2334eb4d90b6d4b364c68ee8f4",
       "IPY_MODEL_bdd6106ac9134573a36c62448174a9b4",
       "IPY_MODEL_365453cccd924c40bcb5784751869ec2"
      ],
      "layout": "IPY_MODEL_83a8e011cb644d4fbc6ce641aa30576f"
     }
    },
    "89295b2334eb4d90b6d4b364c68ee8f4": {
     "model_module": "@jupyter-widgets/controls",
     "model_name": "HTMLModel",
     "model_module_version": "1.5.0",
     "state": {
      "_dom_classes": [],
      "_model_module": "@jupyter-widgets/controls",
      "_model_module_version": "1.5.0",
      "_model_name": "HTMLModel",
      "_view_count": null,
      "_view_module": "@jupyter-widgets/controls",
      "_view_module_version": "1.5.0",
      "_view_name": "HTMLView",
      "description": "",
      "description_tooltip": null,
      "layout": "IPY_MODEL_e184e277d29a443fb411183e7be7c38f",
      "placeholder": "​",
      "style": "IPY_MODEL_7960f013275f437f87088e619d2275bd",
      "value": "config.json: 100%"
     }
    },
    "bdd6106ac9134573a36c62448174a9b4": {
     "model_module": "@jupyter-widgets/controls",
     "model_name": "FloatProgressModel",
     "model_module_version": "1.5.0",
     "state": {
      "_dom_classes": [],
      "_model_module": "@jupyter-widgets/controls",
      "_model_module_version": "1.5.0",
      "_model_name": "FloatProgressModel",
      "_view_count": null,
      "_view_module": "@jupyter-widgets/controls",
      "_view_module_version": "1.5.0",
      "_view_name": "ProgressView",
      "bar_style": "success",
      "description": "",
      "description_tooltip": null,
      "layout": "IPY_MODEL_ae8510fc84cf4007b9567566e88db4ee",
      "max": 362,
      "min": 0,
      "orientation": "horizontal",
      "style": "IPY_MODEL_b25e5837caef42d8a05d3a234279089d",
      "value": 362
     }
    },
    "365453cccd924c40bcb5784751869ec2": {
     "model_module": "@jupyter-widgets/controls",
     "model_name": "HTMLModel",
     "model_module_version": "1.5.0",
     "state": {
      "_dom_classes": [],
      "_model_module": "@jupyter-widgets/controls",
      "_model_module_version": "1.5.0",
      "_model_name": "HTMLModel",
      "_view_count": null,
      "_view_module": "@jupyter-widgets/controls",
      "_view_module_version": "1.5.0",
      "_view_name": "HTMLView",
      "description": "",
      "description_tooltip": null,
      "layout": "IPY_MODEL_64bc6db95a804e35bed26a970eab739c",
      "placeholder": "​",
      "style": "IPY_MODEL_5d57cde7be6747ebabf09c6b46ffc8be",
      "value": " 362/362 [00:00&lt;00:00, 10.8kB/s]"
     }
    },
    "83a8e011cb644d4fbc6ce641aa30576f": {
     "model_module": "@jupyter-widgets/base",
     "model_name": "LayoutModel",
     "model_module_version": "1.2.0",
     "state": {
      "_model_module": "@jupyter-widgets/base",
      "_model_module_version": "1.2.0",
      "_model_name": "LayoutModel",
      "_view_count": null,
      "_view_module": "@jupyter-widgets/base",
      "_view_module_version": "1.2.0",
      "_view_name": "LayoutView",
      "align_content": null,
      "align_items": null,
      "align_self": null,
      "border": null,
      "bottom": null,
      "display": null,
      "flex": null,
      "flex_flow": null,
      "grid_area": null,
      "grid_auto_columns": null,
      "grid_auto_flow": null,
      "grid_auto_rows": null,
      "grid_column": null,
      "grid_gap": null,
      "grid_row": null,
      "grid_template_areas": null,
      "grid_template_columns": null,
      "grid_template_rows": null,
      "height": null,
      "justify_content": null,
      "justify_items": null,
      "left": null,
      "margin": null,
      "max_height": null,
      "max_width": null,
      "min_height": null,
      "min_width": null,
      "object_fit": null,
      "object_position": null,
      "order": null,
      "overflow": null,
      "overflow_x": null,
      "overflow_y": null,
      "padding": null,
      "right": null,
      "top": null,
      "visibility": null,
      "width": null
     }
    },
    "e184e277d29a443fb411183e7be7c38f": {
     "model_module": "@jupyter-widgets/base",
     "model_name": "LayoutModel",
     "model_module_version": "1.2.0",
     "state": {
      "_model_module": "@jupyter-widgets/base",
      "_model_module_version": "1.2.0",
      "_model_name": "LayoutModel",
      "_view_count": null,
      "_view_module": "@jupyter-widgets/base",
      "_view_module_version": "1.2.0",
      "_view_name": "LayoutView",
      "align_content": null,
      "align_items": null,
      "align_self": null,
      "border": null,
      "bottom": null,
      "display": null,
      "flex": null,
      "flex_flow": null,
      "grid_area": null,
      "grid_auto_columns": null,
      "grid_auto_flow": null,
      "grid_auto_rows": null,
      "grid_column": null,
      "grid_gap": null,
      "grid_row": null,
      "grid_template_areas": null,
      "grid_template_columns": null,
      "grid_template_rows": null,
      "height": null,
      "justify_content": null,
      "justify_items": null,
      "left": null,
      "margin": null,
      "max_height": null,
      "max_width": null,
      "min_height": null,
      "min_width": null,
      "object_fit": null,
      "object_position": null,
      "order": null,
      "overflow": null,
      "overflow_x": null,
      "overflow_y": null,
      "padding": null,
      "right": null,
      "top": null,
      "visibility": null,
      "width": null
     }
    },
    "7960f013275f437f87088e619d2275bd": {
     "model_module": "@jupyter-widgets/controls",
     "model_name": "DescriptionStyleModel",
     "model_module_version": "1.5.0",
     "state": {
      "_model_module": "@jupyter-widgets/controls",
      "_model_module_version": "1.5.0",
      "_model_name": "DescriptionStyleModel",
      "_view_count": null,
      "_view_module": "@jupyter-widgets/base",
      "_view_module_version": "1.2.0",
      "_view_name": "StyleView",
      "description_width": ""
     }
    },
    "ae8510fc84cf4007b9567566e88db4ee": {
     "model_module": "@jupyter-widgets/base",
     "model_name": "LayoutModel",
     "model_module_version": "1.2.0",
     "state": {
      "_model_module": "@jupyter-widgets/base",
      "_model_module_version": "1.2.0",
      "_model_name": "LayoutModel",
      "_view_count": null,
      "_view_module": "@jupyter-widgets/base",
      "_view_module_version": "1.2.0",
      "_view_name": "LayoutView",
      "align_content": null,
      "align_items": null,
      "align_self": null,
      "border": null,
      "bottom": null,
      "display": null,
      "flex": null,
      "flex_flow": null,
      "grid_area": null,
      "grid_auto_columns": null,
      "grid_auto_flow": null,
      "grid_auto_rows": null,
      "grid_column": null,
      "grid_gap": null,
      "grid_row": null,
      "grid_template_areas": null,
      "grid_template_columns": null,
      "grid_template_rows": null,
      "height": null,
      "justify_content": null,
      "justify_items": null,
      "left": null,
      "margin": null,
      "max_height": null,
      "max_width": null,
      "min_height": null,
      "min_width": null,
      "object_fit": null,
      "object_position": null,
      "order": null,
      "overflow": null,
      "overflow_x": null,
      "overflow_y": null,
      "padding": null,
      "right": null,
      "top": null,
      "visibility": null,
      "width": null
     }
    },
    "b25e5837caef42d8a05d3a234279089d": {
     "model_module": "@jupyter-widgets/controls",
     "model_name": "ProgressStyleModel",
     "model_module_version": "1.5.0",
     "state": {
      "_model_module": "@jupyter-widgets/controls",
      "_model_module_version": "1.5.0",
      "_model_name": "ProgressStyleModel",
      "_view_count": null,
      "_view_module": "@jupyter-widgets/base",
      "_view_module_version": "1.2.0",
      "_view_name": "StyleView",
      "bar_color": null,
      "description_width": ""
     }
    },
    "64bc6db95a804e35bed26a970eab739c": {
     "model_module": "@jupyter-widgets/base",
     "model_name": "LayoutModel",
     "model_module_version": "1.2.0",
     "state": {
      "_model_module": "@jupyter-widgets/base",
      "_model_module_version": "1.2.0",
      "_model_name": "LayoutModel",
      "_view_count": null,
      "_view_module": "@jupyter-widgets/base",
      "_view_module_version": "1.2.0",
      "_view_name": "LayoutView",
      "align_content": null,
      "align_items": null,
      "align_self": null,
      "border": null,
      "bottom": null,
      "display": null,
      "flex": null,
      "flex_flow": null,
      "grid_area": null,
      "grid_auto_columns": null,
      "grid_auto_flow": null,
      "grid_auto_rows": null,
      "grid_column": null,
      "grid_gap": null,
      "grid_row": null,
      "grid_template_areas": null,
      "grid_template_columns": null,
      "grid_template_rows": null,
      "height": null,
      "justify_content": null,
      "justify_items": null,
      "left": null,
      "margin": null,
      "max_height": null,
      "max_width": null,
      "min_height": null,
      "min_width": null,
      "object_fit": null,
      "object_position": null,
      "order": null,
      "overflow": null,
      "overflow_x": null,
      "overflow_y": null,
      "padding": null,
      "right": null,
      "top": null,
      "visibility": null,
      "width": null
     }
    },
    "5d57cde7be6747ebabf09c6b46ffc8be": {
     "model_module": "@jupyter-widgets/controls",
     "model_name": "DescriptionStyleModel",
     "model_module_version": "1.5.0",
     "state": {
      "_model_module": "@jupyter-widgets/controls",
      "_model_module_version": "1.5.0",
      "_model_name": "DescriptionStyleModel",
      "_view_count": null,
      "_view_module": "@jupyter-widgets/base",
      "_view_module_version": "1.2.0",
      "_view_name": "StyleView",
      "description_width": ""
     }
    },
    "53df659f6e774a439eeb2bcb737a59e5": {
     "model_module": "@jupyter-widgets/controls",
     "model_name": "HBoxModel",
     "model_module_version": "1.5.0",
     "state": {
      "_dom_classes": [],
      "_model_module": "@jupyter-widgets/controls",
      "_model_module_version": "1.5.0",
      "_model_name": "HBoxModel",
      "_view_count": null,
      "_view_module": "@jupyter-widgets/controls",
      "_view_module_version": "1.5.0",
      "_view_name": "HBoxView",
      "box_style": "",
      "children": [
       "IPY_MODEL_c02d7b6f87424226854c0dfa9fc62414",
       "IPY_MODEL_3b734a8ed4e045849f2cff7320cd5d74",
       "IPY_MODEL_a3f4fa90ea764ccd8c0da9fb33899bb6"
      ],
      "layout": "IPY_MODEL_5a933e993a3844cdbd7cc0193fdad476"
     }
    },
    "c02d7b6f87424226854c0dfa9fc62414": {
     "model_module": "@jupyter-widgets/controls",
     "model_name": "HTMLModel",
     "model_module_version": "1.5.0",
     "state": {
      "_dom_classes": [],
      "_model_module": "@jupyter-widgets/controls",
      "_model_module_version": "1.5.0",
      "_model_name": "HTMLModel",
      "_view_count": null,
      "_view_module": "@jupyter-widgets/controls",
      "_view_module_version": "1.5.0",
      "_view_name": "HTMLView",
      "description": "",
      "description_tooltip": null,
      "layout": "IPY_MODEL_3a57c634901049958e8fb0cb367107ed",
      "placeholder": "​",
      "style": "IPY_MODEL_7b59ae82c68f4bbf967f9b2fa17c1df0",
      "value": "model.safetensors: 100%"
     }
    },
    "3b734a8ed4e045849f2cff7320cd5d74": {
     "model_module": "@jupyter-widgets/controls",
     "model_name": "FloatProgressModel",
     "model_module_version": "1.5.0",
     "state": {
      "_dom_classes": [],
      "_model_module": "@jupyter-widgets/controls",
      "_model_module_version": "1.5.0",
      "_model_name": "FloatProgressModel",
      "_view_count": null,
      "_view_module": "@jupyter-widgets/controls",
      "_view_module_version": "1.5.0",
      "_view_name": "ProgressView",
      "bar_style": "success",
      "description": "",
      "description_tooltip": null,
      "layout": "IPY_MODEL_b47c65215889489aa1aa4a521120cd45",
      "max": 442233876,
      "min": 0,
      "orientation": "horizontal",
      "style": "IPY_MODEL_0c38103db20e42faabcb8a93fe1c5116",
      "value": 442233876
     }
    },
    "a3f4fa90ea764ccd8c0da9fb33899bb6": {
     "model_module": "@jupyter-widgets/controls",
     "model_name": "HTMLModel",
     "model_module_version": "1.5.0",
     "state": {
      "_dom_classes": [],
      "_model_module": "@jupyter-widgets/controls",
      "_model_module_version": "1.5.0",
      "_model_name": "HTMLModel",
      "_view_count": null,
      "_view_module": "@jupyter-widgets/controls",
      "_view_module_version": "1.5.0",
      "_view_name": "HTMLView",
      "description": "",
      "description_tooltip": null,
      "layout": "IPY_MODEL_3df55557248745e3baf769bd6fcd015b",
      "placeholder": "​",
      "style": "IPY_MODEL_901eb2f886864cad90620124ee2b485e",
      "value": " 442M/442M [00:03&lt;00:00, 204MB/s]"
     }
    },
    "5a933e993a3844cdbd7cc0193fdad476": {
     "model_module": "@jupyter-widgets/base",
     "model_name": "LayoutModel",
     "model_module_version": "1.2.0",
     "state": {
      "_model_module": "@jupyter-widgets/base",
      "_model_module_version": "1.2.0",
      "_model_name": "LayoutModel",
      "_view_count": null,
      "_view_module": "@jupyter-widgets/base",
      "_view_module_version": "1.2.0",
      "_view_name": "LayoutView",
      "align_content": null,
      "align_items": null,
      "align_self": null,
      "border": null,
      "bottom": null,
      "display": null,
      "flex": null,
      "flex_flow": null,
      "grid_area": null,
      "grid_auto_columns": null,
      "grid_auto_flow": null,
      "grid_auto_rows": null,
      "grid_column": null,
      "grid_gap": null,
      "grid_row": null,
      "grid_template_areas": null,
      "grid_template_columns": null,
      "grid_template_rows": null,
      "height": null,
      "justify_content": null,
      "justify_items": null,
      "left": null,
      "margin": null,
      "max_height": null,
      "max_width": null,
      "min_height": null,
      "min_width": null,
      "object_fit": null,
      "object_position": null,
      "order": null,
      "overflow": null,
      "overflow_x": null,
      "overflow_y": null,
      "padding": null,
      "right": null,
      "top": null,
      "visibility": null,
      "width": null
     }
    },
    "3a57c634901049958e8fb0cb367107ed": {
     "model_module": "@jupyter-widgets/base",
     "model_name": "LayoutModel",
     "model_module_version": "1.2.0",
     "state": {
      "_model_module": "@jupyter-widgets/base",
      "_model_module_version": "1.2.0",
      "_model_name": "LayoutModel",
      "_view_count": null,
      "_view_module": "@jupyter-widgets/base",
      "_view_module_version": "1.2.0",
      "_view_name": "LayoutView",
      "align_content": null,
      "align_items": null,
      "align_self": null,
      "border": null,
      "bottom": null,
      "display": null,
      "flex": null,
      "flex_flow": null,
      "grid_area": null,
      "grid_auto_columns": null,
      "grid_auto_flow": null,
      "grid_auto_rows": null,
      "grid_column": null,
      "grid_gap": null,
      "grid_row": null,
      "grid_template_areas": null,
      "grid_template_columns": null,
      "grid_template_rows": null,
      "height": null,
      "justify_content": null,
      "justify_items": null,
      "left": null,
      "margin": null,
      "max_height": null,
      "max_width": null,
      "min_height": null,
      "min_width": null,
      "object_fit": null,
      "object_position": null,
      "order": null,
      "overflow": null,
      "overflow_x": null,
      "overflow_y": null,
      "padding": null,
      "right": null,
      "top": null,
      "visibility": null,
      "width": null
     }
    },
    "7b59ae82c68f4bbf967f9b2fa17c1df0": {
     "model_module": "@jupyter-widgets/controls",
     "model_name": "DescriptionStyleModel",
     "model_module_version": "1.5.0",
     "state": {
      "_model_module": "@jupyter-widgets/controls",
      "_model_module_version": "1.5.0",
      "_model_name": "DescriptionStyleModel",
      "_view_count": null,
      "_view_module": "@jupyter-widgets/base",
      "_view_module_version": "1.2.0",
      "_view_name": "StyleView",
      "description_width": ""
     }
    },
    "b47c65215889489aa1aa4a521120cd45": {
     "model_module": "@jupyter-widgets/base",
     "model_name": "LayoutModel",
     "model_module_version": "1.2.0",
     "state": {
      "_model_module": "@jupyter-widgets/base",
      "_model_module_version": "1.2.0",
      "_model_name": "LayoutModel",
      "_view_count": null,
      "_view_module": "@jupyter-widgets/base",
      "_view_module_version": "1.2.0",
      "_view_name": "LayoutView",
      "align_content": null,
      "align_items": null,
      "align_self": null,
      "border": null,
      "bottom": null,
      "display": null,
      "flex": null,
      "flex_flow": null,
      "grid_area": null,
      "grid_auto_columns": null,
      "grid_auto_flow": null,
      "grid_auto_rows": null,
      "grid_column": null,
      "grid_gap": null,
      "grid_row": null,
      "grid_template_areas": null,
      "grid_template_columns": null,
      "grid_template_rows": null,
      "height": null,
      "justify_content": null,
      "justify_items": null,
      "left": null,
      "margin": null,
      "max_height": null,
      "max_width": null,
      "min_height": null,
      "min_width": null,
      "object_fit": null,
      "object_position": null,
      "order": null,
      "overflow": null,
      "overflow_x": null,
      "overflow_y": null,
      "padding": null,
      "right": null,
      "top": null,
      "visibility": null,
      "width": null
     }
    },
    "0c38103db20e42faabcb8a93fe1c5116": {
     "model_module": "@jupyter-widgets/controls",
     "model_name": "ProgressStyleModel",
     "model_module_version": "1.5.0",
     "state": {
      "_model_module": "@jupyter-widgets/controls",
      "_model_module_version": "1.5.0",
      "_model_name": "ProgressStyleModel",
      "_view_count": null,
      "_view_module": "@jupyter-widgets/base",
      "_view_module_version": "1.2.0",
      "_view_name": "StyleView",
      "bar_color": null,
      "description_width": ""
     }
    },
    "3df55557248745e3baf769bd6fcd015b": {
     "model_module": "@jupyter-widgets/base",
     "model_name": "LayoutModel",
     "model_module_version": "1.2.0",
     "state": {
      "_model_module": "@jupyter-widgets/base",
      "_model_module_version": "1.2.0",
      "_model_name": "LayoutModel",
      "_view_count": null,
      "_view_module": "@jupyter-widgets/base",
      "_view_module_version": "1.2.0",
      "_view_name": "LayoutView",
      "align_content": null,
      "align_items": null,
      "align_self": null,
      "border": null,
      "bottom": null,
      "display": null,
      "flex": null,
      "flex_flow": null,
      "grid_area": null,
      "grid_auto_columns": null,
      "grid_auto_flow": null,
      "grid_auto_rows": null,
      "grid_column": null,
      "grid_gap": null,
      "grid_row": null,
      "grid_template_areas": null,
      "grid_template_columns": null,
      "grid_template_rows": null,
      "height": null,
      "justify_content": null,
      "justify_items": null,
      "left": null,
      "margin": null,
      "max_height": null,
      "max_width": null,
      "min_height": null,
      "min_width": null,
      "object_fit": null,
      "object_position": null,
      "order": null,
      "overflow": null,
      "overflow_x": null,
      "overflow_y": null,
      "padding": null,
      "right": null,
      "top": null,
      "visibility": null,
      "width": null
     }
    },
    "901eb2f886864cad90620124ee2b485e": {
     "model_module": "@jupyter-widgets/controls",
     "model_name": "DescriptionStyleModel",
     "model_module_version": "1.5.0",
     "state": {
      "_model_module": "@jupyter-widgets/controls",
      "_model_module_version": "1.5.0",
      "_model_name": "DescriptionStyleModel",
      "_view_count": null,
      "_view_module": "@jupyter-widgets/base",
      "_view_module_version": "1.2.0",
      "_view_name": "StyleView",
      "description_width": ""
     }
    }
    }
    
   }
  }
 },
 "nbformat": 4,
 "nbformat_minor": 0
}
