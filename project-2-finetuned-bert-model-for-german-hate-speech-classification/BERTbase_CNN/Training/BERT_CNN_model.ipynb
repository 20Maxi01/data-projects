{
 "cells": [
  {
   "metadata": {
    "id": "c266e7b01c934543"
   },
   "cell_type": "markdown",
   "source": [
    "## Fine-Tuning deepset/gbert-base for German Hate Speech Classification\n",
    "This notebook fine-tunes `deepset/gbert-base` on a German hate speech dataset using PyTorch, BERT and CNN Layer.\n",
    "\n",
    "For the hyperparameter tuning optuna and the Tree-structured Parzen estimator (TPE), a Bayesian optimization method is used. For stopping unpromising trials early the MedianPruner is used.\n",
    "\n",
    "The script automatically logs the model metrics to the wandb project as well as to \"logged_model_metrics.xlsx\"\n",
    "\n",
    "\n",
    "Inspiration for this setup: <br>\n",
    "\n",
    "Cendra Devayana Putra, Hei-Chia Wang,\n",
    "Advanced BERT-CNN for Hate Speech Detection,\n",
    "Procedia Computer Science,\n",
    "Volume 234,\n",
    "2024,\n",
    "Pages 239-246,\n",
    "ISSN 1877-0509,\n",
    "https://doi.org/10.1016/j.procs.2024.02.170."
   ],
   "id": "c266e7b01c934543"
  },
  {
   "cell_type": "code",
   "source": [
    "!pip install optuna"
   ],
   "metadata": {
    "colab": {
     "base_uri": "https://localhost:8080/"
    },
    "id": "elTvBEPh-GEN",
    "executionInfo": {
     "status": "ok",
     "timestamp": 1736033324079,
     "user_tz": -60,
     "elapsed": 4534,
     "user": {
      "displayName": "Max N.",
      "userId": "17347375569055604559"
     }
    },
    "outputId": "38298406-e7c2-4c0b-b69d-ca0a51b2b743"
   },
   "id": "elTvBEPh-GEN",
   "execution_count": null,
   "outputs": [
    {
     "output_type": "stream",
     "name": "stdout",
     "text": [
      "Collecting optuna\n",
      "  Downloading optuna-4.1.0-py3-none-any.whl.metadata (16 kB)\n",
      "Collecting alembic>=1.5.0 (from optuna)\n",
      "  Downloading alembic-1.14.0-py3-none-any.whl.metadata (7.4 kB)\n",
      "Collecting colorlog (from optuna)\n",
      "  Downloading colorlog-6.9.0-py3-none-any.whl.metadata (10 kB)\n",
      "Requirement already satisfied: numpy in /usr/local/lib/python3.10/dist-packages (from optuna) (1.26.4)\n",
      "Requirement already satisfied: packaging>=20.0 in /usr/local/lib/python3.10/dist-packages (from optuna) (24.2)\n",
      "Requirement already satisfied: sqlalchemy>=1.4.2 in /usr/local/lib/python3.10/dist-packages (from optuna) (2.0.36)\n",
      "Requirement already satisfied: tqdm in /usr/local/lib/python3.10/dist-packages (from optuna) (4.67.1)\n",
      "Requirement already satisfied: PyYAML in /usr/local/lib/python3.10/dist-packages (from optuna) (6.0.2)\n",
      "Collecting Mako (from alembic>=1.5.0->optuna)\n",
      "  Downloading Mako-1.3.8-py3-none-any.whl.metadata (2.9 kB)\n",
      "Requirement already satisfied: typing-extensions>=4 in /usr/local/lib/python3.10/dist-packages (from alembic>=1.5.0->optuna) (4.12.2)\n",
      "Requirement already satisfied: greenlet!=0.4.17 in /usr/local/lib/python3.10/dist-packages (from sqlalchemy>=1.4.2->optuna) (3.1.1)\n",
      "Requirement already satisfied: MarkupSafe>=0.9.2 in /usr/local/lib/python3.10/dist-packages (from Mako->alembic>=1.5.0->optuna) (3.0.2)\n",
      "Downloading optuna-4.1.0-py3-none-any.whl (364 kB)\n",
      "\u001B[2K   \u001B[90m━━━━━━━━━━━━━━━━━━━━━━━━━━━━━━━━━━━━━━━━\u001B[0m \u001B[32m364.4/364.4 kB\u001B[0m \u001B[31m8.8 MB/s\u001B[0m eta \u001B[36m0:00:00\u001B[0m\n",
      "\u001B[?25hDownloading alembic-1.14.0-py3-none-any.whl (233 kB)\n",
      "\u001B[2K   \u001B[90m━━━━━━━━━━━━━━━━━━━━━━━━━━━━━━━━━━━━━━━━\u001B[0m \u001B[32m233.5/233.5 kB\u001B[0m \u001B[31m7.6 MB/s\u001B[0m eta \u001B[36m0:00:00\u001B[0m\n",
      "\u001B[?25hDownloading colorlog-6.9.0-py3-none-any.whl (11 kB)\n",
      "Downloading Mako-1.3.8-py3-none-any.whl (78 kB)\n",
      "\u001B[2K   \u001B[90m━━━━━━━━━━━━━━━━━━━━━━━━━━━━━━━━━━━━━━━━\u001B[0m \u001B[32m78.6/78.6 kB\u001B[0m \u001B[31m4.1 MB/s\u001B[0m eta \u001B[36m0:00:00\u001B[0m\n",
      "\u001B[?25hInstalling collected packages: Mako, colorlog, alembic, optuna\n",
      "Successfully installed Mako-1.3.8 alembic-1.14.0 colorlog-6.9.0 optuna-4.1.0\n"
     ]
    }
   ]
  },
  {
   "cell_type": "code",
   "source": [
    "# Import Libraries\n",
    "import wandb\n",
    "import optuna\n",
    "from optuna.pruners import MedianPruner\n",
    "import pandas as pd\n",
    "import numpy as np\n",
    "import matplotlib.pyplot as plt\n",
    "import torch\n",
    "from torch import nn\n",
    "from torch.utils.data import Dataset\n",
    "from sklearn.model_selection import train_test_split\n",
    "from sklearn.metrics import (\n",
    "    balanced_accuracy_score\n",
    "    , accuracy_score\n",
    "    , precision_recall_fscore_support\n",
    "    , matthews_corrcoef\n",
    "    , classification_report\n",
    "    , f1_score\n",
    "    , log_loss\n",
    "    , precision_score\n",
    "    , recall_score\n",
    "    , fbeta_score\n",
    "    , confusion_matrix\n",
    "    , ConfusionMatrixDisplay\n",
    ")\n",
    "from transformers import AutoTokenizer, BertModel, Trainer, TrainingArguments\n",
    "import logging\n",
    "import os\n",
    "from google.colab import runtime, userdata, drive\n",
    "import datetime\n",
    "import threading\n",
    "import time"
   ],
   "metadata": {
    "id": "8Oyu0U0D-Jct"
   },
   "id": "8Oyu0U0D-Jct",
   "execution_count": null,
   "outputs": []
  },
  {
   "cell_type": "markdown",
   "source": [
    "## Set up logging and connections"
   ],
   "metadata": {
    "id": "FSv5W-8gG53A"
   },
   "id": "FSv5W-8gG53A"
  },
  {
   "cell_type": "code",
   "source": [
    "# Configure Logging\n",
    "logging.basicConfig(\n",
    "    level=logging.INFO,  # Log INFO\n",
    "    format=\"%(asctime)s - %(levelname)s - %(message)s\",\n",
    "    force=True\n",
    ")\n",
    "\n",
    "logger = logging.getLogger(__name__)\n",
    "\n",
    "# empty cache\n",
    "torch.cuda.empty_cache()"
   ],
   "metadata": {
    "id": "EMOvE2y8-M-C"
   },
   "id": "EMOvE2y8-M-C",
   "execution_count": null,
   "outputs": []
  },
  {
   "cell_type": "code",
   "source": [
    "# connect to wandb\n",
    "wandbkey = userdata.get('WandbKey')\n",
    "wandb.login(key=wandbkey)"
   ],
   "metadata": {
    "id": "eNnUSAiW-l2E",
    "colab": {
     "base_uri": "https://localhost:8080/"
    },
    "executionInfo": {
     "status": "ok",
     "timestamp": 1736033345046,
     "user_tz": -60,
     "elapsed": 2056,
     "user": {
      "displayName": "Max N.",
      "userId": "17347375569055604559"
     }
    },
    "outputId": "20858e67-75cd-4f6a-a4e0-ef260ef8871d"
   },
   "id": "eNnUSAiW-l2E",
   "execution_count": null,
   "outputs": [
    {
     "output_type": "stream",
     "name": "stderr",
     "text": [
      "\u001B[34m\u001B[1mwandb\u001B[0m: Using wandb-core as the SDK backend.  Please refer to https://wandb.me/wandb-core for more information.\n",
      "\u001B[34m\u001B[1mwandb\u001B[0m: Currently logged in as: \u001B[33mmaxnienh\u001B[0m (\u001B[33mmaxnienh-xx\u001B[0m). Use \u001B[1m`wandb login --relogin`\u001B[0m to force relogin\n",
      "\u001B[34m\u001B[1mwandb\u001B[0m: \u001B[33mWARNING\u001B[0m If you're specifying your api key in code, ensure this code is not shared publicly.\n",
      "\u001B[34m\u001B[1mwandb\u001B[0m: \u001B[33mWARNING\u001B[0m Consider setting the WANDB_API_KEY environment variable, or running `wandb login` from the command line.\n",
      "\u001B[34m\u001B[1mwandb\u001B[0m: Appending key for api.wandb.ai to your netrc file: /root/.netrc\n"
     ]
    },
    {
     "output_type": "execute_result",
     "data": {
      "text/plain": [
       "True"
      ]
     },
     "metadata": {},
     "execution_count": 4
    }
   ]
  },
  {
   "cell_type": "code",
   "source": [
    "# Set Device to GPU\n",
    "device = torch.device(\"cuda\") if torch.cuda.is_available() else torch.device(\"cpu\")\n",
    "logger.info(f\"Using device: {device}\")\n",
    "if torch.cuda.is_available():\n",
    "    logger.info(f\"GPU Name: {torch.cuda.get_device_name(0)}\")\n"
   ],
   "metadata": {
    "id": "mNCe_zjs-Pe_",
    "colab": {
     "base_uri": "https://localhost:8080/"
    },
    "executionInfo": {
     "status": "ok",
     "timestamp": 1736033345046,
     "user_tz": -60,
     "elapsed": 7,
     "user": {
      "displayName": "Max N.",
      "userId": "17347375569055604559"
     }
    },
    "outputId": "94da0418-f3d2-4cc1-b55b-a2c2534b1bbf"
   },
   "id": "mNCe_zjs-Pe_",
   "execution_count": null,
   "outputs": [
    {
     "output_type": "stream",
     "name": "stderr",
     "text": [
      "2025-01-04 23:29:04,863 - INFO - Using device: cuda\n",
      "2025-01-04 23:29:04,887 - INFO - GPU Name: NVIDIA A100-SXM4-40GB\n"
     ]
    }
   ]
  },
  {
   "cell_type": "code",
   "source": [
    "# mount google drive for folder access\n",
    "drive.mount('/content/drive')"
   ],
   "metadata": {
    "id": "z1bi-ZSU070r",
    "colab": {
     "base_uri": "https://localhost:8080/"
    },
    "executionInfo": {
     "status": "ok",
     "timestamp": 1736033388192,
     "user_tz": -60,
     "elapsed": 43150,
     "user": {
      "displayName": "Max N.",
      "userId": "17347375569055604559"
     }
    },
    "outputId": "3ff61215-e79b-4090-d53a-40308d609d00"
   },
   "id": "z1bi-ZSU070r",
   "execution_count": null,
   "outputs": [
    {
     "output_type": "stream",
     "name": "stdout",
     "text": [
      "Mounted at /content/drive\n"
     ]
    }
   ]
  },
  {
   "cell_type": "markdown",
   "source": "## Define BERT model class",
   "metadata": {
    "id": "H7xOkBorGuCQ"
   },
   "id": "H7xOkBorGuCQ"
  },
  {
   "cell_type": "code",
   "source": [
    "class BERT_CNN(nn.Module):\n",
    "    def __init__(self, bert_model_name, num_labels, dropout_rate=0.3, class_weights=None):\n",
    "        \"\"\"\n",
    "        Initializes a BERT-based model with a CNN layer for text classification.\n",
    "\n",
    "        :param bert_model_name: Name of the pre-trained BERT model to be used.\n",
    "        :param num_labels: Number of output classes for classification.\n",
    "        :param dropout_rate: Dropout rate for regularization.\n",
    "        :param class_weights: Optional tensor containing class weights for handling class imbalance.\n",
    "        \"\"\"\n",
    "        \n",
    "        super(BERT_CNN, self).__init__()\n",
    "\n",
    "        # Load pre-trained BERT model\n",
    "        self.bert = BertModel.from_pretrained(bert_model_name)\n",
    "\n",
    "        # Dropout for regularization\n",
    "        self.dropout_bert = nn.Dropout(dropout_rate)\n",
    "        self.dropout_cnn = nn.Dropout(dropout_rate)\n",
    "\n",
    "        # CNN-Layer\n",
    "        self.conv1d = nn.Conv1d(\n",
    "            in_channels=self.bert.config.hidden_size,  # Hidden size from BERT\n",
    "            out_channels=128,  # Number of output channels\n",
    "            kernel_size=3,  # Filter size\n",
    "            padding=1\n",
    "        )\n",
    "        self.relu = nn.ReLU()\n",
    "        self.maxpool = nn.MaxPool1d(kernel_size=2)\n",
    "\n",
    "        # Fully Connected Classification Layer\n",
    "        self.classifier = nn.Linear(128, num_labels)\n",
    "\n",
    "        self.class_weights = class_weights\n",
    "\n",
    "    def forward(self, input_ids, attention_mask, labels=None):\n",
    "        \"\"\"\n",
    "        Forward pass through the model.\n",
    "\n",
    "        :param input_ids: Tensor of tokenized input IDs.\n",
    "        :param attention_mask: Tensor indicating which tokens should be attended to.\n",
    "        :param labels: Optional tensor of target labels for loss calculation.\n",
    "        :return: Loss (if labels are provided) and logits.\n",
    "        \"\"\"\n",
    "        \n",
    "        # Extract features from BERT\n",
    "        outputs = self.bert(input_ids=input_ids, attention_mask=attention_mask)\n",
    "        sequence_output = outputs.last_hidden_state  # Shape: (batch_size, seq_len, hidden_size)\n",
    "\n",
    "        # Dropout after BERT output\n",
    "        sequence_output = self.dropout_bert(sequence_output)\n",
    "\n",
    "        # Pass through CNN\n",
    "        cnn_output = self.conv1d(sequence_output.permute(0, 2, 1))  # Conv1d expects (batch, channels, seq_len)\n",
    "        cnn_output = self.relu(cnn_output)\n",
    "        cnn_output = self.maxpool(cnn_output)\n",
    "\n",
    "        # Average pooling across the sequence length\n",
    "        pooled_output = torch.mean(cnn_output, dim=2)  # Shape: (batch_size, channels)\n",
    "\n",
    "        # Dropout after CNN output\n",
    "        pooled_output = self.dropout_cnn(pooled_output)\n",
    "\n",
    "        # Pass through the classifier\n",
    "        logits = self.classifier(pooled_output)\n",
    "\n",
    "        # Compute loss if labels are provided\n",
    "        if labels is not None:\n",
    "            loss_fct = nn.CrossEntropyLoss(weight=class_weights) # for balancing the classes\n",
    "            loss = loss_fct(logits.view(-1, self.classifier.out_features), labels.view(-1))\n",
    "            return loss, logits\n",
    "\n",
    "        return logits"
   ],
   "metadata": {
    "id": "EdlVw54ncOS3"
   },
   "id": "EdlVw54ncOS3",
   "execution_count": null,
   "outputs": []
  },
  {
   "cell_type": "markdown",
   "source": [
    "## Load, split and tokenize data"
   ],
   "metadata": {
    "id": "yXvMWQa9G-Yc"
   },
   "id": "yXvMWQa9G-Yc"
  },
  {
   "cell_type": "code",
   "source": [
    "#import pandas as pd\n",
    "dataset_filename = \"Dataset_anonymized_annotated_comments_same_annotation_final.csv\"\n",
    "csv_path = os.path.join('/content/drive/MyDrive/model/data', dataset_filename)\n",
    "\n",
    "# Load the dataset\n",
    "data = pd.read_csv(csv_path, delimiter=';', on_bad_lines='skip')\n",
    "data = data[['comment', 'annotation']]\n",
    "logger.info(f\"Dataset loaded with shape: {data.shape}\")\n",
    "\n",
    "# Compute Class Weights using the normalized formula\n",
    "class_counts = data['annotation'].value_counts().sort_index()\n",
    "total_samples = class_counts.sum()\n",
    "num_classes = len(class_counts)\n",
    "\n",
    "# Improved inverse class weights\n",
    "class_weights = total_samples / (num_classes * class_counts)\n",
    "class_weights = torch.tensor(class_weights.values, dtype=torch.float32).to(device)\n",
    "logger.info(f\"Computed class weights: {class_weights}\")"
   ],
   "metadata": {
    "colab": {
     "base_uri": "https://localhost:8080/"
    },
    "id": "YbMB67QN-Tj2",
    "executionInfo": {
     "status": "ok",
     "timestamp": 1736033389391,
     "user_tz": -60,
     "elapsed": 1202,
     "user": {
      "displayName": "Max N.",
      "userId": "17347375569055604559"
     }
    },
    "outputId": "1baf0621-b333-4d14-e7fb-131e596a9121"
   },
   "id": "YbMB67QN-Tj2",
   "execution_count": null,
   "outputs": [
    {
     "output_type": "stream",
     "name": "stderr",
     "text": [
      "2025-01-04 23:29:48,550 - INFO - Dataset loaded with shape: (23580, 2)\n",
      "2025-01-04 23:29:49,128 - INFO - Computed class weights: tensor([0.7221, 1.6258], device='cuda:0')\n"
     ]
    }
   ]
  },
  {
   "cell_type": "code",
   "source": [
    "# Variable to switch between full and small dataset (for tests)\n",
    "use_full_dataset = 1\n",
    "\n",
    "# Split into training (70%), validation (15%), and test (15%) datasets\n",
    "if use_full_dataset == 1:\n",
    "\n",
    "  train_data, temp_data = train_test_split(data, test_size=0.3, stratify=data['annotation'], random_state=42)\n",
    "  val_data, test_data = train_test_split(temp_data, test_size=0.5, stratify=temp_data['annotation'], random_state=42)\n",
    "  logger.info(f\"Train size: {len(train_data)} rows | Test size: {len(test_data)} rows | Validation size: {len(val_data)} rows\")\n",
    "\n",
    "else:\n",
    "  #Separate Dataset into two groups\n",
    "  hate_data = data[data['annotation'] == 1]\n",
    "  no_hate_data = data[data['annotation'] == 0]\n",
    "\n",
    "  #Take n random comments out of both groups to create a balanced dataset\n",
    "  subset_size_per_class = 500\n",
    "  positive_subset = hate_data.sample(n=subset_size_per_class, random_state=42)\n",
    "  negative_subset = no_hate_data.sample(n=subset_size_per_class, random_state=42)\n",
    "\n",
    "  # Combine both groups into one dataset\n",
    "  balanced_subset = pd.concat([positive_subset, negative_subset])\n",
    "\n",
    "  # Shuffle and reset index\n",
    "  balanced_subset = balanced_subset.sample(frac=1, random_state=42).reset_index(drop=True)\n",
    "\n",
    "  # Verify balance\n",
    "  logger.info(f\"Balanced subset size: {len(balanced_subset)} rows\")\n",
    "  logger.info(f\"Annotation distribution: {balanced_subset['annotation'].value_counts()}\")\n",
    "\n",
    "  train_size = int(0.7 * len(balanced_subset))\n",
    "  val_size = int(0.15 * len(balanced_subset))\n",
    "\n",
    "  train_data = balanced_subset[:train_size]\n",
    "  val_data = balanced_subset[train_size:train_size + val_size]\n",
    "  test_data = balanced_subset[train_size + val_size:]\n",
    "\n",
    "  # Log sizes of each split\n",
    "  logger.info(f\"Small Train size: {len(train_data)} rows | Small Test size: {len(test_data)} rows | Small Validation size: {len(val_data)} rows\")"
   ],
   "metadata": {
    "id": "5Fyezy2X-Vyo",
    "colab": {
     "base_uri": "https://localhost:8080/"
    },
    "executionInfo": {
     "status": "ok",
     "timestamp": 1736033389391,
     "user_tz": -60,
     "elapsed": 6,
     "user": {
      "displayName": "Max N.",
      "userId": "17347375569055604559"
     }
    },
    "outputId": "38e07f60-083e-4b37-d51d-81734d36ad8f"
   },
   "id": "5Fyezy2X-Vyo",
   "execution_count": null,
   "outputs": [
    {
     "output_type": "stream",
     "name": "stderr",
     "text": [
      "2025-01-04 23:29:49,146 - INFO - Balanced subset size: 1000 rows\n",
      "2025-01-04 23:29:49,148 - INFO - Annotation distribution: annotation\n",
      "0    500\n",
      "1    500\n",
      "Name: count, dtype: int64\n",
      "2025-01-04 23:29:49,149 - INFO - Small Train size: 700 rows | Small Test size: 150 rows | Small Validation size: 150 rows\n"
     ]
    }
   ]
  },
  {
   "cell_type": "markdown",
   "source": [
    "\n"
   ],
   "metadata": {
    "id": "cm-xN4dHRA0M"
   },
   "id": "cm-xN4dHRA0M"
  },
  {
   "cell_type": "code",
   "source": [
    "# Load tokenizer\n",
    "tokenizer = AutoTokenizer.from_pretrained('deepset/gbert-base')\n",
    "\n",
    "# Define tokenization function\n",
    "def tokenize_texts(texts, tokenizer, max_length=256): # reduced from the standard 512 to 256\n",
    "    \"\"\"\n",
    "    Tokenizes a list of input texts.\n",
    "\n",
    "    :param texts: List of input text strings.\n",
    "    :param tokenizer: Tokenizer to be used (e.g., BERT tokenizer).\n",
    "    :param max_length: Maximum sequence length for tokenization.\n",
    "    :return: Dictionary of tokenized outputs, including input IDs and attention masks.\n",
    "    \"\"\"\n",
    "    \n",
    "    return tokenizer(\n",
    "        list(texts),\n",
    "        truncation=True,\n",
    "        padding=True,\n",
    "        max_length=max_length,\n",
    "        return_tensors=\"pt\"\n",
    "    )\n",
    "\n",
    "# Tokenize train and test datasets\n",
    "train_encodings = tokenize_texts(train_data['comment'], tokenizer)\n",
    "val_encodings = tokenize_texts(val_data['comment'], tokenizer)\n",
    "test_encodings = tokenize_texts(test_data['comment'], tokenizer)\n",
    "\n",
    "# Define Dataset class\n",
    "class HateSpeechDataset(Dataset):\n",
    "    def __init__(self, encodings, labels):\n",
    "        \"\"\"\n",
    "        Custom dataset class for handling tokenized text and labels.\n",
    "\n",
    "        :param encodings: Tokenized text data.\n",
    "        :param labels: Corresponding labels for classification.\n",
    "        \"\"\"\n",
    "        \n",
    "        self.encodings = encodings\n",
    "        self.labels = labels\n",
    "\n",
    "    def __getitem__(self, idx):\n",
    "        \"\"\"\n",
    "        Retrieves a sample from the dataset.\n",
    "\n",
    "        :param idx: Index of the sample to retrieve.\n",
    "        :return: Dictionary containing tokenized inputs and label.\n",
    "        \"\"\"\n",
    "        \n",
    "        item = {key: val[idx] for key, val in self.encodings.items()}\n",
    "        item['labels'] = torch.tensor(self.labels[idx], dtype=torch.long)\n",
    "        return item\n",
    "\n",
    "    def __len__(self):\n",
    "        \"\"\"\n",
    "        Returns the total number of samples in the dataset.\n",
    "\n",
    "        :return: Integer count of samples.\n",
    "        \"\"\"\n",
    "        \n",
    "        return len(self.labels)\n",
    "\n",
    "# Create datasets\n",
    "train_dataset = HateSpeechDataset(train_encodings, train_data['annotation'].values)\n",
    "val_dataset = HateSpeechDataset(val_encodings, val_data['annotation'].values)\n",
    "test_dataset = HateSpeechDataset(test_encodings, test_data['annotation'].values)\n",
    "\n",
    "# Show length of training samples\n",
    "logger.info(f\"Training samples: {len(train_dataset)} | Test samples: {len(test_dataset)} | Validation samples: {len(val_dataset)}\")"
   ],
   "metadata": {
    "id": "zwFC0nbE-Y4Y",
    "colab": {
     "base_uri": "https://localhost:8080/",
     "height": 238,
     "referenced_widgets": [
      "333f2fc7beec4e8c85b1d7289fff0ef6",
      "fe043517c85e4065b518fd7bf2166a98",
      "8fa75d41296843b2b3528c4b732788f3",
      "2d9705305c9c4dcea670f73934407fbe",
      "092381c76b2a447eb16c258ad09ae7ca",
      "f91210ee28d446c8a562bbe25200b209",
      "f8b059d141ff4120a3eebd6ff5e89322",
      "e87f67a3dbad497592cb198f1b694f0f",
      "8e56539b0da24e5ba439720ea6d23c3e",
      "ce755fe0893245c0a7b4cd4148f20893",
      "e7025ecaafb64bf7a9ceba47c447d97a",
      "715c4fb4769149c48b6aada5a6dc0662",
      "c281a677bde14ee8bbe649d234ea2248",
      "8d13d9d58c804a8589f2f4bde182e846",
      "8f44f50a97be4763a7d911b27df17de2",
      "6a2e93778edb49b5bf10f67c23df744b",
      "b70b11b6bfbb46b29a75007203787c85",
      "22db5e97d6cc484d9ffd6592b58e6133",
      "637e5130d5a7457496924275ecec0afb",
      "9f6ddafb46e54271bbfaeb5cbabdfe6b",
      "2baab108e79a46978cb93bc81b0dfc1f",
      "b9dba6c2f93d4f9e8849816e28ab5c47",
      "878fb853fa5b44c285a75be0e14542a8",
      "85226e8f0ca645759acda70df7bccc87",
      "68ce4d197df547718f0971283b0c96ab",
      "6afacfc4702449da83b03ce4a3676d4f",
      "3e568ac6138d40d1991427f15c6d4811",
      "0f0c1092a9c0458ea9dcfb418e7095a0",
      "3cca87fab4654618a432c4c50e8fa413",
      "f76ac890648b4349bd4d8f29d9a88f22",
      "2f293e453de84e65967adf89688a4a59",
      "0bce2f23552649a5afd6b0ba16859ec0",
      "53654c6987f3424aa6e67f22088da804"
     ]
    },
    "executionInfo": {
     "status": "ok",
     "timestamp": 1736033391302,
     "user_tz": -60,
     "elapsed": 1914,
     "user": {
      "displayName": "Max N.",
      "userId": "17347375569055604559"
     }
    },
    "outputId": "58478ec8-302f-4d36-82ad-0274c3f60aef"
   },
   "id": "zwFC0nbE-Y4Y",
   "execution_count": null,
   "outputs": [
    {
     "output_type": "stream",
     "name": "stderr",
     "text": [
      "/usr/local/lib/python3.10/dist-packages/huggingface_hub/utils/_auth.py:94: UserWarning: \n",
      "The secret `HF_TOKEN` does not exist in your Colab secrets.\n",
      "To authenticate with the Hugging Face Hub, create a token in your settings tab (https://huggingface.co/settings/tokens), set it as secret in your Google Colab and restart your session.\n",
      "You will be able to reuse this secret in all of your notebooks.\n",
      "Please note that authentication is recommended but still optional to access public models or datasets.\n",
      "  warnings.warn(\n"
     ]
    },
    {
     "output_type": "display_data",
     "data": {
      "text/plain": [
       "tokenizer_config.json:   0%|          | 0.00/83.0 [00:00<?, ?B/s]"
      ],
      "application/vnd.jupyter.widget-view+json": {
       "version_major": 2,
       "version_minor": 0,
       "model_id": "333f2fc7beec4e8c85b1d7289fff0ef6"
      }
     },
     "metadata": {}
    },
    {
     "output_type": "display_data",
     "data": {
      "text/plain": [
       "config.json:   0%|          | 0.00/362 [00:00<?, ?B/s]"
      ],
      "application/vnd.jupyter.widget-view+json": {
       "version_major": 2,
       "version_minor": 0,
       "model_id": "715c4fb4769149c48b6aada5a6dc0662"
      }
     },
     "metadata": {}
    },
    {
     "output_type": "display_data",
     "data": {
      "text/plain": [
       "vocab.txt:   0%|          | 0.00/240k [00:00<?, ?B/s]"
      ],
      "application/vnd.jupyter.widget-view+json": {
       "version_major": 2,
       "version_minor": 0,
       "model_id": "878fb853fa5b44c285a75be0e14542a8"
      }
     },
     "metadata": {}
    },
    {
     "output_type": "stream",
     "name": "stderr",
     "text": [
      "2025-01-04 23:29:51,003 - INFO - Training samples: 700 | Test samples: 150 | Validation samples: 150\n"
     ]
    }
   ]
  },
  {
   "cell_type": "markdown",
   "source": [
    "## Define the function for calculating metrics and training"
   ],
   "metadata": {
    "id": "tdqsLmqOHEfJ"
   },
   "id": "tdqsLmqOHEfJ"
  },
  {
   "cell_type": "code",
   "source": [
    "def compute_metrics(eval_pred, trial=None, trainer=None):\n",
    "    \"\"\"\n",
    "    Computes evaluation metrics for classification.\n",
    "\n",
    "    :param eval_pred: Tuple containing predictions and labels.\n",
    "    :param trial: Optional Optuna trial object for hyperparameter tuning.\n",
    "    :param trainer: Optional Trainer object for tracking progress.\n",
    "    :return: Dictionary containing accuracy, precision, recall, F1-score, F2-score, and other metrics.\n",
    "    \"\"\"\n",
    "    \n",
    "    # metrics computation for model evaluation, WandB tracking, and Optuna pruning.\n",
    "    predictions, labels = eval_pred\n",
    "    preds = predictions.argmax(axis=1)  # Predictions\n",
    "\n",
    "    # Calculate metrics\n",
    "    accuracy = accuracy_score(labels, preds)\n",
    "    precision, recall, f1, _ = precision_recall_fscore_support(labels, preds, average='binary')\n",
    "    f2 = fbeta_score(labels, preds, beta=2, average='binary') # f2 focuses more on the recall than precision\n",
    "    mcc = matthews_corrcoef(labels, preds)\n",
    "    mcc_normalized = (mcc + 1) / 2 # normalize range to [0, 1] where 0.5 means \"no correlation\" \n",
    "    S = (f2 + mcc_normalized) / 2\n",
    "\n",
    "    # Prepare metrics dictionary\n",
    "    metrics = {\n",
    "        \"accuracy\": accuracy,\n",
    "        \"precision\": precision,\n",
    "        \"recall\": recall,\n",
    "        \"f1\": f1,\n",
    "        \"f2\": f2,\n",
    "        \"mcc\": mcc,\n",
    "        \"mcc_normalized\": mcc_normalized,\n",
    "        \"S\": S,\n",
    "    }\n",
    "\n",
    "    # Report F2-score to Optuna and prune trial if applicable\n",
    "    if trial and trainer:\n",
    "        trial.report(S, step=int(trainer.state.epoch))\n",
    "        if trial.should_prune():\n",
    "            raise optuna.TrialPruned()\n",
    "\n",
    "    return metrics\n"
   ],
   "metadata": {
    "id": "y_da1DP9beRq"
   },
   "id": "y_da1DP9beRq",
   "execution_count": null,
   "outputs": []
  },
  {
   "cell_type": "code",
   "source": [
    "def suggest_hyperparameters(trial):\n",
    "    \"\"\"\n",
    "    Suggests hyperparameters for model training using Optuna.\n",
    "\n",
    "    :param trial: Optuna trial object used for suggesting hyperparameters.\n",
    "    :return: Dictionary containing suggested hyperparameters.\n",
    "    \"\"\"\n",
    "    \n",
    "    # suggest num_epochs and batch_size\n",
    "    num_epochs = trial.suggest_int(\"num_train_epochs\", 2, 4)\n",
    "    batch_size = trial.suggest_categorical(\"batch_size\", [16, 32])\n",
    "\n",
    "    # Compute total training steps dynamically\n",
    "    num_train_samples = len(train_dataset)\n",
    "    total_steps = (num_train_samples // batch_size) * num_epochs\n",
    "\n",
    "    # Compute warmup steps as 5-10% of total_steps\n",
    "    warmup_steps = int(trial.suggest_float(\"warmup_ratio\", 0.05, 0.1) * total_steps)\n",
    "\n",
    "    return {\n",
    "        \"num_train_epochs\": num_epochs,\n",
    "        \"learning_rate\": trial.suggest_float(\"learning_rate\", 2e-5, 1e-4, log=True),\n",
    "        \"batch_size\": batch_size,\n",
    "        \"weight_decay\": trial.suggest_float(\"weight_decay\", 0.01, 0.1),\n",
    "        \"warmup_steps\": warmup_steps\n",
    "    }\n",
    "\n",
    "def create_training_arguments(params, trial_number):\n",
    "    \"\"\"\n",
    "    Creates training arguments for the Trainer class.\n",
    "\n",
    "    :param params: Dictionary of hyperparameters for training.\n",
    "    :param trial_number: Trial number for tracking runs.\n",
    "    :return: TrainingArguments object with specified settings.\n",
    "    \"\"\"\n",
    "    \n",
    "    return TrainingArguments(\n",
    "        output_dir='./results',\n",
    "        num_train_epochs=params[\"num_train_epochs\"],\n",
    "        per_device_train_batch_size=params[\"batch_size\"],\n",
    "        per_device_eval_batch_size=64,\n",
    "        warmup_steps=params[\"warmup_steps\"],\n",
    "        weight_decay=params[\"weight_decay\"],\n",
    "        learning_rate=params[\"learning_rate\"],\n",
    "        eval_strategy=\"epoch\",\n",
    "        save_strategy=\"no\",\n",
    "        logging_dir='./logs',\n",
    "        logging_steps=10,\n",
    "        report_to='wandb',\n",
    "        fp16=True,  # Mixed precision\n",
    "        run_name=f'Trial_{trial_number}_lr_{params[\"learning_rate\"]:.1e}_bs_{params[\"batch_size\"]}'\n",
    "    )"
   ],
   "metadata": {
    "id": "ru50wUPlwP8r"
   },
   "id": "ru50wUPlwP8r",
   "execution_count": null,
   "outputs": []
  },
  {
   "cell_type": "markdown",
   "source": [
    "## Define the objective function for training, optimization and logging\n",
    "\n",
    "Initalizes wandb run for each trial. Starts the model training and logs the metrics to the initialized wandb run. Plots confusion matrix. Returns S-Score and also tracks the best score."
   ],
   "metadata": {
    "id": "uE4pq16QHJWY"
   },
   "id": "uE4pq16QHJWY"
  },
  {
   "cell_type": "code",
   "source": [
    "# Initialize variables for tracking the best score and model\n",
    "best_score = None\n",
    "best_model_state_dict = None\n",
    "\n",
    "# Create an empty list to store the results\n",
    "all_results = []\n",
    "\n",
    "# Function return F2 score -> thats the value that study wants to maximize\n",
    "def objective(trial):\n",
    "    \"\"\"\n",
    "    Defines the objective function for Optuna hyperparameter tuning.\n",
    "\n",
    "    :param trial: Optuna trial object.\n",
    "    :return: S-score for model evaluation and hyperparameter optimization.\n",
    "    \"\"\"\n",
    "    \n",
    "    global best_score, best_model_state_dict\n",
    "\n",
    "    # Create distinctive name for wandb run\n",
    "    timestamp = datetime.datetime.now().strftime(\"%Y-%m-%d_%H-%M-%S\")\n",
    "    run_name = f\"BERT_CNN_Trial_{trial.number}_{timestamp}\"\n",
    "\n",
    "    # Initialize WandB with a unique run ID\n",
    "    run = wandb.init(\n",
    "        project=\"German_Hate_Speech_Classification\",\n",
    "        name=run_name,\n",
    "        reinit=True,  # Force new run\n",
    "        id=run_name,  # Use trial number as unique ID\n",
    "    )\n",
    "\n",
    "    pruned_status = 0   # used for tracking whether a trial was pruned\n",
    "\n",
    "    try:\n",
    "        # Suggest hyperparameters\n",
    "        params = suggest_hyperparameters(trial)\n",
    "        training_args = create_training_arguments(params, trial.number)\n",
    "\n",
    "        logger.info(f\"num_train_epochs: {training_args.num_train_epochs}\")\n",
    "        logger.info(f\"per_device_train_batch_size: {training_args.per_device_train_batch_size}\")\n",
    "        logger.info(f\"per_device_eval_batch_size: {training_args.per_device_eval_batch_size}\")\n",
    "        logger.info(f\"warmup_steps: {training_args.warmup_steps}\")\n",
    "        logger.info(f\"weight_decay: {training_args.weight_decay}\")\n",
    "        logger.info(f\"learning_rate: {training_args.learning_rate}\")\n",
    "\n",
    "        # Initialize model\n",
    "        model = BERT_CNN(bert_model_name=\"deepset/gbert-base\", num_labels=2, class_weights=class_weights)\n",
    "        model.to(device)\n",
    "\n",
    "        # Trainer\n",
    "        trainer = Trainer(\n",
    "            model=model,\n",
    "            args=training_args,\n",
    "            train_dataset=train_dataset,\n",
    "            eval_dataset=val_dataset,\n",
    "            compute_metrics=lambda eval_pred: compute_metrics(eval_pred, trial, trainer),\n",
    "        )\n",
    "\n",
    "        # Train and Evaluate\n",
    "        trainer.train()\n",
    "\n",
    "        # Get predictions on val_dataset\n",
    "        predictions = trainer.predict(val_dataset)\n",
    "\n",
    "        # Calculate metrics using compute_metrics function\n",
    "        eval_metrics = compute_metrics((predictions.predictions, predictions.label_ids))\n",
    "        logger.info(f\"Trial {trial.number} - Validation Metrics: {eval_metrics}\")\n",
    "\n",
    "        # Log metrics\n",
    "        wandb.log(eval_metrics)\n",
    "\n",
    "        # Get predictions on test_dataset\n",
    "        test_predictions = trainer.predict(test_dataset)\n",
    "        test_metrics = compute_metrics((test_predictions.predictions, test_predictions.label_ids))\n",
    "        logger.info(f\"Trial {trial.number} - Test Metrics: {test_metrics}\")\n",
    "\n",
    "        wandb.log(test_metrics)\n",
    "\n",
    "        logits, labels = test_predictions.predictions, test_predictions.label_ids\n",
    "        preds = np.argmax(logits, axis=1)\n",
    "        cm = confusion_matrix(labels, preds)\n",
    "        disp = ConfusionMatrixDisplay(confusion_matrix=cm, display_labels=[\"No Hate-Speech\", \"Hate-Speech\"])\n",
    "\n",
    "        # Plot the Confusion Matrix\n",
    "        plt.figure(figsize=(8, 6))\n",
    "        ax = disp.plot(cmap=plt.cm.Blues).ax_  # Get the Axes object of the plot\n",
    "        ax.set_yticklabels(ax.get_yticklabels(), rotation=90, va='center')\n",
    "        plt.title(f\"Confusion Matrix for Trial {trial.number}\")\n",
    "\n",
    "        plt.tight_layout()  # Adjust layout for better spacing\n",
    "        plt.show()\n",
    "\n",
    "        all_results.append({\n",
    "            \"Trial_Name\": run_name,\n",
    "            \"Dataset\": dataset_filename,\n",
    "            \"Pruned\": pruned_status,\n",
    "            **eval_metrics,\n",
    "            **{f\"test_{k}\": v for k, v in test_metrics.items()}\n",
    "        })\n",
    "\n",
    "        # Extract S-Score\n",
    "        current_score = eval_metrics[\"S\"]\n",
    "\n",
    "        # Compare and update the best model\n",
    "        if best_score is None or current_score > best_score:\n",
    "            best_score = current_score\n",
    "            best_model_state_dict = model.state_dict()  # Save the model's state dict\n",
    "            # logger.info(f\"New best F2 score: {best_score}\")\n",
    "            logger.info(f\"New best S score: {best_score}\")\n",
    "\n",
    "        return current_score  # Return Score for Optuna\n",
    "\n",
    "    except optuna.TrialPruned:\n",
    "        logger.info(f\"Trial {trial.number} pruned at epoch {trainer.state.epoch}\")\n",
    "        pruned_status = 1\n",
    "        all_results.append({\n",
    "            \"Trial_Name\": run_name,\n",
    "            \"Dataset\": dataset_filename,\n",
    "            \"Pruned\": pruned_status,  # Log pruned status\n",
    "        })\n",
    "        raise\n",
    "\n",
    "    finally:\n",
    "        # Ensure WandB run is closed properly\n",
    "        wandb.finish()"
   ],
   "metadata": {
    "id": "NUuD_jOzC1Wm"
   },
   "id": "NUuD_jOzC1Wm",
   "execution_count": null,
   "outputs": []
  },
  {
   "cell_type": "markdown",
   "source": [
    "## Ensure that wandb is terminating and session ends after training"
   ],
   "metadata": {
    "id": "w9cNPiP2HXiG"
   },
   "id": "w9cNPiP2HXiG"
  },
  {
   "cell_type": "code",
   "source": [
    "def safe_wandb_finish(timeout=45):\n",
    "    \"\"\"\n",
    "    Ensures safe termination of the WandB session with a timeout.\n",
    "\n",
    "    :param timeout: Maximum time (in seconds) to wait for WandB termination.\n",
    "    \"\"\"\n",
    "    \n",
    "    # Safely terminates wandb.finish() with a timeout.\n",
    "    def finish_task():\n",
    "        try:\n",
    "            #import wandb\n",
    "            wandb.finish()\n",
    "        except Exception as e:\n",
    "            logger.error(f\"Error in wandb.finish(): {e}\")\n",
    "\n",
    "    finish_thread = threading.Thread(target=finish_task)\n",
    "    finish_thread.start()\n",
    "    finish_thread.join(timeout=timeout)  # Wait for up to `timeout` seconds\n",
    "\n",
    "    if finish_thread.is_alive():\n",
    "        logger.warning(\"wandb.finish() timed out. Proceeding with runtime.unassign().\")\n",
    "    else:\n",
    "        logger.info(\"wandb.finish() completed successfully.\")"
   ],
   "metadata": {
    "id": "yzWtKExm_Ajp"
   },
   "id": "yzWtKExm_Ajp",
   "execution_count": null,
   "outputs": []
  },
  {
   "cell_type": "markdown",
   "source": [
    "## Main code for execution\n",
    "This code is used for objective execution, Bayes´ optimization, selecting and saving the best model as wells as logging the data. Also HyperbandPruner is used to stop unpromising trials early."
   ],
   "metadata": {
    "id": "OC_LDlRhHxR_"
   },
   "id": "OC_LDlRhHxR_"
  },
  {
   "cell_type": "code",
   "source": [
    "if __name__ == \"__main__\":\n",
    "  try:\n",
    "      # Optuna Study. Uses MedianPruner as 'Early Stopping Method'. The pruning starts after the 15th trial and only allows pruning after the third epoch.\n",
    "      study = optuna.create_study(direction='maximize', sampler=optuna.samplers.TPESampler(), pruner=optuna.pruners.MedianPruner(n_startup_trials=15, n_warmup_steps=3))\n",
    "\n",
    "      logger.info(f\"Sampler is {study.sampler.__class__.__name__}\") # TPESampler is default in Optuna. uses by default 10 Trials for its startup\n",
    "\n",
    "      study.optimize(objective, n_trials=50) # defines the total number of trials and calls objective function\n",
    "\n",
    "      # Additional logging in Excel file\n",
    "      excel_file_path = \"/content/drive/MyDrive/model/logged_model_metrics.xlsx\" # Check if the Excel file exists\n",
    "      if os.path.exists(excel_file_path):\n",
    "          # File exists, load and append new data\n",
    "          existing_df = pd.read_excel(excel_file_path, index_col=\"Trial_Name\")\n",
    "          new_df = pd.DataFrame(all_results)\n",
    "          new_df.set_index(\"Trial_Name\", inplace=True)\n",
    "          results_df = pd.concat([existing_df, new_df])  # Concatenate DataFrames\n",
    "      else:\n",
    "          # File doesn't exist, create new one\n",
    "          results_df = pd.DataFrame(all_results)\n",
    "          results_df.set_index(\"Trial_Name\", inplace=True)\n",
    "\n",
    "      # Save the DataFrame to the Excel file\n",
    "      results_df.to_excel(excel_file_path)\n",
    "\n",
    "      logger.info(f\"Trial results saved to: {excel_file_path}\")\n",
    "\n",
    "      # Log the best hyperparameters\n",
    "      best_params = study.best_params\n",
    "      logger.info(f\"Best Hyperparameters: {best_params}\")\n",
    "      #wandb.log(best_params)\n",
    "\n",
    "      timestamp = datetime.datetime.now().strftime(\"%Y-%m-%d_%H-%M\")\n",
    "\n",
    "      # Save the best model and tokenizer\n",
    "      if best_model_state_dict is not None:\n",
    "          best_model_dir = f\"/content/drive/MyDrive/model/best_model_CNN_{timestamp}\"\n",
    "          os.makedirs(best_model_dir, exist_ok=True)\n",
    "          best_trial = study.best_trial\n",
    "          logger.info(f\"Best Trial Number: {best_trial.number}\")\n",
    "\n",
    "          # create distinct model file name\n",
    "          model_filename = f\"model_CNN_trial_{best_trial.number}_{timestamp}.bin\"\n",
    "\n",
    "          # model_filename = f\"pytorch_model_trial_{best_trial.number}_{timestamp}.pth\" # alternative file format\n",
    "\n",
    "          # Save model\n",
    "          torch.save(best_model_state_dict, os.path.join(best_model_dir, model_filename)) # this passes the mode.state_dict of the best model\n",
    "\n",
    "          # Save tokenizer\n",
    "          tokenizer.save_pretrained(best_model_dir)\n",
    "\n",
    "          logger.info(f\"Best model from Trial Number {best_trial.number} saved to {best_model_dir}\")\n",
    "\n",
    "          # wandb.finish()\n",
    "          safe_wandb_finish(timeout=45) # function needs to be revised again\n",
    "\n",
    "          logger.info(\"Process finished and terminated\")\n",
    "\n",
    "          # Allow threads to finish\n",
    "          time.sleep(5)\n",
    "\n",
    "          runtime.unassign()\n",
    "\n",
    "      else:\n",
    "          logger.error(\"No best model was found. Model could not be saved. Runtime will be terminated...\")\n",
    "          runtime.unassign()\n",
    "\n",
    "  except Exception as e:\n",
    "        # Logging and runtime termination\n",
    "        logger.error(f\"An error occurred during execution: {str(e)}\", exc_info=True)\n",
    "        runtime.unassign()\n"
   ],
   "metadata": {
    "colab": {
     "base_uri": "https://localhost:8080/",
     "height": 1000,
     "referenced_widgets": [
      "357e7e434a9e43be85ad13e8b111f168",
      "d7d36d3eb8da42a49c6885d7bce786cc",
      "84cf29a7e6a54f15998a0dfa1b691aae",
      "b46411f71671477e9778d0e1d5dc7f21",
      "431ee95fdb4b40c38b2fc52726a4ec52",
      "b303b9dc40e24069a7ce7a0646fcaf22",
      "c96e570be24841cda58aa409c0388000",
      "ca7675d9165847a19ba6f2ab1a3e77c7",
      "58a1e6bdcced4fc6b1bdc88bfecdf616",
      "46a135a2652e4dee95490615b94b81fd",
      "29a671ed37074904ac77d6280fa12789"
     ]
    },
    "id": "CGn14-F6i7v5",
    "outputId": "af32e60a-d8da-47df-9242-cfeaecb97382"
   },
   "id": "CGn14-F6i7v5",
   "execution_count": null,
   "outputs": [
    {
     "output_type": "stream",
     "name": "stderr",
     "text": [
      "[I 2025-01-04 23:29:51,044] A new study created in memory with name: no-name-89e5776c-b1d7-4d25-8da7-5c1221f92ffd\n",
      "2025-01-04 23:29:51,045 - INFO - Sampler is TPESampler\n"
     ]
    },
    {
     "output_type": "display_data",
     "data": {
      "text/plain": [
       "<IPython.core.display.HTML object>"
      ],
      "text/html": [
       "Tracking run with wandb version 0.19.1"
      ]
     },
     "metadata": {}
    },
    {
     "output_type": "display_data",
     "data": {
      "text/plain": [
       "<IPython.core.display.HTML object>"
      ],
      "text/html": [
       "Run data is saved locally in <code>/content/wandb/run-20250104_232951-BERT_CNN_Trial_0_2025-01-04_23-29-51</code>"
      ]
     },
     "metadata": {}
    },
    {
     "output_type": "display_data",
     "data": {
      "text/plain": [
       "<IPython.core.display.HTML object>"
      ],
      "text/html": [
       "Syncing run <strong><a href='https://wandb.ai/maxnienh-xx/German_Hate_Speech_Classification/runs/BERT_CNN_Trial_0_2025-01-04_23-29-51' target=\"_blank\">BERT_CNN_Trial_0_2025-01-04_23-29-51</a></strong> to <a href='https://wandb.ai/maxnienh-xx/German_Hate_Speech_Classification' target=\"_blank\">Weights & Biases</a> (<a href='https://wandb.me/developer-guide' target=\"_blank\">docs</a>)<br>"
      ]
     },
     "metadata": {}
    },
    {
     "output_type": "display_data",
     "data": {
      "text/plain": [
       "<IPython.core.display.HTML object>"
      ],
      "text/html": [
       " View project at <a href='https://wandb.ai/maxnienh-xx/German_Hate_Speech_Classification' target=\"_blank\">https://wandb.ai/maxnienh-xx/German_Hate_Speech_Classification</a>"
      ]
     },
     "metadata": {}
    },
    {
     "output_type": "display_data",
     "data": {
      "text/plain": [
       "<IPython.core.display.HTML object>"
      ],
      "text/html": [
       " View run at <a href='https://wandb.ai/maxnienh-xx/German_Hate_Speech_Classification/runs/BERT_CNN_Trial_0_2025-01-04_23-29-51' target=\"_blank\">https://wandb.ai/maxnienh-xx/German_Hate_Speech_Classification/runs/BERT_CNN_Trial_0_2025-01-04_23-29-51</a>"
      ]
     },
     "metadata": {}
    },
    {
     "output_type": "display_data",
     "data": {
      "text/plain": [
       "model.safetensors:   0%|          | 0.00/442M [00:00<?, ?B/s]"
      ],
      "application/vnd.jupyter.widget-view+json": {
       "version_major": 2,
       "version_minor": 0,
       "model_id": "357e7e434a9e43be85ad13e8b111f168"
      }
     },
     "metadata": {}
    },
    {
     "output_type": "display_data",
     "data": {
      "text/plain": [
       "<IPython.core.display.HTML object>"
      ],
      "text/html": [
       "\n",
       "    <div>\n",
       "      \n",
       "      <progress value='176' max='176' style='width:300px; height:20px; vertical-align: middle;'></progress>\n",
       "      [176/176 00:10, Epoch 4/4]\n",
       "    </div>\n",
       "    <table border=\"1\" class=\"dataframe\">\n",
       "  <thead>\n",
       " <tr style=\"text-align: left;\">\n",
       "      <th>Step</th>\n",
       "      <th>Training Loss</th>\n",
       "      <th>Validation Loss</th>\n",
       "      <th>Accuracy</th>\n",
       "      <th>Precision</th>\n",
       "      <th>Recall</th>\n",
       "      <th>F1</th>\n",
       "      <th>F2</th>\n",
       "      <th>Mcc</th>\n",
       "      <th>Mcc Normalized</th>\n",
       "      <th>S</th>\n",
       "    </tr>\n",
       "  </thead>\n",
       "  <tbody>\n",
       "    <tr>\n",
       "      <td>10</td>\n",
       "      <td>0.654200</td>\n",
       "      <td>0.680690</td>\n",
       "      <td>0.373333</td>\n",
       "      <td>0.373333</td>\n",
       "      <td>1.000000</td>\n",
       "      <td>0.543689</td>\n",
       "      <td>0.748663</td>\n",
       "      <td>0.000000</td>\n",
       "      <td>0.500000</td>\n",
       "      <td>0.624332</td>\n",
       "    </tr>\n",
       "    <tr>\n",
       "      <td>20</td>\n",
       "      <td>0.644900</td>\n",
       "      <td>0.680819</td>\n",
       "      <td>0.373333</td>\n",
       "      <td>0.373333</td>\n",
       "      <td>1.000000</td>\n",
       "      <td>0.543689</td>\n",
       "      <td>0.748663</td>\n",
       "      <td>0.000000</td>\n",
       "      <td>0.500000</td>\n",
       "      <td>0.624332</td>\n",
       "    </tr>\n",
       "    <tr>\n",
       "      <td>30</td>\n",
       "      <td>0.642400</td>\n",
       "      <td>0.675672</td>\n",
       "      <td>0.373333</td>\n",
       "      <td>0.373333</td>\n",
       "      <td>1.000000</td>\n",
       "      <td>0.543689</td>\n",
       "      <td>0.748663</td>\n",
       "      <td>0.000000</td>\n",
       "      <td>0.500000</td>\n",
       "      <td>0.624332</td>\n",
       "    </tr>\n",
       "    <tr>\n",
       "      <td>40</td>\n",
       "      <td>0.590100</td>\n",
       "      <td>0.673732</td>\n",
       "      <td>0.373333</td>\n",
       "      <td>0.373333</td>\n",
       "      <td>1.000000</td>\n",
       "      <td>0.543689</td>\n",
       "      <td>0.748663</td>\n",
       "      <td>0.000000</td>\n",
       "      <td>0.500000</td>\n",
       "      <td>0.624332</td>\n",
       "    </tr>\n",
       "    <tr>\n",
       "      <td>50</td>\n",
       "      <td>0.611800</td>\n",
       "      <td>0.646789</td>\n",
       "      <td>0.380000</td>\n",
       "      <td>0.375839</td>\n",
       "      <td>1.000000</td>\n",
       "      <td>0.546341</td>\n",
       "      <td>0.750670</td>\n",
       "      <td>0.063232</td>\n",
       "      <td>0.531616</td>\n",
       "      <td>0.641143</td>\n",
       "    </tr>\n",
       "    <tr>\n",
       "      <td>60</td>\n",
       "      <td>0.537200</td>\n",
       "      <td>0.617894</td>\n",
       "      <td>0.420000</td>\n",
       "      <td>0.391608</td>\n",
       "      <td>1.000000</td>\n",
       "      <td>0.562814</td>\n",
       "      <td>0.762943</td>\n",
       "      <td>0.170770</td>\n",
       "      <td>0.585385</td>\n",
       "      <td>0.674164</td>\n",
       "    </tr>\n",
       "    <tr>\n",
       "      <td>70</td>\n",
       "      <td>0.576200</td>\n",
       "      <td>0.575482</td>\n",
       "      <td>0.493333</td>\n",
       "      <td>0.421875</td>\n",
       "      <td>0.964286</td>\n",
       "      <td>0.586957</td>\n",
       "      <td>0.767045</td>\n",
       "      <td>0.242070</td>\n",
       "      <td>0.621035</td>\n",
       "      <td>0.694040</td>\n",
       "    </tr>\n",
       "    <tr>\n",
       "      <td>80</td>\n",
       "      <td>0.485600</td>\n",
       "      <td>0.543044</td>\n",
       "      <td>0.526667</td>\n",
       "      <td>0.440945</td>\n",
       "      <td>1.000000</td>\n",
       "      <td>0.612022</td>\n",
       "      <td>0.797721</td>\n",
       "      <td>0.328467</td>\n",
       "      <td>0.664234</td>\n",
       "      <td>0.730977</td>\n",
       "    </tr>\n",
       "    <tr>\n",
       "      <td>90</td>\n",
       "      <td>0.447600</td>\n",
       "      <td>0.472395</td>\n",
       "      <td>0.620000</td>\n",
       "      <td>0.495413</td>\n",
       "      <td>0.964286</td>\n",
       "      <td>0.654545</td>\n",
       "      <td>0.810811</td>\n",
       "      <td>0.411526</td>\n",
       "      <td>0.705763</td>\n",
       "      <td>0.758287</td>\n",
       "    </tr>\n",
       "    <tr>\n",
       "      <td>100</td>\n",
       "      <td>0.384100</td>\n",
       "      <td>0.397765</td>\n",
       "      <td>0.806667</td>\n",
       "      <td>0.670886</td>\n",
       "      <td>0.946429</td>\n",
       "      <td>0.785185</td>\n",
       "      <td>0.874587</td>\n",
       "      <td>0.648906</td>\n",
       "      <td>0.824453</td>\n",
       "      <td>0.849520</td>\n",
       "    </tr>\n",
       "    <tr>\n",
       "      <td>110</td>\n",
       "      <td>0.341200</td>\n",
       "      <td>0.347008</td>\n",
       "      <td>0.860000</td>\n",
       "      <td>0.753623</td>\n",
       "      <td>0.928571</td>\n",
       "      <td>0.832000</td>\n",
       "      <td>0.887372</td>\n",
       "      <td>0.725655</td>\n",
       "      <td>0.862827</td>\n",
       "      <td>0.875100</td>\n",
       "    </tr>\n",
       "    <tr>\n",
       "      <td>120</td>\n",
       "      <td>0.315300</td>\n",
       "      <td>0.299902</td>\n",
       "      <td>0.886667</td>\n",
       "      <td>0.809524</td>\n",
       "      <td>0.910714</td>\n",
       "      <td>0.857143</td>\n",
       "      <td>0.888502</td>\n",
       "      <td>0.767397</td>\n",
       "      <td>0.883699</td>\n",
       "      <td>0.886100</td>\n",
       "    </tr>\n",
       "    <tr>\n",
       "      <td>130</td>\n",
       "      <td>0.186100</td>\n",
       "      <td>0.255216</td>\n",
       "      <td>0.906667</td>\n",
       "      <td>0.838710</td>\n",
       "      <td>0.928571</td>\n",
       "      <td>0.881356</td>\n",
       "      <td>0.909091</td>\n",
       "      <td>0.807592</td>\n",
       "      <td>0.903796</td>\n",
       "      <td>0.906444</td>\n",
       "    </tr>\n",
       "    <tr>\n",
       "      <td>140</td>\n",
       "      <td>0.199500</td>\n",
       "      <td>0.242336</td>\n",
       "      <td>0.866667</td>\n",
       "      <td>0.750000</td>\n",
       "      <td>0.964286</td>\n",
       "      <td>0.843750</td>\n",
       "      <td>0.912162</td>\n",
       "      <td>0.748186</td>\n",
       "      <td>0.874093</td>\n",
       "      <td>0.893128</td>\n",
       "    </tr>\n",
       "    <tr>\n",
       "      <td>150</td>\n",
       "      <td>0.164600</td>\n",
       "      <td>0.204355</td>\n",
       "      <td>0.926667</td>\n",
       "      <td>0.881356</td>\n",
       "      <td>0.928571</td>\n",
       "      <td>0.904348</td>\n",
       "      <td>0.918728</td>\n",
       "      <td>0.845710</td>\n",
       "      <td>0.922855</td>\n",
       "      <td>0.920792</td>\n",
       "    </tr>\n",
       "    <tr>\n",
       "      <td>160</td>\n",
       "      <td>0.117700</td>\n",
       "      <td>0.195178</td>\n",
       "      <td>0.926667</td>\n",
       "      <td>0.857143</td>\n",
       "      <td>0.964286</td>\n",
       "      <td>0.907563</td>\n",
       "      <td>0.940767</td>\n",
       "      <td>0.851174</td>\n",
       "      <td>0.925587</td>\n",
       "      <td>0.933177</td>\n",
       "    </tr>\n",
       "    <tr>\n",
       "      <td>170</td>\n",
       "      <td>0.110700</td>\n",
       "      <td>0.311345</td>\n",
       "      <td>0.913333</td>\n",
       "      <td>0.938776</td>\n",
       "      <td>0.821429</td>\n",
       "      <td>0.876190</td>\n",
       "      <td>0.842491</td>\n",
       "      <td>0.814252</td>\n",
       "      <td>0.907126</td>\n",
       "      <td>0.874808</td>\n",
       "    </tr>\n",
       "  </tbody>\n",
       "</table><p>"
      ]
     },
     "metadata": {}
    },
    {
     "output_type": "stream",
     "name": "stderr",
     "text": [
      "/usr/local/lib/python3.10/dist-packages/optuna/trial/_trial.py:497: UserWarning: The reported value is ignored because this `step` 0 is already reported.\n",
      "  warnings.warn(\n",
      "/usr/local/lib/python3.10/dist-packages/optuna/trial/_trial.py:497: UserWarning: The reported value is ignored because this `step` 0 is already reported.\n",
      "  warnings.warn(\n",
      "/usr/local/lib/python3.10/dist-packages/optuna/trial/_trial.py:497: UserWarning: The reported value is ignored because this `step` 0 is already reported.\n",
      "  warnings.warn(\n",
      "/usr/local/lib/python3.10/dist-packages/optuna/trial/_trial.py:497: UserWarning: The reported value is ignored because this `step` 1 is already reported.\n",
      "  warnings.warn(\n",
      "/usr/local/lib/python3.10/dist-packages/optuna/trial/_trial.py:497: UserWarning: The reported value is ignored because this `step` 1 is already reported.\n",
      "  warnings.warn(\n",
      "/usr/local/lib/python3.10/dist-packages/optuna/trial/_trial.py:497: UserWarning: The reported value is ignored because this `step` 1 is already reported.\n",
      "  warnings.warn(\n",
      "/usr/local/lib/python3.10/dist-packages/optuna/trial/_trial.py:497: UserWarning: The reported value is ignored because this `step` 2 is already reported.\n",
      "  warnings.warn(\n",
      "/usr/local/lib/python3.10/dist-packages/optuna/trial/_trial.py:497: UserWarning: The reported value is ignored because this `step` 2 is already reported.\n",
      "  warnings.warn(\n",
      "/usr/local/lib/python3.10/dist-packages/optuna/trial/_trial.py:497: UserWarning: The reported value is ignored because this `step` 2 is already reported.\n",
      "  warnings.warn(\n",
      "/usr/local/lib/python3.10/dist-packages/optuna/trial/_trial.py:497: UserWarning: The reported value is ignored because this `step` 2 is already reported.\n",
      "  warnings.warn(\n",
      "/usr/local/lib/python3.10/dist-packages/optuna/trial/_trial.py:497: UserWarning: The reported value is ignored because this `step` 3 is already reported.\n",
      "  warnings.warn(\n",
      "/usr/local/lib/python3.10/dist-packages/optuna/trial/_trial.py:497: UserWarning: The reported value is ignored because this `step` 3 is already reported.\n",
      "  warnings.warn(\n",
      "/usr/local/lib/python3.10/dist-packages/optuna/trial/_trial.py:497: UserWarning: The reported value is ignored because this `step` 3 is already reported.\n",
      "  warnings.warn(\n"
     ]
    },
    {
     "output_type": "display_data",
     "data": {
      "text/plain": [
       "<IPython.core.display.HTML object>"
      ],
      "text/html": []
     },
     "metadata": {}
    },
    {
     "output_type": "stream",
     "name": "stderr",
     "text": [
      "2025-01-04 23:30:09,367 - INFO - Trial 0 - Validation Metrics: {'accuracy': 0.9266666666666666, 'precision': 0.8571428571428571, 'recall': 0.9642857142857143, 'f1': 0.907563025210084, 'f2': 0.9407665505226481, 'mcc': 0.851174061168019, 'mcc_normalized': 0.9255870305840095, 'S': 0.9331767905533288}\n"
     ]
    },
    {
     "output_type": "display_data",
     "data": {
      "text/plain": [
       "<IPython.core.display.HTML object>"
      ],
      "text/html": []
     },
     "metadata": {}
    },
    {
     "output_type": "stream",
     "name": "stderr",
     "text": [
      "/usr/local/lib/python3.10/dist-packages/optuna/trial/_trial.py:497: UserWarning: The reported value is ignored because this `step` 4 is already reported.\n",
      "  warnings.warn(\n",
      "2025-01-04 23:30:09,470 - INFO - Trial 0 - Test Metrics: {'accuracy': 0.9066666666666666, 'precision': 0.8901098901098901, 'recall': 0.9529411764705882, 'f1': 0.9204545454545454, 'f2': 0.9396751740139211, 'mcc': 0.8106210267679624, 'mcc_normalized': 0.9053105133839812, 'S': 0.9224928436989511}\n"
     ]
    },
    {
     "output_type": "display_data",
     "data": {
      "text/plain": [
       "<Figure size 800x600 with 0 Axes>"
      ]
     },
     "metadata": {}
    },
    {
     "output_type": "display_data",
     "data": {
      "text/plain": [
       "<Figure size 640x480 with 2 Axes>"
      ],
      "image/png": "[encoded data removed]"
     },
     "metadata": {}
    },
    {
     "output_type": "stream",
     "name": "stderr",
     "text": [
      "2025-01-04 23:30:09,734 - INFO - New best S score: 0.9331767905533288\n"
     ]
    },
    {
     "output_type": "display_data",
     "data": {
      "text/plain": [
       "<IPython.core.display.HTML object>"
      ],
      "text/html": []
     },
     "metadata": {}
    },
    {
     "output_type": "display_data",
     "data": {
      "text/plain": [
       "<IPython.core.display.HTML object>"
      ],
      "text/html": [
       "<br>    <style><br>        .wandb-row {<br>            display: flex;<br>            flex-direction: row;<br>            flex-wrap: wrap;<br>            justify-content: flex-start;<br>            width: 100%;<br>        }<br>        .wandb-col {<br>            display: flex;<br>            flex-direction: column;<br>            flex-basis: 100%;<br>            flex: 1;<br>            padding: 10px;<br>        }<br>    </style><br><div class=\"wandb-row\"><div class=\"wandb-col\"><h3>Run history:</h3><br/><table class=\"wandb\"><tr><td>S</td><td>█▁</td></tr><tr><td>accuracy</td><td>█▁</td></tr><tr><td>eval/S</td><td>▁▁▁▁▁▂▃▃▄▆▇▇▇▇██▇</td></tr><tr><td>eval/accuracy</td><td>▁▁▁▁▁▂▃▃▄▆▇▇█▇███</td></tr><tr><td>eval/f1</td><td>▁▁▁▁▁▁▂▂▃▆▇▇▇▇██▇</td></tr><tr><td>eval/f2</td><td>▁▁▁▁▁▂▂▃▃▆▆▆▇▇▇█▄</td></tr><tr><td>eval/loss</td><td>█████▇▆▆▅▄▃▃▂▂▁▁▃</td></tr><tr><td>eval/mcc</td><td>▁▁▁▁▂▂▃▄▄▆▇▇█▇███</td></tr><tr><td>eval/mcc_normalized</td><td>▁▁▁▁▂▂▃▄▄▆▇▇█▇███</td></tr><tr><td>eval/precision</td><td>▁▁▁▁▁▁▂▂▃▅▆▆▇▆▇▇█</td></tr><tr><td>eval/recall</td><td>██████▇█▇▆▅▄▅▇▅▇▁</td></tr><tr><td>eval/runtime</td><td>█▃▂▁▁▁▁▂▂▂▁▂▃▂▁▂▁</td></tr><tr><td>eval/samples_per_second</td><td>▁▅▇████▇▇▇█▇▆▇▇▇▇</td></tr><tr><td>eval/steps_per_second</td><td>▁▅▇████▇▇▇█▇▆▇▇▇▇</td></tr><tr><td>f1</td><td>▁█</td></tr><tr><td>f2</td><td>█▁</td></tr><tr><td>mcc</td><td>█▁</td></tr><tr><td>mcc_normalized</td><td>█▁</td></tr><tr><td>precision</td><td>▁█</td></tr><tr><td>recall</td><td>█▁</td></tr><tr><td>test/S</td><td>█▁</td></tr><tr><td>test/accuracy</td><td>█▁</td></tr><tr><td>test/f1</td><td>▁█</td></tr><tr><td>test/f2</td><td>█▁</td></tr><tr><td>test/loss</td><td>▁█</td></tr><tr><td>test/mcc</td><td>█▁</td></tr><tr><td>test/mcc_normalized</td><td>█▁</td></tr><tr><td>test/precision</td><td>▁█</td></tr><tr><td>test/recall</td><td>█▁</td></tr><tr><td>test/runtime</td><td>█▁</td></tr><tr><td>test/samples_per_second</td><td>▁█</td></tr><tr><td>test/steps_per_second</td><td>▁█</td></tr><tr><td>train/epoch</td><td>▁▁▁▁▂▂▂▂▃▃▃▃▄▄▄▄▄▄▅▅▅▅▆▆▆▆▆▆▇▇▇▇███</td></tr><tr><td>train/global_step</td><td>▁▁▁▁▂▂▂▂▃▃▃▃▄▄▄▄▄▄▅▅▅▅▆▆▆▆▆▆▇▇▇▇███████</td></tr><tr><td>train/grad_norm</td><td>▂▂▁▁▁▁▁▂▂▂▂▂ ▁▁▄█</td></tr><tr><td>train/learning_rate</td><td>▁▁▂▂▃▃▄▄▄▅▅▆▆▇▇██</td></tr><tr><td>train/loss</td><td>███▇▇▆▇▆▅▅▄▄▂▂▂▁▁</td></tr></table><br/></div><div class=\"wandb-col\"><h3>Run summary:</h3><br/><table class=\"wandb\"><tr><td>S</td><td>0.92249</td></tr><tr><td>accuracy</td><td>0.90667</td></tr><tr><td>eval/S</td><td>0.87481</td></tr><tr><td>eval/accuracy</td><td>0.91333</td></tr><tr><td>eval/f1</td><td>0.87619</td></tr><tr><td>eval/f2</td><td>0.84249</td></tr><tr><td>eval/loss</td><td>0.31134</td></tr><tr><td>eval/mcc</td><td>0.81425</td></tr><tr><td>eval/mcc_normalized</td><td>0.90713</td></tr><tr><td>eval/precision</td><td>0.93878</td></tr><tr><td>eval/recall</td><td>0.82143</td></tr><tr><td>eval/runtime</td><td>0.0918</td></tr><tr><td>eval/samples_per_second</td><td>1633.114</td></tr><tr><td>eval/steps_per_second</td><td>32.662</td></tr><tr><td>f1</td><td>0.92045</td></tr><tr><td>f2</td><td>0.93968</td></tr><tr><td>mcc</td><td>0.81062</td></tr><tr><td>mcc_normalized</td><td>0.90531</td></tr><tr><td>precision</td><td>0.89011</td></tr><tr><td>recall</td><td>0.95294</td></tr><tr><td>test/S</td><td>0.92249</td></tr><tr><td>test/accuracy</td><td>0.90667</td></tr><tr><td>test/f1</td><td>0.92045</td></tr><tr><td>test/f2</td><td>0.93968</td></tr><tr><td>test/loss</td><td>0.21875</td></tr><tr><td>test/mcc</td><td>0.81062</td></tr><tr><td>test/mcc_normalized</td><td>0.90531</td></tr><tr><td>test/precision</td><td>0.89011</td></tr><tr><td>test/recall</td><td>0.95294</td></tr><tr><td>test/runtime</td><td>0.0909</td></tr><tr><td>test/samples_per_second</td><td>1649.634</td></tr><tr><td>test/steps_per_second</td><td>32.993</td></tr><tr><td>total_flos</td><td>0</td></tr><tr><td>train/epoch</td><td>4</td></tr><tr><td>train/global_step</td><td>176</td></tr><tr><td>train/grad_norm</td><td>33.98984</td></tr><tr><td>train/learning_rate</td><td>2e-05</td></tr><tr><td>train/loss</td><td>0.1107</td></tr><tr><td>train_loss</td><td>0.40493</td></tr><tr><td>train_runtime</td><td>12.7304</td></tr><tr><td>train_samples_per_second</td><td>219.946</td></tr><tr><td>train_steps_per_second</td><td>13.825</td></tr></table><br/></div></div>"
      ]
     },
     "metadata": {}
    },
    {
     "output_type": "display_data",
     "data": {
      "text/plain": [
       "<IPython.core.display.HTML object>"
      ],
      "text/html": [
       " View run <strong style=\"color:#cdcd00\">BERT_CNN_Trial_0_2025-01-04_23-29-51</strong> at: <a href='https://wandb.ai/maxnienh-xx/German_Hate_Speech_Classification/runs/BERT_CNN_Trial_0_2025-01-04_23-29-51' target=\"_blank\">https://wandb.ai/maxnienh-xx/German_Hate_Speech_Classification/runs/BERT_CNN_Trial_0_2025-01-04_23-29-51</a><br> View project at: <a href='https://wandb.ai/maxnienh-xx/German_Hate_Speech_Classification' target=\"_blank\">https://wandb.ai/maxnienh-xx/German_Hate_Speech_Classification</a><br>Synced 5 W&B file(s), 0 media file(s), 0 artifact file(s) and 0 other file(s)"
      ]
     },
     "metadata": {}
    },
    {
     "output_type": "display_data",
     "data": {
      "text/plain": [
       "<IPython.core.display.HTML object>"
      ],
      "text/html": [
       "Find logs at: <code>./wandb/run-20250104_232951-BERT_CNN_Trial_0_2025-01-04_23-29-51/logs</code>"
      ]
     },
     "metadata": {}
    },
    {
     "output_type": "stream",
     "name": "stderr",
     "text": [
      "[I 2025-01-04 23:30:11,046] Trial 0 finished with value: 0.9331767905533288 and parameters: {'num_train_epochs': 4, 'learning_rate': 5.629628861408828e-05, 'batch_size': 16, 'weight_decay': 0.08653175651469623}. Best is trial 0 with value: 0.9331767905533288.\n"
     ]
    },
    {
     "output_type": "display_data",
     "data": {
      "text/plain": [
       "<IPython.core.display.HTML object>"
      ],
      "text/html": [
       "Tracking run with wandb version 0.19.1"
      ]
     },
     "metadata": {}
    },
    {
     "output_type": "display_data",
     "data": {
      "text/plain": [
       "<IPython.core.display.HTML object>"
      ],
      "text/html": [
       "Run data is saved locally in <code>/content/wandb/run-20250104_233011-BERT_CNN_Trial_1_2025-01-04_23-30-11</code>"
      ]
     },
     "metadata": {}
    },
    {
     "output_type": "display_data",
     "data": {
      "text/plain": [
       "<IPython.core.display.HTML object>"
      ],
      "text/html": [
       "Syncing run <strong><a href='https://wandb.ai/maxnienh-xx/German_Hate_Speech_Classification/runs/BERT_CNN_Trial_1_2025-01-04_23-30-11' target=\"_blank\">BERT_CNN_Trial_1_2025-01-04_23-30-11</a></strong> to <a href='https://wandb.ai/maxnienh-xx/German_Hate_Speech_Classification' target=\"_blank\">Weights & Biases</a> (<a href='https://wandb.me/developer-guide' target=\"_blank\">docs</a>)<br>"
      ]
     },
     "metadata": {}
    },
    {
     "output_type": "display_data",
     "data": {
      "text/plain": [
       "<IPython.core.display.HTML object>"
      ],
      "text/html": [
       " View project at <a href='https://wandb.ai/maxnienh-xx/German_Hate_Speech_Classification' target=\"_blank\">https://wandb.ai/maxnienh-xx/German_Hate_Speech_Classification</a>"
      ]
     },
     "metadata": {}
    },
    {
     "output_type": "display_data",
     "data": {
      "text/plain": [
       "<IPython.core.display.HTML object>"
      ],
      "text/html": [
       " View run at <a href='https://wandb.ai/maxnienh-xx/German_Hate_Speech_Classification/runs/BERT_CNN_Trial_1_2025-01-04_23-30-11' target=\"_blank\">https://wandb.ai/maxnienh-xx/German_Hate_Speech_Classification/runs/BERT_CNN_Trial_1_2025-01-04_23-30-11</a>"
      ]
     },
     "metadata": {}
    },
    {
     "output_type": "display_data",
     "data": {
      "text/plain": [
       "<IPython.core.display.HTML object>"
      ],
      "text/html": [
       "\n",
       "    <div>\n",
       "      \n",
       "      <progress value='176' max='176' style='width:300px; height:20px; vertical-align: middle;'></progress>\n",
       "      [176/176 00:10, Epoch 2/2]\n",
       "    </div>\n",
       "    <table border=\"1\" class=\"dataframe\">\n",
       "  <thead>\n",
       " <tr style=\"text-align: left;\">\n",
       "      <th>Step</th>\n",
       "      <th>Training Loss</th>\n",
       "      <th>Validation Loss</th>\n",
       "      <th>Accuracy</th>\n",
       "      <th>Precision</th>\n",
       "      <th>Recall</th>\n",
       "      <th>F1</th>\n",
       "      <th>F2</th>\n",
       "      <th>Mcc</th>\n",
       "      <th>Mcc Normalized</th>\n",
       "      <th>S</th>\n",
       "    </tr>\n",
       "  </thead>\n",
       "  <tbody>\n",
       "    <tr>\n",
       "      <td>10</td>\n",
       "      <td>0.698900</td>\n",
       "      <td>0.682156</td>\n",
       "      <td>0.420000</td>\n",
       "      <td>0.388489</td>\n",
       "      <td>0.964286</td>\n",
       "      <td>0.553846</td>\n",
       "      <td>0.743802</td>\n",
       "      <td>0.111385</td>\n",
       "      <td>0.555692</td>\n",
       "      <td>0.649747</td>\n",
       "    </tr>\n",
       "    <tr>\n",
       "      <td>20</td>\n",
       "      <td>0.701500</td>\n",
       "      <td>0.675374</td>\n",
       "      <td>0.380000</td>\n",
       "      <td>0.375839</td>\n",
       "      <td>1.000000</td>\n",
       "      <td>0.546341</td>\n",
       "      <td>0.750670</td>\n",
       "      <td>0.063232</td>\n",
       "      <td>0.531616</td>\n",
       "      <td>0.641143</td>\n",
       "    </tr>\n",
       "    <tr>\n",
       "      <td>30</td>\n",
       "      <td>0.647800</td>\n",
       "      <td>0.675915</td>\n",
       "      <td>0.373333</td>\n",
       "      <td>0.373333</td>\n",
       "      <td>1.000000</td>\n",
       "      <td>0.543689</td>\n",
       "      <td>0.748663</td>\n",
       "      <td>0.000000</td>\n",
       "      <td>0.500000</td>\n",
       "      <td>0.624332</td>\n",
       "    </tr>\n",
       "    <tr>\n",
       "      <td>40</td>\n",
       "      <td>0.611300</td>\n",
       "      <td>0.692249</td>\n",
       "      <td>0.373333</td>\n",
       "      <td>0.373333</td>\n",
       "      <td>1.000000</td>\n",
       "      <td>0.543689</td>\n",
       "      <td>0.748663</td>\n",
       "      <td>0.000000</td>\n",
       "      <td>0.500000</td>\n",
       "      <td>0.624332</td>\n",
       "    </tr>\n",
       "    <tr>\n",
       "      <td>50</td>\n",
       "      <td>0.646500</td>\n",
       "      <td>0.692718</td>\n",
       "      <td>0.373333</td>\n",
       "      <td>0.373333</td>\n",
       "      <td>1.000000</td>\n",
       "      <td>0.543689</td>\n",
       "      <td>0.748663</td>\n",
       "      <td>0.000000</td>\n",
       "      <td>0.500000</td>\n",
       "      <td>0.624332</td>\n",
       "    </tr>\n",
       "    <tr>\n",
       "      <td>60</td>\n",
       "      <td>0.590600</td>\n",
       "      <td>0.672766</td>\n",
       "      <td>0.373333</td>\n",
       "      <td>0.373333</td>\n",
       "      <td>1.000000</td>\n",
       "      <td>0.543689</td>\n",
       "      <td>0.748663</td>\n",
       "      <td>0.000000</td>\n",
       "      <td>0.500000</td>\n",
       "      <td>0.624332</td>\n",
       "    </tr>\n",
       "    <tr>\n",
       "      <td>70</td>\n",
       "      <td>0.564000</td>\n",
       "      <td>0.638245</td>\n",
       "      <td>0.413333</td>\n",
       "      <td>0.385714</td>\n",
       "      <td>0.964286</td>\n",
       "      <td>0.551020</td>\n",
       "      <td>0.741758</td>\n",
       "      <td>0.095775</td>\n",
       "      <td>0.547887</td>\n",
       "      <td>0.644823</td>\n",
       "    </tr>\n",
       "    <tr>\n",
       "      <td>80</td>\n",
       "      <td>0.538900</td>\n",
       "      <td>0.607790</td>\n",
       "      <td>0.486667</td>\n",
       "      <td>0.411765</td>\n",
       "      <td>0.875000</td>\n",
       "      <td>0.560000</td>\n",
       "      <td>0.714286</td>\n",
       "      <td>0.155672</td>\n",
       "      <td>0.577836</td>\n",
       "      <td>0.646061</td>\n",
       "    </tr>\n",
       "    <tr>\n",
       "      <td>90</td>\n",
       "      <td>0.614700</td>\n",
       "      <td>0.584144</td>\n",
       "      <td>0.520000</td>\n",
       "      <td>0.431034</td>\n",
       "      <td>0.892857</td>\n",
       "      <td>0.581395</td>\n",
       "      <td>0.735294</td>\n",
       "      <td>0.220347</td>\n",
       "      <td>0.610174</td>\n",
       "      <td>0.672734</td>\n",
       "    </tr>\n",
       "    <tr>\n",
       "      <td>100</td>\n",
       "      <td>0.442700</td>\n",
       "      <td>0.557808</td>\n",
       "      <td>0.546667</td>\n",
       "      <td>0.447368</td>\n",
       "      <td>0.910714</td>\n",
       "      <td>0.600000</td>\n",
       "      <td>0.754438</td>\n",
       "      <td>0.272378</td>\n",
       "      <td>0.636189</td>\n",
       "      <td>0.695313</td>\n",
       "    </tr>\n",
       "    <tr>\n",
       "      <td>110</td>\n",
       "      <td>0.436800</td>\n",
       "      <td>0.527805</td>\n",
       "      <td>0.733333</td>\n",
       "      <td>0.614286</td>\n",
       "      <td>0.767857</td>\n",
       "      <td>0.682540</td>\n",
       "      <td>0.731293</td>\n",
       "      <td>0.465981</td>\n",
       "      <td>0.732991</td>\n",
       "      <td>0.732142</td>\n",
       "    </tr>\n",
       "    <tr>\n",
       "      <td>120</td>\n",
       "      <td>0.393100</td>\n",
       "      <td>0.453555</td>\n",
       "      <td>0.680000</td>\n",
       "      <td>0.541667</td>\n",
       "      <td>0.928571</td>\n",
       "      <td>0.684211</td>\n",
       "      <td>0.812500</td>\n",
       "      <td>0.464026</td>\n",
       "      <td>0.732013</td>\n",
       "      <td>0.772256</td>\n",
       "    </tr>\n",
       "    <tr>\n",
       "      <td>130</td>\n",
       "      <td>0.465400</td>\n",
       "      <td>0.423440</td>\n",
       "      <td>0.853333</td>\n",
       "      <td>0.854167</td>\n",
       "      <td>0.732143</td>\n",
       "      <td>0.788462</td>\n",
       "      <td>0.753676</td>\n",
       "      <td>0.681944</td>\n",
       "      <td>0.840972</td>\n",
       "      <td>0.797324</td>\n",
       "    </tr>\n",
       "    <tr>\n",
       "      <td>140</td>\n",
       "      <td>0.310300</td>\n",
       "      <td>0.311052</td>\n",
       "      <td>0.846667</td>\n",
       "      <td>0.726027</td>\n",
       "      <td>0.946429</td>\n",
       "      <td>0.821705</td>\n",
       "      <td>0.892256</td>\n",
       "      <td>0.709982</td>\n",
       "      <td>0.854991</td>\n",
       "      <td>0.873624</td>\n",
       "    </tr>\n",
       "    <tr>\n",
       "      <td>150</td>\n",
       "      <td>0.309000</td>\n",
       "      <td>0.404275</td>\n",
       "      <td>0.780000</td>\n",
       "      <td>0.629213</td>\n",
       "      <td>1.000000</td>\n",
       "      <td>0.772414</td>\n",
       "      <td>0.894569</td>\n",
       "      <td>0.638999</td>\n",
       "      <td>0.819499</td>\n",
       "      <td>0.857034</td>\n",
       "    </tr>\n",
       "    <tr>\n",
       "      <td>160</td>\n",
       "      <td>0.352600</td>\n",
       "      <td>0.536430</td>\n",
       "      <td>0.866667</td>\n",
       "      <td>0.973684</td>\n",
       "      <td>0.660714</td>\n",
       "      <td>0.787234</td>\n",
       "      <td>0.706107</td>\n",
       "      <td>0.722972</td>\n",
       "      <td>0.861486</td>\n",
       "      <td>0.783796</td>\n",
       "    </tr>\n",
       "    <tr>\n",
       "      <td>170</td>\n",
       "      <td>0.570100</td>\n",
       "      <td>0.286713</td>\n",
       "      <td>0.826667</td>\n",
       "      <td>0.687500</td>\n",
       "      <td>0.982143</td>\n",
       "      <td>0.808824</td>\n",
       "      <td>0.904605</td>\n",
       "      <td>0.694368</td>\n",
       "      <td>0.847184</td>\n",
       "      <td>0.875895</td>\n",
       "    </tr>\n",
       "  </tbody>\n",
       "</table><p>"
      ]
     },
     "metadata": {}
    },
    {
     "output_type": "stream",
     "name": "stderr",
     "text": [
      "/usr/local/lib/python3.10/dist-packages/optuna/trial/_trial.py:497: UserWarning: The reported value is ignored because this `step` 0 is already reported.\n",
      "  warnings.warn(\n",
      "/usr/local/lib/python3.10/dist-packages/optuna/trial/_trial.py:497: UserWarning: The reported value is ignored because this `step` 0 is already reported.\n",
      "  warnings.warn(\n",
      "/usr/local/lib/python3.10/dist-packages/optuna/trial/_trial.py:497: UserWarning: The reported value is ignored because this `step` 0 is already reported.\n",
      "  warnings.warn(\n",
      "/usr/local/lib/python3.10/dist-packages/optuna/trial/_trial.py:497: UserWarning: The reported value is ignored because this `step` 0 is already reported.\n",
      "  warnings.warn(\n",
      "/usr/local/lib/python3.10/dist-packages/optuna/trial/_trial.py:497: UserWarning: The reported value is ignored because this `step` 0 is already reported.\n",
      "  warnings.warn(\n",
      "/usr/local/lib/python3.10/dist-packages/optuna/trial/_trial.py:497: UserWarning: The reported value is ignored because this `step` 0 is already reported.\n",
      "  warnings.warn(\n",
      "/usr/local/lib/python3.10/dist-packages/optuna/trial/_trial.py:497: UserWarning: The reported value is ignored because this `step` 0 is already reported.\n",
      "  warnings.warn(\n",
      "/usr/local/lib/python3.10/dist-packages/optuna/trial/_trial.py:497: UserWarning: The reported value is ignored because this `step` 1 is already reported.\n",
      "  warnings.warn(\n",
      "/usr/local/lib/python3.10/dist-packages/optuna/trial/_trial.py:497: UserWarning: The reported value is ignored because this `step` 1 is already reported.\n",
      "  warnings.warn(\n",
      "/usr/local/lib/python3.10/dist-packages/optuna/trial/_trial.py:497: UserWarning: The reported value is ignored because this `step` 1 is already reported.\n",
      "  warnings.warn(\n",
      "/usr/local/lib/python3.10/dist-packages/optuna/trial/_trial.py:497: UserWarning: The reported value is ignored because this `step` 1 is already reported.\n",
      "  warnings.warn(\n",
      "/usr/local/lib/python3.10/dist-packages/optuna/trial/_trial.py:497: UserWarning: The reported value is ignored because this `step` 1 is already reported.\n",
      "  warnings.warn(\n",
      "/usr/local/lib/python3.10/dist-packages/optuna/trial/_trial.py:497: UserWarning: The reported value is ignored because this `step` 1 is already reported.\n",
      "  warnings.warn(\n",
      "/usr/local/lib/python3.10/dist-packages/optuna/trial/_trial.py:497: UserWarning: The reported value is ignored because this `step` 1 is already reported.\n",
      "  warnings.warn(\n",
      "/usr/local/lib/python3.10/dist-packages/optuna/trial/_trial.py:497: UserWarning: The reported value is ignored because this `step` 1 is already reported.\n",
      "  warnings.warn(\n"
     ]
    },
    {
     "output_type": "display_data",
     "data": {
      "text/plain": [
       "<IPython.core.display.HTML object>"
      ],
      "text/html": []
     },
     "metadata": {}
    },
    {
     "output_type": "stream",
     "name": "stderr",
     "text": [
      "2025-01-04 23:30:23,526 - INFO - Trial 1 - Validation Metrics: {'accuracy': 0.8333333333333334, 'precision': 0.6962025316455697, 'recall': 0.9821428571428571, 'f1': 0.8148148148148148, 'f2': 0.9075907590759076, 'mcc': 0.704116149563978, 'mcc_normalized': 0.852058074781989, 'S': 0.8798244169289483}\n"
     ]
    },
    {
     "output_type": "display_data",
     "data": {
      "text/plain": [
       "<IPython.core.display.HTML object>"
      ],
      "text/html": []
     },
     "metadata": {}
    },
    {
     "output_type": "stream",
     "name": "stderr",
     "text": [
      "/usr/local/lib/python3.10/dist-packages/optuna/trial/_trial.py:497: UserWarning: The reported value is ignored because this `step` 2 is already reported.\n",
      "  warnings.warn(\n",
      "2025-01-04 23:30:23,630 - INFO - Trial 1 - Test Metrics: {'accuracy': 0.8733333333333333, 'precision': 0.83, 'recall': 0.9764705882352941, 'f1': 0.8972972972972973, 'f2': 0.9431818181818182, 'mcc': 0.7515293607641007, 'mcc_normalized': 0.8757646803820504, 'S': 0.9094732492819343}\n"
     ]
    },
    {
     "output_type": "display_data",
     "data": {
      "text/plain": [
       "<Figure size 800x600 with 0 Axes>"
      ]
     },
     "metadata": {}
    },
    {
     "output_type": "display_data",
     "data": {
      "text/plain": [
       "<Figure size 640x480 with 2 Axes>"
      ],
      "image/png": "[encoded data removed]"
     },
     "metadata": {}
    },
    {
     "output_type": "display_data",
     "data": {
      "text/plain": [
       "<IPython.core.display.HTML object>"
      ],
      "text/html": []
     },
     "metadata": {}
    },
    {
     "output_type": "display_data",
     "data": {
      "text/plain": [
       "<IPython.core.display.HTML object>"
      ],
      "text/html": [
       "<br>    <style><br>        .wandb-row {<br>            display: flex;<br>            flex-direction: row;<br>            flex-wrap: wrap;<br>            justify-content: flex-start;<br>            width: 100%;<br>        }<br>        .wandb-col {<br>            display: flex;<br>            flex-direction: column;<br>            flex-basis: 100%;<br>            flex: 1;<br>            padding: 10px;<br>        }<br>    </style><br><div class=\"wandb-row\"><div class=\"wandb-col\"><h3>Run history:</h3><br/><table class=\"wandb\"><tr><td>S</td><td>▁█</td></tr><tr><td>accuracy</td><td>▁█</td></tr><tr><td>eval/S</td><td>▂▁▁▁▁▁▂▂▂▃▄▅▆█▇▅█</td></tr><tr><td>eval/accuracy</td><td>▂▁▁▁▁▁▂▃▃▃▆▅██▇█▇</td></tr><tr><td>eval/f1</td><td>▁▁▁▁▁▁▁▁▂▂▄▅▇█▇▇█</td></tr><tr><td>eval/f2</td><td>▂▃▃▃▃▃▂▁▂▃▂▅▃██▁█</td></tr><tr><td>eval/loss</td><td>██████▇▇▆▆▅▄▃▁▃▅▁</td></tr><tr><td>eval/mcc</td><td>▂▂▁▁▁▁▂▃▃▄▆▅██▇██</td></tr><tr><td>eval/mcc_normalized</td><td>▂▂▁▁▁▁▂▃▃▄▆▅██▇██</td></tr><tr><td>eval/precision</td><td>▁▁▁▁▁▁▁▁▂▂▄▃▇▅▄█▅</td></tr><tr><td>eval/recall</td><td>▇█████▇▅▆▆▃▇▂▇█▁█</td></tr><tr><td>eval/runtime</td><td>▇█▅▇▃▂▆▄▃▃▄▄▅▇▄▁▆</td></tr><tr><td>eval/samples_per_second</td><td>▂▁▄▂▆▇▃▅▆▆▅▅▄▂▄█▃</td></tr><tr><td>eval/steps_per_second</td><td>▂▁▄▂▆▇▃▅▆▆▅▅▄▂▄█▃</td></tr><tr><td>f1</td><td>▁█</td></tr><tr><td>f2</td><td>▁█</td></tr><tr><td>mcc</td><td>▁█</td></tr><tr><td>mcc_normalized</td><td>▁█</td></tr><tr><td>precision</td><td>▁█</td></tr><tr><td>recall</td><td>█▁</td></tr><tr><td>test/S</td><td>▁█</td></tr><tr><td>test/accuracy</td><td>▁█</td></tr><tr><td>test/f1</td><td>▁█</td></tr><tr><td>test/f2</td><td>▁█</td></tr><tr><td>test/loss</td><td>█▁</td></tr><tr><td>test/mcc</td><td>▁█</td></tr><tr><td>test/mcc_normalized</td><td>▁█</td></tr><tr><td>test/precision</td><td>▁█</td></tr><tr><td>test/recall</td><td>█▁</td></tr><tr><td>test/runtime</td><td>█▁</td></tr><tr><td>test/samples_per_second</td><td>▁█</td></tr><tr><td>test/steps_per_second</td><td>▁█</td></tr><tr><td>train/epoch</td><td>▁▁▁▁▂▂▂▂▃▃▃▃▄▄▄▄▄▄▅▅▅▅▆▆▆▆▆▆▇▇▇▇███</td></tr><tr><td>train/global_step</td><td>▁▁▁▁▂▂▂▂▃▃▃▃▄▄▄▄▄▄▅▅▅▅▆▆▆▆▆▆▇▇▇▇███████</td></tr><tr><td>train/grad_norm</td><td>▃▃▃▃▁▁▃▁▂▂█▂▃▃▅▃▁</td></tr><tr><td>train/learning_rate</td><td>▁▁▂▂▃▃▄▄▄▅▅▆▆▇▇██</td></tr><tr><td>train/loss</td><td>██▇▆▇▆▆▅▆▃▃▂▄▁▁▂▆</td></tr></table><br/></div><div class=\"wandb-col\"><h3>Run summary:</h3><br/><table class=\"wandb\"><tr><td>S</td><td>0.90947</td></tr><tr><td>accuracy</td><td>0.87333</td></tr><tr><td>eval/S</td><td>0.87589</td></tr><tr><td>eval/accuracy</td><td>0.82667</td></tr><tr><td>eval/f1</td><td>0.80882</td></tr><tr><td>eval/f2</td><td>0.90461</td></tr><tr><td>eval/loss</td><td>0.28671</td></tr><tr><td>eval/mcc</td><td>0.69437</td></tr><tr><td>eval/mcc_normalized</td><td>0.84718</td></tr><tr><td>eval/precision</td><td>0.6875</td></tr><tr><td>eval/recall</td><td>0.98214</td></tr><tr><td>eval/runtime</td><td>0.0933</td></tr><tr><td>eval/samples_per_second</td><td>1607.489</td></tr><tr><td>eval/steps_per_second</td><td>32.15</td></tr><tr><td>f1</td><td>0.8973</td></tr><tr><td>f2</td><td>0.94318</td></tr><tr><td>mcc</td><td>0.75153</td></tr><tr><td>mcc_normalized</td><td>0.87576</td></tr><tr><td>precision</td><td>0.83</td></tr><tr><td>recall</td><td>0.97647</td></tr><tr><td>test/S</td><td>0.90947</td></tr><tr><td>test/accuracy</td><td>0.87333</td></tr><tr><td>test/f1</td><td>0.8973</td></tr><tr><td>test/f2</td><td>0.94318</td></tr><tr><td>test/loss</td><td>0.23735</td></tr><tr><td>test/mcc</td><td>0.75153</td></tr><tr><td>test/mcc_normalized</td><td>0.87576</td></tr><tr><td>test/precision</td><td>0.83</td></tr><tr><td>test/recall</td><td>0.97647</td></tr><tr><td>test/runtime</td><td>0.0922</td></tr><tr><td>test/samples_per_second</td><td>1627.571</td></tr><tr><td>test/steps_per_second</td><td>32.551</td></tr><tr><td>total_flos</td><td>0</td></tr><tr><td>train/epoch</td><td>2</td></tr><tr><td>train/global_step</td><td>176</td></tr><tr><td>train/grad_norm</td><td>5.16424</td></tr><tr><td>train/learning_rate</td><td>2e-05</td></tr><tr><td>train/loss</td><td>0.5701</td></tr><tr><td>train_loss</td><td>0.51248</td></tr><tr><td>train_runtime</td><td>10.3199</td></tr><tr><td>train_samples_per_second</td><td>135.66</td></tr><tr><td>train_steps_per_second</td><td>17.054</td></tr></table><br/></div></div>"
      ]
     },
     "metadata": {}
    },
    {
     "output_type": "display_data",
     "data": {
      "text/plain": [
       "<IPython.core.display.HTML object>"
      ],
      "text/html": [
       " View run <strong style=\"color:#cdcd00\">BERT_CNN_Trial_1_2025-01-04_23-30-11</strong> at: <a href='https://wandb.ai/maxnienh-xx/German_Hate_Speech_Classification/runs/BERT_CNN_Trial_1_2025-01-04_23-30-11' target=\"_blank\">https://wandb.ai/maxnienh-xx/German_Hate_Speech_Classification/runs/BERT_CNN_Trial_1_2025-01-04_23-30-11</a><br> View project at: <a href='https://wandb.ai/maxnienh-xx/German_Hate_Speech_Classification' target=\"_blank\">https://wandb.ai/maxnienh-xx/German_Hate_Speech_Classification</a><br>Synced 5 W&B file(s), 0 media file(s), 0 artifact file(s) and 0 other file(s)"
      ]
     },
     "metadata": {}
    },
    {
     "output_type": "display_data",
     "data": {
      "text/plain": [
       "<IPython.core.display.HTML object>"
      ],
      "text/html": [
       "Find logs at: <code>./wandb/run-20250104_233011-BERT_CNN_Trial_1_2025-01-04_23-30-11/logs</code>"
      ]
     },
     "metadata": {}
    },
    {
     "output_type": "stream",
     "name": "stderr",
     "text": [
      "[I 2025-01-04 23:30:25,086] Trial 1 finished with value: 0.8798244169289483 and parameters: {'num_train_epochs': 2, 'learning_rate': 6.778440887269864e-05, 'batch_size': 8, 'weight_decay': 0.06401769698301464}. Best is trial 0 with value: 0.9331767905533288.\n"
     ]
    },
    {
     "output_type": "display_data",
     "data": {
      "text/plain": [
       "<IPython.core.display.HTML object>"
      ],
      "text/html": [
       "Tracking run with wandb version 0.19.1"
      ]
     },
     "metadata": {}
    },
    {
     "output_type": "display_data",
     "data": {
      "text/plain": [
       "<IPython.core.display.HTML object>"
      ],
      "text/html": [
       "Run data is saved locally in <code>/content/wandb/run-20250104_233025-BERT_CNN_Trial_2_2025-01-04_23-30-25</code>"
      ]
     },
     "metadata": {}
    },
    {
     "output_type": "display_data",
     "data": {
      "text/plain": [
       "<IPython.core.display.HTML object>"
      ],
      "text/html": [
       "Syncing run <strong><a href='https://wandb.ai/maxnienh-xx/German_Hate_Speech_Classification/runs/BERT_CNN_Trial_2_2025-01-04_23-30-25' target=\"_blank\">BERT_CNN_Trial_2_2025-01-04_23-30-25</a></strong> to <a href='https://wandb.ai/maxnienh-xx/German_Hate_Speech_Classification' target=\"_blank\">Weights & Biases</a> (<a href='https://wandb.me/developer-guide' target=\"_blank\">docs</a>)<br>"
      ]
     },
     "metadata": {}
    },
    {
     "output_type": "display_data",
     "data": {
      "text/plain": [
       "<IPython.core.display.HTML object>"
      ],
      "text/html": [
       " View project at <a href='https://wandb.ai/maxnienh-xx/German_Hate_Speech_Classification' target=\"_blank\">https://wandb.ai/maxnienh-xx/German_Hate_Speech_Classification</a>"
      ]
     },
     "metadata": {}
    },
    {
     "output_type": "display_data",
     "data": {
      "text/plain": [
       "<IPython.core.display.HTML object>"
      ],
      "text/html": [
       " View run at <a href='https://wandb.ai/maxnienh-xx/German_Hate_Speech_Classification/runs/BERT_CNN_Trial_2_2025-01-04_23-30-25' target=\"_blank\">https://wandb.ai/maxnienh-xx/German_Hate_Speech_Classification/runs/BERT_CNN_Trial_2_2025-01-04_23-30-25</a>"
      ]
     },
     "metadata": {}
    },
    {
     "output_type": "display_data",
     "data": {
      "text/plain": [
       "<IPython.core.display.HTML object>"
      ],
      "text/html": [
       "\n",
       "    <div>\n",
       "      \n",
       "      <progress value='88' max='88' style='width:300px; height:20px; vertical-align: middle;'></progress>\n",
       "      [88/88 00:06, Epoch 4/4]\n",
       "    </div>\n",
       "    <table border=\"1\" class=\"dataframe\">\n",
       "  <thead>\n",
       " <tr style=\"text-align: left;\">\n",
       "      <th>Step</th>\n",
       "      <th>Training Loss</th>\n",
       "      <th>Validation Loss</th>\n",
       "      <th>Accuracy</th>\n",
       "      <th>Precision</th>\n",
       "      <th>Recall</th>\n",
       "      <th>F1</th>\n",
       "      <th>F2</th>\n",
       "      <th>Mcc</th>\n",
       "      <th>Mcc Normalized</th>\n",
       "      <th>S</th>\n",
       "    </tr>\n",
       "  </thead>\n",
       "  <tbody>\n",
       "    <tr>\n",
       "      <td>10</td>\n",
       "      <td>0.793700</td>\n",
       "      <td>0.713051</td>\n",
       "      <td>0.620000</td>\n",
       "      <td>0.400000</td>\n",
       "      <td>0.035714</td>\n",
       "      <td>0.065574</td>\n",
       "      <td>0.043668</td>\n",
       "      <td>0.010238</td>\n",
       "      <td>0.505119</td>\n",
       "      <td>0.274393</td>\n",
       "    </tr>\n",
       "    <tr>\n",
       "      <td>20</td>\n",
       "      <td>0.749400</td>\n",
       "      <td>0.686689</td>\n",
       "      <td>0.526667</td>\n",
       "      <td>0.415730</td>\n",
       "      <td>0.660714</td>\n",
       "      <td>0.510345</td>\n",
       "      <td>0.591054</td>\n",
       "      <td>0.105876</td>\n",
       "      <td>0.552938</td>\n",
       "      <td>0.571996</td>\n",
       "    </tr>\n",
       "    <tr>\n",
       "      <td>30</td>\n",
       "      <td>0.666600</td>\n",
       "      <td>0.671289</td>\n",
       "      <td>0.373333</td>\n",
       "      <td>0.373333</td>\n",
       "      <td>1.000000</td>\n",
       "      <td>0.543689</td>\n",
       "      <td>0.748663</td>\n",
       "      <td>0.000000</td>\n",
       "      <td>0.500000</td>\n",
       "      <td>0.624332</td>\n",
       "    </tr>\n",
       "    <tr>\n",
       "      <td>40</td>\n",
       "      <td>0.630300</td>\n",
       "      <td>0.680068</td>\n",
       "      <td>0.373333</td>\n",
       "      <td>0.373333</td>\n",
       "      <td>1.000000</td>\n",
       "      <td>0.543689</td>\n",
       "      <td>0.748663</td>\n",
       "      <td>0.000000</td>\n",
       "      <td>0.500000</td>\n",
       "      <td>0.624332</td>\n",
       "    </tr>\n",
       "    <tr>\n",
       "      <td>50</td>\n",
       "      <td>0.595800</td>\n",
       "      <td>0.684084</td>\n",
       "      <td>0.373333</td>\n",
       "      <td>0.373333</td>\n",
       "      <td>1.000000</td>\n",
       "      <td>0.543689</td>\n",
       "      <td>0.748663</td>\n",
       "      <td>0.000000</td>\n",
       "      <td>0.500000</td>\n",
       "      <td>0.624332</td>\n",
       "    </tr>\n",
       "    <tr>\n",
       "      <td>60</td>\n",
       "      <td>0.582000</td>\n",
       "      <td>0.654254</td>\n",
       "      <td>0.373333</td>\n",
       "      <td>0.373333</td>\n",
       "      <td>1.000000</td>\n",
       "      <td>0.543689</td>\n",
       "      <td>0.748663</td>\n",
       "      <td>0.000000</td>\n",
       "      <td>0.500000</td>\n",
       "      <td>0.624332</td>\n",
       "    </tr>\n",
       "    <tr>\n",
       "      <td>70</td>\n",
       "      <td>0.506600</td>\n",
       "      <td>0.625592</td>\n",
       "      <td>0.380000</td>\n",
       "      <td>0.375839</td>\n",
       "      <td>1.000000</td>\n",
       "      <td>0.546341</td>\n",
       "      <td>0.750670</td>\n",
       "      <td>0.063232</td>\n",
       "      <td>0.531616</td>\n",
       "      <td>0.641143</td>\n",
       "    </tr>\n",
       "    <tr>\n",
       "      <td>80</td>\n",
       "      <td>0.510100</td>\n",
       "      <td>0.568428</td>\n",
       "      <td>0.493333</td>\n",
       "      <td>0.424242</td>\n",
       "      <td>1.000000</td>\n",
       "      <td>0.595745</td>\n",
       "      <td>0.786517</td>\n",
       "      <td>0.285023</td>\n",
       "      <td>0.642511</td>\n",
       "      <td>0.714514</td>\n",
       "    </tr>\n",
       "  </tbody>\n",
       "</table><p>"
      ]
     },
     "metadata": {}
    },
    {
     "output_type": "stream",
     "name": "stderr",
     "text": [
      "/usr/local/lib/python3.10/dist-packages/optuna/trial/_trial.py:497: UserWarning: The reported value is ignored because this `step` 0 is already reported.\n",
      "  warnings.warn(\n",
      "/usr/local/lib/python3.10/dist-packages/optuna/trial/_trial.py:497: UserWarning: The reported value is ignored because this `step` 1 is already reported.\n",
      "  warnings.warn(\n",
      "/usr/local/lib/python3.10/dist-packages/optuna/trial/_trial.py:497: UserWarning: The reported value is ignored because this `step` 2 is already reported.\n",
      "  warnings.warn(\n",
      "/usr/local/lib/python3.10/dist-packages/optuna/trial/_trial.py:497: UserWarning: The reported value is ignored because this `step` 3 is already reported.\n",
      "  warnings.warn(\n"
     ]
    },
    {
     "output_type": "display_data",
     "data": {
      "text/plain": [
       "<IPython.core.display.HTML object>"
      ],
      "text/html": []
     },
     "metadata": {}
    },
    {
     "output_type": "stream",
     "name": "stderr",
     "text": [
      "2025-01-04 23:30:34,041 - INFO - Trial 2 - Validation Metrics: {'accuracy': 0.6266666666666667, 'precision': 0.5, 'recall': 0.9821428571428571, 'f1': 0.6626506024096386, 'f2': 0.8233532934131736, 'mcc': 0.43427217874043406, 'mcc_normalized': 0.717136089370217, 'S': 0.7702446913916954}\n"
     ]
    },
    {
     "output_type": "display_data",
     "data": {
      "text/plain": [
       "<IPython.core.display.HTML object>"
      ],
      "text/html": []
     },
     "metadata": {}
    },
    {
     "output_type": "stream",
     "name": "stderr",
     "text": [
      "/usr/local/lib/python3.10/dist-packages/optuna/trial/_trial.py:497: UserWarning: The reported value is ignored because this `step` 4 is already reported.\n",
      "  warnings.warn(\n",
      "2025-01-04 23:30:34,144 - INFO - Trial 2 - Test Metrics: {'accuracy': 0.7333333333333333, 'precision': 0.6829268292682927, 'recall': 0.9882352941176471, 'f1': 0.8076923076923077, 'f2': 0.9071274298056156, 'mcc': 0.5007566409489618, 'mcc_normalized': 0.7503783204744809, 'S': 0.8287528751400483}\n"
     ]
    },
    {
     "output_type": "display_data",
     "data": {
      "text/plain": [
       "<Figure size 800x600 with 0 Axes>"
      ]
     },
     "metadata": {}
    },
    {
     "output_type": "display_data",
     "data": {
      "text/plain": [
       "<Figure size 640x480 with 2 Axes>"
      ],
      "image/png": "[encoded data removed]"
     },
     "metadata": {}
    },
    {
     "output_type": "display_data",
     "data": {
      "text/plain": [
       "<IPython.core.display.HTML object>"
      ],
      "text/html": []
     },
     "metadata": {}
    },
    {
     "output_type": "display_data",
     "data": {
      "text/plain": [
       "<IPython.core.display.HTML object>"
      ],
      "text/html": [
       "<br>    <style><br>        .wandb-row {<br>            display: flex;<br>            flex-direction: row;<br>            flex-wrap: wrap;<br>            justify-content: flex-start;<br>            width: 100%;<br>        }<br>        .wandb-col {<br>            display: flex;<br>            flex-direction: column;<br>            flex-basis: 100%;<br>            flex: 1;<br>            padding: 10px;<br>        }<br>    </style><br><div class=\"wandb-row\"><div class=\"wandb-col\"><h3>Run history:</h3><br/><table class=\"wandb\"><tr><td>S</td><td>▁█</td></tr><tr><td>accuracy</td><td>▁█</td></tr><tr><td>eval/S</td><td>▁▆▇▇▇▇▇█</td></tr><tr><td>eval/accuracy</td><td>█▅▁▁▁▁▁▄</td></tr><tr><td>eval/f1</td><td>▁▇▇▇▇▇▇█</td></tr><tr><td>eval/f2</td><td>▁▆██████</td></tr><tr><td>eval/loss</td><td>█▇▆▆▇▅▄▁</td></tr><tr><td>eval/mcc</td><td>▁▄▁▁▁▁▃█</td></tr><tr><td>eval/mcc_normalized</td><td>▁▄▁▁▁▁▃█</td></tr><tr><td>eval/precision</td><td>▅▇▁▁▁▁▁█</td></tr><tr><td>eval/recall</td><td>▁▆██████</td></tr><tr><td>eval/runtime</td><td>▇█▇▆▁█▅▇</td></tr><tr><td>eval/samples_per_second</td><td>▂▂▂▃█▁▄▂</td></tr><tr><td>eval/steps_per_second</td><td>▂▂▂▃█▁▄▂</td></tr><tr><td>f1</td><td>▁█</td></tr><tr><td>f2</td><td>▁█</td></tr><tr><td>mcc</td><td>▁█</td></tr><tr><td>mcc_normalized</td><td>▁█</td></tr><tr><td>precision</td><td>▁█</td></tr><tr><td>recall</td><td>▁█</td></tr><tr><td>test/S</td><td>▁█</td></tr><tr><td>test/accuracy</td><td>▁█</td></tr><tr><td>test/f1</td><td>▁█</td></tr><tr><td>test/f2</td><td>▁█</td></tr><tr><td>test/loss</td><td>█▁</td></tr><tr><td>test/mcc</td><td>▁█</td></tr><tr><td>test/mcc_normalized</td><td>▁█</td></tr><tr><td>test/precision</td><td>▁█</td></tr><tr><td>test/recall</td><td>▁█</td></tr><tr><td>test/runtime</td><td>█▁</td></tr><tr><td>test/samples_per_second</td><td>▁█</td></tr><tr><td>test/steps_per_second</td><td>▁█</td></tr><tr><td>train/epoch</td><td>▁▁▂▂▃▃▄▄▅▅▅▅▆▆▇▇█</td></tr><tr><td>train/global_step</td><td>▁▁▂▂▃▃▄▄▅▅▅▅▆▆▇▇█████</td></tr><tr><td>train/grad_norm</td><td>▄█▄▂▂▁▁▁</td></tr><tr><td>train/learning_rate</td><td>▁▂▃▄▅▆▇█</td></tr><tr><td>train/loss</td><td>█▇▅▄▃▃▁▁</td></tr></table><br/></div><div class=\"wandb-col\"><h3>Run summary:</h3><br/><table class=\"wandb\"><tr><td>S</td><td>0.82875</td></tr><tr><td>accuracy</td><td>0.73333</td></tr><tr><td>eval/S</td><td>0.71451</td></tr><tr><td>eval/accuracy</td><td>0.49333</td></tr><tr><td>eval/f1</td><td>0.59574</td></tr><tr><td>eval/f2</td><td>0.78652</td></tr><tr><td>eval/loss</td><td>0.56843</td></tr><tr><td>eval/mcc</td><td>0.28502</td></tr><tr><td>eval/mcc_normalized</td><td>0.64251</td></tr><tr><td>eval/precision</td><td>0.42424</td></tr><tr><td>eval/recall</td><td>1</td></tr><tr><td>eval/runtime</td><td>0.0929</td></tr><tr><td>eval/samples_per_second</td><td>1614.444</td></tr><tr><td>eval/steps_per_second</td><td>32.289</td></tr><tr><td>f1</td><td>0.80769</td></tr><tr><td>f2</td><td>0.90713</td></tr><tr><td>mcc</td><td>0.50076</td></tr><tr><td>mcc_normalized</td><td>0.75038</td></tr><tr><td>precision</td><td>0.68293</td></tr><tr><td>recall</td><td>0.98824</td></tr><tr><td>test/S</td><td>0.82875</td></tr><tr><td>test/accuracy</td><td>0.73333</td></tr><tr><td>test/f1</td><td>0.80769</td></tr><tr><td>test/f2</td><td>0.90713</td></tr><tr><td>test/loss</td><td>0.41913</td></tr><tr><td>test/mcc</td><td>0.50076</td></tr><tr><td>test/mcc_normalized</td><td>0.75038</td></tr><tr><td>test/precision</td><td>0.68293</td></tr><tr><td>test/recall</td><td>0.98824</td></tr><tr><td>test/runtime</td><td>0.0909</td></tr><tr><td>test/samples_per_second</td><td>1649.911</td></tr><tr><td>test/steps_per_second</td><td>32.998</td></tr><tr><td>total_flos</td><td>0</td></tr><tr><td>train/epoch</td><td>4</td></tr><tr><td>train/global_step</td><td>88</td></tr><tr><td>train/grad_norm</td><td>2.03524</td></tr><tr><td>train/learning_rate</td><td>1e-05</td></tr><tr><td>train/loss</td><td>0.5101</td></tr><tr><td>train_loss</td><td>0.61408</td></tr><tr><td>train_runtime</td><td>6.5445</td></tr><tr><td>train_samples_per_second</td><td>427.843</td></tr><tr><td>train_steps_per_second</td><td>13.446</td></tr></table><br/></div></div>"
      ]
     },
     "metadata": {}
    },
    {
     "output_type": "display_data",
     "data": {
      "text/plain": [
       "<IPython.core.display.HTML object>"
      ],
      "text/html": [
       " View run <strong style=\"color:#cdcd00\">BERT_CNN_Trial_2_2025-01-04_23-30-25</strong> at: <a href='https://wandb.ai/maxnienh-xx/German_Hate_Speech_Classification/runs/BERT_CNN_Trial_2_2025-01-04_23-30-25' target=\"_blank\">https://wandb.ai/maxnienh-xx/German_Hate_Speech_Classification/runs/BERT_CNN_Trial_2_2025-01-04_23-30-25</a><br> View project at: <a href='https://wandb.ai/maxnienh-xx/German_Hate_Speech_Classification' target=\"_blank\">https://wandb.ai/maxnienh-xx/German_Hate_Speech_Classification</a><br>Synced 5 W&B file(s), 0 media file(s), 0 artifact file(s) and 0 other file(s)"
      ]
     },
     "metadata": {}
    },
    {
     "output_type": "display_data",
     "data": {
      "text/plain": [
       "<IPython.core.display.HTML object>"
      ],
      "text/html": [
       "Find logs at: <code>./wandb/run-20250104_233025-BERT_CNN_Trial_2_2025-01-04_23-30-25/logs</code>"
      ]
     },
     "metadata": {}
    },
    {
     "output_type": "stream",
     "name": "stderr",
     "text": [
      "[I 2025-01-04 23:30:35,607] Trial 2 finished with value: 0.7702446913916954 and parameters: {'num_train_epochs': 4, 'learning_rate': 4.059287936794262e-05, 'batch_size': 32, 'weight_decay': 0.05271728763089815}. Best is trial 0 with value: 0.9331767905533288.\n"
     ]
    },
    {
     "output_type": "display_data",
     "data": {
      "text/plain": [
       "<IPython.core.display.HTML object>"
      ],
      "text/html": [
       "Tracking run with wandb version 0.19.1"
      ]
     },
     "metadata": {}
    },
    {
     "output_type": "display_data",
     "data": {
      "text/plain": [
       "<IPython.core.display.HTML object>"
      ],
      "text/html": [
       "Run data is saved locally in <code>/content/wandb/run-20250104_233035-BERT_CNN_Trial_3_2025-01-04_23-30-35</code>"
      ]
     },
     "metadata": {}
    },
    {
     "output_type": "display_data",
     "data": {
      "text/plain": [
       "<IPython.core.display.HTML object>"
      ],
      "text/html": [
       "Syncing run <strong><a href='https://wandb.ai/maxnienh-xx/German_Hate_Speech_Classification/runs/BERT_CNN_Trial_3_2025-01-04_23-30-35' target=\"_blank\">BERT_CNN_Trial_3_2025-01-04_23-30-35</a></strong> to <a href='https://wandb.ai/maxnienh-xx/German_Hate_Speech_Classification' target=\"_blank\">Weights & Biases</a> (<a href='https://wandb.me/developer-guide' target=\"_blank\">docs</a>)<br>"
      ]
     },
     "metadata": {}
    },
    {
     "output_type": "display_data",
     "data": {
      "text/plain": [
       "<IPython.core.display.HTML object>"
      ],
      "text/html": [
       " View project at <a href='https://wandb.ai/maxnienh-xx/German_Hate_Speech_Classification' target=\"_blank\">https://wandb.ai/maxnienh-xx/German_Hate_Speech_Classification</a>"
      ]
     },
     "metadata": {}
    },
    {
     "output_type": "display_data",
     "data": {
      "text/plain": [
       "<IPython.core.display.HTML object>"
      ],
      "text/html": [
       " View run at <a href='https://wandb.ai/maxnienh-xx/German_Hate_Speech_Classification/runs/BERT_CNN_Trial_3_2025-01-04_23-30-35' target=\"_blank\">https://wandb.ai/maxnienh-xx/German_Hate_Speech_Classification/runs/BERT_CNN_Trial_3_2025-01-04_23-30-35</a>"
      ]
     },
     "metadata": {}
    },
    {
     "output_type": "display_data",
     "data": {
      "text/plain": [
       "<IPython.core.display.HTML object>"
      ],
      "text/html": [
       "\n",
       "    <div>\n",
       "      \n",
       "      <progress value='88' max='88' style='width:300px; height:20px; vertical-align: middle;'></progress>\n",
       "      [88/88 00:06, Epoch 4/4]\n",
       "    </div>\n",
       "    <table border=\"1\" class=\"dataframe\">\n",
       "  <thead>\n",
       " <tr style=\"text-align: left;\">\n",
       "      <th>Step</th>\n",
       "      <th>Training Loss</th>\n",
       "      <th>Validation Loss</th>\n",
       "      <th>Accuracy</th>\n",
       "      <th>Precision</th>\n",
       "      <th>Recall</th>\n",
       "      <th>F1</th>\n",
       "      <th>F2</th>\n",
       "      <th>Mcc</th>\n",
       "      <th>Mcc Normalized</th>\n",
       "      <th>S</th>\n",
       "    </tr>\n",
       "  </thead>\n",
       "  <tbody>\n",
       "    <tr>\n",
       "      <td>10</td>\n",
       "      <td>0.734800</td>\n",
       "      <td>0.701344</td>\n",
       "      <td>0.373333</td>\n",
       "      <td>0.336207</td>\n",
       "      <td>0.696429</td>\n",
       "      <td>0.453488</td>\n",
       "      <td>0.573529</td>\n",
       "      <td>-0.141777</td>\n",
       "      <td>0.429111</td>\n",
       "      <td>0.501320</td>\n",
       "    </tr>\n",
       "    <tr>\n",
       "      <td>20</td>\n",
       "      <td>0.685400</td>\n",
       "      <td>0.689109</td>\n",
       "      <td>0.373333</td>\n",
       "      <td>0.373333</td>\n",
       "      <td>1.000000</td>\n",
       "      <td>0.543689</td>\n",
       "      <td>0.748663</td>\n",
       "      <td>0.000000</td>\n",
       "      <td>0.500000</td>\n",
       "      <td>0.624332</td>\n",
       "    </tr>\n",
       "    <tr>\n",
       "      <td>30</td>\n",
       "      <td>0.617000</td>\n",
       "      <td>0.699227</td>\n",
       "      <td>0.373333</td>\n",
       "      <td>0.373333</td>\n",
       "      <td>1.000000</td>\n",
       "      <td>0.543689</td>\n",
       "      <td>0.748663</td>\n",
       "      <td>0.000000</td>\n",
       "      <td>0.500000</td>\n",
       "      <td>0.624332</td>\n",
       "    </tr>\n",
       "    <tr>\n",
       "      <td>40</td>\n",
       "      <td>0.608300</td>\n",
       "      <td>0.707060</td>\n",
       "      <td>0.373333</td>\n",
       "      <td>0.373333</td>\n",
       "      <td>1.000000</td>\n",
       "      <td>0.543689</td>\n",
       "      <td>0.748663</td>\n",
       "      <td>0.000000</td>\n",
       "      <td>0.500000</td>\n",
       "      <td>0.624332</td>\n",
       "    </tr>\n",
       "    <tr>\n",
       "      <td>50</td>\n",
       "      <td>0.587000</td>\n",
       "      <td>0.674535</td>\n",
       "      <td>0.373333</td>\n",
       "      <td>0.373333</td>\n",
       "      <td>1.000000</td>\n",
       "      <td>0.543689</td>\n",
       "      <td>0.748663</td>\n",
       "      <td>0.000000</td>\n",
       "      <td>0.500000</td>\n",
       "      <td>0.624332</td>\n",
       "    </tr>\n",
       "    <tr>\n",
       "      <td>60</td>\n",
       "      <td>0.586700</td>\n",
       "      <td>0.636589</td>\n",
       "      <td>0.420000</td>\n",
       "      <td>0.390071</td>\n",
       "      <td>0.982143</td>\n",
       "      <td>0.558376</td>\n",
       "      <td>0.753425</td>\n",
       "      <td>0.136967</td>\n",
       "      <td>0.568483</td>\n",
       "      <td>0.660954</td>\n",
       "    </tr>\n",
       "    <tr>\n",
       "      <td>70</td>\n",
       "      <td>0.499500</td>\n",
       "      <td>0.617468</td>\n",
       "      <td>0.466667</td>\n",
       "      <td>0.411765</td>\n",
       "      <td>1.000000</td>\n",
       "      <td>0.583333</td>\n",
       "      <td>0.777778</td>\n",
       "      <td>0.247642</td>\n",
       "      <td>0.623821</td>\n",
       "      <td>0.700799</td>\n",
       "    </tr>\n",
       "    <tr>\n",
       "      <td>80</td>\n",
       "      <td>0.514000</td>\n",
       "      <td>0.571801</td>\n",
       "      <td>0.533333</td>\n",
       "      <td>0.440678</td>\n",
       "      <td>0.928571</td>\n",
       "      <td>0.597701</td>\n",
       "      <td>0.760234</td>\n",
       "      <td>0.267364</td>\n",
       "      <td>0.633682</td>\n",
       "      <td>0.696958</td>\n",
       "    </tr>\n",
       "  </tbody>\n",
       "</table><p>"
      ]
     },
     "metadata": {}
    },
    {
     "output_type": "stream",
     "name": "stderr",
     "text": [
      "/usr/local/lib/python3.10/dist-packages/optuna/trial/_trial.py:497: UserWarning: The reported value is ignored because this `step` 0 is already reported.\n",
      "  warnings.warn(\n",
      "/usr/local/lib/python3.10/dist-packages/optuna/trial/_trial.py:497: UserWarning: The reported value is ignored because this `step` 1 is already reported.\n",
      "  warnings.warn(\n",
      "/usr/local/lib/python3.10/dist-packages/optuna/trial/_trial.py:497: UserWarning: The reported value is ignored because this `step` 2 is already reported.\n",
      "  warnings.warn(\n",
      "/usr/local/lib/python3.10/dist-packages/optuna/trial/_trial.py:497: UserWarning: The reported value is ignored because this `step` 3 is already reported.\n",
      "  warnings.warn(\n"
     ]
    },
    {
     "output_type": "display_data",
     "data": {
      "text/plain": [
       "<IPython.core.display.HTML object>"
      ],
      "text/html": []
     },
     "metadata": {}
    },
    {
     "output_type": "stream",
     "name": "stderr",
     "text": [
      "2025-01-04 23:30:44,665 - INFO - Trial 3 - Validation Metrics: {'accuracy': 0.64, 'precision': 0.5094339622641509, 'recall': 0.9642857142857143, 'f1': 0.6666666666666666, 'f2': 0.8181818181818182, 'mcc': 0.4367370590344263, 'mcc_normalized': 0.7183685295172131, 'S': 0.7682751738495157}\n"
     ]
    },
    {
     "output_type": "display_data",
     "data": {
      "text/plain": [
       "<IPython.core.display.HTML object>"
      ],
      "text/html": []
     },
     "metadata": {}
    },
    {
     "output_type": "stream",
     "name": "stderr",
     "text": [
      "/usr/local/lib/python3.10/dist-packages/optuna/trial/_trial.py:497: UserWarning: The reported value is ignored because this `step` 4 is already reported.\n",
      "  warnings.warn(\n",
      "2025-01-04 23:30:44,776 - INFO - Trial 3 - Test Metrics: {'accuracy': 0.7333333333333333, 'precision': 0.6890756302521008, 'recall': 0.9647058823529412, 'f1': 0.803921568627451, 'f2': 0.8932461873638344, 'mcc': 0.4839839642827292, 'mcc_normalized': 0.7419919821413646, 'S': 0.8176190847525995}\n"
     ]
    },
    {
     "output_type": "display_data",
     "data": {
      "text/plain": [
       "<Figure size 800x600 with 0 Axes>"
      ]
     },
     "metadata": {}
    },
    {
     "output_type": "display_data",
     "data": {
      "text/plain": [
       "<Figure size 640x480 with 2 Axes>"
      ],
      "image/png": "[encoded data removed]"
     },
     "metadata": {}
    },
    {
     "output_type": "display_data",
     "data": {
      "text/plain": [
       "<IPython.core.display.HTML object>"
      ],
      "text/html": []
     },
     "metadata": {}
    },
    {
     "output_type": "display_data",
     "data": {
      "text/plain": [
       "<IPython.core.display.HTML object>"
      ],
      "text/html": [
       "<br>    <style><br>        .wandb-row {<br>            display: flex;<br>            flex-direction: row;<br>            flex-wrap: wrap;<br>            justify-content: flex-start;<br>            width: 100%;<br>        }<br>        .wandb-col {<br>            display: flex;<br>            flex-direction: column;<br>            flex-basis: 100%;<br>            flex: 1;<br>            padding: 10px;<br>        }<br>    </style><br><div class=\"wandb-row\"><div class=\"wandb-col\"><h3>Run history:</h3><br/><table class=\"wandb\"><tr><td>S</td><td>▁█</td></tr><tr><td>accuracy</td><td>▁█</td></tr><tr><td>eval/S</td><td>▁▅▅▅▅▇██</td></tr><tr><td>eval/accuracy</td><td>▁▁▁▁▁▃▅█</td></tr><tr><td>eval/f1</td><td>▁▅▅▅▅▆▇█</td></tr><tr><td>eval/f2</td><td>▁▇▇▇▇▇█▇</td></tr><tr><td>eval/loss</td><td>█▇██▆▄▃▁</td></tr><tr><td>eval/mcc</td><td>▁▃▃▃▃▆██</td></tr><tr><td>eval/mcc_normalized</td><td>▁▃▃▃▃▆██</td></tr><tr><td>eval/precision</td><td>▁▃▃▃▃▅▆█</td></tr><tr><td>eval/recall</td><td>▁██████▆</td></tr><tr><td>eval/runtime</td><td>▁▁▆▅▆█▂█</td></tr><tr><td>eval/samples_per_second</td><td>██▃▄▂▁▇▁</td></tr><tr><td>eval/steps_per_second</td><td>██▃▄▂▁▇▁</td></tr><tr><td>f1</td><td>▁█</td></tr><tr><td>f2</td><td>▁█</td></tr><tr><td>mcc</td><td>▁█</td></tr><tr><td>mcc_normalized</td><td>▁█</td></tr><tr><td>precision</td><td>▁█</td></tr><tr><td>recall</td><td>▁█</td></tr><tr><td>test/S</td><td>▁█</td></tr><tr><td>test/accuracy</td><td>▁█</td></tr><tr><td>test/f1</td><td>▁█</td></tr><tr><td>test/f2</td><td>▁█</td></tr><tr><td>test/loss</td><td>█▁</td></tr><tr><td>test/mcc</td><td>▁█</td></tr><tr><td>test/mcc_normalized</td><td>▁█</td></tr><tr><td>test/precision</td><td>▁█</td></tr><tr><td>test/recall</td><td>▁█</td></tr><tr><td>test/runtime</td><td>▁█</td></tr><tr><td>test/samples_per_second</td><td>█▁</td></tr><tr><td>test/steps_per_second</td><td>█▁</td></tr><tr><td>train/epoch</td><td>▁▁▂▂▃▃▄▄▅▅▅▅▆▆▇▇█</td></tr><tr><td>train/global_step</td><td>▁▁▂▂▃▃▄▄▅▅▅▅▆▆▇▇█████</td></tr><tr><td>train/grad_norm</td><td>▄█▂▁▁▃▃▃</td></tr><tr><td>train/learning_rate</td><td>▁▂▃▄▅▆▇█</td></tr><tr><td>train/loss</td><td>█▇▄▄▄▄▁▁</td></tr></table><br/></div><div class=\"wandb-col\"><h3>Run summary:</h3><br/><table class=\"wandb\"><tr><td>S</td><td>0.81762</td></tr><tr><td>accuracy</td><td>0.73333</td></tr><tr><td>eval/S</td><td>0.69696</td></tr><tr><td>eval/accuracy</td><td>0.53333</td></tr><tr><td>eval/f1</td><td>0.5977</td></tr><tr><td>eval/f2</td><td>0.76023</td></tr><tr><td>eval/loss</td><td>0.5718</td></tr><tr><td>eval/mcc</td><td>0.26736</td></tr><tr><td>eval/mcc_normalized</td><td>0.63368</td></tr><tr><td>eval/precision</td><td>0.44068</td></tr><tr><td>eval/recall</td><td>0.92857</td></tr><tr><td>eval/runtime</td><td>0.0938</td></tr><tr><td>eval/samples_per_second</td><td>1599.565</td></tr><tr><td>eval/steps_per_second</td><td>31.991</td></tr><tr><td>f1</td><td>0.80392</td></tr><tr><td>f2</td><td>0.89325</td></tr><tr><td>mcc</td><td>0.48398</td></tr><tr><td>mcc_normalized</td><td>0.74199</td></tr><tr><td>precision</td><td>0.68908</td></tr><tr><td>recall</td><td>0.96471</td></tr><tr><td>test/S</td><td>0.81762</td></tr><tr><td>test/accuracy</td><td>0.73333</td></tr><tr><td>test/f1</td><td>0.80392</td></tr><tr><td>test/f2</td><td>0.89325</td></tr><tr><td>test/loss</td><td>0.40625</td></tr><tr><td>test/mcc</td><td>0.48398</td></tr><tr><td>test/mcc_normalized</td><td>0.74199</td></tr><tr><td>test/precision</td><td>0.68908</td></tr><tr><td>test/recall</td><td>0.96471</td></tr><tr><td>test/runtime</td><td>0.0963</td></tr><tr><td>test/samples_per_second</td><td>1557.966</td></tr><tr><td>test/steps_per_second</td><td>31.159</td></tr><tr><td>total_flos</td><td>0</td></tr><tr><td>train/epoch</td><td>4</td></tr><tr><td>train/global_step</td><td>88</td></tr><tr><td>train/grad_norm</td><td>3.35149</td></tr><tr><td>train/learning_rate</td><td>1e-05</td></tr><tr><td>train/loss</td><td>0.514</td></tr><tr><td>train_loss</td><td>0.59052</td></tr><tr><td>train_runtime</td><td>6.5366</td></tr><tr><td>train_samples_per_second</td><td>428.359</td></tr><tr><td>train_steps_per_second</td><td>13.463</td></tr></table><br/></div></div>"
      ]
     },
     "metadata": {}
    },
    {
     "output_type": "display_data",
     "data": {
      "text/plain": [
       "<IPython.core.display.HTML object>"
      ],
      "text/html": [
       " View run <strong style=\"color:#cdcd00\">BERT_CNN_Trial_3_2025-01-04_23-30-35</strong> at: <a href='https://wandb.ai/maxnienh-xx/German_Hate_Speech_Classification/runs/BERT_CNN_Trial_3_2025-01-04_23-30-35' target=\"_blank\">https://wandb.ai/maxnienh-xx/German_Hate_Speech_Classification/runs/BERT_CNN_Trial_3_2025-01-04_23-30-35</a><br> View project at: <a href='https://wandb.ai/maxnienh-xx/German_Hate_Speech_Classification' target=\"_blank\">https://wandb.ai/maxnienh-xx/German_Hate_Speech_Classification</a><br>Synced 5 W&B file(s), 0 media file(s), 0 artifact file(s) and 0 other file(s)"
      ]
     },
     "metadata": {}
    },
    {
     "output_type": "display_data",
     "data": {
      "text/plain": [
       "<IPython.core.display.HTML object>"
      ],
      "text/html": [
       "Find logs at: <code>./wandb/run-20250104_233035-BERT_CNN_Trial_3_2025-01-04_23-30-35/logs</code>"
      ]
     },
     "metadata": {}
    },
    {
     "output_type": "stream",
     "name": "stderr",
     "text": [
      "[I 2025-01-04 23:30:46,292] Trial 3 finished with value: 0.7682751738495157 and parameters: {'num_train_epochs': 4, 'learning_rate': 5.751670839914263e-05, 'batch_size': 32, 'weight_decay': 0.04957711452873461}. Best is trial 0 with value: 0.9331767905533288.\n"
     ]
    },
    {
     "output_type": "display_data",
     "data": {
      "text/plain": [
       "<IPython.core.display.HTML object>"
      ],
      "text/html": [
       "Tracking run with wandb version 0.19.1"
      ]
     },
     "metadata": {}
    },
    {
     "output_type": "display_data",
     "data": {
      "text/plain": [
       "<IPython.core.display.HTML object>"
      ],
      "text/html": [
       "Run data is saved locally in <code>/content/wandb/run-20250104_233046-BERT_CNN_Trial_4_2025-01-04_23-30-46</code>"
      ]
     },
     "metadata": {}
    },
    {
     "output_type": "display_data",
     "data": {
      "text/plain": [
       "<IPython.core.display.HTML object>"
      ],
      "text/html": [
       "Syncing run <strong><a href='https://wandb.ai/maxnienh-xx/German_Hate_Speech_Classification/runs/BERT_CNN_Trial_4_2025-01-04_23-30-46' target=\"_blank\">BERT_CNN_Trial_4_2025-01-04_23-30-46</a></strong> to <a href='https://wandb.ai/maxnienh-xx/German_Hate_Speech_Classification' target=\"_blank\">Weights & Biases</a> (<a href='https://wandb.me/developer-guide' target=\"_blank\">docs</a>)<br>"
      ]
     },
     "metadata": {}
    },
    {
     "output_type": "display_data",
     "data": {
      "text/plain": [
       "<IPython.core.display.HTML object>"
      ],
      "text/html": [
       " View project at <a href='https://wandb.ai/maxnienh-xx/German_Hate_Speech_Classification' target=\"_blank\">https://wandb.ai/maxnienh-xx/German_Hate_Speech_Classification</a>"
      ]
     },
     "metadata": {}
    },
    {
     "output_type": "display_data",
     "data": {
      "text/plain": [
       "<IPython.core.display.HTML object>"
      ],
      "text/html": [
       " View run at <a href='https://wandb.ai/maxnienh-xx/German_Hate_Speech_Classification/runs/BERT_CNN_Trial_4_2025-01-04_23-30-46' target=\"_blank\">https://wandb.ai/maxnienh-xx/German_Hate_Speech_Classification/runs/BERT_CNN_Trial_4_2025-01-04_23-30-46</a>"
      ]
     },
     "metadata": {}
    },
    {
     "output_type": "display_data",
     "data": {
      "text/plain": [
       "<IPython.core.display.HTML object>"
      ],
      "text/html": [
       "\n",
       "    <div>\n",
       "      \n",
       "      <progress value='88' max='88' style='width:300px; height:20px; vertical-align: middle;'></progress>\n",
       "      [88/88 00:05, Epoch 2/2]\n",
       "    </div>\n",
       "    <table border=\"1\" class=\"dataframe\">\n",
       "  <thead>\n",
       " <tr style=\"text-align: left;\">\n",
       "      <th>Step</th>\n",
       "      <th>Training Loss</th>\n",
       "      <th>Validation Loss</th>\n",
       "      <th>Accuracy</th>\n",
       "      <th>Precision</th>\n",
       "      <th>Recall</th>\n",
       "      <th>F1</th>\n",
       "      <th>F2</th>\n",
       "      <th>Mcc</th>\n",
       "      <th>Mcc Normalized</th>\n",
       "      <th>S</th>\n",
       "    </tr>\n",
       "  </thead>\n",
       "  <tbody>\n",
       "    <tr>\n",
       "      <td>10</td>\n",
       "      <td>0.728900</td>\n",
       "      <td>0.702987</td>\n",
       "      <td>0.380000</td>\n",
       "      <td>0.323810</td>\n",
       "      <td>0.607143</td>\n",
       "      <td>0.422360</td>\n",
       "      <td>0.516717</td>\n",
       "      <td>-0.156400</td>\n",
       "      <td>0.421800</td>\n",
       "      <td>0.469259</td>\n",
       "    </tr>\n",
       "    <tr>\n",
       "      <td>20</td>\n",
       "      <td>0.701400</td>\n",
       "      <td>0.692201</td>\n",
       "      <td>0.386667</td>\n",
       "      <td>0.378378</td>\n",
       "      <td>1.000000</td>\n",
       "      <td>0.549020</td>\n",
       "      <td>0.752688</td>\n",
       "      <td>0.089725</td>\n",
       "      <td>0.544863</td>\n",
       "      <td>0.648775</td>\n",
       "    </tr>\n",
       "    <tr>\n",
       "      <td>30</td>\n",
       "      <td>0.643300</td>\n",
       "      <td>0.691018</td>\n",
       "      <td>0.373333</td>\n",
       "      <td>0.373333</td>\n",
       "      <td>1.000000</td>\n",
       "      <td>0.543689</td>\n",
       "      <td>0.748663</td>\n",
       "      <td>0.000000</td>\n",
       "      <td>0.500000</td>\n",
       "      <td>0.624332</td>\n",
       "    </tr>\n",
       "    <tr>\n",
       "      <td>40</td>\n",
       "      <td>0.610500</td>\n",
       "      <td>0.700475</td>\n",
       "      <td>0.373333</td>\n",
       "      <td>0.373333</td>\n",
       "      <td>1.000000</td>\n",
       "      <td>0.543689</td>\n",
       "      <td>0.748663</td>\n",
       "      <td>0.000000</td>\n",
       "      <td>0.500000</td>\n",
       "      <td>0.624332</td>\n",
       "    </tr>\n",
       "    <tr>\n",
       "      <td>50</td>\n",
       "      <td>0.633000</td>\n",
       "      <td>0.691295</td>\n",
       "      <td>0.373333</td>\n",
       "      <td>0.373333</td>\n",
       "      <td>1.000000</td>\n",
       "      <td>0.543689</td>\n",
       "      <td>0.748663</td>\n",
       "      <td>0.000000</td>\n",
       "      <td>0.500000</td>\n",
       "      <td>0.624332</td>\n",
       "    </tr>\n",
       "    <tr>\n",
       "      <td>60</td>\n",
       "      <td>0.572100</td>\n",
       "      <td>0.671742</td>\n",
       "      <td>0.386667</td>\n",
       "      <td>0.378378</td>\n",
       "      <td>1.000000</td>\n",
       "      <td>0.549020</td>\n",
       "      <td>0.752688</td>\n",
       "      <td>0.089725</td>\n",
       "      <td>0.544863</td>\n",
       "      <td>0.648775</td>\n",
       "    </tr>\n",
       "    <tr>\n",
       "      <td>70</td>\n",
       "      <td>0.617700</td>\n",
       "      <td>0.646415</td>\n",
       "      <td>0.433333</td>\n",
       "      <td>0.394161</td>\n",
       "      <td>0.964286</td>\n",
       "      <td>0.559585</td>\n",
       "      <td>0.747922</td>\n",
       "      <td>0.139783</td>\n",
       "      <td>0.569891</td>\n",
       "      <td>0.658907</td>\n",
       "    </tr>\n",
       "    <tr>\n",
       "      <td>80</td>\n",
       "      <td>0.537400</td>\n",
       "      <td>0.634425</td>\n",
       "      <td>0.400000</td>\n",
       "      <td>0.383562</td>\n",
       "      <td>1.000000</td>\n",
       "      <td>0.554455</td>\n",
       "      <td>0.756757</td>\n",
       "      <td>0.127757</td>\n",
       "      <td>0.563878</td>\n",
       "      <td>0.660318</td>\n",
       "    </tr>\n",
       "  </tbody>\n",
       "</table><p>"
      ]
     },
     "metadata": {}
    },
    {
     "output_type": "stream",
     "name": "stderr",
     "text": [
      "/usr/local/lib/python3.10/dist-packages/optuna/trial/_trial.py:497: UserWarning: The reported value is ignored because this `step` 0 is already reported.\n",
      "  warnings.warn(\n",
      "/usr/local/lib/python3.10/dist-packages/optuna/trial/_trial.py:497: UserWarning: The reported value is ignored because this `step` 0 is already reported.\n",
      "  warnings.warn(\n",
      "/usr/local/lib/python3.10/dist-packages/optuna/trial/_trial.py:497: UserWarning: The reported value is ignored because this `step` 0 is already reported.\n",
      "  warnings.warn(\n",
      "/usr/local/lib/python3.10/dist-packages/optuna/trial/_trial.py:497: UserWarning: The reported value is ignored because this `step` 1 is already reported.\n",
      "  warnings.warn(\n",
      "/usr/local/lib/python3.10/dist-packages/optuna/trial/_trial.py:497: UserWarning: The reported value is ignored because this `step` 1 is already reported.\n",
      "  warnings.warn(\n",
      "/usr/local/lib/python3.10/dist-packages/optuna/trial/_trial.py:497: UserWarning: The reported value is ignored because this `step` 1 is already reported.\n",
      "  warnings.warn(\n"
     ]
    },
    {
     "output_type": "display_data",
     "data": {
      "text/plain": [
       "<IPython.core.display.HTML object>"
      ],
      "text/html": []
     },
     "metadata": {}
    },
    {
     "output_type": "stream",
     "name": "stderr",
     "text": [
      "2025-01-04 23:30:54,267 - INFO - Trial 4 - Validation Metrics: {'accuracy': 0.4533333333333333, 'precision': 0.4057971014492754, 'recall': 1.0, 'f1': 0.5773195876288659, 'f2': 0.7734806629834254, 'mcc': 0.22760466886994402, 'mcc_normalized': 0.613802334434972, 'S': 0.6936414987091988}\n"
     ]
    },
    {
     "output_type": "display_data",
     "data": {
      "text/plain": [
       "<IPython.core.display.HTML object>"
      ],
      "text/html": []
     },
     "metadata": {}
    },
    {
     "output_type": "stream",
     "name": "stderr",
     "text": [
      "/usr/local/lib/python3.10/dist-packages/optuna/trial/_trial.py:497: UserWarning: The reported value is ignored because this `step` 2 is already reported.\n",
      "  warnings.warn(\n",
      "2025-01-04 23:30:54,374 - INFO - Trial 4 - Test Metrics: {'accuracy': 0.62, 'precision': 0.5985915492957746, 'recall': 1.0, 'f1': 0.748898678414097, 'f2': 0.8817427385892116, 'mcc': 0.2714273495194843, 'mcc_normalized': 0.6357136747597422, 'S': 0.7587282066744769}\n"
     ]
    },
    {
     "output_type": "display_data",
     "data": {
      "text/plain": [
       "<Figure size 800x600 with 0 Axes>"
      ]
     },
     "metadata": {}
    },
    {
     "output_type": "display_data",
     "data": {
      "text/plain": [
       "<Figure size 640x480 with 2 Axes>"
      ],
      "image/png": "[encoded data removed]"
     },
     "metadata": {}
    },
    {
     "output_type": "display_data",
     "data": {
      "text/plain": [
       "<IPython.core.display.HTML object>"
      ],
      "text/html": []
     },
     "metadata": {}
    },
    {
     "output_type": "display_data",
     "data": {
      "text/plain": [
       "<IPython.core.display.HTML object>"
      ],
      "text/html": [
       "<br>    <style><br>        .wandb-row {<br>            display: flex;<br>            flex-direction: row;<br>            flex-wrap: wrap;<br>            justify-content: flex-start;<br>            width: 100%;<br>        }<br>        .wandb-col {<br>            display: flex;<br>            flex-direction: column;<br>            flex-basis: 100%;<br>            flex: 1;<br>            padding: 10px;<br>        }<br>    </style><br><div class=\"wandb-row\"><div class=\"wandb-col\"><h3>Run history:</h3><br/><table class=\"wandb\"><tr><td>S</td><td>▁█</td></tr><tr><td>accuracy</td><td>▁█</td></tr><tr><td>eval/S</td><td>▁█▇▇▇███</td></tr><tr><td>eval/accuracy</td><td>▂▃▁▁▁▃█▄</td></tr><tr><td>eval/f1</td><td>▁▇▇▇▇▇██</td></tr><tr><td>eval/f2</td><td>▁███████</td></tr><tr><td>eval/loss</td><td>█▇▇█▇▅▂▁</td></tr><tr><td>eval/mcc</td><td>▁▇▅▅▅▇██</td></tr><tr><td>eval/mcc_normalized</td><td>▁▇▅▅▅▇██</td></tr><tr><td>eval/precision</td><td>▁▆▆▆▆▆█▇</td></tr><tr><td>eval/recall</td><td>▁█████▇█</td></tr><tr><td>eval/runtime</td><td>▅▆█▂▁▄▆█</td></tr><tr><td>eval/samples_per_second</td><td>▄▃▁▇█▅▃▁</td></tr><tr><td>eval/steps_per_second</td><td>▄▃▁▇█▅▃▁</td></tr><tr><td>f1</td><td>▁█</td></tr><tr><td>f2</td><td>▁█</td></tr><tr><td>mcc</td><td>▁█</td></tr><tr><td>mcc_normalized</td><td>▁█</td></tr><tr><td>precision</td><td>▁█</td></tr><tr><td>recall</td><td>▁▁</td></tr><tr><td>test/S</td><td>▁█</td></tr><tr><td>test/accuracy</td><td>▁█</td></tr><tr><td>test/f1</td><td>▁█</td></tr><tr><td>test/f2</td><td>▁█</td></tr><tr><td>test/loss</td><td>█▁</td></tr><tr><td>test/mcc</td><td>▁█</td></tr><tr><td>test/mcc_normalized</td><td>▁█</td></tr><tr><td>test/precision</td><td>▁█</td></tr><tr><td>test/recall</td><td>▁▁</td></tr><tr><td>test/runtime</td><td>▁█</td></tr><tr><td>test/samples_per_second</td><td>█▁</td></tr><tr><td>test/steps_per_second</td><td>█▁</td></tr><tr><td>train/epoch</td><td>▁▁▂▂▃▃▄▄▅▅▅▅▆▆▇▇█</td></tr><tr><td>train/global_step</td><td>▁▁▂▂▃▃▄▄▅▅▅▅▆▆▇▇█████</td></tr><tr><td>train/grad_norm</td><td>▅█▇▁▆▃▂▄</td></tr><tr><td>train/learning_rate</td><td>▁▂▃▄▅▆▇█</td></tr><tr><td>train/loss</td><td>█▇▅▄▄▂▄▁</td></tr></table><br/></div><div class=\"wandb-col\"><h3>Run summary:</h3><br/><table class=\"wandb\"><tr><td>S</td><td>0.75873</td></tr><tr><td>accuracy</td><td>0.62</td></tr><tr><td>eval/S</td><td>0.66032</td></tr><tr><td>eval/accuracy</td><td>0.4</td></tr><tr><td>eval/f1</td><td>0.55446</td></tr><tr><td>eval/f2</td><td>0.75676</td></tr><tr><td>eval/loss</td><td>0.63443</td></tr><tr><td>eval/mcc</td><td>0.12776</td></tr><tr><td>eval/mcc_normalized</td><td>0.56388</td></tr><tr><td>eval/precision</td><td>0.38356</td></tr><tr><td>eval/recall</td><td>1</td></tr><tr><td>eval/runtime</td><td>0.0945</td></tr><tr><td>eval/samples_per_second</td><td>1586.568</td></tr><tr><td>eval/steps_per_second</td><td>31.731</td></tr><tr><td>f1</td><td>0.7489</td></tr><tr><td>f2</td><td>0.88174</td></tr><tr><td>mcc</td><td>0.27143</td></tr><tr><td>mcc_normalized</td><td>0.63571</td></tr><tr><td>precision</td><td>0.59859</td></tr><tr><td>recall</td><td>1</td></tr><tr><td>test/S</td><td>0.75873</td></tr><tr><td>test/accuracy</td><td>0.62</td></tr><tr><td>test/f1</td><td>0.7489</td></tr><tr><td>test/f2</td><td>0.88174</td></tr><tr><td>test/loss</td><td>0.45074</td></tr><tr><td>test/mcc</td><td>0.27143</td></tr><tr><td>test/mcc_normalized</td><td>0.63571</td></tr><tr><td>test/precision</td><td>0.59859</td></tr><tr><td>test/recall</td><td>1</td></tr><tr><td>test/runtime</td><td>0.0948</td></tr><tr><td>test/samples_per_second</td><td>1583.083</td></tr><tr><td>test/steps_per_second</td><td>31.662</td></tr><tr><td>total_flos</td><td>0</td></tr><tr><td>train/epoch</td><td>2</td></tr><tr><td>train/global_step</td><td>88</td></tr><tr><td>train/grad_norm</td><td>3.67469</td></tr><tr><td>train/learning_rate</td><td>1e-05</td></tr><tr><td>train/loss</td><td>0.5374</td></tr><tr><td>train_loss</td><td>0.62081</td></tr><tr><td>train_runtime</td><td>5.2413</td></tr><tr><td>train_samples_per_second</td><td>267.111</td></tr><tr><td>train_steps_per_second</td><td>16.79</td></tr></table><br/></div></div>"
      ]
     },
     "metadata": {}
    },
    {
     "output_type": "display_data",
     "data": {
      "text/plain": [
       "<IPython.core.display.HTML object>"
      ],
      "text/html": [
       " View run <strong style=\"color:#cdcd00\">BERT_CNN_Trial_4_2025-01-04_23-30-46</strong> at: <a href='https://wandb.ai/maxnienh-xx/German_Hate_Speech_Classification/runs/BERT_CNN_Trial_4_2025-01-04_23-30-46' target=\"_blank\">https://wandb.ai/maxnienh-xx/German_Hate_Speech_Classification/runs/BERT_CNN_Trial_4_2025-01-04_23-30-46</a><br> View project at: <a href='https://wandb.ai/maxnienh-xx/German_Hate_Speech_Classification' target=\"_blank\">https://wandb.ai/maxnienh-xx/German_Hate_Speech_Classification</a><br>Synced 5 W&B file(s), 0 media file(s), 0 artifact file(s) and 0 other file(s)"
      ]
     },
     "metadata": {}
    },
    {
     "output_type": "display_data",
     "data": {
      "text/plain": [
       "<IPython.core.display.HTML object>"
      ],
      "text/html": [
       "Find logs at: <code>./wandb/run-20250104_233046-BERT_CNN_Trial_4_2025-01-04_23-30-46/logs</code>"
      ]
     },
     "metadata": {}
    },
    {
     "output_type": "stream",
     "name": "stderr",
     "text": [
      "[I 2025-01-04 23:30:55,844] Trial 4 finished with value: 0.6936414987091988 and parameters: {'num_train_epochs': 2, 'learning_rate': 5.1876727935610325e-05, 'batch_size': 16, 'weight_decay': 0.04648024994242984}. Best is trial 0 with value: 0.9331767905533288.\n",
      "2025-01-04 23:30:56,804 - INFO - Trial results saved to: /content/drive/MyDrive/model/logged_model_metrics.xlsx\n",
      "2025-01-04 23:30:56,806 - INFO - Best Hyperparameters: {'num_train_epochs': 4, 'learning_rate': 5.629628861408828e-05, 'batch_size': 16, 'weight_decay': 0.08653175651469623}\n",
      "2025-01-04 23:30:56,810 - INFO - Best Trial Number: 0\n",
      "2025-01-04 23:30:57,856 - INFO - Best model from Trial Number 0 saved to /content/drive/MyDrive/model/best_model_CNN_2025-01-04_23-30\n",
      "2025-01-04 23:30:57,857 - INFO - wandb.finish() completed successfully.\n",
      "2025-01-04 23:30:57,858 - INFO - Process finished and terminated\n"
     ]
    }
   ]
  }
 ],
 "metadata": {
  "kernelspec": {
   "display_name": "Python 3",
   "name": "python3"
  },
  "language_info": {
   "codemirror_mode": {
    "name": "ipython",
    "version": 2
   },
   "file_extension": ".py",
   "mimetype": "text/x-python",
   "name": "python",
   "nbconvert_exporter": "python",
   "pygments_lexer": "ipython2",
   "version": "2.7.6"
  },
  "colab": {
   "provenance": [],
   "gpuType": "A100",
   "machine_shape": "hm"
  },
  "accelerator": "GPU",
  "widgets": {
   "application/vnd.jupyter.widget-state+json": {
    "state": {
        "333f2fc7beec4e8c85b1d7289fff0ef6": {
     "model_module": "@jupyter-widgets/controls",
     "model_name": "HBoxModel",
     "model_module_version": "1.5.0",
     "state": {
      "_dom_classes": [],
      "_model_module": "@jupyter-widgets/controls",
      "_model_module_version": "1.5.0",
      "_model_name": "HBoxModel",
      "_view_count": null,
      "_view_module": "@jupyter-widgets/controls",
      "_view_module_version": "1.5.0",
      "_view_name": "HBoxView",
      "box_style": "",
      "children": [
       "IPY_MODEL_fe043517c85e4065b518fd7bf2166a98",
       "IPY_MODEL_8fa75d41296843b2b3528c4b732788f3",
       "IPY_MODEL_2d9705305c9c4dcea670f73934407fbe"
      ],
      "layout": "IPY_MODEL_092381c76b2a447eb16c258ad09ae7ca"
     }
    },
    "fe043517c85e4065b518fd7bf2166a98": {
     "model_module": "@jupyter-widgets/controls",
     "model_name": "HTMLModel",
     "model_module_version": "1.5.0",
     "state": {
      "_dom_classes": [],
      "_model_module": "@jupyter-widgets/controls",
      "_model_module_version": "1.5.0",
      "_model_name": "HTMLModel",
      "_view_count": null,
      "_view_module": "@jupyter-widgets/controls",
      "_view_module_version": "1.5.0",
      "_view_name": "HTMLView",
      "description": "",
      "description_tooltip": null,
      "layout": "IPY_MODEL_f91210ee28d446c8a562bbe25200b209",
      "placeholder": "​",
      "style": "IPY_MODEL_f8b059d141ff4120a3eebd6ff5e89322",
      "value": "tokenizer_config.json: 100%"
     }
    },
    "8fa75d41296843b2b3528c4b732788f3": {
     "model_module": "@jupyter-widgets/controls",
     "model_name": "FloatProgressModel",
     "model_module_version": "1.5.0",
     "state": {
      "_dom_classes": [],
      "_model_module": "@jupyter-widgets/controls",
      "_model_module_version": "1.5.0",
      "_model_name": "FloatProgressModel",
      "_view_count": null,
      "_view_module": "@jupyter-widgets/controls",
      "_view_module_version": "1.5.0",
      "_view_name": "ProgressView",
      "bar_style": "success",
      "description": "",
      "description_tooltip": null,
      "layout": "IPY_MODEL_e87f67a3dbad497592cb198f1b694f0f",
      "max": 83,
      "min": 0,
      "orientation": "horizontal",
      "style": "IPY_MODEL_8e56539b0da24e5ba439720ea6d23c3e",
      "value": 83
     }
    },
    "2d9705305c9c4dcea670f73934407fbe": {
     "model_module": "@jupyter-widgets/controls",
     "model_name": "HTMLModel",
     "model_module_version": "1.5.0",
     "state": {
      "_dom_classes": [],
      "_model_module": "@jupyter-widgets/controls",
      "_model_module_version": "1.5.0",
      "_model_name": "HTMLModel",
      "_view_count": null,
      "_view_module": "@jupyter-widgets/controls",
      "_view_module_version": "1.5.0",
      "_view_name": "HTMLView",
      "description": "",
      "description_tooltip": null,
      "layout": "IPY_MODEL_ce755fe0893245c0a7b4cd4148f20893",
      "placeholder": "​",
      "style": "IPY_MODEL_e7025ecaafb64bf7a9ceba47c447d97a",
      "value": " 83.0/83.0 [00:00&lt;00:00, 6.68kB/s]"
     }
    },
    "092381c76b2a447eb16c258ad09ae7ca": {
     "model_module": "@jupyter-widgets/base",
     "model_name": "LayoutModel",
     "model_module_version": "1.2.0",
     "state": {
      "_model_module": "@jupyter-widgets/base",
      "_model_module_version": "1.2.0",
      "_model_name": "LayoutModel",
      "_view_count": null,
      "_view_module": "@jupyter-widgets/base",
      "_view_module_version": "1.2.0",
      "_view_name": "LayoutView",
      "align_content": null,
      "align_items": null,
      "align_self": null,
      "border": null,
      "bottom": null,
      "display": null,
      "flex": null,
      "flex_flow": null,
      "grid_area": null,
      "grid_auto_columns": null,
      "grid_auto_flow": null,
      "grid_auto_rows": null,
      "grid_column": null,
      "grid_gap": null,
      "grid_row": null,
      "grid_template_areas": null,
      "grid_template_columns": null,
      "grid_template_rows": null,
      "height": null,
      "justify_content": null,
      "justify_items": null,
      "left": null,
      "margin": null,
      "max_height": null,
      "max_width": null,
      "min_height": null,
      "min_width": null,
      "object_fit": null,
      "object_position": null,
      "order": null,
      "overflow": null,
      "overflow_x": null,
      "overflow_y": null,
      "padding": null,
      "right": null,
      "top": null,
      "visibility": null,
      "width": null
     }
    },
    "f91210ee28d446c8a562bbe25200b209": {
     "model_module": "@jupyter-widgets/base",
     "model_name": "LayoutModel",
     "model_module_version": "1.2.0",
     "state": {
      "_model_module": "@jupyter-widgets/base",
      "_model_module_version": "1.2.0",
      "_model_name": "LayoutModel",
      "_view_count": null,
      "_view_module": "@jupyter-widgets/base",
      "_view_module_version": "1.2.0",
      "_view_name": "LayoutView",
      "align_content": null,
      "align_items": null,
      "align_self": null,
      "border": null,
      "bottom": null,
      "display": null,
      "flex": null,
      "flex_flow": null,
      "grid_area": null,
      "grid_auto_columns": null,
      "grid_auto_flow": null,
      "grid_auto_rows": null,
      "grid_column": null,
      "grid_gap": null,
      "grid_row": null,
      "grid_template_areas": null,
      "grid_template_columns": null,
      "grid_template_rows": null,
      "height": null,
      "justify_content": null,
      "justify_items": null,
      "left": null,
      "margin": null,
      "max_height": null,
      "max_width": null,
      "min_height": null,
      "min_width": null,
      "object_fit": null,
      "object_position": null,
      "order": null,
      "overflow": null,
      "overflow_x": null,
      "overflow_y": null,
      "padding": null,
      "right": null,
      "top": null,
      "visibility": null,
      "width": null
     }
    },
    "f8b059d141ff4120a3eebd6ff5e89322": {
     "model_module": "@jupyter-widgets/controls",
     "model_name": "DescriptionStyleModel",
     "model_module_version": "1.5.0",
     "state": {
      "_model_module": "@jupyter-widgets/controls",
      "_model_module_version": "1.5.0",
      "_model_name": "DescriptionStyleModel",
      "_view_count": null,
      "_view_module": "@jupyter-widgets/base",
      "_view_module_version": "1.2.0",
      "_view_name": "StyleView",
      "description_width": ""
     }
    },
    "e87f67a3dbad497592cb198f1b694f0f": {
     "model_module": "@jupyter-widgets/base",
     "model_name": "LayoutModel",
     "model_module_version": "1.2.0",
     "state": {
      "_model_module": "@jupyter-widgets/base",
      "_model_module_version": "1.2.0",
      "_model_name": "LayoutModel",
      "_view_count": null,
      "_view_module": "@jupyter-widgets/base",
      "_view_module_version": "1.2.0",
      "_view_name": "LayoutView",
      "align_content": null,
      "align_items": null,
      "align_self": null,
      "border": null,
      "bottom": null,
      "display": null,
      "flex": null,
      "flex_flow": null,
      "grid_area": null,
      "grid_auto_columns": null,
      "grid_auto_flow": null,
      "grid_auto_rows": null,
      "grid_column": null,
      "grid_gap": null,
      "grid_row": null,
      "grid_template_areas": null,
      "grid_template_columns": null,
      "grid_template_rows": null,
      "height": null,
      "justify_content": null,
      "justify_items": null,
      "left": null,
      "margin": null,
      "max_height": null,
      "max_width": null,
      "min_height": null,
      "min_width": null,
      "object_fit": null,
      "object_position": null,
      "order": null,
      "overflow": null,
      "overflow_x": null,
      "overflow_y": null,
      "padding": null,
      "right": null,
      "top": null,
      "visibility": null,
      "width": null
     }
    },
    "8e56539b0da24e5ba439720ea6d23c3e": {
     "model_module": "@jupyter-widgets/controls",
     "model_name": "ProgressStyleModel",
     "model_module_version": "1.5.0",
     "state": {
      "_model_module": "@jupyter-widgets/controls",
      "_model_module_version": "1.5.0",
      "_model_name": "ProgressStyleModel",
      "_view_count": null,
      "_view_module": "@jupyter-widgets/base",
      "_view_module_version": "1.2.0",
      "_view_name": "StyleView",
      "bar_color": null,
      "description_width": ""
     }
    },
    "ce755fe0893245c0a7b4cd4148f20893": {
     "model_module": "@jupyter-widgets/base",
     "model_name": "LayoutModel",
     "model_module_version": "1.2.0",
     "state": {
      "_model_module": "@jupyter-widgets/base",
      "_model_module_version": "1.2.0",
      "_model_name": "LayoutModel",
      "_view_count": null,
      "_view_module": "@jupyter-widgets/base",
      "_view_module_version": "1.2.0",
      "_view_name": "LayoutView",
      "align_content": null,
      "align_items": null,
      "align_self": null,
      "border": null,
      "bottom": null,
      "display": null,
      "flex": null,
      "flex_flow": null,
      "grid_area": null,
      "grid_auto_columns": null,
      "grid_auto_flow": null,
      "grid_auto_rows": null,
      "grid_column": null,
      "grid_gap": null,
      "grid_row": null,
      "grid_template_areas": null,
      "grid_template_columns": null,
      "grid_template_rows": null,
      "height": null,
      "justify_content": null,
      "justify_items": null,
      "left": null,
      "margin": null,
      "max_height": null,
      "max_width": null,
      "min_height": null,
      "min_width": null,
      "object_fit": null,
      "object_position": null,
      "order": null,
      "overflow": null,
      "overflow_x": null,
      "overflow_y": null,
      "padding": null,
      "right": null,
      "top": null,
      "visibility": null,
      "width": null
     }
    },
    "e7025ecaafb64bf7a9ceba47c447d97a": {
     "model_module": "@jupyter-widgets/controls",
     "model_name": "DescriptionStyleModel",
     "model_module_version": "1.5.0",
     "state": {
      "_model_module": "@jupyter-widgets/controls",
      "_model_module_version": "1.5.0",
      "_model_name": "DescriptionStyleModel",
      "_view_count": null,
      "_view_module": "@jupyter-widgets/base",
      "_view_module_version": "1.2.0",
      "_view_name": "StyleView",
      "description_width": ""
     }
    },
    "715c4fb4769149c48b6aada5a6dc0662": {
     "model_module": "@jupyter-widgets/controls",
     "model_name": "HBoxModel",
     "model_module_version": "1.5.0",
     "state": {
      "_dom_classes": [],
      "_model_module": "@jupyter-widgets/controls",
      "_model_module_version": "1.5.0",
      "_model_name": "HBoxModel",
      "_view_count": null,
      "_view_module": "@jupyter-widgets/controls",
      "_view_module_version": "1.5.0",
      "_view_name": "HBoxView",
      "box_style": "",
      "children": [
       "IPY_MODEL_c281a677bde14ee8bbe649d234ea2248",
       "IPY_MODEL_8d13d9d58c804a8589f2f4bde182e846",
       "IPY_MODEL_8f44f50a97be4763a7d911b27df17de2"
      ],
      "layout": "IPY_MODEL_6a2e93778edb49b5bf10f67c23df744b"
     }
    },
    "c281a677bde14ee8bbe649d234ea2248": {
     "model_module": "@jupyter-widgets/controls",
     "model_name": "HTMLModel",
     "model_module_version": "1.5.0",
     "state": {
      "_dom_classes": [],
      "_model_module": "@jupyter-widgets/controls",
      "_model_module_version": "1.5.0",
      "_model_name": "HTMLModel",
      "_view_count": null,
      "_view_module": "@jupyter-widgets/controls",
      "_view_module_version": "1.5.0",
      "_view_name": "HTMLView",
      "description": "",
      "description_tooltip": null,
      "layout": "IPY_MODEL_b70b11b6bfbb46b29a75007203787c85",
      "placeholder": "​",
      "style": "IPY_MODEL_22db5e97d6cc484d9ffd6592b58e6133",
      "value": "config.json: 100%"
     }
    },
    "8d13d9d58c804a8589f2f4bde182e846": {
     "model_module": "@jupyter-widgets/controls",
     "model_name": "FloatProgressModel",
     "model_module_version": "1.5.0",
     "state": {
      "_dom_classes": [],
      "_model_module": "@jupyter-widgets/controls",
      "_model_module_version": "1.5.0",
      "_model_name": "FloatProgressModel",
      "_view_count": null,
      "_view_module": "@jupyter-widgets/controls",
      "_view_module_version": "1.5.0",
      "_view_name": "ProgressView",
      "bar_style": "success",
      "description": "",
      "description_tooltip": null,
      "layout": "IPY_MODEL_637e5130d5a7457496924275ecec0afb",
      "max": 362,
      "min": 0,
      "orientation": "horizontal",
      "style": "IPY_MODEL_9f6ddafb46e54271bbfaeb5cbabdfe6b",
      "value": 362
     }
    },
    "8f44f50a97be4763a7d911b27df17de2": {
     "model_module": "@jupyter-widgets/controls",
     "model_name": "HTMLModel",
     "model_module_version": "1.5.0",
     "state": {
      "_dom_classes": [],
      "_model_module": "@jupyter-widgets/controls",
      "_model_module_version": "1.5.0",
      "_model_name": "HTMLModel",
      "_view_count": null,
      "_view_module": "@jupyter-widgets/controls",
      "_view_module_version": "1.5.0",
      "_view_name": "HTMLView",
      "description": "",
      "description_tooltip": null,
      "layout": "IPY_MODEL_2baab108e79a46978cb93bc81b0dfc1f",
      "placeholder": "​",
      "style": "IPY_MODEL_b9dba6c2f93d4f9e8849816e28ab5c47",
      "value": " 362/362 [00:00&lt;00:00, 36.6kB/s]"
     }
    },
    "6a2e93778edb49b5bf10f67c23df744b": {
     "model_module": "@jupyter-widgets/base",
     "model_name": "LayoutModel",
     "model_module_version": "1.2.0",
     "state": {
      "_model_module": "@jupyter-widgets/base",
      "_model_module_version": "1.2.0",
      "_model_name": "LayoutModel",
      "_view_count": null,
      "_view_module": "@jupyter-widgets/base",
      "_view_module_version": "1.2.0",
      "_view_name": "LayoutView",
      "align_content": null,
      "align_items": null,
      "align_self": null,
      "border": null,
      "bottom": null,
      "display": null,
      "flex": null,
      "flex_flow": null,
      "grid_area": null,
      "grid_auto_columns": null,
      "grid_auto_flow": null,
      "grid_auto_rows": null,
      "grid_column": null,
      "grid_gap": null,
      "grid_row": null,
      "grid_template_areas": null,
      "grid_template_columns": null,
      "grid_template_rows": null,
      "height": null,
      "justify_content": null,
      "justify_items": null,
      "left": null,
      "margin": null,
      "max_height": null,
      "max_width": null,
      "min_height": null,
      "min_width": null,
      "object_fit": null,
      "object_position": null,
      "order": null,
      "overflow": null,
      "overflow_x": null,
      "overflow_y": null,
      "padding": null,
      "right": null,
      "top": null,
      "visibility": null,
      "width": null
     }
    },
    "b70b11b6bfbb46b29a75007203787c85": {
     "model_module": "@jupyter-widgets/base",
     "model_name": "LayoutModel",
     "model_module_version": "1.2.0",
     "state": {
      "_model_module": "@jupyter-widgets/base",
      "_model_module_version": "1.2.0",
      "_model_name": "LayoutModel",
      "_view_count": null,
      "_view_module": "@jupyter-widgets/base",
      "_view_module_version": "1.2.0",
      "_view_name": "LayoutView",
      "align_content": null,
      "align_items": null,
      "align_self": null,
      "border": null,
      "bottom": null,
      "display": null,
      "flex": null,
      "flex_flow": null,
      "grid_area": null,
      "grid_auto_columns": null,
      "grid_auto_flow": null,
      "grid_auto_rows": null,
      "grid_column": null,
      "grid_gap": null,
      "grid_row": null,
      "grid_template_areas": null,
      "grid_template_columns": null,
      "grid_template_rows": null,
      "height": null,
      "justify_content": null,
      "justify_items": null,
      "left": null,
      "margin": null,
      "max_height": null,
      "max_width": null,
      "min_height": null,
      "min_width": null,
      "object_fit": null,
      "object_position": null,
      "order": null,
      "overflow": null,
      "overflow_x": null,
      "overflow_y": null,
      "padding": null,
      "right": null,
      "top": null,
      "visibility": null,
      "width": null
     }
    },
    "22db5e97d6cc484d9ffd6592b58e6133": {
     "model_module": "@jupyter-widgets/controls",
     "model_name": "DescriptionStyleModel",
     "model_module_version": "1.5.0",
     "state": {
      "_model_module": "@jupyter-widgets/controls",
      "_model_module_version": "1.5.0",
      "_model_name": "DescriptionStyleModel",
      "_view_count": null,
      "_view_module": "@jupyter-widgets/base",
      "_view_module_version": "1.2.0",
      "_view_name": "StyleView",
      "description_width": ""
     }
    },
    "637e5130d5a7457496924275ecec0afb": {
     "model_module": "@jupyter-widgets/base",
     "model_name": "LayoutModel",
     "model_module_version": "1.2.0",
     "state": {
      "_model_module": "@jupyter-widgets/base",
      "_model_module_version": "1.2.0",
      "_model_name": "LayoutModel",
      "_view_count": null,
      "_view_module": "@jupyter-widgets/base",
      "_view_module_version": "1.2.0",
      "_view_name": "LayoutView",
      "align_content": null,
      "align_items": null,
      "align_self": null,
      "border": null,
      "bottom": null,
      "display": null,
      "flex": null,
      "flex_flow": null,
      "grid_area": null,
      "grid_auto_columns": null,
      "grid_auto_flow": null,
      "grid_auto_rows": null,
      "grid_column": null,
      "grid_gap": null,
      "grid_row": null,
      "grid_template_areas": null,
      "grid_template_columns": null,
      "grid_template_rows": null,
      "height": null,
      "justify_content": null,
      "justify_items": null,
      "left": null,
      "margin": null,
      "max_height": null,
      "max_width": null,
      "min_height": null,
      "min_width": null,
      "object_fit": null,
      "object_position": null,
      "order": null,
      "overflow": null,
      "overflow_x": null,
      "overflow_y": null,
      "padding": null,
      "right": null,
      "top": null,
      "visibility": null,
      "width": null
     }
    },
    "9f6ddafb46e54271bbfaeb5cbabdfe6b": {
     "model_module": "@jupyter-widgets/controls",
     "model_name": "ProgressStyleModel",
     "model_module_version": "1.5.0",
     "state": {
      "_model_module": "@jupyter-widgets/controls",
      "_model_module_version": "1.5.0",
      "_model_name": "ProgressStyleModel",
      "_view_count": null,
      "_view_module": "@jupyter-widgets/base",
      "_view_module_version": "1.2.0",
      "_view_name": "StyleView",
      "bar_color": null,
      "description_width": ""
     }
    },
    "2baab108e79a46978cb93bc81b0dfc1f": {
     "model_module": "@jupyter-widgets/base",
     "model_name": "LayoutModel",
     "model_module_version": "1.2.0",
     "state": {
      "_model_module": "@jupyter-widgets/base",
      "_model_module_version": "1.2.0",
      "_model_name": "LayoutModel",
      "_view_count": null,
      "_view_module": "@jupyter-widgets/base",
      "_view_module_version": "1.2.0",
      "_view_name": "LayoutView",
      "align_content": null,
      "align_items": null,
      "align_self": null,
      "border": null,
      "bottom": null,
      "display": null,
      "flex": null,
      "flex_flow": null,
      "grid_area": null,
      "grid_auto_columns": null,
      "grid_auto_flow": null,
      "grid_auto_rows": null,
      "grid_column": null,
      "grid_gap": null,
      "grid_row": null,
      "grid_template_areas": null,
      "grid_template_columns": null,
      "grid_template_rows": null,
      "height": null,
      "justify_content": null,
      "justify_items": null,
      "left": null,
      "margin": null,
      "max_height": null,
      "max_width": null,
      "min_height": null,
      "min_width": null,
      "object_fit": null,
      "object_position": null,
      "order": null,
      "overflow": null,
      "overflow_x": null,
      "overflow_y": null,
      "padding": null,
      "right": null,
      "top": null,
      "visibility": null,
      "width": null
     }
    },
    "b9dba6c2f93d4f9e8849816e28ab5c47": {
     "model_module": "@jupyter-widgets/controls",
     "model_name": "DescriptionStyleModel",
     "model_module_version": "1.5.0",
     "state": {
      "_model_module": "@jupyter-widgets/controls",
      "_model_module_version": "1.5.0",
      "_model_name": "DescriptionStyleModel",
      "_view_count": null,
      "_view_module": "@jupyter-widgets/base",
      "_view_module_version": "1.2.0",
      "_view_name": "StyleView",
      "description_width": ""
     }
    },
    "878fb853fa5b44c285a75be0e14542a8": {
     "model_module": "@jupyter-widgets/controls",
     "model_name": "HBoxModel",
     "model_module_version": "1.5.0",
     "state": {
      "_dom_classes": [],
      "_model_module": "@jupyter-widgets/controls",
      "_model_module_version": "1.5.0",
      "_model_name": "HBoxModel",
      "_view_count": null,
      "_view_module": "@jupyter-widgets/controls",
      "_view_module_version": "1.5.0",
      "_view_name": "HBoxView",
      "box_style": "",
      "children": [
       "IPY_MODEL_85226e8f0ca645759acda70df7bccc87",
       "IPY_MODEL_68ce4d197df547718f0971283b0c96ab",
       "IPY_MODEL_6afacfc4702449da83b03ce4a3676d4f"
      ],
      "layout": "IPY_MODEL_3e568ac6138d40d1991427f15c6d4811"
     }
    },
    "85226e8f0ca645759acda70df7bccc87": {
     "model_module": "@jupyter-widgets/controls",
     "model_name": "HTMLModel",
     "model_module_version": "1.5.0",
     "state": {
      "_dom_classes": [],
      "_model_module": "@jupyter-widgets/controls",
      "_model_module_version": "1.5.0",
      "_model_name": "HTMLModel",
      "_view_count": null,
      "_view_module": "@jupyter-widgets/controls",
      "_view_module_version": "1.5.0",
      "_view_name": "HTMLView",
      "description": "",
      "description_tooltip": null,
      "layout": "IPY_MODEL_0f0c1092a9c0458ea9dcfb418e7095a0",
      "placeholder": "​",
      "style": "IPY_MODEL_3cca87fab4654618a432c4c50e8fa413",
      "value": "vocab.txt: 100%"
     }
    },
    "68ce4d197df547718f0971283b0c96ab": {
     "model_module": "@jupyter-widgets/controls",
     "model_name": "FloatProgressModel",
     "model_module_version": "1.5.0",
     "state": {
      "_dom_classes": [],
      "_model_module": "@jupyter-widgets/controls",
      "_model_module_version": "1.5.0",
      "_model_name": "FloatProgressModel",
      "_view_count": null,
      "_view_module": "@jupyter-widgets/controls",
      "_view_module_version": "1.5.0",
      "_view_name": "ProgressView",
      "bar_style": "success",
      "description": "",
      "description_tooltip": null,
      "layout": "IPY_MODEL_f76ac890648b4349bd4d8f29d9a88f22",
      "max": 239836,
      "min": 0,
      "orientation": "horizontal",
      "style": "IPY_MODEL_2f293e453de84e65967adf89688a4a59",
      "value": 239836
     }
    },
    "6afacfc4702449da83b03ce4a3676d4f": {
     "model_module": "@jupyter-widgets/controls",
     "model_name": "HTMLModel",
     "model_module_version": "1.5.0",
     "state": {
      "_dom_classes": [],
      "_model_module": "@jupyter-widgets/controls",
      "_model_module_version": "1.5.0",
      "_model_name": "HTMLModel",
      "_view_count": null,
      "_view_module": "@jupyter-widgets/controls",
      "_view_module_version": "1.5.0",
      "_view_name": "HTMLView",
      "description": "",
      "description_tooltip": null,
      "layout": "IPY_MODEL_0bce2f23552649a5afd6b0ba16859ec0",
      "placeholder": "​",
      "style": "IPY_MODEL_53654c6987f3424aa6e67f22088da804",
      "value": " 240k/240k [00:00&lt;00:00, 3.90MB/s]"
     }
    },
    "3e568ac6138d40d1991427f15c6d4811": {
     "model_module": "@jupyter-widgets/base",
     "model_name": "LayoutModel",
     "model_module_version": "1.2.0",
     "state": {
      "_model_module": "@jupyter-widgets/base",
      "_model_module_version": "1.2.0",
      "_model_name": "LayoutModel",
      "_view_count": null,
      "_view_module": "@jupyter-widgets/base",
      "_view_module_version": "1.2.0",
      "_view_name": "LayoutView",
      "align_content": null,
      "align_items": null,
      "align_self": null,
      "border": null,
      "bottom": null,
      "display": null,
      "flex": null,
      "flex_flow": null,
      "grid_area": null,
      "grid_auto_columns": null,
      "grid_auto_flow": null,
      "grid_auto_rows": null,
      "grid_column": null,
      "grid_gap": null,
      "grid_row": null,
      "grid_template_areas": null,
      "grid_template_columns": null,
      "grid_template_rows": null,
      "height": null,
      "justify_content": null,
      "justify_items": null,
      "left": null,
      "margin": null,
      "max_height": null,
      "max_width": null,
      "min_height": null,
      "min_width": null,
      "object_fit": null,
      "object_position": null,
      "order": null,
      "overflow": null,
      "overflow_x": null,
      "overflow_y": null,
      "padding": null,
      "right": null,
      "top": null,
      "visibility": null,
      "width": null
     }
    },
    "0f0c1092a9c0458ea9dcfb418e7095a0": {
     "model_module": "@jupyter-widgets/base",
     "model_name": "LayoutModel",
     "model_module_version": "1.2.0",
     "state": {
      "_model_module": "@jupyter-widgets/base",
      "_model_module_version": "1.2.0",
      "_model_name": "LayoutModel",
      "_view_count": null,
      "_view_module": "@jupyter-widgets/base",
      "_view_module_version": "1.2.0",
      "_view_name": "LayoutView",
      "align_content": null,
      "align_items": null,
      "align_self": null,
      "border": null,
      "bottom": null,
      "display": null,
      "flex": null,
      "flex_flow": null,
      "grid_area": null,
      "grid_auto_columns": null,
      "grid_auto_flow": null,
      "grid_auto_rows": null,
      "grid_column": null,
      "grid_gap": null,
      "grid_row": null,
      "grid_template_areas": null,
      "grid_template_columns": null,
      "grid_template_rows": null,
      "height": null,
      "justify_content": null,
      "justify_items": null,
      "left": null,
      "margin": null,
      "max_height": null,
      "max_width": null,
      "min_height": null,
      "min_width": null,
      "object_fit": null,
      "object_position": null,
      "order": null,
      "overflow": null,
      "overflow_x": null,
      "overflow_y": null,
      "padding": null,
      "right": null,
      "top": null,
      "visibility": null,
      "width": null
     }
    },
    "3cca87fab4654618a432c4c50e8fa413": {
     "model_module": "@jupyter-widgets/controls",
     "model_name": "DescriptionStyleModel",
     "model_module_version": "1.5.0",
     "state": {
      "_model_module": "@jupyter-widgets/controls",
      "_model_module_version": "1.5.0",
      "_model_name": "DescriptionStyleModel",
      "_view_count": null,
      "_view_module": "@jupyter-widgets/base",
      "_view_module_version": "1.2.0",
      "_view_name": "StyleView",
      "description_width": ""
     }
    },
    "f76ac890648b4349bd4d8f29d9a88f22": {
     "model_module": "@jupyter-widgets/base",
     "model_name": "LayoutModel",
     "model_module_version": "1.2.0",
     "state": {
      "_model_module": "@jupyter-widgets/base",
      "_model_module_version": "1.2.0",
      "_model_name": "LayoutModel",
      "_view_count": null,
      "_view_module": "@jupyter-widgets/base",
      "_view_module_version": "1.2.0",
      "_view_name": "LayoutView",
      "align_content": null,
      "align_items": null,
      "align_self": null,
      "border": null,
      "bottom": null,
      "display": null,
      "flex": null,
      "flex_flow": null,
      "grid_area": null,
      "grid_auto_columns": null,
      "grid_auto_flow": null,
      "grid_auto_rows": null,
      "grid_column": null,
      "grid_gap": null,
      "grid_row": null,
      "grid_template_areas": null,
      "grid_template_columns": null,
      "grid_template_rows": null,
      "height": null,
      "justify_content": null,
      "justify_items": null,
      "left": null,
      "margin": null,
      "max_height": null,
      "max_width": null,
      "min_height": null,
      "min_width": null,
      "object_fit": null,
      "object_position": null,
      "order": null,
      "overflow": null,
      "overflow_x": null,
      "overflow_y": null,
      "padding": null,
      "right": null,
      "top": null,
      "visibility": null,
      "width": null
     }
    },
    "2f293e453de84e65967adf89688a4a59": {
     "model_module": "@jupyter-widgets/controls",
     "model_name": "ProgressStyleModel",
     "model_module_version": "1.5.0",
     "state": {
      "_model_module": "@jupyter-widgets/controls",
      "_model_module_version": "1.5.0",
      "_model_name": "ProgressStyleModel",
      "_view_count": null,
      "_view_module": "@jupyter-widgets/base",
      "_view_module_version": "1.2.0",
      "_view_name": "StyleView",
      "bar_color": null,
      "description_width": ""
     }
    },
    "0bce2f23552649a5afd6b0ba16859ec0": {
     "model_module": "@jupyter-widgets/base",
     "model_name": "LayoutModel",
     "model_module_version": "1.2.0",
     "state": {
      "_model_module": "@jupyter-widgets/base",
      "_model_module_version": "1.2.0",
      "_model_name": "LayoutModel",
      "_view_count": null,
      "_view_module": "@jupyter-widgets/base",
      "_view_module_version": "1.2.0",
      "_view_name": "LayoutView",
      "align_content": null,
      "align_items": null,
      "align_self": null,
      "border": null,
      "bottom": null,
      "display": null,
      "flex": null,
      "flex_flow": null,
      "grid_area": null,
      "grid_auto_columns": null,
      "grid_auto_flow": null,
      "grid_auto_rows": null,
      "grid_column": null,
      "grid_gap": null,
      "grid_row": null,
      "grid_template_areas": null,
      "grid_template_columns": null,
      "grid_template_rows": null,
      "height": null,
      "justify_content": null,
      "justify_items": null,
      "left": null,
      "margin": null,
      "max_height": null,
      "max_width": null,
      "min_height": null,
      "min_width": null,
      "object_fit": null,
      "object_position": null,
      "order": null,
      "overflow": null,
      "overflow_x": null,
      "overflow_y": null,
      "padding": null,
      "right": null,
      "top": null,
      "visibility": null,
      "width": null
     }
    },
    "53654c6987f3424aa6e67f22088da804": {
     "model_module": "@jupyter-widgets/controls",
     "model_name": "DescriptionStyleModel",
     "model_module_version": "1.5.0",
     "state": {
      "_model_module": "@jupyter-widgets/controls",
      "_model_module_version": "1.5.0",
      "_model_name": "DescriptionStyleModel",
      "_view_count": null,
      "_view_module": "@jupyter-widgets/base",
      "_view_module_version": "1.2.0",
      "_view_name": "StyleView",
      "description_width": ""
     }
    },
    "357e7e434a9e43be85ad13e8b111f168": {
     "model_module": "@jupyter-widgets/controls",
     "model_name": "HBoxModel",
     "model_module_version": "1.5.0",
     "state": {
      "_dom_classes": [],
      "_model_module": "@jupyter-widgets/controls",
      "_model_module_version": "1.5.0",
      "_model_name": "HBoxModel",
      "_view_count": null,
      "_view_module": "@jupyter-widgets/controls",
      "_view_module_version": "1.5.0",
      "_view_name": "HBoxView",
      "box_style": "",
      "children": [
       "IPY_MODEL_d7d36d3eb8da42a49c6885d7bce786cc",
       "IPY_MODEL_84cf29a7e6a54f15998a0dfa1b691aae",
       "IPY_MODEL_b46411f71671477e9778d0e1d5dc7f21"
      ],
      "layout": "IPY_MODEL_431ee95fdb4b40c38b2fc52726a4ec52"
     }
    },
    "d7d36d3eb8da42a49c6885d7bce786cc": {
     "model_module": "@jupyter-widgets/controls",
     "model_name": "HTMLModel",
     "model_module_version": "1.5.0",
     "state": {
      "_dom_classes": [],
      "_model_module": "@jupyter-widgets/controls",
      "_model_module_version": "1.5.0",
      "_model_name": "HTMLModel",
      "_view_count": null,
      "_view_module": "@jupyter-widgets/controls",
      "_view_module_version": "1.5.0",
      "_view_name": "HTMLView",
      "description": "",
      "description_tooltip": null,
      "layout": "IPY_MODEL_b303b9dc40e24069a7ce7a0646fcaf22",
      "placeholder": "​",
      "style": "IPY_MODEL_c96e570be24841cda58aa409c0388000",
      "value": "model.safetensors: 100%"
     }
    },
    "84cf29a7e6a54f15998a0dfa1b691aae": {
     "model_module": "@jupyter-widgets/controls",
     "model_name": "FloatProgressModel",
     "model_module_version": "1.5.0",
     "state": {
      "_dom_classes": [],
      "_model_module": "@jupyter-widgets/controls",
      "_model_module_version": "1.5.0",
      "_model_name": "FloatProgressModel",
      "_view_count": null,
      "_view_module": "@jupyter-widgets/controls",
      "_view_module_version": "1.5.0",
      "_view_name": "ProgressView",
      "bar_style": "success",
      "description": "",
      "description_tooltip": null,
      "layout": "IPY_MODEL_ca7675d9165847a19ba6f2ab1a3e77c7",
      "max": 442233876,
      "min": 0,
      "orientation": "horizontal",
      "style": "IPY_MODEL_58a1e6bdcced4fc6b1bdc88bfecdf616",
      "value": 442233876
     }
    },
    "b46411f71671477e9778d0e1d5dc7f21": {
     "model_module": "@jupyter-widgets/controls",
     "model_name": "HTMLModel",
     "model_module_version": "1.5.0",
     "state": {
      "_dom_classes": [],
      "_model_module": "@jupyter-widgets/controls",
      "_model_module_version": "1.5.0",
      "_model_name": "HTMLModel",
      "_view_count": null,
      "_view_module": "@jupyter-widgets/controls",
      "_view_module_version": "1.5.0",
      "_view_name": "HTMLView",
      "description": "",
      "description_tooltip": null,
      "layout": "IPY_MODEL_46a135a2652e4dee95490615b94b81fd",
      "placeholder": "​",
      "style": "IPY_MODEL_29a671ed37074904ac77d6280fa12789",
      "value": " 442M/442M [00:03&lt;00:00, 146MB/s]"
     }
    },
    "431ee95fdb4b40c38b2fc52726a4ec52": {
     "model_module": "@jupyter-widgets/base",
     "model_name": "LayoutModel",
     "model_module_version": "1.2.0",
     "state": {
      "_model_module": "@jupyter-widgets/base",
      "_model_module_version": "1.2.0",
      "_model_name": "LayoutModel",
      "_view_count": null,
      "_view_module": "@jupyter-widgets/base",
      "_view_module_version": "1.2.0",
      "_view_name": "LayoutView",
      "align_content": null,
      "align_items": null,
      "align_self": null,
      "border": null,
      "bottom": null,
      "display": null,
      "flex": null,
      "flex_flow": null,
      "grid_area": null,
      "grid_auto_columns": null,
      "grid_auto_flow": null,
      "grid_auto_rows": null,
      "grid_column": null,
      "grid_gap": null,
      "grid_row": null,
      "grid_template_areas": null,
      "grid_template_columns": null,
      "grid_template_rows": null,
      "height": null,
      "justify_content": null,
      "justify_items": null,
      "left": null,
      "margin": null,
      "max_height": null,
      "max_width": null,
      "min_height": null,
      "min_width": null,
      "object_fit": null,
      "object_position": null,
      "order": null,
      "overflow": null,
      "overflow_x": null,
      "overflow_y": null,
      "padding": null,
      "right": null,
      "top": null,
      "visibility": null,
      "width": null
     }
    },
    "b303b9dc40e24069a7ce7a0646fcaf22": {
     "model_module": "@jupyter-widgets/base",
     "model_name": "LayoutModel",
     "model_module_version": "1.2.0",
     "state": {
      "_model_module": "@jupyter-widgets/base",
      "_model_module_version": "1.2.0",
      "_model_name": "LayoutModel",
      "_view_count": null,
      "_view_module": "@jupyter-widgets/base",
      "_view_module_version": "1.2.0",
      "_view_name": "LayoutView",
      "align_content": null,
      "align_items": null,
      "align_self": null,
      "border": null,
      "bottom": null,
      "display": null,
      "flex": null,
      "flex_flow": null,
      "grid_area": null,
      "grid_auto_columns": null,
      "grid_auto_flow": null,
      "grid_auto_rows": null,
      "grid_column": null,
      "grid_gap": null,
      "grid_row": null,
      "grid_template_areas": null,
      "grid_template_columns": null,
      "grid_template_rows": null,
      "height": null,
      "justify_content": null,
      "justify_items": null,
      "left": null,
      "margin": null,
      "max_height": null,
      "max_width": null,
      "min_height": null,
      "min_width": null,
      "object_fit": null,
      "object_position": null,
      "order": null,
      "overflow": null,
      "overflow_x": null,
      "overflow_y": null,
      "padding": null,
      "right": null,
      "top": null,
      "visibility": null,
      "width": null
     }
    },
    "c96e570be24841cda58aa409c0388000": {
     "model_module": "@jupyter-widgets/controls",
     "model_name": "DescriptionStyleModel",
     "model_module_version": "1.5.0",
     "state": {
      "_model_module": "@jupyter-widgets/controls",
      "_model_module_version": "1.5.0",
      "_model_name": "DescriptionStyleModel",
      "_view_count": null,
      "_view_module": "@jupyter-widgets/base",
      "_view_module_version": "1.2.0",
      "_view_name": "StyleView",
      "description_width": ""
     }
    },
    "ca7675d9165847a19ba6f2ab1a3e77c7": {
     "model_module": "@jupyter-widgets/base",
     "model_name": "LayoutModel",
     "model_module_version": "1.2.0",
     "state": {
      "_model_module": "@jupyter-widgets/base",
      "_model_module_version": "1.2.0",
      "_model_name": "LayoutModel",
      "_view_count": null,
      "_view_module": "@jupyter-widgets/base",
      "_view_module_version": "1.2.0",
      "_view_name": "LayoutView",
      "align_content": null,
      "align_items": null,
      "align_self": null,
      "border": null,
      "bottom": null,
      "display": null,
      "flex": null,
      "flex_flow": null,
      "grid_area": null,
      "grid_auto_columns": null,
      "grid_auto_flow": null,
      "grid_auto_rows": null,
      "grid_column": null,
      "grid_gap": null,
      "grid_row": null,
      "grid_template_areas": null,
      "grid_template_columns": null,
      "grid_template_rows": null,
      "height": null,
      "justify_content": null,
      "justify_items": null,
      "left": null,
      "margin": null,
      "max_height": null,
      "max_width": null,
      "min_height": null,
      "min_width": null,
      "object_fit": null,
      "object_position": null,
      "order": null,
      "overflow": null,
      "overflow_x": null,
      "overflow_y": null,
      "padding": null,
      "right": null,
      "top": null,
      "visibility": null,
      "width": null
     }
    },
    "58a1e6bdcced4fc6b1bdc88bfecdf616": {
     "model_module": "@jupyter-widgets/controls",
     "model_name": "ProgressStyleModel",
     "model_module_version": "1.5.0",
     "state": {
      "_model_module": "@jupyter-widgets/controls",
      "_model_module_version": "1.5.0",
      "_model_name": "ProgressStyleModel",
      "_view_count": null,
      "_view_module": "@jupyter-widgets/base",
      "_view_module_version": "1.2.0",
      "_view_name": "StyleView",
      "bar_color": null,
      "description_width": ""
     }
    },
    "46a135a2652e4dee95490615b94b81fd": {
     "model_module": "@jupyter-widgets/base",
     "model_name": "LayoutModel",
     "model_module_version": "1.2.0",
     "state": {
      "_model_module": "@jupyter-widgets/base",
      "_model_module_version": "1.2.0",
      "_model_name": "LayoutModel",
      "_view_count": null,
      "_view_module": "@jupyter-widgets/base",
      "_view_module_version": "1.2.0",
      "_view_name": "LayoutView",
      "align_content": null,
      "align_items": null,
      "align_self": null,
      "border": null,
      "bottom": null,
      "display": null,
      "flex": null,
      "flex_flow": null,
      "grid_area": null,
      "grid_auto_columns": null,
      "grid_auto_flow": null,
      "grid_auto_rows": null,
      "grid_column": null,
      "grid_gap": null,
      "grid_row": null,
      "grid_template_areas": null,
      "grid_template_columns": null,
      "grid_template_rows": null,
      "height": null,
      "justify_content": null,
      "justify_items": null,
      "left": null,
      "margin": null,
      "max_height": null,
      "max_width": null,
      "min_height": null,
      "min_width": null,
      "object_fit": null,
      "object_position": null,
      "order": null,
      "overflow": null,
      "overflow_x": null,
      "overflow_y": null,
      "padding": null,
      "right": null,
      "top": null,
      "visibility": null,
      "width": null
     }
    },
    "29a671ed37074904ac77d6280fa12789": {
     "model_module": "@jupyter-widgets/controls",
     "model_name": "DescriptionStyleModel",
     "model_module_version": "1.5.0",
     "state": {
      "_model_module": "@jupyter-widgets/controls",
      "_model_module_version": "1.5.0",
      "_model_name": "DescriptionStyleModel",
      "_view_count": null,
      "_view_module": "@jupyter-widgets/base",
      "_view_module_version": "1.2.0",
      "_view_name": "StyleView",
      "description_width": ""
     }
    }
    }
   }
  }
 },
 "nbformat": 4,
 "nbformat_minor": 5
}
