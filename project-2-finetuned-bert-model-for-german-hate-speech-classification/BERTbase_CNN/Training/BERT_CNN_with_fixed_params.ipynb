{
 "cells": [
  {
   "metadata": {
    "id": "c266e7b01c934543"
   },
   "cell_type": "markdown",
   "source": [
    "## Fine-Tuning deepset/gbert-base for German Hate Speech Classification\n",
    "This notebook fine-tunes `deepset/gbert-base` on a German hate speech dataset using PyTorch, BERT and CNN Layer.\n",
    "\n",
    "This script is used for training just one model on specific (manually chosen) hyperparameters.\n",
    "\n",
    "The script automatically logs the model metrics to the wandb project as well as to \"logged_model_metrics.xlsx\"\n",
    "\n",
    "\n",
    "Inspiration for this setup: <br>\n",
    "\n",
    "Cendra Devayana Putra, Hei-Chia Wang,\n",
    "Advanced BERT-CNN for Hate Speech Detection,\n",
    "Procedia Computer Science,\n",
    "Volume 234,\n",
    "2024,\n",
    "Pages 239-246,\n",
    "ISSN 1877-0509,\n",
    "https://doi.org/10.1016/j.procs.2024.02.170."
   ],
   "id": "c266e7b01c934543"
  },
  {
   "cell_type": "code",
   "source": [
    "!pip install optuna"
   ],
   "metadata": {
    "colab": {
     "base_uri": "https://localhost:8080/"
    },
    "id": "elTvBEPh-GEN",
    "executionInfo": {
     "status": "ok",
     "timestamp": 1736031360779,
     "user_tz": -60,
     "elapsed": 4322,
     "user": {
      "displayName": "Max N.",
      "userId": "17347375569055604559"
     }
    },
    "outputId": "65b1df24-9e5f-4f07-bf6f-628cbd63aac1"
   },
   "id": "elTvBEPh-GEN",
   "execution_count": null,
   "outputs": [
    {
     "output_type": "stream",
     "name": "stdout",
     "text": [
      "Collecting optuna\n",
      "  Downloading optuna-4.1.0-py3-none-any.whl.metadata (16 kB)\n",
      "Collecting alembic>=1.5.0 (from optuna)\n",
      "  Downloading alembic-1.14.0-py3-none-any.whl.metadata (7.4 kB)\n",
      "Collecting colorlog (from optuna)\n",
      "  Downloading colorlog-6.9.0-py3-none-any.whl.metadata (10 kB)\n",
      "Requirement already satisfied: numpy in /usr/local/lib/python3.10/dist-packages (from optuna) (1.26.4)\n",
      "Requirement already satisfied: packaging>=20.0 in /usr/local/lib/python3.10/dist-packages (from optuna) (24.2)\n",
      "Requirement already satisfied: sqlalchemy>=1.4.2 in /usr/local/lib/python3.10/dist-packages (from optuna) (2.0.36)\n",
      "Requirement already satisfied: tqdm in /usr/local/lib/python3.10/dist-packages (from optuna) (4.67.1)\n",
      "Requirement already satisfied: PyYAML in /usr/local/lib/python3.10/dist-packages (from optuna) (6.0.2)\n",
      "Collecting Mako (from alembic>=1.5.0->optuna)\n",
      "  Downloading Mako-1.3.8-py3-none-any.whl.metadata (2.9 kB)\n",
      "Requirement already satisfied: typing-extensions>=4 in /usr/local/lib/python3.10/dist-packages (from alembic>=1.5.0->optuna) (4.12.2)\n",
      "Requirement already satisfied: greenlet!=0.4.17 in /usr/local/lib/python3.10/dist-packages (from sqlalchemy>=1.4.2->optuna) (3.1.1)\n",
      "Requirement already satisfied: MarkupSafe>=0.9.2 in /usr/local/lib/python3.10/dist-packages (from Mako->alembic>=1.5.0->optuna) (3.0.2)\n",
      "Downloading optuna-4.1.0-py3-none-any.whl (364 kB)\n",
      "\u001B[2K   \u001B[90m━━━━━━━━━━━━━━━━━━━━━━━━━━━━━━━━━━━━━━━━\u001B[0m \u001B[32m364.4/364.4 kB\u001B[0m \u001B[31m28.4 MB/s\u001B[0m eta \u001B[36m0:00:00\u001B[0m\n",
      "\u001B[?25hDownloading alembic-1.14.0-py3-none-any.whl (233 kB)\n",
      "\u001B[2K   \u001B[90m━━━━━━━━━━━━━━━━━━━━━━━━━━━━━━━━━━━━━━━━\u001B[0m \u001B[32m233.5/233.5 kB\u001B[0m \u001B[31m20.6 MB/s\u001B[0m eta \u001B[36m0:00:00\u001B[0m\n",
      "\u001B[?25hDownloading colorlog-6.9.0-py3-none-any.whl (11 kB)\n",
      "Downloading Mako-1.3.8-py3-none-any.whl (78 kB)\n",
      "\u001B[2K   \u001B[90m━━━━━━━━━━━━━━━━━━━━━━━━━━━━━━━━━━━━━━━━\u001B[0m \u001B[32m78.6/78.6 kB\u001B[0m \u001B[31m7.8 MB/s\u001B[0m eta \u001B[36m0:00:00\u001B[0m\n",
      "\u001B[?25hInstalling collected packages: Mako, colorlog, alembic, optuna\n",
      "Successfully installed Mako-1.3.8 alembic-1.14.0 colorlog-6.9.0 optuna-4.1.0\n"
     ]
    }
   ]
  },
  {
   "cell_type": "code",
   "source": [
    "# Import Libraries\n",
    "import wandb\n",
    "import optuna\n",
    "from optuna.pruners import HyperbandPruner\n",
    "import pandas as pd\n",
    "import numpy as np\n",
    "import matplotlib.pyplot as plt\n",
    "import torch\n",
    "from torch import nn\n",
    "from torch.utils.data import Dataset\n",
    "from sklearn.model_selection import train_test_split\n",
    "from sklearn.metrics import (\n",
    "    balanced_accuracy_score\n",
    "    , accuracy_score\n",
    "    , precision_recall_fscore_support\n",
    "    , matthews_corrcoef\n",
    "    , classification_report\n",
    "    , f1_score\n",
    "    , log_loss\n",
    "    , precision_score\n",
    "    , recall_score\n",
    "    , fbeta_score\n",
    "    , confusion_matrix\n",
    "    , ConfusionMatrixDisplay\n",
    ")\n",
    "from transformers import AutoTokenizer, BertModel, Trainer, TrainingArguments\n",
    "import logging\n",
    "import os\n",
    "from google.colab import runtime, userdata, drive\n",
    "import datetime\n",
    "import threading\n",
    "import time"
   ],
   "metadata": {
    "id": "8Oyu0U0D-Jct"
   },
   "id": "8Oyu0U0D-Jct",
   "execution_count": null,
   "outputs": []
  },
  {
   "cell_type": "markdown",
   "source": [
    "## Set up logging and connections"
   ],
   "metadata": {
    "id": "FSv5W-8gG53A"
   },
   "id": "FSv5W-8gG53A"
  },
  {
   "cell_type": "code",
   "source": [
    "# Configure Logging\n",
    "logging.basicConfig(\n",
    "    level=logging.INFO,  # Log INFO\n",
    "    format=\"%(asctime)s - %(levelname)s - %(message)s\",\n",
    "    force=True\n",
    ")\n",
    "\n",
    "logger = logging.getLogger(__name__)\n",
    "\n",
    "# empty cache\n",
    "torch.cuda.empty_cache()"
   ],
   "metadata": {
    "id": "EMOvE2y8-M-C"
   },
   "id": "EMOvE2y8-M-C",
   "execution_count": null,
   "outputs": []
  },
  {
   "cell_type": "code",
   "source": [
    "# connect to wandb\n",
    "wandbkey = userdata.get('WandbKey')\n",
    "wandb.login(key=wandbkey)"
   ],
   "metadata": {
    "id": "eNnUSAiW-l2E",
    "colab": {
     "base_uri": "https://localhost:8080/"
    },
    "executionInfo": {
     "status": "ok",
     "timestamp": 1736031383256,
     "user_tz": -60,
     "elapsed": 4210,
     "user": {
      "displayName": "Max N.",
      "userId": "17347375569055604559"
     }
    },
    "outputId": "f23e99ae-9fea-4e98-d13f-3b28fb386d3a"
   },
   "id": "eNnUSAiW-l2E",
   "execution_count": null,
   "outputs": [
    {
     "output_type": "stream",
     "name": "stderr",
     "text": [
      "\u001B[34m\u001B[1mwandb\u001B[0m: Using wandb-core as the SDK backend.  Please refer to https://wandb.me/wandb-core for more information.\n",
      "\u001B[34m\u001B[1mwandb\u001B[0m: Currently logged in as: \u001B[33mmaxnienh\u001B[0m (\u001B[33mmaxnienh-xx\u001B[0m). Use \u001B[1m`wandb login --relogin`\u001B[0m to force relogin\n",
      "\u001B[34m\u001B[1mwandb\u001B[0m: \u001B[33mWARNING\u001B[0m If you're specifying your api key in code, ensure this code is not shared publicly.\n",
      "\u001B[34m\u001B[1mwandb\u001B[0m: \u001B[33mWARNING\u001B[0m Consider setting the WANDB_API_KEY environment variable, or running `wandb login` from the command line.\n",
      "\u001B[34m\u001B[1mwandb\u001B[0m: Appending key for api.wandb.ai to your netrc file: /root/.netrc\n"
     ]
    },
    {
     "output_type": "execute_result",
     "data": {
      "text/plain": [
       "True"
      ]
     },
     "metadata": {},
     "execution_count": 4
    }
   ]
  },
  {
   "cell_type": "code",
   "source": [
    "# Set Device to GPU\n",
    "device = torch.device(\"cuda\") if torch.cuda.is_available() else torch.device(\"cpu\")\n",
    "logger.info(f\"Using device: {device}\")\n",
    "if torch.cuda.is_available():\n",
    "    logger.info(f\"GPU Name: {torch.cuda.get_device_name(0)}\")"
   ],
   "metadata": {
    "id": "mNCe_zjs-Pe_",
    "colab": {
     "base_uri": "https://localhost:8080/"
    },
    "executionInfo": {
     "status": "ok",
     "timestamp": 1736031383256,
     "user_tz": -60,
     "elapsed": 7,
     "user": {
      "displayName": "Max N.",
      "userId": "17347375569055604559"
     }
    },
    "outputId": "71de6ece-1ba7-48b5-90fb-7eeb62c62a7c"
   },
   "id": "mNCe_zjs-Pe_",
   "execution_count": null,
   "outputs": [
    {
     "output_type": "stream",
     "name": "stderr",
     "text": [
      "2025-01-04 22:56:22,442 - INFO - Using device: cuda\n",
      "2025-01-04 22:56:22,466 - INFO - GPU Name: NVIDIA A100-SXM4-40GB\n"
     ]
    }
   ]
  },
  {
   "cell_type": "code",
   "source": [
    "# mount google drive for folder access\n",
    "drive.mount('/content/drive')"
   ],
   "metadata": {
    "id": "z1bi-ZSU070r",
    "colab": {
     "base_uri": "https://localhost:8080/"
    },
    "executionInfo": {
     "status": "ok",
     "timestamp": 1736031401718,
     "user_tz": -60,
     "elapsed": 18466,
     "user": {
      "displayName": "Max N.",
      "userId": "17347375569055604559"
     }
    },
    "outputId": "71c3b815-8f86-4e4d-f5e8-0b2351bef27f"
   },
   "id": "z1bi-ZSU070r",
   "execution_count": null,
   "outputs": [
    {
     "output_type": "stream",
     "name": "stdout",
     "text": [
      "Mounted at /content/drive\n"
     ]
    }
   ]
  },
  {
   "cell_type": "markdown",
   "source": [
    "## Define custom BERT model class"
   ],
   "metadata": {
    "id": "H7xOkBorGuCQ"
   },
   "id": "H7xOkBorGuCQ"
  },
  {
   "cell_type": "code",
   "source": [
    "class BERT_CNN(nn.Module):\n",
    "    def __init__(self, bert_model_name, num_labels, dropout_rate=0.5, class_weights=None):\n",
    "        \"\"\"\n",
    "        Initializes a BERT-based model with a CNN layer for text classification.\n",
    "\n",
    "        :param bert_model_name: Name of the pre-trained BERT model to be used.\n",
    "        :param num_labels: Number of output classes for classification.\n",
    "        :param dropout_rate: Dropout rate for regularization.\n",
    "        :param class_weights: Optional tensor containing class weights for handling class imbalance.\n",
    "        \"\"\"\n",
    "        \n",
    "        super(BERT_CNN, self).__init__()\n",
    "\n",
    "        # Load pre-trained BERT model\n",
    "        self.bert = BertModel.from_pretrained(bert_model_name)\n",
    "\n",
    "        # Dropout for regularization\n",
    "        self.dropout_bert = nn.Dropout(dropout_rate)\n",
    "        self.dropout_cnn = nn.Dropout(dropout_rate)\n",
    "\n",
    "        # CNN-Layer\n",
    "        self.conv1d = nn.Conv1d(\n",
    "            in_channels=self.bert.config.hidden_size,  # Hidden size from BERT\n",
    "            out_channels=128,  # Number of output channels\n",
    "            kernel_size=3,  # Filter size\n",
    "            padding=1\n",
    "        )\n",
    "        self.relu = nn.ReLU()\n",
    "        self.maxpool = nn.MaxPool1d(kernel_size=2)\n",
    "\n",
    "        # Fully Connected Classification Layer\n",
    "        self.classifier = nn.Linear(128, num_labels)\n",
    "\n",
    "        self.class_weights = class_weights\n",
    "\n",
    "    def forward(self, input_ids, attention_mask, labels=None):\n",
    "        \"\"\"\n",
    "        Forward pass through the model.\n",
    "\n",
    "        :param input_ids: Tensor of tokenized input IDs.\n",
    "        :param attention_mask: Tensor indicating which tokens should be attended to.\n",
    "        :param labels: Optional tensor of target labels for loss calculation.\n",
    "        :return: Loss (if labels are provided) and logits.\n",
    "        \"\"\"\n",
    "        \n",
    "        # Extract features from BERT\n",
    "        outputs = self.bert(input_ids=input_ids, attention_mask=attention_mask)\n",
    "        sequence_output = outputs.last_hidden_state  # Shape: (batch_size, seq_len, hidden_size)\n",
    "\n",
    "        # Dropout after BERT output\n",
    "        sequence_output = self.dropout_bert(sequence_output)\n",
    "\n",
    "        # Pass through CNN\n",
    "        cnn_output = self.conv1d(sequence_output.permute(0, 2, 1))  # Conv1d expects (batch, channels, seq_len)\n",
    "        cnn_output = self.relu(cnn_output)\n",
    "        cnn_output = self.maxpool(cnn_output)\n",
    "\n",
    "        # Average pooling across the sequence length\n",
    "        pooled_output = torch.mean(cnn_output, dim=2)  # Shape: (batch_size, channels)\n",
    "\n",
    "        # Dropout after CNN output\n",
    "        pooled_output = self.dropout_cnn(pooled_output)\n",
    "\n",
    "        # Pass through the classifier\n",
    "        logits = self.classifier(pooled_output)\n",
    "\n",
    "        # Compute loss if labels are provided\n",
    "        if labels is not None:\n",
    "            loss_fct = nn.CrossEntropyLoss(weight=class_weights) # for balancing the classes\n",
    "            loss = loss_fct(logits.view(-1, self.classifier.out_features), labels.view(-1))\n",
    "            return loss, logits\n",
    "\n",
    "        return logits"
   ],
   "metadata": {
    "id": "EdlVw54ncOS3"
   },
   "id": "EdlVw54ncOS3",
   "execution_count": null,
   "outputs": []
  },
  {
   "cell_type": "markdown",
   "source": [
    "## Load, split and tokenize data"
   ],
   "metadata": {
    "id": "yXvMWQa9G-Yc"
   },
   "id": "yXvMWQa9G-Yc"
  },
  {
   "cell_type": "code",
   "source": [
    "#import pandas as pd\n",
    "dataset_filename = \"Dataset_anonymized_annotated_comments_same_annotation_final.csv\"\n",
    "csv_path = os.path.join('/content/drive/MyDrive/model/data', dataset_filename)\n",
    "\n",
    "\n",
    "# Load the dataset\n",
    "data = pd.read_csv(csv_path, delimiter=';', on_bad_lines='skip')\n",
    "data = data[['comment', 'annotation']]\n",
    "logger.info(f\"Dataset loaded with shape: {data.shape}\")\n",
    "\n",
    "# Compute Class Weights using the normalized formula\n",
    "class_counts = data['annotation'].value_counts().sort_index()\n",
    "total_samples = class_counts.sum()\n",
    "num_classes = len(class_counts)\n",
    "\n",
    "# Improved inverse class weights\n",
    "class_weights = total_samples / (num_classes * class_counts)\n",
    "class_weights = torch.tensor(class_weights.values, dtype=torch.float32).to(device)\n",
    "logger.info(f\"Computed class weights: {class_weights}\")"
   ],
   "metadata": {
    "colab": {
     "base_uri": "https://localhost:8080/"
    },
    "id": "YbMB67QN-Tj2",
    "executionInfo": {
     "status": "ok",
     "timestamp": 1736031403835,
     "user_tz": -60,
     "elapsed": 2119,
     "user": {
      "displayName": "Max N.",
      "userId": "17347375569055604559"
     }
    },
    "outputId": "7ee0d997-ef10-4e87-f634-8675114aa48f"
   },
   "id": "YbMB67QN-Tj2",
   "execution_count": null,
   "outputs": [
    {
     "output_type": "stream",
     "name": "stderr",
     "text": [
      "2025-01-04 22:56:42,644 - INFO - Dataset loaded with shape: (23580, 2)\n",
      "2025-01-04 22:56:43,260 - INFO - Computed class weights: tensor([0.7221, 1.6258], device='cuda:0')\n"
     ]
    }
   ]
  },
  {
   "cell_type": "code",
   "source": [
    "# Variable to switch betwenn full and small dataset (for tests)\n",
    "use_full_dataset = 1\n",
    "\n",
    "# Split into training (70%), validation (15%), and test (15%) datasets\n",
    "if use_full_dataset == 1:\n",
    "\n",
    "  train_data, temp_data = train_test_split(data, test_size=0.3, stratify=data['annotation'], random_state=42)\n",
    "  val_data, test_data = train_test_split(temp_data, test_size=0.5, stratify=temp_data['annotation'], random_state=42)\n",
    "\n",
    "  logger.info(f\"Train size: {len(train_data)} rows | Test size: {len(test_data)} rows | Validation size: {len(val_data)} rows\")\n",
    "\n",
    "else:\n",
    "  #Separate Dataset into two groups\n",
    "  hate_data = data[data['annotation'] == 1]\n",
    "  no_hate_data = data[data['annotation'] == 0]\n",
    "\n",
    "  #Take n random comments out of both groups to create a balanced dataset\n",
    "  subset_size_per_class = 500\n",
    "  positive_subset = hate_data.sample(n=subset_size_per_class, random_state=42)\n",
    "  negative_subset = no_hate_data.sample(n=subset_size_per_class, random_state=42)\n",
    "\n",
    "  # Combine both groups into one dataset\n",
    "  balanced_subset = pd.concat([positive_subset, negative_subset])\n",
    "\n",
    "  # Shuffle and reset index\n",
    "  balanced_subset = balanced_subset.sample(frac=1, random_state=42).reset_index(drop=True)\n",
    "\n",
    "  # Verify balance\n",
    "  logger.info(f\"Balanced subset size: {len(balanced_subset)} rows\")\n",
    "  logger.info(f\"Annotation distribution: {balanced_subset['annotation'].value_counts()}\")\n",
    "\n",
    "\n",
    "  train_size = int(0.7 * len(balanced_subset))\n",
    "  val_size = int(0.15 * len(balanced_subset))\n",
    "\n",
    "  train_data = balanced_subset[:train_size]\n",
    "  val_data = balanced_subset[train_size:train_size + val_size]\n",
    "  test_data = balanced_subset[train_size + val_size:]\n",
    "\n",
    "  # Log sizes of each split\n",
    "  logger.info(f\"Small Train size: {len(train_data)} rows | Small Test size: {len(test_data)} rows | Small Validation size: {len(val_data)} rows\")"
   ],
   "metadata": {
    "id": "5Fyezy2X-Vyo",
    "colab": {
     "base_uri": "https://localhost:8080/"
    },
    "executionInfo": {
     "status": "ok",
     "timestamp": 1736031403835,
     "user_tz": -60,
     "elapsed": 3,
     "user": {
      "displayName": "Max N.",
      "userId": "17347375569055604559"
     }
    },
    "outputId": "69d1a60d-b754-4332-fb89-aedbc527aa08"
   },
   "id": "5Fyezy2X-Vyo",
   "execution_count": null,
   "outputs": [
    {
     "output_type": "stream",
     "name": "stderr",
     "text": [
      "2025-01-04 22:56:43,285 - INFO - Train size: 16506 rows | Test size: 3537 rows | Validation size: 3537 rows\n"
     ]
    }
   ]
  },
  {
   "cell_type": "markdown",
   "source": [
    "\n"
   ],
   "metadata": {
    "id": "cm-xN4dHRA0M"
   },
   "id": "cm-xN4dHRA0M"
  },
  {
   "cell_type": "code",
   "source": [
    "# Load tokenizer\n",
    "tokenizer = AutoTokenizer.from_pretrained('deepset/gbert-base')\n",
    "\n",
    "# Define tokenization function\n",
    "# def tokenize_texts(texts, tokenizer, max_length=512):\n",
    "def tokenize_texts(texts, tokenizer, max_length=256): # reduced from the standard 512 to 256\n",
    "    \"\"\"\n",
    "    Tokenizes a list of input texts.\n",
    "\n",
    "    :param texts: List of input text strings.\n",
    "    :param tokenizer: Tokenizer to be used (e.g., BERT tokenizer).\n",
    "    :param max_length: Maximum sequence length for tokenization.\n",
    "    :return: Dictionary of tokenized outputs, including input IDs and attention masks.\n",
    "    \"\"\"\n",
    "    \n",
    "    return tokenizer(\n",
    "        list(texts),\n",
    "        truncation=True,\n",
    "        padding=True,\n",
    "        max_length=max_length,\n",
    "        return_tensors=\"pt\"\n",
    "    )\n",
    "\n",
    "# Tokenize train and test datasets\n",
    "train_encodings = tokenize_texts(train_data['comment'], tokenizer)\n",
    "val_encodings = tokenize_texts(val_data['comment'], tokenizer)\n",
    "test_encodings = tokenize_texts(test_data['comment'], tokenizer)\n",
    "\n",
    "# Define Dataset class\n",
    "class HateSpeechDataset(Dataset):\n",
    "    def __init__(self, encodings, labels):\n",
    "        \"\"\"\n",
    "        Custom dataset class for handling tokenized text and labels.\n",
    "\n",
    "        :param encodings: Tokenized text data.\n",
    "        :param labels: Corresponding labels for classification.\n",
    "        \"\"\"\n",
    "        \n",
    "        self.encodings = encodings\n",
    "        self.labels = labels\n",
    "\n",
    "    def __getitem__(self, idx):\n",
    "        \"\"\"\n",
    "        Retrieves a sample from the dataset.\n",
    "\n",
    "        :param idx: Index of the sample to retrieve.\n",
    "        :return: Dictionary containing tokenized inputs and label.\n",
    "        \"\"\"\n",
    "        \n",
    "        item = {key: val[idx] for key, val in self.encodings.items()}\n",
    "        item['labels'] = torch.tensor(self.labels[idx], dtype=torch.long)\n",
    "        return item\n",
    "\n",
    "    def __len__(self):\n",
    "        \"\"\"\n",
    "        Returns the total number of samples in the dataset.\n",
    "\n",
    "        :return: Integer count of samples.\n",
    "        \"\"\"\n",
    "        \n",
    "        return len(self.labels)\n",
    "\n",
    "# Create datasets\n",
    "train_dataset = HateSpeechDataset(train_encodings, train_data['annotation'].values)\n",
    "val_dataset = HateSpeechDataset(val_encodings, val_data['annotation'].values)\n",
    "test_dataset = HateSpeechDataset(test_encodings, test_data['annotation'].values)\n",
    "\n",
    "logger.info(f\"Training samples: {len(train_dataset)} | Test samples: {len(test_dataset)} | Validation samples: {len(val_dataset)}\")"
   ],
   "metadata": {
    "id": "zwFC0nbE-Y4Y",
    "colab": {
     "base_uri": "https://localhost:8080/",
     "height": 238,
     "referenced_widgets": [
      "df661ac612904ed5bef0a11aafa983e1",
      "972bee3a22644889834fb46e6ffe0b94",
      "bc1b972df79b4355b0499cf13d8c7310",
      "52206211cd6e4ce9866c06b6373942c6",
      "0a0881297c3149e4a23a04891bef6152",
      "d630d3a9772141f4bbcca92a656cfd10",
      "4ceb141982f34dbcb4028a2b6aefc633",
      "675e17df88904449adc33238ec0cbb6c",
      "b111bb60997140838aa112a0508e6b9c",
      "82d1ac1de9714d49820584e91aa2f1b4",
      "59d6f5e416964d349a5d729f56d5fb7a",
      "f5a023046af241958e131c28a1e5dd75",
      "9d22ffe232c2435c8e10146d25f105d8",
      "32cfcc0046ec42a8a86ab39790ea8019",
      "0bb73340fd8b425ea9c3b3dff28c7461",
      "ab645e287a8a42e38b94694f14e7de84",
      "9528d03540274622beb48f84ceffb1a1",
      "54d6fb34d76c48488d12f4538a5f76a3",
      "2a172e8d41a94360817f2553b7fc39d5",
      "3d8b9682f7af40ab8f1c28949f8370dd",
      "540a5ce8c8eb4b4390d03b892d1e82da",
      "91f16050aeef44a79e1945b80480f824",
      "9c6c4571dd3e4c85b51693a38487b924",
      "40a518105c5342169513e965c05bea1d",
      "1a89096ac6164d0e84590f6858f6f14a",
      "2277fda2dc264b329a19cd3cbd63878c",
      "b34e97d2d2fd424ea9e90832ef554203",
      "a3fa01f417a4414e9c308a7f3cde2426",
      "6b47a056c96f417c84a2285fa0024798",
      "ce9a4de4d33d44f9be368ecfb45c8941",
      "656165fc63514a39914543b0d28eb6db",
      "39aa38db33a4417896c5abba6414a576",
      "265b7f72e41f488d90e1658f6531af29"
     ]
    },
    "executionInfo": {
     "status": "ok",
     "timestamp": 1736031413312,
     "user_tz": -60,
     "elapsed": 9479,
     "user": {
      "displayName": "Max N.",
      "userId": "17347375569055604559"
     }
    },
    "outputId": "6425c73b-5167-4ba1-a987-379f706ddef3"
   },
   "id": "zwFC0nbE-Y4Y",
   "execution_count": null,
   "outputs": [
    {
     "output_type": "stream",
     "name": "stderr",
     "text": [
      "/usr/local/lib/python3.10/dist-packages/huggingface_hub/utils/_auth.py:94: UserWarning: \n",
      "The secret `HF_TOKEN` does not exist in your Colab secrets.\n",
      "To authenticate with the Hugging Face Hub, create a token in your settings tab (https://huggingface.co/settings/tokens), set it as secret in your Google Colab and restart your session.\n",
      "You will be able to reuse this secret in all of your notebooks.\n",
      "Please note that authentication is recommended but still optional to access public models or datasets.\n",
      "  warnings.warn(\n"
     ]
    },
    {
     "output_type": "display_data",
     "data": {
      "text/plain": [
       "tokenizer_config.json:   0%|          | 0.00/83.0 [00:00<?, ?B/s]"
      ],
      "application/vnd.jupyter.widget-view+json": {
       "version_major": 2,
       "version_minor": 0,
       "model_id": "df661ac612904ed5bef0a11aafa983e1"
      }
     },
     "metadata": {}
    },
    {
     "output_type": "display_data",
     "data": {
      "text/plain": [
       "config.json:   0%|          | 0.00/362 [00:00<?, ?B/s]"
      ],
      "application/vnd.jupyter.widget-view+json": {
       "version_major": 2,
       "version_minor": 0,
       "model_id": "f5a023046af241958e131c28a1e5dd75"
      }
     },
     "metadata": {}
    },
    {
     "output_type": "display_data",
     "data": {
      "text/plain": [
       "vocab.txt:   0%|          | 0.00/240k [00:00<?, ?B/s]"
      ],
      "application/vnd.jupyter.widget-view+json": {
       "version_major": 2,
       "version_minor": 0,
       "model_id": "9c6c4571dd3e4c85b51693a38487b924"
      }
     },
     "metadata": {}
    },
    {
     "output_type": "stream",
     "name": "stderr",
     "text": [
      "2025-01-04 22:56:52,748 - INFO - Training samples: 16506 | Test samples: 3537 | Validation samples: 3537\n"
     ]
    }
   ]
  },
  {
   "cell_type": "markdown",
   "source": [
    "## Define the function for calculating metrics and training"
   ],
   "metadata": {
    "id": "tdqsLmqOHEfJ"
   },
   "id": "tdqsLmqOHEfJ"
  },
  {
   "cell_type": "code",
   "source": [
    "def compute_metrics(eval_pred, trial=None, trainer=None):\n",
    "    \"\"\"\n",
    "    Computes evaluation metrics for classification.\n",
    "\n",
    "    :param eval_pred: Tuple containing predictions and labels.\n",
    "    :param trial: Optional Optuna trial object for hyperparameter tuning.\n",
    "    :param trainer: Optional Trainer object for tracking progress.\n",
    "    :return: Dictionary containing accuracy, precision, recall, F1-score, F2-score, and other metrics.\n",
    "    \"\"\"\n",
    "\n",
    "    # metrics computation for model evaluation, WandB tracking, and Optuna pruning.\n",
    "    predictions, labels = eval_pred\n",
    "    preds = predictions.argmax(axis=1)  # Predictions\n",
    "\n",
    "    # Calculate metrics\n",
    "    accuracy = accuracy_score(labels, preds)\n",
    "    precision, recall, f1, _ = precision_recall_fscore_support(labels, preds, average='binary')\n",
    "    f2 = fbeta_score(labels, preds, beta=2, average='binary')\n",
    "    mcc = matthews_corrcoef(labels, preds)\n",
    "    mcc_normalized = (mcc + 1) / 2\n",
    "    S = (f2 + mcc_normalized) / 2\n",
    "\n",
    "    # Prepare metrics dictionary\n",
    "    metrics = {\n",
    "        \"accuracy\": accuracy,\n",
    "        \"precision\": precision,\n",
    "        \"recall\": recall,\n",
    "        \"f1\": f1,\n",
    "        \"f2\": f2,\n",
    "        \"mcc\": mcc,\n",
    "        \"mcc_normalized\": mcc_normalized,\n",
    "        \"S\": S,\n",
    "    }\n",
    "    return metrics"
   ],
   "metadata": {
    "id": "y_da1DP9beRq"
   },
   "id": "y_da1DP9beRq",
   "execution_count": null,
   "outputs": []
  },
  {
   "cell_type": "code",
   "source": [
    "# Define Hyperparameters\n",
    "parameters = {\n",
    "    \"num_train_epochs\": 2,\n",
    "    \"learning_rate\": 4.328634134073221e-05,\n",
    "    \"batch_size\": 32,\n",
    "    \"weight_decay\": 0.07197525849859351\n",
    "}\n",
    "\n",
    "# Calculate training steps\n",
    "num_training_steps = len(train_dataset) // parameters[\"batch_size\"] * parameters[\"num_train_epochs\"]\n",
    "warmup_steps = int(0.08 * num_training_steps)  # 8% warmup steps\n",
    "logger.info(f\"Number of training steps: {num_training_steps} | Warmup steps: {warmup_steps}\")\n",
    "\n",
    "# Training Arguments\n",
    "training_args = TrainingArguments(\n",
    "    output_dir='/content/drive/MyDrive/model_fixed_param',\n",
    "    num_train_epochs=parameters[\"num_train_epochs\"],\n",
    "    per_device_train_batch_size=parameters[\"batch_size\"],\n",
    "    per_device_eval_batch_size=parameters[\"batch_size\"],\n",
    "    weight_decay=parameters[\"weight_decay\"],\n",
    "    learning_rate=parameters[\"learning_rate\"],\n",
    "    logging_dir='/content/drive/MyDrive/logs',\n",
    "    logging_steps=10,\n",
    "    evaluation_strategy=\"epoch\",\n",
    "    save_strategy=\"epoch\",\n",
    "    report_to=\"wandb\",\n",
    "    warmup_steps=warmup_steps,\n",
    "    fp16=True,\n",
    "    run_name=f'bert_CNN_fixed_params'\n",
    ")"
   ],
   "metadata": {
    "id": "ru50wUPlwP8r",
    "executionInfo": {
     "status": "ok",
     "timestamp": 1736031413312,
     "user_tz": -60,
     "elapsed": 5,
     "user": {
      "displayName": "Max N.",
      "userId": "17347375569055604559"
     }
    },
    "colab": {
     "base_uri": "https://localhost:8080/"
    },
    "outputId": "0ffd9c46-e826-456b-c34d-1a8005a1ce9a"
   },
   "id": "ru50wUPlwP8r",
   "execution_count": null,
   "outputs": [
    {
     "output_type": "stream",
     "name": "stderr",
     "text": [
      "/usr/local/lib/python3.10/dist-packages/transformers/training_args.py:1575: FutureWarning: `evaluation_strategy` is deprecated and will be removed in version 4.46 of 🤗 Transformers. Use `eval_strategy` instead\n",
      "  warnings.warn(\n"
     ]
    }
   ]
  },
  {
   "cell_type": "code",
   "source": [
    "def safe_wandb_finish(timeout=45):\n",
    "    \"\"\"\n",
    "    Ensures safe termination of the WandB session with a timeout.\n",
    "\n",
    "    :param timeout: Maximum time (in seconds) to wait for WandB termination.\n",
    "    \"\"\"\n",
    "    \n",
    "    # Safely terminates wandb.finish() with a timeout.\n",
    "    def finish_task():\n",
    "        try:\n",
    "            #import wandb\n",
    "            wandb.finish()\n",
    "        except Exception as e:\n",
    "            logger.error(f\"Error in wandb.finish(): {e}\")\n",
    "\n",
    "    finish_thread = threading.Thread(target=finish_task)\n",
    "    finish_thread.start()\n",
    "    finish_thread.join(timeout=timeout)  # Wait for up to `timeout` seconds\n",
    "\n",
    "    if finish_thread.is_alive():\n",
    "        logger.warning(\"wandb.finish() timed out. Proceeding with runtime.unassign().\")\n",
    "    else:\n",
    "        logger.info(\"wandb.finish() completed successfully.\")\n"
   ],
   "metadata": {
    "id": "yzWtKExm_Ajp"
   },
   "id": "yzWtKExm_Ajp",
   "execution_count": null,
   "outputs": []
  },
  {
   "cell_type": "markdown",
   "source": [
    "## Ensure that wandb is terminating and session ends after training"
   ],
   "metadata": {
    "id": "w9cNPiP2HXiG"
   },
   "id": "w9cNPiP2HXiG"
  },
  {
   "cell_type": "code",
   "source": [
    "all_results = []\n",
    "\n",
    "# Create distinctive name for wandb run\n",
    "timestamp = datetime.datetime.now().strftime(\"%Y-%m-%d_%H-%M-%S\")\n",
    "run_name = f\"BERT_CNN_fixed_params{timestamp}\"\n",
    "\n",
    "# Initialize WandB with a unique run ID\n",
    "run = wandb.init(\n",
    "    project=\"German_Hate_Speech_Classification\",\n",
    "    name=run_name,\n",
    "    #reinit=True,\n",
    "    id=run_name\n",
    ")\n",
    "\n",
    "# Initialize model\n",
    "model = BERT_CNN(bert_model_name=\"deepset/gbert-base\", num_labels=2, class_weights=class_weights)\n",
    "model.to(device)\n",
    "\n",
    "# Trainer\n",
    "trainer = Trainer(\n",
    "    model=model,\n",
    "    args=training_args,\n",
    "    train_dataset=train_dataset,\n",
    "    eval_dataset=val_dataset,\n",
    "    compute_metrics=compute_metrics\n",
    ")\n",
    "\n",
    "# Train and Evaluate\n",
    "trainer.train()\n",
    "\n",
    "# Get predictions on val_dataset\n",
    "predictions = trainer.predict(val_dataset)\n",
    "\n",
    "eval_metrics = compute_metrics((predictions.predictions, predictions.label_ids))\n",
    "logger.info(f\"Validation Metrics: {eval_metrics}\")\n",
    "wandb.log(eval_metrics)\n",
    "\n",
    "# Get predictions on test_dataset\n",
    "test_predictions = trainer.predict(test_dataset)\n",
    "test_metrics = compute_metrics((test_predictions.predictions, test_predictions.label_ids))\n",
    "logger.info(f\"Test Metrics: {test_metrics}\")\n",
    "wandb.log(test_metrics)\n",
    "\n",
    "logits, labels = test_predictions.predictions, test_predictions.label_ids\n",
    "preds = np.argmax(logits, axis=1)\n",
    "cm = confusion_matrix(labels, preds)\n",
    "disp = ConfusionMatrixDisplay(confusion_matrix=cm, display_labels=[\"No Hate-Speech\", \"Hate-Speech\"])\n",
    "\n",
    "# Plot Confusion Matrix\n",
    "plt.figure(figsize=(8, 6))\n",
    "disp.plot(cmap=plt.cm.Blues)\n",
    "plt.title(f\"Confusion Matrix\")\n",
    "plt.tight_layout()\n",
    "plt.show()\n",
    "\n",
    "all_results.append({\n",
    "    \"Trial_Name\": run_name,\n",
    "    \"Dataset\": dataset_filename,\n",
    "    **eval_metrics,\n",
    "    **{f\"test_{k}\": v for k, v in test_metrics.items()}\n",
    "})\n",
    "\n",
    "# Save results to Excel\n",
    "excel_file_path = \"/content/drive/MyDrive/model/logged_model_metrics.xlsx\"\n",
    "if os.path.exists(excel_file_path):\n",
    "    existing_df = pd.read_excel(excel_file_path, index_col=\"Trial_Name\")\n",
    "    new_df = pd.DataFrame(all_results)\n",
    "    new_df.set_index(\"Trial_Name\", inplace=True)\n",
    "    results_df = pd.concat([existing_df, new_df])\n",
    "else:\n",
    "    results_df = pd.DataFrame(all_results)\n",
    "    results_df.set_index(\"Trial_Name\", inplace=True)\n",
    "\n",
    "results_df.to_excel(excel_file_path)\n",
    "\n",
    "# Save model\n",
    "model_dir = f\"/content/drive/MyDrive/model/BERT_CNN_{timestamp}\"\n",
    "os.makedirs(model_dir, exist_ok=True)\n",
    "model_filename = os.path.join(model_dir, \"model_CNN_fixed_params.bin\")\n",
    "torch.save(model.state_dict(), model_filename)\n",
    "\n",
    "# Save tokenizer\n",
    "tokenizer.save_pretrained(model_dir)\n",
    "\n",
    "\n",
    "# Finish WandB\n",
    "safe_wandb_finish(timeout=45)\n",
    "logger.info(f\"Model saved to {model_dir}\")\n",
    "logger.info(\"Process finished and terminated\")\n",
    "time.sleep(5)\n",
    "runtime.unassign()\n"
   ],
   "metadata": {
    "id": "NUuD_jOzC1Wm",
    "colab": {
     "base_uri": "https://localhost:8080/",
     "height": 1000,
     "referenced_widgets": [
      "cb6e613224ee43178365d103ae7fd9eb",
      "6d7eacd451a64ba4bee1217fe50b2abb",
      "939a7025aa524b49ae027aa515eba566",
      "ac422746ce474c86aee08bcc71d24648",
      "7c0edc9aecf24f21ade57de30b438e8c",
      "5ed53dddbb4f4d83bf370857469ae6ff",
      "4c43c44057c248f598d902b4456c519b",
      "d1e73bf250df4b83b850540cf12feb04",
      "6dda9141522743a1836e945e877b0331",
      "2390db14f6ac4de6a778a14dfa11c292",
      "6919144b829041d58dba05c6d55fdadc"
     ]
    },
    "outputId": "932770a9-3d37-46b1-ebb6-995f1a0c4233"
   },
   "id": "NUuD_jOzC1Wm",
   "execution_count": null,
   "outputs": [
    {
     "output_type": "display_data",
     "data": {
      "text/plain": [
       "<IPython.core.display.HTML object>"
      ],
      "text/html": [
       "Tracking run with wandb version 0.19.1"
      ]
     },
     "metadata": {}
    },
    {
     "output_type": "display_data",
     "data": {
      "text/plain": [
       "<IPython.core.display.HTML object>"
      ],
      "text/html": [
       "Run data is saved locally in <code>/content/wandb/run-20250104_225652-BERT_CNN_fixed_params2025-01-04_22-56-52</code>"
      ]
     },
     "metadata": {}
    },
    {
     "output_type": "display_data",
     "data": {
      "text/plain": [
       "<IPython.core.display.HTML object>"
      ],
      "text/html": [
       "Syncing run <strong><a href='https://wandb.ai/maxnienh-xx/German_Hate_Speech_Classification/runs/BERT_CNN_fixed_params2025-01-04_22-56-52' target=\"_blank\">BERT_CNN_fixed_params2025-01-04_22-56-52</a></strong> to <a href='https://wandb.ai/maxnienh-xx/German_Hate_Speech_Classification' target=\"_blank\">Weights & Biases</a> (<a href='https://wandb.me/developer-guide' target=\"_blank\">docs</a>)<br>"
      ]
     },
     "metadata": {}
    },
    {
     "output_type": "display_data",
     "data": {
      "text/plain": [
       "<IPython.core.display.HTML object>"
      ],
      "text/html": [
       " View project at <a href='https://wandb.ai/maxnienh-xx/German_Hate_Speech_Classification' target=\"_blank\">https://wandb.ai/maxnienh-xx/German_Hate_Speech_Classification</a>"
      ]
     },
     "metadata": {}
    },
    {
     "output_type": "display_data",
     "data": {
      "text/plain": [
       "<IPython.core.display.HTML object>"
      ],
      "text/html": [
       " View run at <a href='https://wandb.ai/maxnienh-xx/German_Hate_Speech_Classification/runs/BERT_CNN_fixed_params2025-01-04_22-56-52' target=\"_blank\">https://wandb.ai/maxnienh-xx/German_Hate_Speech_Classification/runs/BERT_CNN_fixed_params2025-01-04_22-56-52</a>"
      ]
     },
     "metadata": {}
    },
    {
     "output_type": "display_data",
     "data": {
      "text/plain": [
       "model.safetensors:   0%|          | 0.00/442M [00:00<?, ?B/s]"
      ],
      "application/vnd.jupyter.widget-view+json": {
       "version_major": 2,
       "version_minor": 0,
       "model_id": "cb6e613224ee43178365d103ae7fd9eb"
      }
     },
     "metadata": {}
    },
    {
     "output_type": "display_data",
     "data": {
      "text/plain": [
       "<IPython.core.display.HTML object>"
      ],
      "text/html": [
       "\n",
       "    <div>\n",
       "      \n",
       "      <progress value='1548' max='1548' style='width:300px; height:20px; vertical-align: middle;'></progress>\n",
       "      [1548/1548 02:34, Epoch 3/3]\n",
       "    </div>\n",
       "    <table border=\"1\" class=\"dataframe\">\n",
       "  <thead>\n",
       " <tr style=\"text-align: left;\">\n",
       "      <th>Epoch</th>\n",
       "      <th>Training Loss</th>\n",
       "      <th>Validation Loss</th>\n",
       "      <th>Accuracy</th>\n",
       "      <th>Precision</th>\n",
       "      <th>Recall</th>\n",
       "      <th>F1</th>\n",
       "      <th>F2</th>\n",
       "      <th>Mcc</th>\n",
       "      <th>Mcc Normalized</th>\n",
       "      <th>S</th>\n",
       "    </tr>\n",
       "  </thead>\n",
       "  <tbody>\n",
       "    <tr>\n",
       "      <td>1</td>\n",
       "      <td>0.206000</td>\n",
       "      <td>0.165248</td>\n",
       "      <td>0.927340</td>\n",
       "      <td>0.843105</td>\n",
       "      <td>0.938419</td>\n",
       "      <td>0.888212</td>\n",
       "      <td>0.917670</td>\n",
       "      <td>0.837245</td>\n",
       "      <td>0.918622</td>\n",
       "      <td>0.918146</td>\n",
       "    </tr>\n",
       "    <tr>\n",
       "      <td>2</td>\n",
       "      <td>0.103300</td>\n",
       "      <td>0.198932</td>\n",
       "      <td>0.945999</td>\n",
       "      <td>0.906618</td>\n",
       "      <td>0.919118</td>\n",
       "      <td>0.912825</td>\n",
       "      <td>0.916590</td>\n",
       "      <td>0.873756</td>\n",
       "      <td>0.936878</td>\n",
       "      <td>0.926734</td>\n",
       "    </tr>\n",
       "    <tr>\n",
       "      <td>3</td>\n",
       "      <td>0.023800</td>\n",
       "      <td>0.301698</td>\n",
       "      <td>0.948261</td>\n",
       "      <td>0.921715</td>\n",
       "      <td>0.909007</td>\n",
       "      <td>0.915317</td>\n",
       "      <td>0.911521</td>\n",
       "      <td>0.878115</td>\n",
       "      <td>0.939058</td>\n",
       "      <td>0.925289</td>\n",
       "    </tr>\n",
       "  </tbody>\n",
       "</table><p>"
      ]
     },
     "metadata": {}
    },
    {
     "output_type": "display_data",
     "data": {
      "text/plain": [
       "<IPython.core.display.HTML object>"
      ],
      "text/html": []
     },
     "metadata": {}
    },
    {
     "output_type": "stream",
     "name": "stderr",
     "text": [
      "2025-01-04 22:59:37,302 - INFO - Validation Metrics: {'accuracy': 0.9482612383375743, 'precision': 0.9217148182665424, 'recall': 0.9090073529411765, 'f1': 0.9153169828782971, 'f2': 0.911520737327189, 'mcc': 0.8781153050503592, 'mcc_normalized': 0.9390576525251796, 'S': 0.9252891949261843}\n"
     ]
    },
    {
     "output_type": "display_data",
     "data": {
      "text/plain": [
       "<IPython.core.display.HTML object>"
      ],
      "text/html": []
     },
     "metadata": {}
    },
    {
     "output_type": "stream",
     "name": "stderr",
     "text": [
      "2025-01-04 22:59:39,079 - INFO - Test Metrics: {'accuracy': 0.946282160022618, 'precision': 0.9333976833976834, 'recall': 0.8887867647058824, 'f1': 0.9105461393596986, 'f2': 0.8973645137342242, 'mcc': 0.8727292138139088, 'mcc_normalized': 0.9363646069069544, 'S': 0.9168645603205894}\n"
     ]
    },
    {
     "output_type": "display_data",
     "data": {
      "text/plain": [
       "<Figure size 800x600 with 0 Axes>"
      ]
     },
     "metadata": {}
    },
    {
     "output_type": "display_data",
     "data": {
      "text/plain": [
       "<Figure size 640x480 with 2 Axes>"
      ],
      "image/png": "[encoded data removed]"
     },
     "metadata": {}
    },
    {
     "output_type": "display_data",
     "data": {
      "text/plain": [
       "<IPython.core.display.HTML object>"
      ],
      "text/html": []
     },
     "metadata": {}
    },
    {
     "output_type": "display_data",
     "data": {
      "text/plain": [
       "<IPython.core.display.HTML object>"
      ],
      "text/html": [
       "<br>    <style><br>        .wandb-row {<br>            display: flex;<br>            flex-direction: row;<br>            flex-wrap: wrap;<br>            justify-content: flex-start;<br>            width: 100%;<br>        }<br>        .wandb-col {<br>            display: flex;<br>            flex-direction: column;<br>            flex-basis: 100%;<br>            flex: 1;<br>            padding: 10px;<br>        }<br>    </style><br><div class=\"wandb-row\"><div class=\"wandb-col\"><h3>Run history:</h3><br/><table class=\"wandb\"><tr><td>S</td><td>█▁</td></tr><tr><td>accuracy</td><td>█▁</td></tr><tr><td>eval/S</td><td>▁█▇</td></tr><tr><td>eval/accuracy</td><td>▁▇█</td></tr><tr><td>eval/f1</td><td>▁▇█</td></tr><tr><td>eval/f2</td><td>█▇▁</td></tr><tr><td>eval/loss</td><td>▁▃█</td></tr><tr><td>eval/mcc</td><td>▁▇█</td></tr><tr><td>eval/mcc_normalized</td><td>▁▇█</td></tr><tr><td>eval/precision</td><td>▁▇█</td></tr><tr><td>eval/recall</td><td>█▃▁</td></tr><tr><td>eval/runtime</td><td>▃▁█</td></tr><tr><td>eval/samples_per_second</td><td>▆█▁</td></tr><tr><td>eval/steps_per_second</td><td>▆█▁</td></tr><tr><td>f1</td><td>█▁</td></tr><tr><td>f2</td><td>█▁</td></tr><tr><td>mcc</td><td>█▁</td></tr><tr><td>mcc_normalized</td><td>█▁</td></tr><tr><td>precision</td><td>▁█</td></tr><tr><td>recall</td><td>█▁</td></tr><tr><td>test/S</td><td>█▁</td></tr><tr><td>test/accuracy</td><td>█▁</td></tr><tr><td>test/f1</td><td>█▁</td></tr><tr><td>test/f2</td><td>█▁</td></tr><tr><td>test/loss</td><td>▁█</td></tr><tr><td>test/mcc</td><td>█▁</td></tr><tr><td>test/mcc_normalized</td><td>█▁</td></tr><tr><td>test/precision</td><td>▁█</td></tr><tr><td>test/recall</td><td>█▁</td></tr><tr><td>test/runtime</td><td>█▁</td></tr><tr><td>test/samples_per_second</td><td>▁█</td></tr><tr><td>test/steps_per_second</td><td>▁█</td></tr><tr><td>train/epoch</td><td>▁▁▁▁▁▂▂▂▂▂▃▃▃▃▃▃▄▄▄▄▅▅▅▅▆▆▆▆▇▇▇▇▇▇▇█████</td></tr><tr><td>train/global_step</td><td>▁▂▂▂▂▂▃▃▃▃▃▃▃▄▄▄▄▅▅▅▅▅▅▅▆▆▆▆▆▆▇▇▇▇▇▇▇███</td></tr><tr><td>train/grad_norm</td><td>▃▄▂▂▂▄▂▃▂▃▄▄▂▂▂▂▂▁▅▁▄▁▂▂▂▃█▄▁▇█▃▁▁▄▃▁▁▁▁</td></tr><tr><td>train/learning_rate</td><td>████▇▇▇▇▇▇▇▆▆▆▅▅▅▅▄▄▄▄▄▄▄▃▃▃▃▃▃▃▃▃▂▂▂▂▁▁</td></tr><tr><td>train/loss</td><td>▇█▆▆▇▅▅▅▆▇▆▆▅▅▆▆▂▄▂▃▃▄▄▃▃▄▃▃▁▁▁▂▂▁▁▂▁▁▁▁</td></tr></table><br/></div><div class=\"wandb-col\"><h3>Run summary:</h3><br/><table class=\"wandb\"><tr><td>S</td><td>0.91686</td></tr><tr><td>accuracy</td><td>0.94628</td></tr><tr><td>eval/S</td><td>0.92529</td></tr><tr><td>eval/accuracy</td><td>0.94826</td></tr><tr><td>eval/f1</td><td>0.91532</td></tr><tr><td>eval/f2</td><td>0.91152</td></tr><tr><td>eval/loss</td><td>0.3017</td></tr><tr><td>eval/mcc</td><td>0.87812</td></tr><tr><td>eval/mcc_normalized</td><td>0.93906</td></tr><tr><td>eval/precision</td><td>0.92171</td></tr><tr><td>eval/recall</td><td>0.90901</td></tr><tr><td>eval/runtime</td><td>1.798</td></tr><tr><td>eval/samples_per_second</td><td>1967.179</td></tr><tr><td>eval/steps_per_second</td><td>31.146</td></tr><tr><td>f1</td><td>0.91055</td></tr><tr><td>f2</td><td>0.89736</td></tr><tr><td>mcc</td><td>0.87273</td></tr><tr><td>mcc_normalized</td><td>0.93636</td></tr><tr><td>precision</td><td>0.9334</td></tr><tr><td>recall</td><td>0.88879</td></tr><tr><td>test/S</td><td>0.91686</td></tr><tr><td>test/accuracy</td><td>0.94628</td></tr><tr><td>test/f1</td><td>0.91055</td></tr><tr><td>test/f2</td><td>0.89736</td></tr><tr><td>test/loss</td><td>0.35343</td></tr><tr><td>test/mcc</td><td>0.87273</td></tr><tr><td>test/mcc_normalized</td><td>0.93636</td></tr><tr><td>test/precision</td><td>0.9334</td></tr><tr><td>test/recall</td><td>0.88879</td></tr><tr><td>test/runtime</td><td>1.763</td></tr><tr><td>test/samples_per_second</td><td>2006.215</td></tr><tr><td>test/steps_per_second</td><td>31.764</td></tr><tr><td>total_flos</td><td>0</td></tr><tr><td>train/epoch</td><td>3</td></tr><tr><td>train/global_step</td><td>1548</td></tr><tr><td>train/grad_norm</td><td>5.20895</td></tr><tr><td>train/learning_rate</td><td>0.0</td></tr><tr><td>train/loss</td><td>0.0238</td></tr><tr><td>train_loss</td><td>0.1274</td></tr><tr><td>train_runtime</td><td>156.761</td></tr><tr><td>train_samples_per_second</td><td>315.882</td></tr><tr><td>train_steps_per_second</td><td>9.875</td></tr></table><br/></div></div>"
      ]
     },
     "metadata": {}
    },
    {
     "output_type": "display_data",
     "data": {
      "text/plain": [
       "<IPython.core.display.HTML object>"
      ],
      "text/html": [
       " View run <strong style=\"color:#cdcd00\">BERT_CNN_fixed_params2025-01-04_22-56-52</strong> at: <a href='https://wandb.ai/maxnienh-xx/German_Hate_Speech_Classification/runs/BERT_CNN_fixed_params2025-01-04_22-56-52' target=\"_blank\">https://wandb.ai/maxnienh-xx/German_Hate_Speech_Classification/runs/BERT_CNN_fixed_params2025-01-04_22-56-52</a><br> View project at: <a href='https://wandb.ai/maxnienh-xx/German_Hate_Speech_Classification' target=\"_blank\">https://wandb.ai/maxnienh-xx/German_Hate_Speech_Classification</a><br>Synced 5 W&B file(s), 0 media file(s), 0 artifact file(s) and 0 other file(s)"
      ]
     },
     "metadata": {}
    },
    {
     "output_type": "display_data",
     "data": {
      "text/plain": [
       "<IPython.core.display.HTML object>"
      ],
      "text/html": [
       "Find logs at: <code>./wandb/run-20250104_225652-BERT_CNN_fixed_params2025-01-04_22-56-52/logs</code>"
      ]
     },
     "metadata": {}
    },
    {
     "output_type": "stream",
     "name": "stderr",
     "text": [
      "2025-01-04 22:59:45,013 - INFO - wandb.finish() completed successfully.\n",
      "2025-01-04 22:59:45,014 - INFO - Model saved to /content/drive/MyDrive/model/BERT_CNN_2025-01-04_22-56-52\n",
      "2025-01-04 22:59:45,015 - INFO - Process finished and terminated\n"
     ]
    }
   ]
  }
 ],
 "metadata": {
  "kernelspec": {
   "display_name": "Python 3",
   "name": "python3"
  },
  "language_info": {
   "codemirror_mode": {
    "name": "ipython",
    "version": 2
   },
   "file_extension": ".py",
   "mimetype": "text/x-python",
   "name": "python",
   "nbconvert_exporter": "python",
   "pygments_lexer": "ipython2",
   "version": "2.7.6"
  },
  "colab": {
   "provenance": [],
   "gpuType": "A100",
   "machine_shape": "hm"
  },
  "accelerator": "GPU",
  "widgets": {
   "application/vnd.jupyter.widget-state+json": {
    "state": {
        "df661ac612904ed5bef0a11aafa983e1": {
     "model_module": "@jupyter-widgets/controls",
     "model_name": "HBoxModel",
     "model_module_version": "1.5.0",
     "state": {
      "_dom_classes": [],
      "_model_module": "@jupyter-widgets/controls",
      "_model_module_version": "1.5.0",
      "_model_name": "HBoxModel",
      "_view_count": null,
      "_view_module": "@jupyter-widgets/controls",
      "_view_module_version": "1.5.0",
      "_view_name": "HBoxView",
      "box_style": "",
      "children": [
       "IPY_MODEL_972bee3a22644889834fb46e6ffe0b94",
       "IPY_MODEL_bc1b972df79b4355b0499cf13d8c7310",
       "IPY_MODEL_52206211cd6e4ce9866c06b6373942c6"
      ],
      "layout": "IPY_MODEL_0a0881297c3149e4a23a04891bef6152"
     }
    },
    "972bee3a22644889834fb46e6ffe0b94": {
     "model_module": "@jupyter-widgets/controls",
     "model_name": "HTMLModel",
     "model_module_version": "1.5.0",
     "state": {
      "_dom_classes": [],
      "_model_module": "@jupyter-widgets/controls",
      "_model_module_version": "1.5.0",
      "_model_name": "HTMLModel",
      "_view_count": null,
      "_view_module": "@jupyter-widgets/controls",
      "_view_module_version": "1.5.0",
      "_view_name": "HTMLView",
      "description": "",
      "description_tooltip": null,
      "layout": "IPY_MODEL_d630d3a9772141f4bbcca92a656cfd10",
      "placeholder": "​",
      "style": "IPY_MODEL_4ceb141982f34dbcb4028a2b6aefc633",
      "value": "tokenizer_config.json: 100%"
     }
    },
    "bc1b972df79b4355b0499cf13d8c7310": {
     "model_module": "@jupyter-widgets/controls",
     "model_name": "FloatProgressModel",
     "model_module_version": "1.5.0",
     "state": {
      "_dom_classes": [],
      "_model_module": "@jupyter-widgets/controls",
      "_model_module_version": "1.5.0",
      "_model_name": "FloatProgressModel",
      "_view_count": null,
      "_view_module": "@jupyter-widgets/controls",
      "_view_module_version": "1.5.0",
      "_view_name": "ProgressView",
      "bar_style": "success",
      "description": "",
      "description_tooltip": null,
      "layout": "IPY_MODEL_675e17df88904449adc33238ec0cbb6c",
      "max": 83,
      "min": 0,
      "orientation": "horizontal",
      "style": "IPY_MODEL_b111bb60997140838aa112a0508e6b9c",
      "value": 83
     }
    },
    "52206211cd6e4ce9866c06b6373942c6": {
     "model_module": "@jupyter-widgets/controls",
     "model_name": "HTMLModel",
     "model_module_version": "1.5.0",
     "state": {
      "_dom_classes": [],
      "_model_module": "@jupyter-widgets/controls",
      "_model_module_version": "1.5.0",
      "_model_name": "HTMLModel",
      "_view_count": null,
      "_view_module": "@jupyter-widgets/controls",
      "_view_module_version": "1.5.0",
      "_view_name": "HTMLView",
      "description": "",
      "description_tooltip": null,
      "layout": "IPY_MODEL_82d1ac1de9714d49820584e91aa2f1b4",
      "placeholder": "​",
      "style": "IPY_MODEL_59d6f5e416964d349a5d729f56d5fb7a",
      "value": " 83.0/83.0 [00:00&lt;00:00, 6.36kB/s]"
     }
    },
    "0a0881297c3149e4a23a04891bef6152": {
     "model_module": "@jupyter-widgets/base",
     "model_name": "LayoutModel",
     "model_module_version": "1.2.0",
     "state": {
      "_model_module": "@jupyter-widgets/base",
      "_model_module_version": "1.2.0",
      "_model_name": "LayoutModel",
      "_view_count": null,
      "_view_module": "@jupyter-widgets/base",
      "_view_module_version": "1.2.0",
      "_view_name": "LayoutView",
      "align_content": null,
      "align_items": null,
      "align_self": null,
      "border": null,
      "bottom": null,
      "display": null,
      "flex": null,
      "flex_flow": null,
      "grid_area": null,
      "grid_auto_columns": null,
      "grid_auto_flow": null,
      "grid_auto_rows": null,
      "grid_column": null,
      "grid_gap": null,
      "grid_row": null,
      "grid_template_areas": null,
      "grid_template_columns": null,
      "grid_template_rows": null,
      "height": null,
      "justify_content": null,
      "justify_items": null,
      "left": null,
      "margin": null,
      "max_height": null,
      "max_width": null,
      "min_height": null,
      "min_width": null,
      "object_fit": null,
      "object_position": null,
      "order": null,
      "overflow": null,
      "overflow_x": null,
      "overflow_y": null,
      "padding": null,
      "right": null,
      "top": null,
      "visibility": null,
      "width": null
     }
    },
    "d630d3a9772141f4bbcca92a656cfd10": {
     "model_module": "@jupyter-widgets/base",
     "model_name": "LayoutModel",
     "model_module_version": "1.2.0",
     "state": {
      "_model_module": "@jupyter-widgets/base",
      "_model_module_version": "1.2.0",
      "_model_name": "LayoutModel",
      "_view_count": null,
      "_view_module": "@jupyter-widgets/base",
      "_view_module_version": "1.2.0",
      "_view_name": "LayoutView",
      "align_content": null,
      "align_items": null,
      "align_self": null,
      "border": null,
      "bottom": null,
      "display": null,
      "flex": null,
      "flex_flow": null,
      "grid_area": null,
      "grid_auto_columns": null,
      "grid_auto_flow": null,
      "grid_auto_rows": null,
      "grid_column": null,
      "grid_gap": null,
      "grid_row": null,
      "grid_template_areas": null,
      "grid_template_columns": null,
      "grid_template_rows": null,
      "height": null,
      "justify_content": null,
      "justify_items": null,
      "left": null,
      "margin": null,
      "max_height": null,
      "max_width": null,
      "min_height": null,
      "min_width": null,
      "object_fit": null,
      "object_position": null,
      "order": null,
      "overflow": null,
      "overflow_x": null,
      "overflow_y": null,
      "padding": null,
      "right": null,
      "top": null,
      "visibility": null,
      "width": null
     }
    },
    "4ceb141982f34dbcb4028a2b6aefc633": {
     "model_module": "@jupyter-widgets/controls",
     "model_name": "DescriptionStyleModel",
     "model_module_version": "1.5.0",
     "state": {
      "_model_module": "@jupyter-widgets/controls",
      "_model_module_version": "1.5.0",
      "_model_name": "DescriptionStyleModel",
      "_view_count": null,
      "_view_module": "@jupyter-widgets/base",
      "_view_module_version": "1.2.0",
      "_view_name": "StyleView",
      "description_width": ""
     }
    },
    "675e17df88904449adc33238ec0cbb6c": {
     "model_module": "@jupyter-widgets/base",
     "model_name": "LayoutModel",
     "model_module_version": "1.2.0",
     "state": {
      "_model_module": "@jupyter-widgets/base",
      "_model_module_version": "1.2.0",
      "_model_name": "LayoutModel",
      "_view_count": null,
      "_view_module": "@jupyter-widgets/base",
      "_view_module_version": "1.2.0",
      "_view_name": "LayoutView",
      "align_content": null,
      "align_items": null,
      "align_self": null,
      "border": null,
      "bottom": null,
      "display": null,
      "flex": null,
      "flex_flow": null,
      "grid_area": null,
      "grid_auto_columns": null,
      "grid_auto_flow": null,
      "grid_auto_rows": null,
      "grid_column": null,
      "grid_gap": null,
      "grid_row": null,
      "grid_template_areas": null,
      "grid_template_columns": null,
      "grid_template_rows": null,
      "height": null,
      "justify_content": null,
      "justify_items": null,
      "left": null,
      "margin": null,
      "max_height": null,
      "max_width": null,
      "min_height": null,
      "min_width": null,
      "object_fit": null,
      "object_position": null,
      "order": null,
      "overflow": null,
      "overflow_x": null,
      "overflow_y": null,
      "padding": null,
      "right": null,
      "top": null,
      "visibility": null,
      "width": null
     }
    },
    "b111bb60997140838aa112a0508e6b9c": {
     "model_module": "@jupyter-widgets/controls",
     "model_name": "ProgressStyleModel",
     "model_module_version": "1.5.0",
     "state": {
      "_model_module": "@jupyter-widgets/controls",
      "_model_module_version": "1.5.0",
      "_model_name": "ProgressStyleModel",
      "_view_count": null,
      "_view_module": "@jupyter-widgets/base",
      "_view_module_version": "1.2.0",
      "_view_name": "StyleView",
      "bar_color": null,
      "description_width": ""
     }
    },
    "82d1ac1de9714d49820584e91aa2f1b4": {
     "model_module": "@jupyter-widgets/base",
     "model_name": "LayoutModel",
     "model_module_version": "1.2.0",
     "state": {
      "_model_module": "@jupyter-widgets/base",
      "_model_module_version": "1.2.0",
      "_model_name": "LayoutModel",
      "_view_count": null,
      "_view_module": "@jupyter-widgets/base",
      "_view_module_version": "1.2.0",
      "_view_name": "LayoutView",
      "align_content": null,
      "align_items": null,
      "align_self": null,
      "border": null,
      "bottom": null,
      "display": null,
      "flex": null,
      "flex_flow": null,
      "grid_area": null,
      "grid_auto_columns": null,
      "grid_auto_flow": null,
      "grid_auto_rows": null,
      "grid_column": null,
      "grid_gap": null,
      "grid_row": null,
      "grid_template_areas": null,
      "grid_template_columns": null,
      "grid_template_rows": null,
      "height": null,
      "justify_content": null,
      "justify_items": null,
      "left": null,
      "margin": null,
      "max_height": null,
      "max_width": null,
      "min_height": null,
      "min_width": null,
      "object_fit": null,
      "object_position": null,
      "order": null,
      "overflow": null,
      "overflow_x": null,
      "overflow_y": null,
      "padding": null,
      "right": null,
      "top": null,
      "visibility": null,
      "width": null
     }
    },
    "59d6f5e416964d349a5d729f56d5fb7a": {
     "model_module": "@jupyter-widgets/controls",
     "model_name": "DescriptionStyleModel",
     "model_module_version": "1.5.0",
     "state": {
      "_model_module": "@jupyter-widgets/controls",
      "_model_module_version": "1.5.0",
      "_model_name": "DescriptionStyleModel",
      "_view_count": null,
      "_view_module": "@jupyter-widgets/base",
      "_view_module_version": "1.2.0",
      "_view_name": "StyleView",
      "description_width": ""
     }
    },
    "f5a023046af241958e131c28a1e5dd75": {
     "model_module": "@jupyter-widgets/controls",
     "model_name": "HBoxModel",
     "model_module_version": "1.5.0",
     "state": {
      "_dom_classes": [],
      "_model_module": "@jupyter-widgets/controls",
      "_model_module_version": "1.5.0",
      "_model_name": "HBoxModel",
      "_view_count": null,
      "_view_module": "@jupyter-widgets/controls",
      "_view_module_version": "1.5.0",
      "_view_name": "HBoxView",
      "box_style": "",
      "children": [
       "IPY_MODEL_9d22ffe232c2435c8e10146d25f105d8",
       "IPY_MODEL_32cfcc0046ec42a8a86ab39790ea8019",
       "IPY_MODEL_0bb73340fd8b425ea9c3b3dff28c7461"
      ],
      "layout": "IPY_MODEL_ab645e287a8a42e38b94694f14e7de84"
     }
    },
    "9d22ffe232c2435c8e10146d25f105d8": {
     "model_module": "@jupyter-widgets/controls",
     "model_name": "HTMLModel",
     "model_module_version": "1.5.0",
     "state": {
      "_dom_classes": [],
      "_model_module": "@jupyter-widgets/controls",
      "_model_module_version": "1.5.0",
      "_model_name": "HTMLModel",
      "_view_count": null,
      "_view_module": "@jupyter-widgets/controls",
      "_view_module_version": "1.5.0",
      "_view_name": "HTMLView",
      "description": "",
      "description_tooltip": null,
      "layout": "IPY_MODEL_9528d03540274622beb48f84ceffb1a1",
      "placeholder": "​",
      "style": "IPY_MODEL_54d6fb34d76c48488d12f4538a5f76a3",
      "value": "config.json: 100%"
     }
    },
    "32cfcc0046ec42a8a86ab39790ea8019": {
     "model_module": "@jupyter-widgets/controls",
     "model_name": "FloatProgressModel",
     "model_module_version": "1.5.0",
     "state": {
      "_dom_classes": [],
      "_model_module": "@jupyter-widgets/controls",
      "_model_module_version": "1.5.0",
      "_model_name": "FloatProgressModel",
      "_view_count": null,
      "_view_module": "@jupyter-widgets/controls",
      "_view_module_version": "1.5.0",
      "_view_name": "ProgressView",
      "bar_style": "success",
      "description": "",
      "description_tooltip": null,
      "layout": "IPY_MODEL_2a172e8d41a94360817f2553b7fc39d5",
      "max": 362,
      "min": 0,
      "orientation": "horizontal",
      "style": "IPY_MODEL_3d8b9682f7af40ab8f1c28949f8370dd",
      "value": 362
     }
    },
    "0bb73340fd8b425ea9c3b3dff28c7461": {
     "model_module": "@jupyter-widgets/controls",
     "model_name": "HTMLModel",
     "model_module_version": "1.5.0",
     "state": {
      "_dom_classes": [],
      "_model_module": "@jupyter-widgets/controls",
      "_model_module_version": "1.5.0",
      "_model_name": "HTMLModel",
      "_view_count": null,
      "_view_module": "@jupyter-widgets/controls",
      "_view_module_version": "1.5.0",
      "_view_name": "HTMLView",
      "description": "",
      "description_tooltip": null,
      "layout": "IPY_MODEL_540a5ce8c8eb4b4390d03b892d1e82da",
      "placeholder": "​",
      "style": "IPY_MODEL_91f16050aeef44a79e1945b80480f824",
      "value": " 362/362 [00:00&lt;00:00, 29.0kB/s]"
     }
    },
    "ab645e287a8a42e38b94694f14e7de84": {
     "model_module": "@jupyter-widgets/base",
     "model_name": "LayoutModel",
     "model_module_version": "1.2.0",
     "state": {
      "_model_module": "@jupyter-widgets/base",
      "_model_module_version": "1.2.0",
      "_model_name": "LayoutModel",
      "_view_count": null,
      "_view_module": "@jupyter-widgets/base",
      "_view_module_version": "1.2.0",
      "_view_name": "LayoutView",
      "align_content": null,
      "align_items": null,
      "align_self": null,
      "border": null,
      "bottom": null,
      "display": null,
      "flex": null,
      "flex_flow": null,
      "grid_area": null,
      "grid_auto_columns": null,
      "grid_auto_flow": null,
      "grid_auto_rows": null,
      "grid_column": null,
      "grid_gap": null,
      "grid_row": null,
      "grid_template_areas": null,
      "grid_template_columns": null,
      "grid_template_rows": null,
      "height": null,
      "justify_content": null,
      "justify_items": null,
      "left": null,
      "margin": null,
      "max_height": null,
      "max_width": null,
      "min_height": null,
      "min_width": null,
      "object_fit": null,
      "object_position": null,
      "order": null,
      "overflow": null,
      "overflow_x": null,
      "overflow_y": null,
      "padding": null,
      "right": null,
      "top": null,
      "visibility": null,
      "width": null
     }
    },
    "9528d03540274622beb48f84ceffb1a1": {
     "model_module": "@jupyter-widgets/base",
     "model_name": "LayoutModel",
     "model_module_version": "1.2.0",
     "state": {
      "_model_module": "@jupyter-widgets/base",
      "_model_module_version": "1.2.0",
      "_model_name": "LayoutModel",
      "_view_count": null,
      "_view_module": "@jupyter-widgets/base",
      "_view_module_version": "1.2.0",
      "_view_name": "LayoutView",
      "align_content": null,
      "align_items": null,
      "align_self": null,
      "border": null,
      "bottom": null,
      "display": null,
      "flex": null,
      "flex_flow": null,
      "grid_area": null,
      "grid_auto_columns": null,
      "grid_auto_flow": null,
      "grid_auto_rows": null,
      "grid_column": null,
      "grid_gap": null,
      "grid_row": null,
      "grid_template_areas": null,
      "grid_template_columns": null,
      "grid_template_rows": null,
      "height": null,
      "justify_content": null,
      "justify_items": null,
      "left": null,
      "margin": null,
      "max_height": null,
      "max_width": null,
      "min_height": null,
      "min_width": null,
      "object_fit": null,
      "object_position": null,
      "order": null,
      "overflow": null,
      "overflow_x": null,
      "overflow_y": null,
      "padding": null,
      "right": null,
      "top": null,
      "visibility": null,
      "width": null
     }
    },
    "54d6fb34d76c48488d12f4538a5f76a3": {
     "model_module": "@jupyter-widgets/controls",
     "model_name": "DescriptionStyleModel",
     "model_module_version": "1.5.0",
     "state": {
      "_model_module": "@jupyter-widgets/controls",
      "_model_module_version": "1.5.0",
      "_model_name": "DescriptionStyleModel",
      "_view_count": null,
      "_view_module": "@jupyter-widgets/base",
      "_view_module_version": "1.2.0",
      "_view_name": "StyleView",
      "description_width": ""
     }
    },
    "2a172e8d41a94360817f2553b7fc39d5": {
     "model_module": "@jupyter-widgets/base",
     "model_name": "LayoutModel",
     "model_module_version": "1.2.0",
     "state": {
      "_model_module": "@jupyter-widgets/base",
      "_model_module_version": "1.2.0",
      "_model_name": "LayoutModel",
      "_view_count": null,
      "_view_module": "@jupyter-widgets/base",
      "_view_module_version": "1.2.0",
      "_view_name": "LayoutView",
      "align_content": null,
      "align_items": null,
      "align_self": null,
      "border": null,
      "bottom": null,
      "display": null,
      "flex": null,
      "flex_flow": null,
      "grid_area": null,
      "grid_auto_columns": null,
      "grid_auto_flow": null,
      "grid_auto_rows": null,
      "grid_column": null,
      "grid_gap": null,
      "grid_row": null,
      "grid_template_areas": null,
      "grid_template_columns": null,
      "grid_template_rows": null,
      "height": null,
      "justify_content": null,
      "justify_items": null,
      "left": null,
      "margin": null,
      "max_height": null,
      "max_width": null,
      "min_height": null,
      "min_width": null,
      "object_fit": null,
      "object_position": null,
      "order": null,
      "overflow": null,
      "overflow_x": null,
      "overflow_y": null,
      "padding": null,
      "right": null,
      "top": null,
      "visibility": null,
      "width": null
     }
    },
    "3d8b9682f7af40ab8f1c28949f8370dd": {
     "model_module": "@jupyter-widgets/controls",
     "model_name": "ProgressStyleModel",
     "model_module_version": "1.5.0",
     "state": {
      "_model_module": "@jupyter-widgets/controls",
      "_model_module_version": "1.5.0",
      "_model_name": "ProgressStyleModel",
      "_view_count": null,
      "_view_module": "@jupyter-widgets/base",
      "_view_module_version": "1.2.0",
      "_view_name": "StyleView",
      "bar_color": null,
      "description_width": ""
     }
    },
    "540a5ce8c8eb4b4390d03b892d1e82da": {
     "model_module": "@jupyter-widgets/base",
     "model_name": "LayoutModel",
     "model_module_version": "1.2.0",
     "state": {
      "_model_module": "@jupyter-widgets/base",
      "_model_module_version": "1.2.0",
      "_model_name": "LayoutModel",
      "_view_count": null,
      "_view_module": "@jupyter-widgets/base",
      "_view_module_version": "1.2.0",
      "_view_name": "LayoutView",
      "align_content": null,
      "align_items": null,
      "align_self": null,
      "border": null,
      "bottom": null,
      "display": null,
      "flex": null,
      "flex_flow": null,
      "grid_area": null,
      "grid_auto_columns": null,
      "grid_auto_flow": null,
      "grid_auto_rows": null,
      "grid_column": null,
      "grid_gap": null,
      "grid_row": null,
      "grid_template_areas": null,
      "grid_template_columns": null,
      "grid_template_rows": null,
      "height": null,
      "justify_content": null,
      "justify_items": null,
      "left": null,
      "margin": null,
      "max_height": null,
      "max_width": null,
      "min_height": null,
      "min_width": null,
      "object_fit": null,
      "object_position": null,
      "order": null,
      "overflow": null,
      "overflow_x": null,
      "overflow_y": null,
      "padding": null,
      "right": null,
      "top": null,
      "visibility": null,
      "width": null
     }
    },
    "91f16050aeef44a79e1945b80480f824": {
     "model_module": "@jupyter-widgets/controls",
     "model_name": "DescriptionStyleModel",
     "model_module_version": "1.5.0",
     "state": {
      "_model_module": "@jupyter-widgets/controls",
      "_model_module_version": "1.5.0",
      "_model_name": "DescriptionStyleModel",
      "_view_count": null,
      "_view_module": "@jupyter-widgets/base",
      "_view_module_version": "1.2.0",
      "_view_name": "StyleView",
      "description_width": ""
     }
    },
    "9c6c4571dd3e4c85b51693a38487b924": {
     "model_module": "@jupyter-widgets/controls",
     "model_name": "HBoxModel",
     "model_module_version": "1.5.0",
     "state": {
      "_dom_classes": [],
      "_model_module": "@jupyter-widgets/controls",
      "_model_module_version": "1.5.0",
      "_model_name": "HBoxModel",
      "_view_count": null,
      "_view_module": "@jupyter-widgets/controls",
      "_view_module_version": "1.5.0",
      "_view_name": "HBoxView",
      "box_style": "",
      "children": [
       "IPY_MODEL_40a518105c5342169513e965c05bea1d",
       "IPY_MODEL_1a89096ac6164d0e84590f6858f6f14a",
       "IPY_MODEL_2277fda2dc264b329a19cd3cbd63878c"
      ],
      "layout": "IPY_MODEL_b34e97d2d2fd424ea9e90832ef554203"
     }
    },
    "40a518105c5342169513e965c05bea1d": {
     "model_module": "@jupyter-widgets/controls",
     "model_name": "HTMLModel",
     "model_module_version": "1.5.0",
     "state": {
      "_dom_classes": [],
      "_model_module": "@jupyter-widgets/controls",
      "_model_module_version": "1.5.0",
      "_model_name": "HTMLModel",
      "_view_count": null,
      "_view_module": "@jupyter-widgets/controls",
      "_view_module_version": "1.5.0",
      "_view_name": "HTMLView",
      "description": "",
      "description_tooltip": null,
      "layout": "IPY_MODEL_a3fa01f417a4414e9c308a7f3cde2426",
      "placeholder": "​",
      "style": "IPY_MODEL_6b47a056c96f417c84a2285fa0024798",
      "value": "vocab.txt: 100%"
     }
    },
    "1a89096ac6164d0e84590f6858f6f14a": {
     "model_module": "@jupyter-widgets/controls",
     "model_name": "FloatProgressModel",
     "model_module_version": "1.5.0",
     "state": {
      "_dom_classes": [],
      "_model_module": "@jupyter-widgets/controls",
      "_model_module_version": "1.5.0",
      "_model_name": "FloatProgressModel",
      "_view_count": null,
      "_view_module": "@jupyter-widgets/controls",
      "_view_module_version": "1.5.0",
      "_view_name": "ProgressView",
      "bar_style": "success",
      "description": "",
      "description_tooltip": null,
      "layout": "IPY_MODEL_ce9a4de4d33d44f9be368ecfb45c8941",
      "max": 239836,
      "min": 0,
      "orientation": "horizontal",
      "style": "IPY_MODEL_656165fc63514a39914543b0d28eb6db",
      "value": 239836
     }
    },
    "2277fda2dc264b329a19cd3cbd63878c": {
     "model_module": "@jupyter-widgets/controls",
     "model_name": "HTMLModel",
     "model_module_version": "1.5.0",
     "state": {
      "_dom_classes": [],
      "_model_module": "@jupyter-widgets/controls",
      "_model_module_version": "1.5.0",
      "_model_name": "HTMLModel",
      "_view_count": null,
      "_view_module": "@jupyter-widgets/controls",
      "_view_module_version": "1.5.0",
      "_view_name": "HTMLView",
      "description": "",
      "description_tooltip": null,
      "layout": "IPY_MODEL_39aa38db33a4417896c5abba6414a576",
      "placeholder": "​",
      "style": "IPY_MODEL_265b7f72e41f488d90e1658f6531af29",
      "value": " 240k/240k [00:00&lt;00:00, 1.03MB/s]"
     }
    },
    "b34e97d2d2fd424ea9e90832ef554203": {
     "model_module": "@jupyter-widgets/base",
     "model_name": "LayoutModel",
     "model_module_version": "1.2.0",
     "state": {
      "_model_module": "@jupyter-widgets/base",
      "_model_module_version": "1.2.0",
      "_model_name": "LayoutModel",
      "_view_count": null,
      "_view_module": "@jupyter-widgets/base",
      "_view_module_version": "1.2.0",
      "_view_name": "LayoutView",
      "align_content": null,
      "align_items": null,
      "align_self": null,
      "border": null,
      "bottom": null,
      "display": null,
      "flex": null,
      "flex_flow": null,
      "grid_area": null,
      "grid_auto_columns": null,
      "grid_auto_flow": null,
      "grid_auto_rows": null,
      "grid_column": null,
      "grid_gap": null,
      "grid_row": null,
      "grid_template_areas": null,
      "grid_template_columns": null,
      "grid_template_rows": null,
      "height": null,
      "justify_content": null,
      "justify_items": null,
      "left": null,
      "margin": null,
      "max_height": null,
      "max_width": null,
      "min_height": null,
      "min_width": null,
      "object_fit": null,
      "object_position": null,
      "order": null,
      "overflow": null,
      "overflow_x": null,
      "overflow_y": null,
      "padding": null,
      "right": null,
      "top": null,
      "visibility": null,
      "width": null
     }
    },
    "a3fa01f417a4414e9c308a7f3cde2426": {
     "model_module": "@jupyter-widgets/base",
     "model_name": "LayoutModel",
     "model_module_version": "1.2.0",
     "state": {
      "_model_module": "@jupyter-widgets/base",
      "_model_module_version": "1.2.0",
      "_model_name": "LayoutModel",
      "_view_count": null,
      "_view_module": "@jupyter-widgets/base",
      "_view_module_version": "1.2.0",
      "_view_name": "LayoutView",
      "align_content": null,
      "align_items": null,
      "align_self": null,
      "border": null,
      "bottom": null,
      "display": null,
      "flex": null,
      "flex_flow": null,
      "grid_area": null,
      "grid_auto_columns": null,
      "grid_auto_flow": null,
      "grid_auto_rows": null,
      "grid_column": null,
      "grid_gap": null,
      "grid_row": null,
      "grid_template_areas": null,
      "grid_template_columns": null,
      "grid_template_rows": null,
      "height": null,
      "justify_content": null,
      "justify_items": null,
      "left": null,
      "margin": null,
      "max_height": null,
      "max_width": null,
      "min_height": null,
      "min_width": null,
      "object_fit": null,
      "object_position": null,
      "order": null,
      "overflow": null,
      "overflow_x": null,
      "overflow_y": null,
      "padding": null,
      "right": null,
      "top": null,
      "visibility": null,
      "width": null
     }
    },
    "6b47a056c96f417c84a2285fa0024798": {
     "model_module": "@jupyter-widgets/controls",
     "model_name": "DescriptionStyleModel",
     "model_module_version": "1.5.0",
     "state": {
      "_model_module": "@jupyter-widgets/controls",
      "_model_module_version": "1.5.0",
      "_model_name": "DescriptionStyleModel",
      "_view_count": null,
      "_view_module": "@jupyter-widgets/base",
      "_view_module_version": "1.2.0",
      "_view_name": "StyleView",
      "description_width": ""
     }
    },
    "ce9a4de4d33d44f9be368ecfb45c8941": {
     "model_module": "@jupyter-widgets/base",
     "model_name": "LayoutModel",
     "model_module_version": "1.2.0",
     "state": {
      "_model_module": "@jupyter-widgets/base",
      "_model_module_version": "1.2.0",
      "_model_name": "LayoutModel",
      "_view_count": null,
      "_view_module": "@jupyter-widgets/base",
      "_view_module_version": "1.2.0",
      "_view_name": "LayoutView",
      "align_content": null,
      "align_items": null,
      "align_self": null,
      "border": null,
      "bottom": null,
      "display": null,
      "flex": null,
      "flex_flow": null,
      "grid_area": null,
      "grid_auto_columns": null,
      "grid_auto_flow": null,
      "grid_auto_rows": null,
      "grid_column": null,
      "grid_gap": null,
      "grid_row": null,
      "grid_template_areas": null,
      "grid_template_columns": null,
      "grid_template_rows": null,
      "height": null,
      "justify_content": null,
      "justify_items": null,
      "left": null,
      "margin": null,
      "max_height": null,
      "max_width": null,
      "min_height": null,
      "min_width": null,
      "object_fit": null,
      "object_position": null,
      "order": null,
      "overflow": null,
      "overflow_x": null,
      "overflow_y": null,
      "padding": null,
      "right": null,
      "top": null,
      "visibility": null,
      "width": null
     }
    },
    "656165fc63514a39914543b0d28eb6db": {
     "model_module": "@jupyter-widgets/controls",
     "model_name": "ProgressStyleModel",
     "model_module_version": "1.5.0",
     "state": {
      "_model_module": "@jupyter-widgets/controls",
      "_model_module_version": "1.5.0",
      "_model_name": "ProgressStyleModel",
      "_view_count": null,
      "_view_module": "@jupyter-widgets/base",
      "_view_module_version": "1.2.0",
      "_view_name": "StyleView",
      "bar_color": null,
      "description_width": ""
     }
    },
    "39aa38db33a4417896c5abba6414a576": {
     "model_module": "@jupyter-widgets/base",
     "model_name": "LayoutModel",
     "model_module_version": "1.2.0",
     "state": {
      "_model_module": "@jupyter-widgets/base",
      "_model_module_version": "1.2.0",
      "_model_name": "LayoutModel",
      "_view_count": null,
      "_view_module": "@jupyter-widgets/base",
      "_view_module_version": "1.2.0",
      "_view_name": "LayoutView",
      "align_content": null,
      "align_items": null,
      "align_self": null,
      "border": null,
      "bottom": null,
      "display": null,
      "flex": null,
      "flex_flow": null,
      "grid_area": null,
      "grid_auto_columns": null,
      "grid_auto_flow": null,
      "grid_auto_rows": null,
      "grid_column": null,
      "grid_gap": null,
      "grid_row": null,
      "grid_template_areas": null,
      "grid_template_columns": null,
      "grid_template_rows": null,
      "height": null,
      "justify_content": null,
      "justify_items": null,
      "left": null,
      "margin": null,
      "max_height": null,
      "max_width": null,
      "min_height": null,
      "min_width": null,
      "object_fit": null,
      "object_position": null,
      "order": null,
      "overflow": null,
      "overflow_x": null,
      "overflow_y": null,
      "padding": null,
      "right": null,
      "top": null,
      "visibility": null,
      "width": null
     }
    },
    "265b7f72e41f488d90e1658f6531af29": {
     "model_module": "@jupyter-widgets/controls",
     "model_name": "DescriptionStyleModel",
     "model_module_version": "1.5.0",
     "state": {
      "_model_module": "@jupyter-widgets/controls",
      "_model_module_version": "1.5.0",
      "_model_name": "DescriptionStyleModel",
      "_view_count": null,
      "_view_module": "@jupyter-widgets/base",
      "_view_module_version": "1.2.0",
      "_view_name": "StyleView",
      "description_width": ""
     }
    },
    "cb6e613224ee43178365d103ae7fd9eb": {
     "model_module": "@jupyter-widgets/controls",
     "model_name": "HBoxModel",
     "model_module_version": "1.5.0",
     "state": {
      "_dom_classes": [],
      "_model_module": "@jupyter-widgets/controls",
      "_model_module_version": "1.5.0",
      "_model_name": "HBoxModel",
      "_view_count": null,
      "_view_module": "@jupyter-widgets/controls",
      "_view_module_version": "1.5.0",
      "_view_name": "HBoxView",
      "box_style": "",
      "children": [
       "IPY_MODEL_6d7eacd451a64ba4bee1217fe50b2abb",
       "IPY_MODEL_939a7025aa524b49ae027aa515eba566",
       "IPY_MODEL_ac422746ce474c86aee08bcc71d24648"
      ],
      "layout": "IPY_MODEL_7c0edc9aecf24f21ade57de30b438e8c"
     }
    },
    "6d7eacd451a64ba4bee1217fe50b2abb": {
     "model_module": "@jupyter-widgets/controls",
     "model_name": "HTMLModel",
     "model_module_version": "1.5.0",
     "state": {
      "_dom_classes": [],
      "_model_module": "@jupyter-widgets/controls",
      "_model_module_version": "1.5.0",
      "_model_name": "HTMLModel",
      "_view_count": null,
      "_view_module": "@jupyter-widgets/controls",
      "_view_module_version": "1.5.0",
      "_view_name": "HTMLView",
      "description": "",
      "description_tooltip": null,
      "layout": "IPY_MODEL_5ed53dddbb4f4d83bf370857469ae6ff",
      "placeholder": "​",
      "style": "IPY_MODEL_4c43c44057c248f598d902b4456c519b",
      "value": "model.safetensors: 100%"
     }
    },
    "939a7025aa524b49ae027aa515eba566": {
     "model_module": "@jupyter-widgets/controls",
     "model_name": "FloatProgressModel",
     "model_module_version": "1.5.0",
     "state": {
      "_dom_classes": [],
      "_model_module": "@jupyter-widgets/controls",
      "_model_module_version": "1.5.0",
      "_model_name": "FloatProgressModel",
      "_view_count": null,
      "_view_module": "@jupyter-widgets/controls",
      "_view_module_version": "1.5.0",
      "_view_name": "ProgressView",
      "bar_style": "success",
      "description": "",
      "description_tooltip": null,
      "layout": "IPY_MODEL_d1e73bf250df4b83b850540cf12feb04",
      "max": 442233876,
      "min": 0,
      "orientation": "horizontal",
      "style": "IPY_MODEL_6dda9141522743a1836e945e877b0331",
      "value": 442233876
     }
    },
    "ac422746ce474c86aee08bcc71d24648": {
     "model_module": "@jupyter-widgets/controls",
     "model_name": "HTMLModel",
     "model_module_version": "1.5.0",
     "state": {
      "_dom_classes": [],
      "_model_module": "@jupyter-widgets/controls",
      "_model_module_version": "1.5.0",
      "_model_name": "HTMLModel",
      "_view_count": null,
      "_view_module": "@jupyter-widgets/controls",
      "_view_module_version": "1.5.0",
      "_view_name": "HTMLView",
      "description": "",
      "description_tooltip": null,
      "layout": "IPY_MODEL_2390db14f6ac4de6a778a14dfa11c292",
      "placeholder": "​",
      "style": "IPY_MODEL_6919144b829041d58dba05c6d55fdadc",
      "value": " 442M/442M [00:02&lt;00:00, 184MB/s]"
     }
    },
    "7c0edc9aecf24f21ade57de30b438e8c": {
     "model_module": "@jupyter-widgets/base",
     "model_name": "LayoutModel",
     "model_module_version": "1.2.0",
     "state": {
      "_model_module": "@jupyter-widgets/base",
      "_model_module_version": "1.2.0",
      "_model_name": "LayoutModel",
      "_view_count": null,
      "_view_module": "@jupyter-widgets/base",
      "_view_module_version": "1.2.0",
      "_view_name": "LayoutView",
      "align_content": null,
      "align_items": null,
      "align_self": null,
      "border": null,
      "bottom": null,
      "display": null,
      "flex": null,
      "flex_flow": null,
      "grid_area": null,
      "grid_auto_columns": null,
      "grid_auto_flow": null,
      "grid_auto_rows": null,
      "grid_column": null,
      "grid_gap": null,
      "grid_row": null,
      "grid_template_areas": null,
      "grid_template_columns": null,
      "grid_template_rows": null,
      "height": null,
      "justify_content": null,
      "justify_items": null,
      "left": null,
      "margin": null,
      "max_height": null,
      "max_width": null,
      "min_height": null,
      "min_width": null,
      "object_fit": null,
      "object_position": null,
      "order": null,
      "overflow": null,
      "overflow_x": null,
      "overflow_y": null,
      "padding": null,
      "right": null,
      "top": null,
      "visibility": null,
      "width": null
     }
    },
    "5ed53dddbb4f4d83bf370857469ae6ff": {
     "model_module": "@jupyter-widgets/base",
     "model_name": "LayoutModel",
     "model_module_version": "1.2.0",
     "state": {
      "_model_module": "@jupyter-widgets/base",
      "_model_module_version": "1.2.0",
      "_model_name": "LayoutModel",
      "_view_count": null,
      "_view_module": "@jupyter-widgets/base",
      "_view_module_version": "1.2.0",
      "_view_name": "LayoutView",
      "align_content": null,
      "align_items": null,
      "align_self": null,
      "border": null,
      "bottom": null,
      "display": null,
      "flex": null,
      "flex_flow": null,
      "grid_area": null,
      "grid_auto_columns": null,
      "grid_auto_flow": null,
      "grid_auto_rows": null,
      "grid_column": null,
      "grid_gap": null,
      "grid_row": null,
      "grid_template_areas": null,
      "grid_template_columns": null,
      "grid_template_rows": null,
      "height": null,
      "justify_content": null,
      "justify_items": null,
      "left": null,
      "margin": null,
      "max_height": null,
      "max_width": null,
      "min_height": null,
      "min_width": null,
      "object_fit": null,
      "object_position": null,
      "order": null,
      "overflow": null,
      "overflow_x": null,
      "overflow_y": null,
      "padding": null,
      "right": null,
      "top": null,
      "visibility": null,
      "width": null
     }
    },
    "4c43c44057c248f598d902b4456c519b": {
     "model_module": "@jupyter-widgets/controls",
     "model_name": "DescriptionStyleModel",
     "model_module_version": "1.5.0",
     "state": {
      "_model_module": "@jupyter-widgets/controls",
      "_model_module_version": "1.5.0",
      "_model_name": "DescriptionStyleModel",
      "_view_count": null,
      "_view_module": "@jupyter-widgets/base",
      "_view_module_version": "1.2.0",
      "_view_name": "StyleView",
      "description_width": ""
     }
    },
    "d1e73bf250df4b83b850540cf12feb04": {
     "model_module": "@jupyter-widgets/base",
     "model_name": "LayoutModel",
     "model_module_version": "1.2.0",
     "state": {
      "_model_module": "@jupyter-widgets/base",
      "_model_module_version": "1.2.0",
      "_model_name": "LayoutModel",
      "_view_count": null,
      "_view_module": "@jupyter-widgets/base",
      "_view_module_version": "1.2.0",
      "_view_name": "LayoutView",
      "align_content": null,
      "align_items": null,
      "align_self": null,
      "border": null,
      "bottom": null,
      "display": null,
      "flex": null,
      "flex_flow": null,
      "grid_area": null,
      "grid_auto_columns": null,
      "grid_auto_flow": null,
      "grid_auto_rows": null,
      "grid_column": null,
      "grid_gap": null,
      "grid_row": null,
      "grid_template_areas": null,
      "grid_template_columns": null,
      "grid_template_rows": null,
      "height": null,
      "justify_content": null,
      "justify_items": null,
      "left": null,
      "margin": null,
      "max_height": null,
      "max_width": null,
      "min_height": null,
      "min_width": null,
      "object_fit": null,
      "object_position": null,
      "order": null,
      "overflow": null,
      "overflow_x": null,
      "overflow_y": null,
      "padding": null,
      "right": null,
      "top": null,
      "visibility": null,
      "width": null
     }
    },
    "6dda9141522743a1836e945e877b0331": {
     "model_module": "@jupyter-widgets/controls",
     "model_name": "ProgressStyleModel",
     "model_module_version": "1.5.0",
     "state": {
      "_model_module": "@jupyter-widgets/controls",
      "_model_module_version": "1.5.0",
      "_model_name": "ProgressStyleModel",
      "_view_count": null,
      "_view_module": "@jupyter-widgets/base",
      "_view_module_version": "1.2.0",
      "_view_name": "StyleView",
      "bar_color": null,
      "description_width": ""
     }
    },
    "2390db14f6ac4de6a778a14dfa11c292": {
     "model_module": "@jupyter-widgets/base",
     "model_name": "LayoutModel",
     "model_module_version": "1.2.0",
     "state": {
      "_model_module": "@jupyter-widgets/base",
      "_model_module_version": "1.2.0",
      "_model_name": "LayoutModel",
      "_view_count": null,
      "_view_module": "@jupyter-widgets/base",
      "_view_module_version": "1.2.0",
      "_view_name": "LayoutView",
      "align_content": null,
      "align_items": null,
      "align_self": null,
      "border": null,
      "bottom": null,
      "display": null,
      "flex": null,
      "flex_flow": null,
      "grid_area": null,
      "grid_auto_columns": null,
      "grid_auto_flow": null,
      "grid_auto_rows": null,
      "grid_column": null,
      "grid_gap": null,
      "grid_row": null,
      "grid_template_areas": null,
      "grid_template_columns": null,
      "grid_template_rows": null,
      "height": null,
      "justify_content": null,
      "justify_items": null,
      "left": null,
      "margin": null,
      "max_height": null,
      "max_width": null,
      "min_height": null,
      "min_width": null,
      "object_fit": null,
      "object_position": null,
      "order": null,
      "overflow": null,
      "overflow_x": null,
      "overflow_y": null,
      "padding": null,
      "right": null,
      "top": null,
      "visibility": null,
      "width": null
     }
    },
    "6919144b829041d58dba05c6d55fdadc": {
     "model_module": "@jupyter-widgets/controls",
     "model_name": "DescriptionStyleModel",
     "model_module_version": "1.5.0",
     "state": {
      "_model_module": "@jupyter-widgets/controls",
      "_model_module_version": "1.5.0",
      "_model_name": "DescriptionStyleModel",
      "_view_count": null,
      "_view_module": "@jupyter-widgets/base",
      "_view_module_version": "1.2.0",
      "_view_name": "StyleView",
      "description_width": ""
     }
    }
    }
    
   }
  }
 },
 "nbformat": 4,
 "nbformat_minor": 5
}
