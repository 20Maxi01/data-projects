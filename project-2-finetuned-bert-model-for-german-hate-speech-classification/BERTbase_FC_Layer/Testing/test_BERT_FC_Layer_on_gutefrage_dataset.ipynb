{
 "cells": [
  {
   "cell_type": "markdown",
   "source": [
    "# Test and log metrics for the dataset of the research project\n",
    "\n",
    "This notebook uses the model class, loads the saved model and tokenizer and evaluates the chosen model on the \"forschungsprojekt.xls\" dataset. <br>\n",
    "\n",
    "The script automatically logs the data in wandb as well as in the Excel file logged_model_metrics.xlsx which is also used for logging in my Model training code.\n",
    "\n",
    "One section was used from Daniels Code this is marked in the code with a comment."
   ],
   "metadata": {
    "id": "1zdUCjxAOKD6"
   }
  },
  {
   "cell_type": "code",
   "source": [
    "# Import packages\n",
    "import os\n",
    "import pandas as pd\n",
    "import torch\n",
    "from torch import nn\n",
    "from transformers import BertModel, AutoTokenizer\n",
    "from sklearn.metrics import (\n",
    "    accuracy_score,\n",
    "    precision_recall_fscore_support,\n",
    "    classification_report,\n",
    "    confusion_matrix,\n",
    "    fbeta_score,\n",
    "    matthews_corrcoef\n",
    ")\n",
    "import matplotlib.pyplot as plt\n",
    "import seaborn as sns\n",
    "import logging\n",
    "from google.colab import drive, runtime, userdata\n",
    "import threading\n",
    "import wandb\n",
    "import datetime"
   ],
   "metadata": {
    "id": "2sXonbJlNas_",
    "executionInfo": {
     "status": "ok",
     "timestamp": 1736084694726,
     "user_tz": -60,
     "elapsed": 17492,
     "user": {
      "displayName": "Max N.",
      "userId": "17347375569055604559"
     }
    }
   },
   "execution_count": 1,
   "outputs": []
  },
  {
   "cell_type": "code",
   "source": [
    "# Configure Logging\n",
    "logging.basicConfig(\n",
    "    level=logging.INFO,  # Log INFO\n",
    "    format=\"%(asctime)s - %(levelname)s - %(message)s\",\n",
    "    force=True\n",
    ")\n",
    "\n",
    "logger = logging.getLogger(__name__)"
   ],
   "metadata": {
    "id": "fFjPerg5OYcx",
    "executionInfo": {
     "status": "ok",
     "timestamp": 1736084694726,
     "user_tz": -60,
     "elapsed": 18,
     "user": {
      "displayName": "Max N.",
      "userId": "17347375569055604559"
     }
    }
   },
   "execution_count": 2,
   "outputs": []
  },
  {
   "cell_type": "code",
   "source": [
    "# Set Device to GPU / show GPU connection\n",
    "device = torch.device(\"cuda\") if torch.cuda.is_available() else torch.device(\"cpu\")\n",
    "logger.info(f\"Using device: {device}\")\n",
    "if torch.cuda.is_available():\n",
    "    logger.info(f\"GPU Name: {torch.cuda.get_device_name(0)}\")"
   ],
   "metadata": {
    "colab": {
     "base_uri": "https://localhost:8080/"
    },
    "id": "6RJt9HK9OAJb",
    "executionInfo": {
     "status": "ok",
     "timestamp": 1736084694726,
     "user_tz": -60,
     "elapsed": 18,
     "user": {
      "displayName": "Max N.",
      "userId": "17347375569055604559"
     }
    },
    "outputId": "ed32b5fb-0c65-4236-df1b-99051f258bcb"
   },
   "execution_count": 3,
   "outputs": [
    {
     "output_type": "stream",
     "name": "stderr",
     "text": [
      "2025-01-05 13:44:54,500 - INFO - Using device: cuda\n",
      "2025-01-05 13:44:54,524 - INFO - GPU Name: NVIDIA A100-SXM4-40GB\n"
     ]
    }
   ]
  },
  {
   "cell_type": "markdown",
   "source": [
    "### Bert + additional fully connected Layer"
   ],
   "metadata": {
    "id": "PwhfIkKBwOo5"
   }
  },
  {
   "cell_type": "code",
   "source": [
    "class BERT_WithExtraLayer(nn.Module):\n",
    "    def __init__(self, bert_model_name, num_labels=2, hidden_dim=256, dropout_rate=0.1, class_weights=None):\n",
    "\n",
    "        super(BERT_WithExtraLayer, self).__init__()\n",
    "\n",
    "        # Load pre-trained BERT model\n",
    "        self.bert = BertModel.from_pretrained(bert_model_name)\n",
    "        self.hidden_size = self.bert.config.hidden_size\n",
    "\n",
    "        # Additional fully connected layer\n",
    "        self.extra_fc = nn.Linear(self.hidden_size, hidden_dim)\n",
    "        self.relu = nn.ReLU()\n",
    "\n",
    "        # Final classification layer\n",
    "        self.classifier = nn.Linear(hidden_dim, num_labels)\n",
    "\n",
    "        # Dropout layer\n",
    "        self.dropout = nn.Dropout(dropout_rate)\n",
    "\n",
    "        self.class_weights = class_weights\n",
    "\n",
    "    def forward(self, input_ids, attention_mask=None, labels=None):\n",
    "\n",
    "        # Forward pass through BERT\n",
    "        outputs = self.bert(input_ids=input_ids, attention_mask=attention_mask)\n",
    "        pooled_output = outputs.pooler_output  # Shape: (batch_size, hidden_size)\n",
    "\n",
    "        # Forward pass through extra layer\n",
    "        x = self.extra_fc(pooled_output)\n",
    "        x = self.relu(x)\n",
    "        x = self.dropout(x)\n",
    "\n",
    "        # Classification layer\n",
    "        logits = self.classifier(x)  # Shape: (batch_size, num_labels)\n",
    "\n",
    "        # Compute loss if labels are provided\n",
    "        if labels is not None:\n",
    "            loss_fct = nn.CrossEntropyLoss(weight=class_weights) # for balancing the classes\n",
    "            loss = loss_fct(logits.view(-1, self.classifier.out_features), labels.view(-1))\n",
    "            return loss, logits\n",
    "\n",
    "        return logits\n"
   ],
   "metadata": {
    "id": "2kJWb3RzxWG-",
    "executionInfo": {
     "status": "ok",
     "timestamp": 1736084694727,
     "user_tz": -60,
     "elapsed": 3,
     "user": {
      "displayName": "Max N.",
      "userId": "17347375569055604559"
     }
    }
   },
   "execution_count": 4,
   "outputs": []
  },
  {
   "cell_type": "markdown",
   "source": [
    "## Load data, model, tokenizer from google drive"
   ],
   "metadata": {
    "id": "Xt_Xdl4kwZ6D"
   }
  },
  {
   "cell_type": "code",
   "source": [
    "# mount google drive for folder access\n",
    "drive.mount('/content/drive')"
   ],
   "metadata": {
    "colab": {
     "base_uri": "https://localhost:8080/"
    },
    "id": "IXHhUE-nOEP7",
    "executionInfo": {
     "status": "ok",
     "timestamp": 1736084712500,
     "user_tz": -60,
     "elapsed": 17776,
     "user": {
      "displayName": "Max N.",
      "userId": "17347375569055604559"
     }
    },
    "outputId": "9c13ae9d-29eb-4ef0-9c98-7574a299d412"
   },
   "execution_count": 5,
   "outputs": [
    {
     "output_type": "stream",
     "name": "stdout",
     "text": [
      "Mounted at /content/drive\n"
     ]
    }
   ]
  },
  {
   "cell_type": "code",
   "source": [
    "file_name = 'annotated_comments_gutefrage_final.csv'\n",
    "dataset_path = os.path.join(\"/content/drive/MyDrive/model/data\", file_name)\n",
    "\n",
    "data = pd.read_csv(dataset_path, encoding='utf-8-sig', sep=';')\n",
    "data['comment'] = data['comment'].astype(str)\n",
    "data['annotation'] = data['annotation'].astype(int)\n",
    "logger.info(f\"Dataset loaded with shape: {data.shape}\")\n"
   ],
   "metadata": {
    "colab": {
     "base_uri": "https://localhost:8080/"
    },
    "id": "b0nWy9hpYD9r",
    "executionInfo": {
     "status": "ok",
     "timestamp": 1736084713347,
     "user_tz": -60,
     "elapsed": 850,
     "user": {
      "displayName": "Max N.",
      "userId": "17347375569055604559"
     }
    },
    "outputId": "712c0724-7d81-4d61-9a0d-deaaecef7195"
   },
   "execution_count": 6,
   "outputs": [
    {
     "output_type": "stream",
     "name": "stderr",
     "text": [
      "2025-01-05 13:45:13,064 - INFO - Dataset loaded with shape: (12929, 2)\n"
     ]
    }
   ]
  },
  {
   "cell_type": "code",
   "source": [
    "model_name =  'model_extra_Layer_trial_33_2025-01-05_05-14.bin'\n",
    "\n",
    "model_dir = '/content/drive/MyDrive/model/best_model_extra_Layer_2025-01-05_05-14'\n",
    "\n",
    "model_path = os.path.join(model_dir, model_name)\n",
    "\n",
    "# Load tokenizer\n",
    "tokenizer = AutoTokenizer.from_pretrained(model_dir)\n",
    "\n",
    "# Initialize model\n",
    "model = BERT_WithExtraLayer(bert_model_name='deepset/gbert-base', num_labels=2)\n",
    "\n",
    "\n",
    "# Load state dict\n",
    "model.load_state_dict(torch.load(model_path, map_location=torch.device('cpu')))\n",
    "model.eval()\n",
    "\n",
    "# Set device\n",
    "device = torch.device(\"cuda\" if torch.cuda.is_available() else \"cpu\")\n",
    "model.to(device)"
   ],
   "metadata": {
    "colab": {
     "base_uri": "https://localhost:8080/",
     "height": 1000,
     "referenced_widgets": [
      "208b03eab4db44ca81e6d10e611b4b7f",
      "852378becc634e0ab9f0365240e002e5",
      "a7f5109c0aa543c4ab1ede5979910198",
      "3b7b893d9fca472f8febc9bdb196a8e1",
      "8b9a6eb790324745990daac6d60bef8b",
      "d40a2fd72c4e4905926f056e52eed77b",
      "3cb6a92ba6b64c47bcdadb149ed8319f",
      "b9f323f63d104110b8119e28957b3b86",
      "4981e6ab372d4e8e9e3b5b9206c4d0ff",
      "18485aa3d6c44893ab8860415483424c",
      "dc3a1f8aae6f47f6baa10d19278f0175",
      "af95bf134fcf47bf8ee40c5cf31de81a",
      "726cbc2c92ae488abe0ca078bc1ceec5",
      "eedbcffe16834b6bab5c58b1af29a214",
      "956b829ec8fa488f8dc0b92fbd196156",
      "c6d424778a3846bda0a31566210008d1",
      "52b99e9ddeb54c23849816bec678d21e",
      "506385338cb84786b2ac017f9936f427",
      "aefe2217f18148ae82aeb3cc950b1753",
      "e0357f57fa3f49f49dc080d9b8e158ea",
      "5a56b94243cf4a83984b37a8519074de",
      "e3f75d87b3b140d2b47c98f038c838fb"
     ]
    },
    "id": "0ISAtoxAQe03",
    "executionInfo": {
     "status": "ok",
     "timestamp": 1736084728503,
     "user_tz": -60,
     "elapsed": 15158,
     "user": {
      "displayName": "Max N.",
      "userId": "17347375569055604559"
     }
    },
    "outputId": "510e10b2-d815-4eeb-a515-0ad49f30614b"
   },
   "execution_count": 7,
   "outputs": [
    {
     "output_type": "stream",
     "name": "stderr",
     "text": [
      "/usr/local/lib/python3.10/dist-packages/huggingface_hub/utils/_auth.py:94: UserWarning: \n",
      "The secret `HF_TOKEN` does not exist in your Colab secrets.\n",
      "To authenticate with the Hugging Face Hub, create a token in your settings tab (https://huggingface.co/settings/tokens), set it as secret in your Google Colab and restart your session.\n",
      "You will be able to reuse this secret in all of your notebooks.\n",
      "Please note that authentication is recommended but still optional to access public models or datasets.\n",
      "  warnings.warn(\n"
     ]
    },
    {
     "output_type": "display_data",
     "data": {
      "text/plain": [
       "config.json:   0%|          | 0.00/362 [00:00<?, ?B/s]"
      ],
      "application/vnd.jupyter.widget-view+json": {
       "version_major": 2,
       "version_minor": 0,
       "model_id": "208b03eab4db44ca81e6d10e611b4b7f"
      }
     },
     "metadata": {}
    },
    {
     "output_type": "display_data",
     "data": {
      "text/plain": [
       "model.safetensors:   0%|          | 0.00/442M [00:00<?, ?B/s]"
      ],
      "application/vnd.jupyter.widget-view+json": {
       "version_major": 2,
       "version_minor": 0,
       "model_id": "af95bf134fcf47bf8ee40c5cf31de81a"
      }
     },
     "metadata": {}
    },
    {
     "output_type": "stream",
     "name": "stderr",
     "text": [
      "<ipython-input-7-dbf2a22e8e84>:15: FutureWarning: You are using `torch.load` with `weights_only=False` (the current default value), which uses the default pickle module implicitly. It is possible to construct malicious pickle data which will execute arbitrary code during unpickling (See https://github.com/pytorch/pytorch/blob/main/SECURITY.md#untrusted-models for more details). In a future release, the default value for `weights_only` will be flipped to `True`. This limits the functions that could be executed during unpickling. Arbitrary objects will no longer be allowed to be loaded via this mode unless they are explicitly allowlisted by the user via `torch.serialization.add_safe_globals`. We recommend you start setting `weights_only=True` for any use case where you don't have full control of the loaded file. Please open an issue on GitHub for any issues related to this experimental feature.\n",
      "  model.load_state_dict(torch.load(model_path, map_location=torch.device('cpu')))\n"
     ]
    },
    {
     "output_type": "execute_result",
     "data": {
      "text/plain": [
       "BERT_WithExtraLayer(\n",
       "  (bert): BertModel(\n",
       "    (embeddings): BertEmbeddings(\n",
       "      (word_embeddings): Embedding(31102, 768, padding_idx=0)\n",
       "      (position_embeddings): Embedding(512, 768)\n",
       "      (token_type_embeddings): Embedding(2, 768)\n",
       "      (LayerNorm): LayerNorm((768,), eps=1e-12, elementwise_affine=True)\n",
       "      (dropout): Dropout(p=0.1, inplace=False)\n",
       "    )\n",
       "    (encoder): BertEncoder(\n",
       "      (layer): ModuleList(\n",
       "        (0-11): 12 x BertLayer(\n",
       "          (attention): BertAttention(\n",
       "            (self): BertSdpaSelfAttention(\n",
       "              (query): Linear(in_features=768, out_features=768, bias=True)\n",
       "              (key): Linear(in_features=768, out_features=768, bias=True)\n",
       "              (value): Linear(in_features=768, out_features=768, bias=True)\n",
       "              (dropout): Dropout(p=0.1, inplace=False)\n",
       "            )\n",
       "            (output): BertSelfOutput(\n",
       "              (dense): Linear(in_features=768, out_features=768, bias=True)\n",
       "              (LayerNorm): LayerNorm((768,), eps=1e-12, elementwise_affine=True)\n",
       "              (dropout): Dropout(p=0.1, inplace=False)\n",
       "            )\n",
       "          )\n",
       "          (intermediate): BertIntermediate(\n",
       "            (dense): Linear(in_features=768, out_features=3072, bias=True)\n",
       "            (intermediate_act_fn): GELUActivation()\n",
       "          )\n",
       "          (output): BertOutput(\n",
       "            (dense): Linear(in_features=3072, out_features=768, bias=True)\n",
       "            (LayerNorm): LayerNorm((768,), eps=1e-12, elementwise_affine=True)\n",
       "            (dropout): Dropout(p=0.1, inplace=False)\n",
       "          )\n",
       "        )\n",
       "      )\n",
       "    )\n",
       "    (pooler): BertPooler(\n",
       "      (dense): Linear(in_features=768, out_features=768, bias=True)\n",
       "      (activation): Tanh()\n",
       "    )\n",
       "  )\n",
       "  (extra_fc): Linear(in_features=768, out_features=256, bias=True)\n",
       "  (relu): ReLU()\n",
       "  (classifier): Linear(in_features=256, out_features=2, bias=True)\n",
       "  (dropout): Dropout(p=0.1, inplace=False)\n",
       ")"
      ]
     },
     "metadata": {},
     "execution_count": 7
    }
   ]
  },
  {
   "cell_type": "markdown",
   "source": [
    "## Ensure the wandb connection closes and the session terminates"
   ],
   "metadata": {
    "id": "o0U2tB2CwzIa"
   }
  },
  {
   "cell_type": "code",
   "source": [
    "def safe_wandb_finish(timeout=45):\n",
    "    \"\"\"Safely terminates wandb.finish() with a timeout.\"\"\"\n",
    "    def finish_task():\n",
    "        try:\n",
    "            import wandb\n",
    "            wandb.finish()\n",
    "        except Exception as e:\n",
    "            logger.error(f\"Error in wandb.finish(): {e}\")\n",
    "\n",
    "    finish_thread = threading.Thread(target=finish_task)\n",
    "    finish_thread.start()\n",
    "    finish_thread.join(timeout=timeout)  # Wait for up to `timeout` seconds\n",
    "\n",
    "    if finish_thread.is_alive():\n",
    "        logger.warning(\"wandb.finish() timed out. Proceeding with runtime.unassign().\")\n",
    "    else:\n",
    "        logger.info(\"wandb.finish() completed successfully.\")"
   ],
   "metadata": {
    "id": "dvaWAQ0Nc_iW",
    "executionInfo": {
     "status": "ok",
     "timestamp": 1736084728504,
     "user_tz": -60,
     "elapsed": 15,
     "user": {
      "displayName": "Max N.",
      "userId": "17347375569055604559"
     }
    }
   },
   "execution_count": 8,
   "outputs": []
  },
  {
   "cell_type": "code",
   "source": [
    "\n",
    "wandbkey = userdata.get('WandbKey')\n",
    "\n",
    "wandb.login(key=wandbkey)\n",
    "\n",
    "# Initialize the wandb runf\n",
    "config = {\n",
    "    \"model_name\": model_name,\n",
    "    \"dataset\": file_name\n",
    "}\n",
    "\n",
    "timestamp = datetime.datetime.now().strftime(\"%Y-%m-%d_%H-%M-%S\")\n",
    "\n",
    "run_name = f\"{model_name}_{file_name}_{timestamp}\"\n",
    "\n",
    "wandb.init(project=\"German_Hate_Speech_Classification\", name=run_name, id=run_name, config=config)"
   ],
   "metadata": {
    "colab": {
     "base_uri": "https://localhost:8080/",
     "height": 215
    },
    "id": "b5Y5lf1qdNoL",
    "executionInfo": {
     "status": "ok",
     "timestamp": 1736084734975,
     "user_tz": -60,
     "elapsed": 6486,
     "user": {
      "displayName": "Max N.",
      "userId": "17347375569055604559"
     }
    },
    "outputId": "f743fc3f-1aac-4efb-f609-87685673bfdd"
   },
   "execution_count": 9,
   "outputs": [
    {
     "output_type": "stream",
     "name": "stderr",
     "text": [
      "\u001B[34m\u001B[1mwandb\u001B[0m: Using wandb-core as the SDK backend.  Please refer to https://wandb.me/wandb-core for more information.\n",
      "\u001B[34m\u001B[1mwandb\u001B[0m: Currently logged in as: \u001B[33mmaxnienh\u001B[0m (\u001B[33mmaxnienh-xx\u001B[0m). Use \u001B[1m`wandb login --relogin`\u001B[0m to force relogin\n",
      "\u001B[34m\u001B[1mwandb\u001B[0m: \u001B[33mWARNING\u001B[0m If you're specifying your api key in code, ensure this code is not shared publicly.\n",
      "\u001B[34m\u001B[1mwandb\u001B[0m: \u001B[33mWARNING\u001B[0m Consider setting the WANDB_API_KEY environment variable, or running `wandb login` from the command line.\n",
      "\u001B[34m\u001B[1mwandb\u001B[0m: Appending key for api.wandb.ai to your netrc file: /root/.netrc\n"
     ]
    },
    {
     "output_type": "display_data",
     "data": {
      "text/plain": [
       "<IPython.core.display.HTML object>"
      ],
      "text/html": [
       "Tracking run with wandb version 0.19.1"
      ]
     },
     "metadata": {}
    },
    {
     "output_type": "display_data",
     "data": {
      "text/plain": [
       "<IPython.core.display.HTML object>"
      ],
      "text/html": [
       "Run data is saved locally in <code>/content/wandb/run-20250105_134533-model_extra_Layer_trial_33_2025-01-05_05-14.bin</code>"
      ]
     },
     "metadata": {}
    },
    {
     "output_type": "display_data",
     "data": {
      "text/plain": [
       "<IPython.core.display.HTML object>"
      ],
      "text/html": [
       "Syncing run <strong><a href='https://wandb.ai/maxnienh-xx/German_Hate_Speech_Classification/runs/model_extra_Layer_trial_33_2025-01-05_05-14.bin' target=\"_blank\">model_extra_Layer_trial_33_2025-01-05_05-14.bin</a></strong> to <a href='https://wandb.ai/maxnienh-xx/German_Hate_Speech_Classification' target=\"_blank\">Weights & Biases</a> (<a href='https://wandb.me/developer-guide' target=\"_blank\">docs</a>)<br>"
      ]
     },
     "metadata": {}
    },
    {
     "output_type": "display_data",
     "data": {
      "text/plain": [
       "<IPython.core.display.HTML object>"
      ],
      "text/html": [
       " View project at <a href='https://wandb.ai/maxnienh-xx/German_Hate_Speech_Classification' target=\"_blank\">https://wandb.ai/maxnienh-xx/German_Hate_Speech_Classification</a>"
      ]
     },
     "metadata": {}
    },
    {
     "output_type": "display_data",
     "data": {
      "text/plain": [
       "<IPython.core.display.HTML object>"
      ],
      "text/html": [
       " View run at <a href='https://wandb.ai/maxnienh-xx/German_Hate_Speech_Classification/runs/model_extra_Layer_trial_33_2025-01-05_05-14.bin' target=\"_blank\">https://wandb.ai/maxnienh-xx/German_Hate_Speech_Classification/runs/model_extra_Layer_trial_33_2025-01-05_05-14.bin</a>"
      ]
     },
     "metadata": {}
    },
    {
     "output_type": "execute_result",
     "data": {
      "text/html": [
       "<button onClick=\"this.nextSibling.style.display='block';this.style.display='none';\">Display W&B run</button><iframe src='https://wandb.ai/maxnienh-xx/German_Hate_Speech_Classification/runs/model_extra_Layer_trial_33_2025-01-05_05-14.bin?jupyter=true' style='border:none;width:100%;height:420px;display:none;'></iframe>"
      ],
      "text/plain": [
       "<wandb.sdk.wandb_run.Run at 0x7b4cd3b8c790>"
      ]
     },
     "metadata": {},
     "execution_count": 9
    }
   ]
  },
  {
   "cell_type": "markdown",
   "source": [
    "## Process data and evaluate the metrics\n",
    "\n",
    "The code logs the data to wandb as well as to the Excel file logged_model_metrics.xlsx which is also used for logging in my Model training code"
   ],
   "metadata": {
    "id": "j7TN-rNJxNdj"
   }
  },
  {
   "cell_type": "code",
   "execution_count": null,
   "metadata": {
    "colab": {
     "base_uri": "https://localhost:8080/",
     "height": 1000
    },
    "id": "M0ei0U3iLYN3",
    "outputId": "e046e3fe-0518-45e8-c344-bf9fc22e1f95"
   },
   "outputs": [
    {
     "output_type": "stream",
     "name": "stderr",
     "text": [
      "2025-01-05 13:46:06,274 - INFO - ### Classification Metrics ###\n",
      "2025-01-05 13:46:06,276 - INFO - Accuracy: 0.7738\n",
      "2025-01-05 13:46:06,277 - INFO - Precision: 0.6438\n",
      "2025-01-05 13:46:06,279 - INFO - Recall: 0.4320\n",
      "2025-01-05 13:46:06,280 - INFO - F1 Score: 0.5170\n",
      "2025-01-05 13:46:06,281 - INFO - F2 Score: 0.4624\n",
      "2025-01-05 13:46:06,282 - INFO - Matthews Correlation Coefficient (MCC): 0.3895\n",
      "2025-01-05 13:46:06,284 - INFO - S-Score: 0.5786\n",
      "2025-01-05 13:46:06,289 - INFO - \n",
      "Confusion Matrix:\n",
      "2025-01-05 13:46:06,289 - INFO - [[8440  866]\n",
      " [2058 1565]]\n"
     ]
    },
    {
     "output_type": "display_data",
     "data": {
      "text/plain": [
       "<Figure size 600x400 with 2 Axes>"
      ],
      "image/png": "[encoded data removed]"
     },
     "metadata": {}
    },
    {
     "output_type": "stream",
     "name": "stderr",
     "text": [
      "2025-01-05 13:46:07,514 - INFO - Metrics logged to Excel: /content/drive/MyDrive/model/logged_model_metrics.xlsx\n"
     ]
    },
    {
     "output_type": "display_data",
     "data": {
      "text/plain": [
       "<IPython.core.display.HTML object>"
      ],
      "text/html": []
     },
     "metadata": {}
    },
    {
     "output_type": "display_data",
     "data": {
      "text/plain": [
       "<IPython.core.display.HTML object>"
      ],
      "text/html": [
       "<br>    <style><br>        .wandb-row {<br>            display: flex;<br>            flex-direction: row;<br>            flex-wrap: wrap;<br>            justify-content: flex-start;<br>            width: 100%;<br>        }<br>        .wandb-col {<br>            display: flex;<br>            flex-direction: column;<br>            flex-basis: 100%;<br>            flex: 1;<br>            padding: 10px;<br>        }<br>    </style><br><div class=\"wandb-row\"><div class=\"wandb-col\"><h3>Run history:</h3><br/><table class=\"wandb\"><tr><td>test/S</td><td>▁</td></tr><tr><td>test/accuracy</td><td>▁</td></tr><tr><td>test/f1</td><td>▁</td></tr><tr><td>test/f2</td><td>▁</td></tr><tr><td>test/mcc</td><td>▁</td></tr><tr><td>test/precision</td><td>▁</td></tr><tr><td>test/recall</td><td>▁</td></tr></table><br/></div><div class=\"wandb-col\"><h3>Run summary:</h3><br/><table class=\"wandb\"><tr><td>test/S</td><td>0.57858</td></tr><tr><td>test/accuracy</td><td>0.77384</td></tr><tr><td>test/f1</td><td>0.51701</td></tr><tr><td>test/f2</td><td>0.46239</td></tr><tr><td>test/mcc</td><td>0.38954</td></tr><tr><td>test/precision</td><td>0.64377</td></tr><tr><td>test/recall</td><td>0.43196</td></tr></table><br/></div></div>"
      ]
     },
     "metadata": {}
    },
    {
     "output_type": "display_data",
     "data": {
      "text/plain": [
       "<IPython.core.display.HTML object>"
      ],
      "text/html": [
       " View run <strong style=\"color:#cdcd00\">model_extra_Layer_trial_33_2025-01-05_05-14.bin</strong> at: <a href='https://wandb.ai/maxnienh-xx/German_Hate_Speech_Classification/runs/model_extra_Layer_trial_33_2025-01-05_05-14.bin' target=\"_blank\">https://wandb.ai/maxnienh-xx/German_Hate_Speech_Classification/runs/model_extra_Layer_trial_33_2025-01-05_05-14.bin</a><br> View project at: <a href='https://wandb.ai/maxnienh-xx/German_Hate_Speech_Classification' target=\"_blank\">https://wandb.ai/maxnienh-xx/German_Hate_Speech_Classification</a><br>Synced 5 W&B file(s), 0 media file(s), 0 artifact file(s) and 0 other file(s)"
      ]
     },
     "metadata": {}
    },
    {
     "output_type": "display_data",
     "data": {
      "text/plain": [
       "<IPython.core.display.HTML object>"
      ],
      "text/html": [
       "Find logs at: <code>./wandb/run-20250105_134533-model_extra_Layer_trial_33_2025-01-05_05-14.bin/logs</code>"
      ]
     },
     "metadata": {}
    },
    {
     "output_type": "stream",
     "name": "stderr",
     "text": [
      "2025-01-05 13:46:09,151 - INFO - wandb.finish() completed successfully.\n",
      "2025-01-05 13:46:09,153 - INFO - Process finished. Session will be terminated...\n"
     ]
    }
   ],
   "source": [
    "def classify_text_batch(text_list, model, tokenizer, batch_size=32):\n",
    "    model.eval()  # Ensure the model is in evaluation mode\n",
    "    predictions = []\n",
    "\n",
    "    for i in range(0, len(text_list), batch_size):\n",
    "        batch_texts = text_list[i : i + batch_size]\n",
    "        inputs = tokenizer(batch_texts, truncation=True, padding=True, max_length=256, return_tensors=\"pt\")\n",
    "        inputs = {k: v.to(device) for k, v in inputs.items() if k != \"token_type_ids\"}\n",
    "\n",
    "        with torch.no_grad():\n",
    "            logits = model(**inputs)\n",
    "            probabilities = torch.softmax(logits, dim=1)\n",
    "            batch_predictions = torch.argmax(probabilities, dim=1).tolist()\n",
    "\n",
    "        predictions.extend(batch_predictions)\n",
    "\n",
    "    return predictions\n",
    "\n",
    "\n",
    "data['predicted_label'] = classify_text_batch(data['comment'].tolist(), model, tokenizer)\n",
    "\n",
    "\n",
    "true_labels = data['annotation']\n",
    "predicted_labels = data['predicted_label']\n",
    "accuracy = accuracy_score(true_labels, predicted_labels)\n",
    "precision, recall, f1, _ = precision_recall_fscore_support(true_labels, predicted_labels, average='binary')\n",
    "f2 = fbeta_score(true_labels, predicted_labels, beta=2, average='binary')\n",
    "mcc = matthews_corrcoef(true_labels, predicted_labels)\n",
    "mcc_normalized = (mcc + 1) / 2\n",
    "S = (f2 + mcc_normalized) / 2\n",
    "\n",
    "# Log metrics\n",
    "logger.info(\"### Classification Metrics ###\")\n",
    "logger.info(f\"Accuracy: {accuracy:.4f}\")\n",
    "logger.info(f\"Precision: {precision:.4f}\")\n",
    "logger.info(f\"Recall: {recall:.4f}\")\n",
    "logger.info(f\"F1 Score: {f1:.4f}\")\n",
    "logger.info(f\"F2 Score: {f2:.4f}\")\n",
    "logger.info(f\"Matthews Correlation Coefficient (MCC): {mcc:.4f}\")\n",
    "logger.info(f\"S-Score: {S:.4f}\")\n",
    "\n",
    "# Log metrics to WandB\n",
    "wandb.log({\n",
    "    \"test/accuracy\": accuracy,\n",
    "    \"test/precision\": precision,\n",
    "    \"test/recall\": recall,\n",
    "    \"test/f1\": f1,\n",
    "    \"test/f2\": f2,\n",
    "    \"test/mcc\": mcc,\n",
    "    \"test/S\": S\n",
    "})\n",
    "\n",
    "# Confusion matrix\n",
    "cm = confusion_matrix(true_labels, predicted_labels)\n",
    "logger.info(\"\\nConfusion Matrix:\")\n",
    "logger.info(cm)\n",
    "\n",
    "plt.figure(figsize=(6, 4))\n",
    "sns.heatmap(cm, annot=True, fmt=\"d\", cmap=\"Blues\", xticklabels=[\"Not Hatespeech\", \"Hatespeech\"], yticklabels=[\"Not Hatespeech\", \"Hatespeech\"])\n",
    "plt.ylabel(\"True Labels\")\n",
    "plt.xlabel(\"Predicted Labels\")\n",
    "plt.title(\"Confusion Matrix\")\n",
    "plt.show()\n",
    "\n",
    "# Save confusion matrix as artifact\n",
    "#wandb.log({f\"Confusion Matrix {model_name} / {file_name}\": wandb.Image(plt)})\n",
    "\n",
    "# Save metrics to Excel\n",
    "excel_file_path = '/content/drive/MyDrive/model/logged_model_metrics.xlsx'\n",
    "new_results = pd.DataFrame([{\n",
    "    \"Trial_Name\": model_name,\n",
    "    \"Dataset\": file_name,\n",
    "    \"test_accuracy\": accuracy,\n",
    "    \"test_precision\": precision,\n",
    "    \"test_recall\": recall,\n",
    "    \"test_f1\": f1,\n",
    "    \"test_f2\": f2,\n",
    "    \"test_mcc\": mcc,\n",
    "    \"test_S\": S\n",
    "}])\n",
    "\n",
    "if os.path.exists(excel_file_path):\n",
    "    existing_df = pd.read_excel(excel_file_path)\n",
    "    updated_df = pd.concat([existing_df, new_results], ignore_index=True)\n",
    "else:\n",
    "    updated_df = new_results\n",
    "\n",
    "updated_df.to_excel(excel_file_path, index=False)\n",
    "logger.info(f\"Metrics logged to Excel: {excel_file_path}\")\n",
    "\n",
    "\n",
    "# wandb.finish()\n",
    "safe_wandb_finish(timeout=45)\n",
    "\n",
    "logger.info(\"Process finished. Session will be terminated...\")\n",
    "\n",
    "# terminate session\n",
    "runtime.unassign()"
   ]
  }
 ],
 "metadata": {
  "kernelspec": {
   "display_name": "Python 3",
   "name": "python3"
  },
  "language_info": {
   "codemirror_mode": {
    "name": "ipython",
    "version": 3
   },
   "file_extension": ".py",
   "mimetype": "text/x-python",
   "name": "python",
   "nbconvert_exporter": "python",
   "pygments_lexer": "ipython3",
   "version": "3.12.7"
  },
  "colab": {
   "provenance": [],
   "gpuType": "T4"
  },
  "accelerator": "GPU",
  "widgets": {
   "application/vnd.jupyter.widget-state+json": {
    "state": {
        "208b03eab4db44ca81e6d10e611b4b7f": {
     "model_module": "@jupyter-widgets/controls",
     "model_name": "HBoxModel",
     "model_module_version": "1.5.0",
     "state": {
      "_dom_classes": [],
      "_model_module": "@jupyter-widgets/controls",
      "_model_module_version": "1.5.0",
      "_model_name": "HBoxModel",
      "_view_count": null,
      "_view_module": "@jupyter-widgets/controls",
      "_view_module_version": "1.5.0",
      "_view_name": "HBoxView",
      "box_style": "",
      "children": [
       "IPY_MODEL_852378becc634e0ab9f0365240e002e5",
       "IPY_MODEL_a7f5109c0aa543c4ab1ede5979910198",
       "IPY_MODEL_3b7b893d9fca472f8febc9bdb196a8e1"
      ],
      "layout": "IPY_MODEL_8b9a6eb790324745990daac6d60bef8b"
     }
    },
    "852378becc634e0ab9f0365240e002e5": {
     "model_module": "@jupyter-widgets/controls",
     "model_name": "HTMLModel",
     "model_module_version": "1.5.0",
     "state": {
      "_dom_classes": [],
      "_model_module": "@jupyter-widgets/controls",
      "_model_module_version": "1.5.0",
      "_model_name": "HTMLModel",
      "_view_count": null,
      "_view_module": "@jupyter-widgets/controls",
      "_view_module_version": "1.5.0",
      "_view_name": "HTMLView",
      "description": "",
      "description_tooltip": null,
      "layout": "IPY_MODEL_d40a2fd72c4e4905926f056e52eed77b",
      "placeholder": "​",
      "style": "IPY_MODEL_3cb6a92ba6b64c47bcdadb149ed8319f",
      "value": "config.json: 100%"
     }
    },
    "a7f5109c0aa543c4ab1ede5979910198": {
     "model_module": "@jupyter-widgets/controls",
     "model_name": "FloatProgressModel",
     "model_module_version": "1.5.0",
     "state": {
      "_dom_classes": [],
      "_model_module": "@jupyter-widgets/controls",
      "_model_module_version": "1.5.0",
      "_model_name": "FloatProgressModel",
      "_view_count": null,
      "_view_module": "@jupyter-widgets/controls",
      "_view_module_version": "1.5.0",
      "_view_name": "ProgressView",
      "bar_style": "success",
      "description": "",
      "description_tooltip": null,
      "layout": "IPY_MODEL_b9f323f63d104110b8119e28957b3b86",
      "max": 362,
      "min": 0,
      "orientation": "horizontal",
      "style": "IPY_MODEL_4981e6ab372d4e8e9e3b5b9206c4d0ff",
      "value": 362
     }
    },
    "3b7b893d9fca472f8febc9bdb196a8e1": {
     "model_module": "@jupyter-widgets/controls",
     "model_name": "HTMLModel",
     "model_module_version": "1.5.0",
     "state": {
      "_dom_classes": [],
      "_model_module": "@jupyter-widgets/controls",
      "_model_module_version": "1.5.0",
      "_model_name": "HTMLModel",
      "_view_count": null,
      "_view_module": "@jupyter-widgets/controls",
      "_view_module_version": "1.5.0",
      "_view_name": "HTMLView",
      "description": "",
      "description_tooltip": null,
      "layout": "IPY_MODEL_18485aa3d6c44893ab8860415483424c",
      "placeholder": "​",
      "style": "IPY_MODEL_dc3a1f8aae6f47f6baa10d19278f0175",
      "value": " 362/362 [00:00&lt;00:00, 26.2kB/s]"
     }
    },
    "8b9a6eb790324745990daac6d60bef8b": {
     "model_module": "@jupyter-widgets/base",
     "model_name": "LayoutModel",
     "model_module_version": "1.2.0",
     "state": {
      "_model_module": "@jupyter-widgets/base",
      "_model_module_version": "1.2.0",
      "_model_name": "LayoutModel",
      "_view_count": null,
      "_view_module": "@jupyter-widgets/base",
      "_view_module_version": "1.2.0",
      "_view_name": "LayoutView",
      "align_content": null,
      "align_items": null,
      "align_self": null,
      "border": null,
      "bottom": null,
      "display": null,
      "flex": null,
      "flex_flow": null,
      "grid_area": null,
      "grid_auto_columns": null,
      "grid_auto_flow": null,
      "grid_auto_rows": null,
      "grid_column": null,
      "grid_gap": null,
      "grid_row": null,
      "grid_template_areas": null,
      "grid_template_columns": null,
      "grid_template_rows": null,
      "height": null,
      "justify_content": null,
      "justify_items": null,
      "left": null,
      "margin": null,
      "max_height": null,
      "max_width": null,
      "min_height": null,
      "min_width": null,
      "object_fit": null,
      "object_position": null,
      "order": null,
      "overflow": null,
      "overflow_x": null,
      "overflow_y": null,
      "padding": null,
      "right": null,
      "top": null,
      "visibility": null,
      "width": null
     }
    },
    "d40a2fd72c4e4905926f056e52eed77b": {
     "model_module": "@jupyter-widgets/base",
     "model_name": "LayoutModel",
     "model_module_version": "1.2.0",
     "state": {
      "_model_module": "@jupyter-widgets/base",
      "_model_module_version": "1.2.0",
      "_model_name": "LayoutModel",
      "_view_count": null,
      "_view_module": "@jupyter-widgets/base",
      "_view_module_version": "1.2.0",
      "_view_name": "LayoutView",
      "align_content": null,
      "align_items": null,
      "align_self": null,
      "border": null,
      "bottom": null,
      "display": null,
      "flex": null,
      "flex_flow": null,
      "grid_area": null,
      "grid_auto_columns": null,
      "grid_auto_flow": null,
      "grid_auto_rows": null,
      "grid_column": null,
      "grid_gap": null,
      "grid_row": null,
      "grid_template_areas": null,
      "grid_template_columns": null,
      "grid_template_rows": null,
      "height": null,
      "justify_content": null,
      "justify_items": null,
      "left": null,
      "margin": null,
      "max_height": null,
      "max_width": null,
      "min_height": null,
      "min_width": null,
      "object_fit": null,
      "object_position": null,
      "order": null,
      "overflow": null,
      "overflow_x": null,
      "overflow_y": null,
      "padding": null,
      "right": null,
      "top": null,
      "visibility": null,
      "width": null
     }
    },
    "3cb6a92ba6b64c47bcdadb149ed8319f": {
     "model_module": "@jupyter-widgets/controls",
     "model_name": "DescriptionStyleModel",
     "model_module_version": "1.5.0",
     "state": {
      "_model_module": "@jupyter-widgets/controls",
      "_model_module_version": "1.5.0",
      "_model_name": "DescriptionStyleModel",
      "_view_count": null,
      "_view_module": "@jupyter-widgets/base",
      "_view_module_version": "1.2.0",
      "_view_name": "StyleView",
      "description_width": ""
     }
    },
    "b9f323f63d104110b8119e28957b3b86": {
     "model_module": "@jupyter-widgets/base",
     "model_name": "LayoutModel",
     "model_module_version": "1.2.0",
     "state": {
      "_model_module": "@jupyter-widgets/base",
      "_model_module_version": "1.2.0",
      "_model_name": "LayoutModel",
      "_view_count": null,
      "_view_module": "@jupyter-widgets/base",
      "_view_module_version": "1.2.0",
      "_view_name": "LayoutView",
      "align_content": null,
      "align_items": null,
      "align_self": null,
      "border": null,
      "bottom": null,
      "display": null,
      "flex": null,
      "flex_flow": null,
      "grid_area": null,
      "grid_auto_columns": null,
      "grid_auto_flow": null,
      "grid_auto_rows": null,
      "grid_column": null,
      "grid_gap": null,
      "grid_row": null,
      "grid_template_areas": null,
      "grid_template_columns": null,
      "grid_template_rows": null,
      "height": null,
      "justify_content": null,
      "justify_items": null,
      "left": null,
      "margin": null,
      "max_height": null,
      "max_width": null,
      "min_height": null,
      "min_width": null,
      "object_fit": null,
      "object_position": null,
      "order": null,
      "overflow": null,
      "overflow_x": null,
      "overflow_y": null,
      "padding": null,
      "right": null,
      "top": null,
      "visibility": null,
      "width": null
     }
    },
    "4981e6ab372d4e8e9e3b5b9206c4d0ff": {
     "model_module": "@jupyter-widgets/controls",
     "model_name": "ProgressStyleModel",
     "model_module_version": "1.5.0",
     "state": {
      "_model_module": "@jupyter-widgets/controls",
      "_model_module_version": "1.5.0",
      "_model_name": "ProgressStyleModel",
      "_view_count": null,
      "_view_module": "@jupyter-widgets/base",
      "_view_module_version": "1.2.0",
      "_view_name": "StyleView",
      "bar_color": null,
      "description_width": ""
     }
    },
    "18485aa3d6c44893ab8860415483424c": {
     "model_module": "@jupyter-widgets/base",
     "model_name": "LayoutModel",
     "model_module_version": "1.2.0",
     "state": {
      "_model_module": "@jupyter-widgets/base",
      "_model_module_version": "1.2.0",
      "_model_name": "LayoutModel",
      "_view_count": null,
      "_view_module": "@jupyter-widgets/base",
      "_view_module_version": "1.2.0",
      "_view_name": "LayoutView",
      "align_content": null,
      "align_items": null,
      "align_self": null,
      "border": null,
      "bottom": null,
      "display": null,
      "flex": null,
      "flex_flow": null,
      "grid_area": null,
      "grid_auto_columns": null,
      "grid_auto_flow": null,
      "grid_auto_rows": null,
      "grid_column": null,
      "grid_gap": null,
      "grid_row": null,
      "grid_template_areas": null,
      "grid_template_columns": null,
      "grid_template_rows": null,
      "height": null,
      "justify_content": null,
      "justify_items": null,
      "left": null,
      "margin": null,
      "max_height": null,
      "max_width": null,
      "min_height": null,
      "min_width": null,
      "object_fit": null,
      "object_position": null,
      "order": null,
      "overflow": null,
      "overflow_x": null,
      "overflow_y": null,
      "padding": null,
      "right": null,
      "top": null,
      "visibility": null,
      "width": null
     }
    },
    "dc3a1f8aae6f47f6baa10d19278f0175": {
     "model_module": "@jupyter-widgets/controls",
     "model_name": "DescriptionStyleModel",
     "model_module_version": "1.5.0",
     "state": {
      "_model_module": "@jupyter-widgets/controls",
      "_model_module_version": "1.5.0",
      "_model_name": "DescriptionStyleModel",
      "_view_count": null,
      "_view_module": "@jupyter-widgets/base",
      "_view_module_version": "1.2.0",
      "_view_name": "StyleView",
      "description_width": ""
     }
    },
    "af95bf134fcf47bf8ee40c5cf31de81a": {
     "model_module": "@jupyter-widgets/controls",
     "model_name": "HBoxModel",
     "model_module_version": "1.5.0",
     "state": {
      "_dom_classes": [],
      "_model_module": "@jupyter-widgets/controls",
      "_model_module_version": "1.5.0",
      "_model_name": "HBoxModel",
      "_view_count": null,
      "_view_module": "@jupyter-widgets/controls",
      "_view_module_version": "1.5.0",
      "_view_name": "HBoxView",
      "box_style": "",
      "children": [
       "IPY_MODEL_726cbc2c92ae488abe0ca078bc1ceec5",
       "IPY_MODEL_eedbcffe16834b6bab5c58b1af29a214",
       "IPY_MODEL_956b829ec8fa488f8dc0b92fbd196156"
      ],
      "layout": "IPY_MODEL_c6d424778a3846bda0a31566210008d1"
     }
    },
    "726cbc2c92ae488abe0ca078bc1ceec5": {
     "model_module": "@jupyter-widgets/controls",
     "model_name": "HTMLModel",
     "model_module_version": "1.5.0",
     "state": {
      "_dom_classes": [],
      "_model_module": "@jupyter-widgets/controls",
      "_model_module_version": "1.5.0",
      "_model_name": "HTMLModel",
      "_view_count": null,
      "_view_module": "@jupyter-widgets/controls",
      "_view_module_version": "1.5.0",
      "_view_name": "HTMLView",
      "description": "",
      "description_tooltip": null,
      "layout": "IPY_MODEL_52b99e9ddeb54c23849816bec678d21e",
      "placeholder": "​",
      "style": "IPY_MODEL_506385338cb84786b2ac017f9936f427",
      "value": "model.safetensors: 100%"
     }
    },
    "eedbcffe16834b6bab5c58b1af29a214": {
     "model_module": "@jupyter-widgets/controls",
     "model_name": "FloatProgressModel",
     "model_module_version": "1.5.0",
     "state": {
      "_dom_classes": [],
      "_model_module": "@jupyter-widgets/controls",
      "_model_module_version": "1.5.0",
      "_model_name": "FloatProgressModel",
      "_view_count": null,
      "_view_module": "@jupyter-widgets/controls",
      "_view_module_version": "1.5.0",
      "_view_name": "ProgressView",
      "bar_style": "success",
      "description": "",
      "description_tooltip": null,
      "layout": "IPY_MODEL_aefe2217f18148ae82aeb3cc950b1753",
      "max": 442233876,
      "min": 0,
      "orientation": "horizontal",
      "style": "IPY_MODEL_e0357f57fa3f49f49dc080d9b8e158ea",
      "value": 442233876
     }
    },
    "956b829ec8fa488f8dc0b92fbd196156": {
     "model_module": "@jupyter-widgets/controls",
     "model_name": "HTMLModel",
     "model_module_version": "1.5.0",
     "state": {
      "_dom_classes": [],
      "_model_module": "@jupyter-widgets/controls",
      "_model_module_version": "1.5.0",
      "_model_name": "HTMLModel",
      "_view_count": null,
      "_view_module": "@jupyter-widgets/controls",
      "_view_module_version": "1.5.0",
      "_view_name": "HTMLView",
      "description": "",
      "description_tooltip": null,
      "layout": "IPY_MODEL_5a56b94243cf4a83984b37a8519074de",
      "placeholder": "​",
      "style": "IPY_MODEL_e3f75d87b3b140d2b47c98f038c838fb",
      "value": " 442M/442M [00:05&lt;00:00, 87.4MB/s]"
     }
    },
    "c6d424778a3846bda0a31566210008d1": {
     "model_module": "@jupyter-widgets/base",
     "model_name": "LayoutModel",
     "model_module_version": "1.2.0",
     "state": {
      "_model_module": "@jupyter-widgets/base",
      "_model_module_version": "1.2.0",
      "_model_name": "LayoutModel",
      "_view_count": null,
      "_view_module": "@jupyter-widgets/base",
      "_view_module_version": "1.2.0",
      "_view_name": "LayoutView",
      "align_content": null,
      "align_items": null,
      "align_self": null,
      "border": null,
      "bottom": null,
      "display": null,
      "flex": null,
      "flex_flow": null,
      "grid_area": null,
      "grid_auto_columns": null,
      "grid_auto_flow": null,
      "grid_auto_rows": null,
      "grid_column": null,
      "grid_gap": null,
      "grid_row": null,
      "grid_template_areas": null,
      "grid_template_columns": null,
      "grid_template_rows": null,
      "height": null,
      "justify_content": null,
      "justify_items": null,
      "left": null,
      "margin": null,
      "max_height": null,
      "max_width": null,
      "min_height": null,
      "min_width": null,
      "object_fit": null,
      "object_position": null,
      "order": null,
      "overflow": null,
      "overflow_x": null,
      "overflow_y": null,
      "padding": null,
      "right": null,
      "top": null,
      "visibility": null,
      "width": null
     }
    },
    "52b99e9ddeb54c23849816bec678d21e": {
     "model_module": "@jupyter-widgets/base",
     "model_name": "LayoutModel",
     "model_module_version": "1.2.0",
     "state": {
      "_model_module": "@jupyter-widgets/base",
      "_model_module_version": "1.2.0",
      "_model_name": "LayoutModel",
      "_view_count": null,
      "_view_module": "@jupyter-widgets/base",
      "_view_module_version": "1.2.0",
      "_view_name": "LayoutView",
      "align_content": null,
      "align_items": null,
      "align_self": null,
      "border": null,
      "bottom": null,
      "display": null,
      "flex": null,
      "flex_flow": null,
      "grid_area": null,
      "grid_auto_columns": null,
      "grid_auto_flow": null,
      "grid_auto_rows": null,
      "grid_column": null,
      "grid_gap": null,
      "grid_row": null,
      "grid_template_areas": null,
      "grid_template_columns": null,
      "grid_template_rows": null,
      "height": null,
      "justify_content": null,
      "justify_items": null,
      "left": null,
      "margin": null,
      "max_height": null,
      "max_width": null,
      "min_height": null,
      "min_width": null,
      "object_fit": null,
      "object_position": null,
      "order": null,
      "overflow": null,
      "overflow_x": null,
      "overflow_y": null,
      "padding": null,
      "right": null,
      "top": null,
      "visibility": null,
      "width": null
     }
    },
    "506385338cb84786b2ac017f9936f427": {
     "model_module": "@jupyter-widgets/controls",
     "model_name": "DescriptionStyleModel",
     "model_module_version": "1.5.0",
     "state": {
      "_model_module": "@jupyter-widgets/controls",
      "_model_module_version": "1.5.0",
      "_model_name": "DescriptionStyleModel",
      "_view_count": null,
      "_view_module": "@jupyter-widgets/base",
      "_view_module_version": "1.2.0",
      "_view_name": "StyleView",
      "description_width": ""
     }
    },
    "aefe2217f18148ae82aeb3cc950b1753": {
     "model_module": "@jupyter-widgets/base",
     "model_name": "LayoutModel",
     "model_module_version": "1.2.0",
     "state": {
      "_model_module": "@jupyter-widgets/base",
      "_model_module_version": "1.2.0",
      "_model_name": "LayoutModel",
      "_view_count": null,
      "_view_module": "@jupyter-widgets/base",
      "_view_module_version": "1.2.0",
      "_view_name": "LayoutView",
      "align_content": null,
      "align_items": null,
      "align_self": null,
      "border": null,
      "bottom": null,
      "display": null,
      "flex": null,
      "flex_flow": null,
      "grid_area": null,
      "grid_auto_columns": null,
      "grid_auto_flow": null,
      "grid_auto_rows": null,
      "grid_column": null,
      "grid_gap": null,
      "grid_row": null,
      "grid_template_areas": null,
      "grid_template_columns": null,
      "grid_template_rows": null,
      "height": null,
      "justify_content": null,
      "justify_items": null,
      "left": null,
      "margin": null,
      "max_height": null,
      "max_width": null,
      "min_height": null,
      "min_width": null,
      "object_fit": null,
      "object_position": null,
      "order": null,
      "overflow": null,
      "overflow_x": null,
      "overflow_y": null,
      "padding": null,
      "right": null,
      "top": null,
      "visibility": null,
      "width": null
     }
    },
    "e0357f57fa3f49f49dc080d9b8e158ea": {
     "model_module": "@jupyter-widgets/controls",
     "model_name": "ProgressStyleModel",
     "model_module_version": "1.5.0",
     "state": {
      "_model_module": "@jupyter-widgets/controls",
      "_model_module_version": "1.5.0",
      "_model_name": "ProgressStyleModel",
      "_view_count": null,
      "_view_module": "@jupyter-widgets/base",
      "_view_module_version": "1.2.0",
      "_view_name": "StyleView",
      "bar_color": null,
      "description_width": ""
     }
    },
    "5a56b94243cf4a83984b37a8519074de": {
     "model_module": "@jupyter-widgets/base",
     "model_name": "LayoutModel",
     "model_module_version": "1.2.0",
     "state": {
      "_model_module": "@jupyter-widgets/base",
      "_model_module_version": "1.2.0",
      "_model_name": "LayoutModel",
      "_view_count": null,
      "_view_module": "@jupyter-widgets/base",
      "_view_module_version": "1.2.0",
      "_view_name": "LayoutView",
      "align_content": null,
      "align_items": null,
      "align_self": null,
      "border": null,
      "bottom": null,
      "display": null,
      "flex": null,
      "flex_flow": null,
      "grid_area": null,
      "grid_auto_columns": null,
      "grid_auto_flow": null,
      "grid_auto_rows": null,
      "grid_column": null,
      "grid_gap": null,
      "grid_row": null,
      "grid_template_areas": null,
      "grid_template_columns": null,
      "grid_template_rows": null,
      "height": null,
      "justify_content": null,
      "justify_items": null,
      "left": null,
      "margin": null,
      "max_height": null,
      "max_width": null,
      "min_height": null,
      "min_width": null,
      "object_fit": null,
      "object_position": null,
      "order": null,
      "overflow": null,
      "overflow_x": null,
      "overflow_y": null,
      "padding": null,
      "right": null,
      "top": null,
      "visibility": null,
      "width": null
     }
    },
    "e3f75d87b3b140d2b47c98f038c838fb": {
     "model_module": "@jupyter-widgets/controls",
     "model_name": "DescriptionStyleModel",
     "model_module_version": "1.5.0",
     "state": {
      "_model_module": "@jupyter-widgets/controls",
      "_model_module_version": "1.5.0",
      "_model_name": "DescriptionStyleModel",
      "_view_count": null,
      "_view_module": "@jupyter-widgets/base",
      "_view_module_version": "1.2.0",
      "_view_name": "StyleView",
      "description_width": ""
     }
    }
    }
    
   }
  }
 },
 "nbformat": 4,
 "nbformat_minor": 0
}
