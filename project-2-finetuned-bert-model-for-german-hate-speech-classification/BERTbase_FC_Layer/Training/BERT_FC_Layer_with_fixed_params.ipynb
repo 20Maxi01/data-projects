{
 "cells": [
  {
   "metadata": {
    "id": "c266e7b01c934543"
   },
   "cell_type": "markdown",
   "source": [
    "## Fine-Tuning deepset/gbert-base for German Hate Speech Classification\n",
    "This notebook fine-tunes `deepset/gbert-base` on a German hate speech dataset using PyTorch, BERT and CNN Layer.\n",
    "\n",
    "For the hyperparameter tuning optuna and the Tree-structured Parzen estimator (TPE), a Bayesian optimization method is used. For stopping unpromising trials early the HyperbandPruner is used.\n",
    "\n",
    "The script automatically logs the model metrics to the wandb project as well as to \"logged_model_metrics.xlsx\"\n",
    "\n",
    "\n",
    "Inspiration for this setup: <br>\n",
    "\n",
    "Cendra Devayana Putra, Hei-Chia Wang,\n",
    "Advanced BERT-CNN for Hate Speech Detection,\n",
    "Procedia Computer Science,\n",
    "Volume 234,\n",
    "2024,\n",
    "Pages 239-246,\n",
    "ISSN 1877-0509,\n",
    "https://doi.org/10.1016/j.procs.2024.02.170."
   ],
   "id": "c266e7b01c934543"
  },
  {
   "cell_type": "code",
   "source": [
    "!pip install optuna"
   ],
   "metadata": {
    "colab": {
     "base_uri": "https://localhost:8080/"
    },
    "id": "elTvBEPh-GEN",
    "executionInfo": {
     "status": "ok",
     "timestamp": 1736103158692,
     "user_tz": -60,
     "elapsed": 3765,
     "user": {
      "displayName": "Max N.",
      "userId": "17347375569055604559"
     }
    },
    "outputId": "97b4c60c-e246-4d7b-8720-f5bf1389bd0e"
   },
   "id": "elTvBEPh-GEN",
   "execution_count": 1,
   "outputs": [
    {
     "output_type": "stream",
     "name": "stdout",
     "text": [
      "Collecting optuna\n",
      "  Downloading optuna-4.1.0-py3-none-any.whl.metadata (16 kB)\n",
      "Collecting alembic>=1.5.0 (from optuna)\n",
      "  Downloading alembic-1.14.0-py3-none-any.whl.metadata (7.4 kB)\n",
      "Collecting colorlog (from optuna)\n",
      "  Downloading colorlog-6.9.0-py3-none-any.whl.metadata (10 kB)\n",
      "Requirement already satisfied: numpy in /usr/local/lib/python3.10/dist-packages (from optuna) (1.26.4)\n",
      "Requirement already satisfied: packaging>=20.0 in /usr/local/lib/python3.10/dist-packages (from optuna) (24.2)\n",
      "Requirement already satisfied: sqlalchemy>=1.4.2 in /usr/local/lib/python3.10/dist-packages (from optuna) (2.0.36)\n",
      "Requirement already satisfied: tqdm in /usr/local/lib/python3.10/dist-packages (from optuna) (4.67.1)\n",
      "Requirement already satisfied: PyYAML in /usr/local/lib/python3.10/dist-packages (from optuna) (6.0.2)\n",
      "Collecting Mako (from alembic>=1.5.0->optuna)\n",
      "  Downloading Mako-1.3.8-py3-none-any.whl.metadata (2.9 kB)\n",
      "Requirement already satisfied: typing-extensions>=4 in /usr/local/lib/python3.10/dist-packages (from alembic>=1.5.0->optuna) (4.12.2)\n",
      "Requirement already satisfied: greenlet!=0.4.17 in /usr/local/lib/python3.10/dist-packages (from sqlalchemy>=1.4.2->optuna) (3.1.1)\n",
      "Requirement already satisfied: MarkupSafe>=0.9.2 in /usr/local/lib/python3.10/dist-packages (from Mako->alembic>=1.5.0->optuna) (3.0.2)\n",
      "Downloading optuna-4.1.0-py3-none-any.whl (364 kB)\n",
      "\u001B[2K   \u001B[90m━━━━━━━━━━━━━━━━━━━━━━━━━━━━━━━━━━━━━━━━\u001B[0m \u001B[32m364.4/364.4 kB\u001B[0m \u001B[31m29.9 MB/s\u001B[0m eta \u001B[36m0:00:00\u001B[0m\n",
      "\u001B[?25hDownloading alembic-1.14.0-py3-none-any.whl (233 kB)\n",
      "\u001B[2K   \u001B[90m━━━━━━━━━━━━━━━━━━━━━━━━━━━━━━━━━━━━━━━━\u001B[0m \u001B[32m233.5/233.5 kB\u001B[0m \u001B[31m17.5 MB/s\u001B[0m eta \u001B[36m0:00:00\u001B[0m\n",
      "\u001B[?25hDownloading colorlog-6.9.0-py3-none-any.whl (11 kB)\n",
      "Downloading Mako-1.3.8-py3-none-any.whl (78 kB)\n",
      "\u001B[2K   \u001B[90m━━━━━━━━━━━━━━━━━━━━━━━━━━━━━━━━━━━━━━━━\u001B[0m \u001B[32m78.6/78.6 kB\u001B[0m \u001B[31m7.1 MB/s\u001B[0m eta \u001B[36m0:00:00\u001B[0m\n",
      "\u001B[?25hInstalling collected packages: Mako, colorlog, alembic, optuna\n",
      "Successfully installed Mako-1.3.8 alembic-1.14.0 colorlog-6.9.0 optuna-4.1.0\n"
     ]
    }
   ]
  },
  {
   "cell_type": "code",
   "source": [
    "# Import Libraries\n",
    "import wandb\n",
    "import optuna\n",
    "from optuna.pruners import HyperbandPruner\n",
    "import pandas as pd\n",
    "import numpy as np\n",
    "import matplotlib.pyplot as plt\n",
    "import torch\n",
    "from torch import nn\n",
    "from torch.utils.data import Dataset\n",
    "from sklearn.model_selection import train_test_split\n",
    "from sklearn.metrics import (\n",
    "    balanced_accuracy_score\n",
    "    , accuracy_score\n",
    "    , precision_recall_fscore_support\n",
    "    , matthews_corrcoef\n",
    "    , classification_report\n",
    "    , f1_score\n",
    "    , log_loss\n",
    "    , precision_score\n",
    "    , recall_score\n",
    "    , fbeta_score\n",
    "    , confusion_matrix\n",
    "    , ConfusionMatrixDisplay\n",
    ")\n",
    "from transformers import AutoTokenizer, BertModel, Trainer, TrainingArguments\n",
    "import logging\n",
    "import os\n",
    "from google.colab import runtime, userdata, drive\n",
    "import datetime\n",
    "import threading\n",
    "import time"
   ],
   "metadata": {
    "id": "8Oyu0U0D-Jct",
    "executionInfo": {
     "status": "ok",
     "timestamp": 1736103177211,
     "user_tz": -60,
     "elapsed": 18522,
     "user": {
      "displayName": "Max N.",
      "userId": "17347375569055604559"
     }
    }
   },
   "id": "8Oyu0U0D-Jct",
   "execution_count": 2,
   "outputs": []
  },
  {
   "cell_type": "markdown",
   "source": [
    "## Set up logging and connections"
   ],
   "metadata": {
    "id": "FSv5W-8gG53A"
   },
   "id": "FSv5W-8gG53A"
  },
  {
   "cell_type": "code",
   "source": [
    "# Configure Logging\n",
    "logging.basicConfig(\n",
    "    level=logging.INFO,  # Log INFO\n",
    "    format=\"%(asctime)s - %(levelname)s - %(message)s\",\n",
    "    force=True\n",
    ")\n",
    "\n",
    "logger = logging.getLogger(__name__)\n",
    "\n",
    "torch.cuda.empty_cache()"
   ],
   "metadata": {
    "id": "EMOvE2y8-M-C",
    "executionInfo": {
     "status": "ok",
     "timestamp": 1736103177212,
     "user_tz": -60,
     "elapsed": 7,
     "user": {
      "displayName": "Max N.",
      "userId": "17347375569055604559"
     }
    }
   },
   "id": "EMOvE2y8-M-C",
   "execution_count": 3,
   "outputs": []
  },
  {
   "cell_type": "code",
   "source": [
    "# connect to wandb\n",
    "wandbkey = userdata.get('WandbKey')\n",
    "wandb.login(key=wandbkey)"
   ],
   "metadata": {
    "id": "eNnUSAiW-l2E",
    "colab": {
     "base_uri": "https://localhost:8080/"
    },
    "executionInfo": {
     "status": "ok",
     "timestamp": 1736103183914,
     "user_tz": -60,
     "elapsed": 6708,
     "user": {
      "displayName": "Max N.",
      "userId": "17347375569055604559"
     }
    },
    "outputId": "8306dc41-cee2-400a-e46a-81de827fcc33"
   },
   "id": "eNnUSAiW-l2E",
   "execution_count": 4,
   "outputs": [
    {
     "output_type": "stream",
     "name": "stderr",
     "text": [
      "\u001B[34m\u001B[1mwandb\u001B[0m: Using wandb-core as the SDK backend.  Please refer to https://wandb.me/wandb-core for more information.\n",
      "\u001B[34m\u001B[1mwandb\u001B[0m: Currently logged in as: \u001B[33mmaxnienh\u001B[0m (\u001B[33mmaxnienh-xx\u001B[0m). Use \u001B[1m`wandb login --relogin`\u001B[0m to force relogin\n",
      "\u001B[34m\u001B[1mwandb\u001B[0m: \u001B[33mWARNING\u001B[0m If you're specifying your api key in code, ensure this code is not shared publicly.\n",
      "\u001B[34m\u001B[1mwandb\u001B[0m: \u001B[33mWARNING\u001B[0m Consider setting the WANDB_API_KEY environment variable, or running `wandb login` from the command line.\n",
      "\u001B[34m\u001B[1mwandb\u001B[0m: Appending key for api.wandb.ai to your netrc file: /root/.netrc\n"
     ]
    },
    {
     "output_type": "execute_result",
     "data": {
      "text/plain": [
       "True"
      ]
     },
     "metadata": {},
     "execution_count": 4
    }
   ]
  },
  {
   "cell_type": "code",
   "source": [
    "# Set Device to GPU\n",
    "device = torch.device(\"cuda\") if torch.cuda.is_available() else torch.device(\"cpu\")\n",
    "logger.info(f\"Using device: {device}\")\n",
    "if torch.cuda.is_available():\n",
    "    logger.info(f\"GPU Name: {torch.cuda.get_device_name(0)}\")"
   ],
   "metadata": {
    "id": "mNCe_zjs-Pe_",
    "colab": {
     "base_uri": "https://localhost:8080/"
    },
    "executionInfo": {
     "status": "ok",
     "timestamp": 1736103184331,
     "user_tz": -60,
     "elapsed": 4,
     "user": {
      "displayName": "Max N.",
      "userId": "17347375569055604559"
     }
    },
    "outputId": "3b1254ef-d3a1-451b-cb97-552a427c2dae"
   },
   "id": "mNCe_zjs-Pe_",
   "execution_count": 5,
   "outputs": [
    {
     "output_type": "stream",
     "name": "stderr",
     "text": [
      "2025-01-05 18:53:03,718 - INFO - Using device: cuda\n",
      "2025-01-05 18:53:03,742 - INFO - GPU Name: NVIDIA L4\n"
     ]
    }
   ]
  },
  {
   "cell_type": "code",
   "source": [
    "# mount google drive for folder access\n",
    "drive.mount('/content/drive')"
   ],
   "metadata": {
    "id": "z1bi-ZSU070r",
    "colab": {
     "base_uri": "https://localhost:8080/"
    },
    "executionInfo": {
     "status": "ok",
     "timestamp": 1736103209104,
     "user_tz": -60,
     "elapsed": 24776,
     "user": {
      "displayName": "Max N.",
      "userId": "17347375569055604559"
     }
    },
    "outputId": "e4ccad34-7881-4b34-dfce-58f4a587784f"
   },
   "id": "z1bi-ZSU070r",
   "execution_count": 6,
   "outputs": [
    {
     "output_type": "stream",
     "name": "stdout",
     "text": [
      "Mounted at /content/drive\n"
     ]
    }
   ]
  },
  {
   "cell_type": "markdown",
   "source": [
    "## Define custom BERT model class"
   ],
   "metadata": {
    "id": "H7xOkBorGuCQ"
   },
   "id": "H7xOkBorGuCQ"
  },
  {
   "cell_type": "code",
   "source": [
    "class BERT_WithExtraLayer(nn.Module):\n",
    "    def __init__(self, bert_model_name, num_labels=2, hidden_dim=256, dropout_rate=0.1, class_weights=None):\n",
    "        \"\"\"\n",
    "        Initializes a BERT-based model with an additional fully connected layer.\n",
    "\n",
    "        :param bert_model_name: Name of the pre-trained BERT model to be used.\n",
    "        :param num_labels: Number of output classes for classification.\n",
    "        :param hidden_dim: Size of the hidden layer in the additional fully connected network.\n",
    "        :param dropout_rate: Dropout rate for regularization.\n",
    "        :param class_weights: Optional tensor containing class weights for handling class imbalance.\n",
    "        \"\"\"\n",
    "        \n",
    "        super(BERT_WithExtraLayer, self).__init__()\n",
    "\n",
    "        # Load pre-trained BERT model\n",
    "        self.bert = BertModel.from_pretrained(bert_model_name)\n",
    "        self.hidden_size = self.bert.config.hidden_size\n",
    "\n",
    "        # Additional fully connected layer\n",
    "        self.extra_fc = nn.Linear(self.hidden_size, hidden_dim)\n",
    "        self.relu = nn.ReLU()\n",
    "\n",
    "        # Final classification layer\n",
    "        self.classifier = nn.Linear(hidden_dim, num_labels)\n",
    "\n",
    "        # Dropout layer\n",
    "        self.dropout = nn.Dropout(dropout_rate)\n",
    "\n",
    "        self.class_weights = class_weights\n",
    "\n",
    "    def forward(self, input_ids, attention_mask=None, labels=None):\n",
    "        \"\"\"\n",
    "        Forward pass through the model.\n",
    "\n",
    "        :param input_ids: Tensor of tokenized input IDs.\n",
    "        :param attention_mask: Tensor indicating which tokens should be attended to.\n",
    "        :param labels: Optional tensor of target labels for loss calculation.\n",
    "        :return: Loss (if labels are provided) and logits.\n",
    "        \"\"\"\n",
    "        \n",
    "        # Forward pass through BERT\n",
    "        outputs = self.bert(input_ids=input_ids, attention_mask=attention_mask)\n",
    "        pooled_output = outputs.pooler_output  # Shape: (batch_size, hidden_size)\n",
    "\n",
    "        # Forward pass through extra layer\n",
    "        x = self.extra_fc(pooled_output)\n",
    "        x = self.relu(x)\n",
    "        x = self.dropout(x)\n",
    "\n",
    "        # Classification layer\n",
    "        logits = self.classifier(x)  # Shape: (batch_size, num_labels)\n",
    "\n",
    "        # Compute loss if labels are provided\n",
    "        if labels is not None:\n",
    "            loss_fct = nn.CrossEntropyLoss(weight=class_weights) # for balancing the classes\n",
    "            loss = loss_fct(logits.view(-1, self.classifier.out_features), labels.view(-1))\n",
    "            return loss, logits\n",
    "\n",
    "        return logits"
   ],
   "metadata": {
    "id": "EdlVw54ncOS3",
    "executionInfo": {
     "status": "ok",
     "timestamp": 1736103209104,
     "user_tz": -60,
     "elapsed": 3,
     "user": {
      "displayName": "Max N.",
      "userId": "17347375569055604559"
     }
    }
   },
   "id": "EdlVw54ncOS3",
   "execution_count": 7,
   "outputs": []
  },
  {
   "cell_type": "markdown",
   "source": [
    "## Load, split and tokenize data"
   ],
   "metadata": {
    "id": "yXvMWQa9G-Yc"
   },
   "id": "yXvMWQa9G-Yc"
  },
  {
   "cell_type": "code",
   "source": [
    "#import pandas as pd\n",
    "dataset_filename = \"Dataset_anonymized_annotated_comments_same_annotation_final.csv\"\n",
    "csv_path = os.path.join('/content/drive/MyDrive/model/data', dataset_filename)\n",
    "\n",
    "# Load the dataset\n",
    "data = pd.read_csv(csv_path, delimiter=';', on_bad_lines='skip')\n",
    "data = data[['comment', 'annotation']]\n",
    "logger.info(f\"Dataset loaded with shape: {data.shape}\")\n",
    "\n",
    "# Compute Class Weights using the normalized formula\n",
    "class_counts = data['annotation'].value_counts().sort_index()\n",
    "total_samples = class_counts.sum()\n",
    "num_classes = len(class_counts)\n",
    "\n",
    "# Improved inverse class weights\n",
    "class_weights = total_samples / (num_classes * class_counts)\n",
    "class_weights = torch.tensor(class_weights.values, dtype=torch.float32).to(device)\n",
    "logger.info(f\"Computed class weights: {class_weights}\")"
   ],
   "metadata": {
    "colab": {
     "base_uri": "https://localhost:8080/"
    },
    "id": "YbMB67QN-Tj2",
    "executionInfo": {
     "status": "ok",
     "timestamp": 1736103212265,
     "user_tz": -60,
     "elapsed": 3164,
     "user": {
      "displayName": "Max N.",
      "userId": "17347375569055604559"
     }
    },
    "outputId": "76080c5b-33ba-42cd-86ee-174ba899b286"
   },
   "id": "YbMB67QN-Tj2",
   "execution_count": 8,
   "outputs": [
    {
     "output_type": "stream",
     "name": "stderr",
     "text": [
      "2025-01-05 18:53:31,050 - INFO - Dataset loaded with shape: (23580, 2)\n",
      "2025-01-05 18:53:31,695 - INFO - Computed class weights: tensor([0.7221, 1.6258], device='cuda:0')\n"
     ]
    }
   ]
  },
  {
   "cell_type": "code",
   "source": [
    "# Variable to switch between full and small dataset (for tests)\n",
    "use_full_dataset = 0\n",
    "\n",
    "# Split into training (70%), validation (15%), and test (15%) datasets\n",
    "if use_full_dataset == 1:\n",
    "\n",
    "  train_data, temp_data = train_test_split(data, test_size=0.3, stratify=data['annotation'], random_state=42)\n",
    "  val_data, test_data = train_test_split(temp_data, test_size=0.5, stratify=temp_data['annotation'], random_state=42)\n",
    "\n",
    "  logger.info(f\"Train size: {len(train_data)} rows | Test size: {len(test_data)} rows | Validation size: {len(val_data)} rows\")\n",
    "\n",
    "else:\n",
    "  #Separate Dataset into two groups\n",
    "  hate_data = data[data['annotation'] == 1]\n",
    "  no_hate_data = data[data['annotation'] == 0]\n",
    "\n",
    "  #Take n random comments out of both groups to create a balanced dataset\n",
    "  subset_size_per_class = 500\n",
    "  positive_subset = hate_data.sample(n=subset_size_per_class, random_state=42)\n",
    "  negative_subset = no_hate_data.sample(n=subset_size_per_class, random_state=42)\n",
    "\n",
    "  # Combine both groups into one dataset\n",
    "  balanced_subset = pd.concat([positive_subset, negative_subset])\n",
    "\n",
    "  # Shuffle and reset index\n",
    "  balanced_subset = balanced_subset.sample(frac=1, random_state=42).reset_index(drop=True)\n",
    "\n",
    "  # Verify balance\n",
    "  logger.info(f\"Balanced subset size: {len(balanced_subset)} rows\")\n",
    "  logger.info(f\"Annotation distribution: {balanced_subset['annotation'].value_counts()}\")\n",
    "\n",
    "\n",
    "  train_size = int(0.7 * len(balanced_subset))\n",
    "  val_size = int(0.15 * len(balanced_subset))\n",
    "\n",
    "  train_data = balanced_subset[:train_size]\n",
    "  val_data = balanced_subset[train_size:train_size + val_size]\n",
    "  test_data = balanced_subset[train_size + val_size:]\n",
    "\n",
    "  # Log sizes of each split\n",
    "  logger.info(f\"Small Train size: {len(train_data)} rows | Small Test size: {len(test_data)} rows | Small Validation size: {len(val_data)} rows\")"
   ],
   "metadata": {
    "id": "5Fyezy2X-Vyo",
    "colab": {
     "base_uri": "https://localhost:8080/"
    },
    "executionInfo": {
     "status": "ok",
     "timestamp": 1736103212265,
     "user_tz": -60,
     "elapsed": 4,
     "user": {
      "displayName": "Max N.",
      "userId": "17347375569055604559"
     }
    },
    "outputId": "72a68b6a-3a15-4df5-dd58-ac0af0e306a8"
   },
   "id": "5Fyezy2X-Vyo",
   "execution_count": 9,
   "outputs": [
    {
     "output_type": "stream",
     "name": "stderr",
     "text": [
      "2025-01-05 18:53:31,712 - INFO - Balanced subset size: 1000 rows\n",
      "2025-01-05 18:53:31,713 - INFO - Annotation distribution: annotation\n",
      "0    500\n",
      "1    500\n",
      "Name: count, dtype: int64\n",
      "2025-01-05 18:53:31,714 - INFO - Small Train size: 700 rows | Small Test size: 150 rows | Small Validation size: 150 rows\n"
     ]
    }
   ]
  },
  {
   "cell_type": "markdown",
   "source": [
    "\n"
   ],
   "metadata": {
    "id": "cm-xN4dHRA0M"
   },
   "id": "cm-xN4dHRA0M"
  },
  {
   "cell_type": "code",
   "source": [
    "# Load tokenizer\n",
    "tokenizer = AutoTokenizer.from_pretrained('deepset/gbert-base')\n",
    "\n",
    "# Define tokenization function\n",
    "def tokenize_texts(texts, tokenizer, max_length=256): # reduced for testing\n",
    "    \"\"\"\n",
    "    Tokenizes a list of input texts.\n",
    "\n",
    "    :param texts: List of input text strings.\n",
    "    :param tokenizer: Tokenizer to be used (e.g., BERT tokenizer).\n",
    "    :param max_length: Maximum sequence length for tokenization.\n",
    "    :return: Dictionary of tokenized outputs, including input IDs and attention masks.\n",
    "    \"\"\"\n",
    "    \n",
    "    return tokenizer(\n",
    "        list(texts),\n",
    "        truncation=True,\n",
    "        padding=True,\n",
    "        max_length=max_length,\n",
    "        return_tensors=\"pt\"\n",
    "    )\n",
    "\n",
    "# Tokenize train and test datasets\n",
    "train_encodings = tokenize_texts(train_data['comment'], tokenizer)\n",
    "val_encodings = tokenize_texts(val_data['comment'], tokenizer)\n",
    "test_encodings = tokenize_texts(test_data['comment'], tokenizer)\n",
    "\n",
    "# Define Dataset class\n",
    "class HateSpeechDataset(Dataset):\n",
    "    def __init__(self, encodings, labels):\n",
    "        \"\"\"\n",
    "        Custom dataset class for handling tokenized text and labels.\n",
    "\n",
    "        :param encodings: Tokenized text data.\n",
    "        :param labels: Corresponding labels for classification.\n",
    "        \"\"\"\n",
    "        \n",
    "        self.encodings = encodings\n",
    "        self.labels = labels\n",
    "\n",
    "    def __getitem__(self, idx):\n",
    "        \"\"\"\n",
    "        Retrieves a sample from the dataset.\n",
    "\n",
    "        :param idx: Index of the sample to retrieve.\n",
    "        :return: Dictionary containing tokenized inputs and label.\n",
    "        \"\"\"\n",
    "        \n",
    "        item = {key: val[idx] for key, val in self.encodings.items()}\n",
    "        item['labels'] = torch.tensor(self.labels[idx], dtype=torch.long)\n",
    "        return item\n",
    "\n",
    "    def __len__(self):\n",
    "        \"\"\"\n",
    "        Returns the total number of samples in the dataset.\n",
    "\n",
    "        :return: Integer count of samples.\n",
    "        \"\"\"\n",
    "        \n",
    "        return len(self.labels)\n",
    "\n",
    "# Create datasets\n",
    "train_dataset = HateSpeechDataset(train_encodings, train_data['annotation'].values)\n",
    "val_dataset = HateSpeechDataset(val_encodings, val_data['annotation'].values)\n",
    "test_dataset = HateSpeechDataset(test_encodings, test_data['annotation'].values)\n",
    "logger.info(f\"Training samples: {len(train_dataset)} | Test samples: {len(test_dataset)} | Validation samples: {len(val_dataset)}\")"
   ],
   "metadata": {
    "id": "zwFC0nbE-Y4Y",
    "colab": {
     "base_uri": "https://localhost:8080/",
     "height": 238,
     "referenced_widgets": [
      "07758c1a8f8942688b3df9c9af6d21a0",
      "d317639e1c0045259e1abf429db91770",
      "052e877212dc4e8bb6290e217f10cfb5",
      "fc7f0027659c4d189daa300a14333c53",
      "54f35838dbfc47b2af93ebb2f8fe2202",
      "8f1cff02f49a4b4282402ae40a21b5da",
      "5a1137d8d4ec42209d505cda39ccd542",
      "5d4b3bcaf5414e818e98dd1e4c5b5736",
      "57c910088a704e2e8286e21b121727c2",
      "b5603c54f1a84ab1a1f9a673a2219e3d",
      "827844d1a8204b98a2cec04ce0583725",
      "d5588ca1ec94408db3c99997e1b1b2e2",
      "2a3a3cac068b460285b882c07706062a",
      "b485131819454b4c84bc810eb695e018",
      "71f7c47035e94252b9c1471f9d1f77ec",
      "49053bb2394842799e4bd18ab1eab133",
      "f15e9350e6bf4c8599b5ef9852b0512d",
      "29ede69ef1264ce481207fd7f68579bc",
      "e2e43cd2d19143b28ede75dd220f7671",
      "12bf527139db46058f95c691e702bc78",
      "334a314a40144e97b785b0c5a0b17470",
      "fd23e938eda3445fadafaeb3c1522a5f",
      "3d0c812357cd4cdf9a4f342875299c81",
      "077886e86bac4636a1579a8c902577e1",
      "2131da14eb104c8f90962829c17eac67",
      "02cd5b66fb464af98d6414b07f233a20",
      "33d8bd67a4164dcea606e5a2c4508bbd",
      "676ee0984f0f420d8e2e59ca81da0131",
      "1b2c4f7050f546e9ad84418586c66914",
      "ddbc8ea666b14b6881c9703276f1437c",
      "6fdac4a27bf74e7a9e6b4275c7da0dda",
      "294ab138837444c48bfdd8e64aa8c359",
      "d12dd76cd7e540d38dbd264383d74125"
     ]
    },
    "executionInfo": {
     "status": "ok",
     "timestamp": 1736103217115,
     "user_tz": -60,
     "elapsed": 4853,
     "user": {
      "displayName": "Max N.",
      "userId": "17347375569055604559"
     }
    },
    "outputId": "cb5985e6-2ccd-463a-8e95-9b5cb21d0ebb"
   },
   "id": "zwFC0nbE-Y4Y",
   "execution_count": 10,
   "outputs": [
    {
     "output_type": "stream",
     "name": "stderr",
     "text": [
      "/usr/local/lib/python3.10/dist-packages/huggingface_hub/utils/_auth.py:94: UserWarning: \n",
      "The secret `HF_TOKEN` does not exist in your Colab secrets.\n",
      "To authenticate with the Hugging Face Hub, create a token in your settings tab (https://huggingface.co/settings/tokens), set it as secret in your Google Colab and restart your session.\n",
      "You will be able to reuse this secret in all of your notebooks.\n",
      "Please note that authentication is recommended but still optional to access public models or datasets.\n",
      "  warnings.warn(\n"
     ]
    },
    {
     "output_type": "display_data",
     "data": {
      "text/plain": [
       "tokenizer_config.json:   0%|          | 0.00/83.0 [00:00<?, ?B/s]"
      ],
      "application/vnd.jupyter.widget-view+json": {
       "version_major": 2,
       "version_minor": 0,
       "model_id": "07758c1a8f8942688b3df9c9af6d21a0"
      }
     },
     "metadata": {}
    },
    {
     "output_type": "display_data",
     "data": {
      "text/plain": [
       "config.json:   0%|          | 0.00/362 [00:00<?, ?B/s]"
      ],
      "application/vnd.jupyter.widget-view+json": {
       "version_major": 2,
       "version_minor": 0,
       "model_id": "d5588ca1ec94408db3c99997e1b1b2e2"
      }
     },
     "metadata": {}
    },
    {
     "output_type": "display_data",
     "data": {
      "text/plain": [
       "vocab.txt:   0%|          | 0.00/240k [00:00<?, ?B/s]"
      ],
      "application/vnd.jupyter.widget-view+json": {
       "version_major": 2,
       "version_minor": 0,
       "model_id": "3d0c812357cd4cdf9a4f342875299c81"
      }
     },
     "metadata": {}
    },
    {
     "output_type": "stream",
     "name": "stderr",
     "text": [
      "2025-01-05 18:53:35,979 - INFO - Training samples: 700 | Test samples: 150 | Validation samples: 150\n"
     ]
    }
   ]
  },
  {
   "cell_type": "markdown",
   "source": [
    "## Define the function for calculating metrics and training"
   ],
   "metadata": {
    "id": "tdqsLmqOHEfJ"
   },
   "id": "tdqsLmqOHEfJ"
  },
  {
   "cell_type": "code",
   "source": [
    "def compute_metrics(eval_pred, trial=None, trainer=None):\n",
    "    \"\"\"\n",
    "    Computes evaluation metrics for classification.\n",
    "\n",
    "    :param eval_pred: Tuple containing predictions and labels.\n",
    "    :return: Dictionary containing accuracy, precision, recall, F1-score, F2-score, and other metrics.\n",
    "    \"\"\"\n",
    "    \n",
    "    # metrics computation for model evaluation, WandB tracking, and Optuna pruning.\n",
    "    predictions, labels = eval_pred\n",
    "    preds = predictions.argmax(axis=1)  # Predictions\n",
    "\n",
    "    # Calculate metrics\n",
    "    accuracy = accuracy_score(labels, preds)\n",
    "    precision, recall, f1, _ = precision_recall_fscore_support(labels, preds, average='binary')\n",
    "    f2 = fbeta_score(labels, preds, beta=2, average='binary')\n",
    "    mcc = matthews_corrcoef(labels, preds)\n",
    "    mcc_normalized = (mcc + 1) / 2\n",
    "    S = (f2 + mcc_normalized) / 2\n",
    "\n",
    "    # Prepare metrics dictionary\n",
    "    metrics = {\n",
    "        \"accuracy\": accuracy,\n",
    "        \"precision\": precision,\n",
    "        \"recall\": recall,\n",
    "        \"f1\": f1,\n",
    "        \"f2\": f2,\n",
    "        \"mcc\": mcc,\n",
    "        \"mcc_normalized\": mcc_normalized,\n",
    "        \"S\": S,\n",
    "    }\n",
    "    return metrics"
   ],
   "metadata": {
    "id": "y_da1DP9beRq",
    "executionInfo": {
     "status": "ok",
     "timestamp": 1736103217115,
     "user_tz": -60,
     "elapsed": 17,
     "user": {
      "displayName": "Max N.",
      "userId": "17347375569055604559"
     }
    }
   },
   "id": "y_da1DP9beRq",
   "execution_count": 11,
   "outputs": []
  },
  {
   "cell_type": "code",
   "source": [
    "# Define Hyperparameters\n",
    "parameters = {\n",
    "    \"num_train_epochs\": 2,\n",
    "    \"learning_rate\": 4.328634134073221e-05,\n",
    "    \"batch_size\": 32,\n",
    "    \"weight_decay\": 0.07197525849859351\n",
    "}\n",
    "\n",
    "# Calculate training steps\n",
    "num_training_steps = len(train_dataset) // parameters[\"batch_size\"] * parameters[\"num_train_epochs\"]\n",
    "warmup_steps = int(0.08 * num_training_steps)  # 8% warmup steps\n",
    "logger.info(f\"Number of training steps: {num_training_steps} | Warmup steps: {warmup_steps}\")\n",
    "\n",
    "# Training Arguments\n",
    "training_args = TrainingArguments(\n",
    "    output_dir='/content/drive/MyDrive/model_fixed_param',\n",
    "    num_train_epochs=parameters[\"num_train_epochs\"],\n",
    "    per_device_train_batch_size=parameters[\"batch_size\"],\n",
    "    per_device_eval_batch_size=parameters[\"batch_size\"],\n",
    "    weight_decay=parameters[\"weight_decay\"],\n",
    "    learning_rate=parameters[\"learning_rate\"],\n",
    "    logging_dir='/content/drive/MyDrive/logs',\n",
    "    logging_steps=10,\n",
    "    evaluation_strategy=\"epoch\",\n",
    "    save_strategy=\"epoch\",\n",
    "    report_to=\"wandb\",\n",
    "    warmup_steps=warmup_steps,\n",
    "    fp16=True,\n",
    "    run_name=f'bert_FC_layer_fixed_params'\n",
    ")"
   ],
   "metadata": {
    "id": "ru50wUPlwP8r",
    "executionInfo": {
     "status": "ok",
     "timestamp": 1736103236641,
     "user_tz": -60,
     "elapsed": 553,
     "user": {
      "displayName": "Max N.",
      "userId": "17347375569055604559"
     }
    },
    "colab": {
     "base_uri": "https://localhost:8080/"
    },
    "outputId": "80563973-c28e-48bb-ccf0-3768c9919164"
   },
   "id": "ru50wUPlwP8r",
   "execution_count": 13,
   "outputs": [
    {
     "output_type": "stream",
     "name": "stderr",
     "text": [
      "2025-01-05 18:53:55,956 - INFO - Number of training steps: 42 | Warmup steps: 3\n",
      "/usr/local/lib/python3.10/dist-packages/transformers/training_args.py:1575: FutureWarning: `evaluation_strategy` is deprecated and will be removed in version 4.46 of 🤗 Transformers. Use `eval_strategy` instead\n",
      "  warnings.warn(\n"
     ]
    }
   ]
  },
  {
   "cell_type": "code",
   "source": [
    "def safe_wandb_finish(timeout=45):\n",
    "    \"\"\"\n",
    "    Ensures safe termination of the WandB session with a timeout.\n",
    "\n",
    "    :param timeout: Maximum time (in seconds) to wait for WandB termination.\n",
    "    \"\"\"\n",
    "    \n",
    "    # Safely terminates wandb.finish() with a timeout.\n",
    "    def finish_task():\n",
    "        try:\n",
    "            #import wandb\n",
    "            wandb.finish()\n",
    "        except Exception as e:\n",
    "            logger.error(f\"Error in wandb.finish(): {e}\")\n",
    "\n",
    "    finish_thread = threading.Thread(target=finish_task)\n",
    "    finish_thread.start()\n",
    "    finish_thread.join(timeout=timeout)  # Wait for up to `timeout` seconds\n",
    "\n",
    "    if finish_thread.is_alive():\n",
    "        logger.warning(\"wandb.finish() timed out. Proceeding with runtime.unassign().\")\n",
    "    else:\n",
    "        logger.info(\"wandb.finish() completed successfully.\")"
   ],
   "metadata": {
    "id": "yzWtKExm_Ajp",
    "executionInfo": {
     "status": "ok",
     "timestamp": 1736103236641,
     "user_tz": -60,
     "elapsed": 5,
     "user": {
      "displayName": "Max N.",
      "userId": "17347375569055604559"
     }
    }
   },
   "id": "yzWtKExm_Ajp",
   "execution_count": 14,
   "outputs": []
  },
  {
   "cell_type": "markdown",
   "source": [
    "## Ensure that wandb is terminating and session ends after training"
   ],
   "metadata": {
    "id": "w9cNPiP2HXiG"
   },
   "id": "w9cNPiP2HXiG"
  },
  {
   "cell_type": "code",
   "source": [
    "all_results = []\n",
    "\n",
    "# Create distinctive name for wandb run\n",
    "timestamp = datetime.datetime.now().strftime(\"%Y-%m-%d_%H-%M-%S\")\n",
    "run_name = f\"BERT_WithExtraLayer{timestamp}\"\n",
    "\n",
    "# Initialize WandB with a unique run ID\n",
    "run = wandb.init(\n",
    "    project=\"German_Hate_Speech_Classification\",\n",
    "    name=run_name,\n",
    "    #reinit=True,\n",
    "    id=run_name\n",
    ")\n",
    "\n",
    "# Initialize model\n",
    "model = BERT_WithExtraLayer(bert_model_name=\"deepset/gbert-base\", num_labels=2, class_weights=class_weights)\n",
    "model.to(device)\n",
    "\n",
    "# Trainer\n",
    "trainer = Trainer(\n",
    "    model=model,\n",
    "    args=training_args,\n",
    "    train_dataset=train_dataset,\n",
    "    eval_dataset=val_dataset,\n",
    "    compute_metrics=compute_metrics\n",
    ")\n",
    "\n",
    "# Train and Evaluate\n",
    "trainer.train()\n",
    "\n",
    "# Get predictions on val_dataset\n",
    "predictions = trainer.predict(val_dataset)\n",
    "\n",
    "eval_metrics = compute_metrics((predictions.predictions, predictions.label_ids))\n",
    "logger.info(f\"Validation Metrics: {eval_metrics}\")\n",
    "wandb.log(eval_metrics)\n",
    "\n",
    "# Get predictions on test_dataset\n",
    "test_predictions = trainer.predict(test_dataset)\n",
    "test_metrics = compute_metrics((test_predictions.predictions, test_predictions.label_ids))\n",
    "logger.info(f\"Test Metrics: {test_metrics}\")\n",
    "wandb.log(test_metrics)\n",
    "\n",
    "logits, labels = test_predictions.predictions, test_predictions.label_ids\n",
    "preds = np.argmax(logits, axis=1)\n",
    "cm = confusion_matrix(labels, preds)\n",
    "disp = ConfusionMatrixDisplay(confusion_matrix=cm, display_labels=[\"No Hate-Speech\", \"Hate-Speech\"])\n",
    "\n",
    "# Plot Confusion Matrix\n",
    "plt.figure(figsize=(8, 6))\n",
    "disp.plot(cmap=plt.cm.Blues)\n",
    "plt.title(f\"Confusion Matrix\")\n",
    "plt.tight_layout()\n",
    "plt.show()\n",
    "\n",
    "all_results.append({\n",
    "    \"Trial_Name\": run_name,\n",
    "    \"Dataset\": dataset_filename,\n",
    "    **eval_metrics,\n",
    "    **{f\"test_{k}\": v for k, v in test_metrics.items()}\n",
    "})\n",
    "\n",
    "# Save results to Excel\n",
    "excel_file_path = \"/content/drive/MyDrive/model/logged_model_metrics.xlsx\"\n",
    "if os.path.exists(excel_file_path):\n",
    "    existing_df = pd.read_excel(excel_file_path, index_col=\"Trial_Name\")\n",
    "    new_df = pd.DataFrame(all_results)\n",
    "    new_df.set_index(\"Trial_Name\", inplace=True)\n",
    "    results_df = pd.concat([existing_df, new_df])\n",
    "else:\n",
    "    results_df = pd.DataFrame(all_results)\n",
    "    results_df.set_index(\"Trial_Name\", inplace=True)\n",
    "\n",
    "results_df.to_excel(excel_file_path)\n",
    "\n",
    "# Save model\n",
    "model_dir = f\"/content/drive/MyDrive/model/BERT_WithExtraLayer_fixed_param_{timestamp}\"\n",
    "os.makedirs(model_dir, exist_ok=True)\n",
    "model_filename = os.path.join(model_dir, \"model_FC_Layer_fixed_params.bin\")\n",
    "torch.save(model.state_dict(), model_filename)\n",
    "\n",
    "# Save tokenizer\n",
    "tokenizer.save_pretrained(model_dir)\n",
    "\n",
    "\n",
    "# Finish WandB\n",
    "safe_wandb_finish(timeout=45)\n",
    "logger.info(f\"Model saved to {model_dir}\")\n",
    "logger.info(\"Process finished and terminated\")\n",
    "time.sleep(5)\n",
    "runtime.unassign()\n"
   ],
   "metadata": {
    "id": "NUuD_jOzC1Wm",
    "colab": {
     "base_uri": "https://localhost:8080/",
     "height": 1000,
     "referenced_widgets": [
      "7294706a4d524010b5bd7670481000cb",
      "2d4ffbe831b24f7aa8adf936bfb06246",
      "e54b704ca926497bbac2fde3e85f6c93",
      "42a255cc09e7448ea49bb77301e59de6",
      "2b5628ea79ae4447b2807fd4542ab397",
      "a9373b0203dc4afa90f73a173228ce96",
      "30224ef170a94a49babdef9065e343bf",
      "5df760e4ca54449fb448973fdbae1170",
      "4e0ddc8eeb3b4bea8b19776f8b6beb8b",
      "b7cda1a0468f4689bc8d4ce095dfe523",
      "4142128dc33f4e618dd56db7a14d7a1b"
     ]
    },
    "outputId": "db33c600-2e09-4b0c-830d-887e58f27875"
   },
   "id": "NUuD_jOzC1Wm",
   "execution_count": null,
   "outputs": [
    {
     "output_type": "display_data",
     "data": {
      "text/plain": [
       "<IPython.core.display.HTML object>"
      ],
      "text/html": [
       "Tracking run with wandb version 0.19.1"
      ]
     },
     "metadata": {}
    },
    {
     "output_type": "display_data",
     "data": {
      "text/plain": [
       "<IPython.core.display.HTML object>"
      ],
      "text/html": [
       "Run data is saved locally in <code>/content/wandb/run-20250105_185356-BERT_WithExtraLayer2025-01-05_18-53-56</code>"
      ]
     },
     "metadata": {}
    },
    {
     "output_type": "display_data",
     "data": {
      "text/plain": [
       "<IPython.core.display.HTML object>"
      ],
      "text/html": [
       "Syncing run <strong><a href='https://wandb.ai/maxnienh-xx/German_Hate_Speech_Classification/runs/BERT_WithExtraLayer2025-01-05_18-53-56' target=\"_blank\">BERT_WithExtraLayer2025-01-05_18-53-56</a></strong> to <a href='https://wandb.ai/maxnienh-xx/German_Hate_Speech_Classification' target=\"_blank\">Weights & Biases</a> (<a href='https://wandb.me/developer-guide' target=\"_blank\">docs</a>)<br>"
      ]
     },
     "metadata": {}
    },
    {
     "output_type": "display_data",
     "data": {
      "text/plain": [
       "<IPython.core.display.HTML object>"
      ],
      "text/html": [
       " View project at <a href='https://wandb.ai/maxnienh-xx/German_Hate_Speech_Classification' target=\"_blank\">https://wandb.ai/maxnienh-xx/German_Hate_Speech_Classification</a>"
      ]
     },
     "metadata": {}
    },
    {
     "output_type": "display_data",
     "data": {
      "text/plain": [
       "<IPython.core.display.HTML object>"
      ],
      "text/html": [
       " View run at <a href='https://wandb.ai/maxnienh-xx/German_Hate_Speech_Classification/runs/BERT_WithExtraLayer2025-01-05_18-53-56' target=\"_blank\">https://wandb.ai/maxnienh-xx/German_Hate_Speech_Classification/runs/BERT_WithExtraLayer2025-01-05_18-53-56</a>"
      ]
     },
     "metadata": {}
    },
    {
     "output_type": "display_data",
     "data": {
      "text/plain": [
       "model.safetensors:   0%|          | 0.00/442M [00:00<?, ?B/s]"
      ],
      "application/vnd.jupyter.widget-view+json": {
       "version_major": 2,
       "version_minor": 0,
       "model_id": "7294706a4d524010b5bd7670481000cb"
      }
     },
     "metadata": {}
    },
    {
     "output_type": "display_data",
     "data": {
      "text/plain": [
       "<IPython.core.display.HTML object>"
      ],
      "text/html": [
       "\n",
       "    <div>\n",
       "      \n",
       "      <progress value='44' max='44' style='width:300px; height:20px; vertical-align: middle;'></progress>\n",
       "      [44/44 00:21, Epoch 2/2]\n",
       "    </div>\n",
       "    <table border=\"1\" class=\"dataframe\">\n",
       "  <thead>\n",
       " <tr style=\"text-align: left;\">\n",
       "      <th>Epoch</th>\n",
       "      <th>Training Loss</th>\n",
       "      <th>Validation Loss</th>\n",
       "      <th>Accuracy</th>\n",
       "      <th>Precision</th>\n",
       "      <th>Recall</th>\n",
       "      <th>F1</th>\n",
       "      <th>F2</th>\n",
       "      <th>Mcc</th>\n",
       "      <th>Mcc Normalized</th>\n",
       "      <th>S</th>\n",
       "    </tr>\n",
       "  </thead>\n",
       "  <tbody>\n",
       "    <tr>\n",
       "      <td>1</td>\n",
       "      <td>0.553500</td>\n",
       "      <td>0.598579</td>\n",
       "      <td>0.500000</td>\n",
       "      <td>0.420168</td>\n",
       "      <td>0.892857</td>\n",
       "      <td>0.571429</td>\n",
       "      <td>0.728863</td>\n",
       "      <td>0.189712</td>\n",
       "      <td>0.594856</td>\n",
       "      <td>0.661859</td>\n",
       "    </tr>\n",
       "    <tr>\n",
       "      <td>2</td>\n",
       "      <td>0.423600</td>\n",
       "      <td>0.467596</td>\n",
       "      <td>0.753333</td>\n",
       "      <td>0.620253</td>\n",
       "      <td>0.875000</td>\n",
       "      <td>0.725926</td>\n",
       "      <td>0.808581</td>\n",
       "      <td>0.538485</td>\n",
       "      <td>0.769243</td>\n",
       "      <td>0.788912</td>\n",
       "    </tr>\n",
       "  </tbody>\n",
       "</table><p>"
      ]
     },
     "metadata": {}
    },
    {
     "output_type": "display_data",
     "data": {
      "text/plain": [
       "<IPython.core.display.HTML object>"
      ],
      "text/html": []
     },
     "metadata": {}
    },
    {
     "output_type": "stream",
     "name": "stderr",
     "text": [
      "2025-01-05 18:54:44,828 - INFO - Validation Metrics: {'accuracy': 0.7533333333333333, 'precision': 0.620253164556962, 'recall': 0.875, 'f1': 0.725925925925926, 'f2': 0.8085808580858086, 'mcc': 0.538485063675954, 'mcc_normalized': 0.769242531837977, 'S': 0.7889116949618928}\n"
     ]
    },
    {
     "output_type": "display_data",
     "data": {
      "text/plain": [
       "<IPython.core.display.HTML object>"
      ],
      "text/html": []
     },
     "metadata": {}
    },
    {
     "output_type": "stream",
     "name": "stderr",
     "text": [
      "2025-01-05 18:54:45,102 - INFO - Test Metrics: {'accuracy': 0.8133333333333334, 'precision': 0.7766990291262136, 'recall': 0.9411764705882353, 'f1': 0.851063829787234, 'f2': 0.9029345372460497, 'mcc': 0.6274527378220476, 'mcc_normalized': 0.8137263689110238, 'S': 0.8583304530785367}\n"
     ]
    },
    {
     "output_type": "display_data",
     "data": {
      "text/plain": [
       "<Figure size 800x600 with 0 Axes>"
      ]
     },
     "metadata": {}
    },
    {
     "output_type": "display_data",
     "data": {
      "text/plain": [
       "<Figure size 640x480 with 2 Axes>"
      ],
      "image/png": "[encoded data removed]"
     },
     "metadata": {}
    },
    {
     "output_type": "display_data",
     "data": {
      "text/plain": [
       "<IPython.core.display.HTML object>"
      ],
      "text/html": []
     },
     "metadata": {}
    },
    {
     "output_type": "display_data",
     "data": {
      "text/plain": [
       "<IPython.core.display.HTML object>"
      ],
      "text/html": [
       "<br>    <style><br>        .wandb-row {<br>            display: flex;<br>            flex-direction: row;<br>            flex-wrap: wrap;<br>            justify-content: flex-start;<br>            width: 100%;<br>        }<br>        .wandb-col {<br>            display: flex;<br>            flex-direction: column;<br>            flex-basis: 100%;<br>            flex: 1;<br>            padding: 10px;<br>        }<br>    </style><br><div class=\"wandb-row\"><div class=\"wandb-col\"><h3>Run history:</h3><br/><table class=\"wandb\"><tr><td>S</td><td>▁█</td></tr><tr><td>accuracy</td><td>▁█</td></tr><tr><td>eval/S</td><td>▁█</td></tr><tr><td>eval/accuracy</td><td>▁█</td></tr><tr><td>eval/f1</td><td>▁█</td></tr><tr><td>eval/f2</td><td>▁█</td></tr><tr><td>eval/loss</td><td>█▁</td></tr><tr><td>eval/mcc</td><td>▁█</td></tr><tr><td>eval/mcc_normalized</td><td>▁█</td></tr><tr><td>eval/precision</td><td>▁█</td></tr><tr><td>eval/recall</td><td>█▁</td></tr><tr><td>eval/runtime</td><td>█▁</td></tr><tr><td>eval/samples_per_second</td><td>▁█</td></tr><tr><td>eval/steps_per_second</td><td>▁█</td></tr><tr><td>f1</td><td>▁█</td></tr><tr><td>f2</td><td>▁█</td></tr><tr><td>mcc</td><td>▁█</td></tr><tr><td>mcc_normalized</td><td>▁█</td></tr><tr><td>precision</td><td>▁█</td></tr><tr><td>recall</td><td>▁█</td></tr><tr><td>test/S</td><td>▁█</td></tr><tr><td>test/accuracy</td><td>▁█</td></tr><tr><td>test/f1</td><td>▁█</td></tr><tr><td>test/f2</td><td>▁█</td></tr><tr><td>test/loss</td><td>█▁</td></tr><tr><td>test/mcc</td><td>▁█</td></tr><tr><td>test/mcc_normalized</td><td>▁█</td></tr><tr><td>test/precision</td><td>▁█</td></tr><tr><td>test/recall</td><td>▁█</td></tr><tr><td>test/runtime</td><td>▁█</td></tr><tr><td>test/samples_per_second</td><td>█▁</td></tr><tr><td>test/steps_per_second</td><td>█▁</td></tr><tr><td>train/epoch</td><td>▁▃▃▅▇██</td></tr><tr><td>train/global_step</td><td>▁▃▃▅▇██████</td></tr><tr><td>train/grad_norm</td><td>▂▃▁█</td></tr><tr><td>train/learning_rate</td><td>█▅▃▁</td></tr><tr><td>train/loss</td><td>█▅▃▁</td></tr></table><br/></div><div class=\"wandb-col\"><h3>Run summary:</h3><br/><table class=\"wandb\"><tr><td>S</td><td>0.85833</td></tr><tr><td>accuracy</td><td>0.81333</td></tr><tr><td>eval/S</td><td>0.78891</td></tr><tr><td>eval/accuracy</td><td>0.75333</td></tr><tr><td>eval/f1</td><td>0.72593</td></tr><tr><td>eval/f2</td><td>0.80858</td></tr><tr><td>eval/loss</td><td>0.4676</td></tr><tr><td>eval/mcc</td><td>0.53849</td></tr><tr><td>eval/mcc_normalized</td><td>0.76924</td></tr><tr><td>eval/precision</td><td>0.62025</td></tr><tr><td>eval/recall</td><td>0.875</td></tr><tr><td>eval/runtime</td><td>0.2522</td></tr><tr><td>eval/samples_per_second</td><td>594.873</td></tr><tr><td>eval/steps_per_second</td><td>19.829</td></tr><tr><td>f1</td><td>0.85106</td></tr><tr><td>f2</td><td>0.90293</td></tr><tr><td>mcc</td><td>0.62745</td></tr><tr><td>mcc_normalized</td><td>0.81373</td></tr><tr><td>precision</td><td>0.7767</td></tr><tr><td>recall</td><td>0.94118</td></tr><tr><td>test/S</td><td>0.85833</td></tr><tr><td>test/accuracy</td><td>0.81333</td></tr><tr><td>test/f1</td><td>0.85106</td></tr><tr><td>test/f2</td><td>0.90293</td></tr><tr><td>test/loss</td><td>0.37324</td></tr><tr><td>test/mcc</td><td>0.62745</td></tr><tr><td>test/mcc_normalized</td><td>0.81373</td></tr><tr><td>test/precision</td><td>0.7767</td></tr><tr><td>test/recall</td><td>0.94118</td></tr><tr><td>test/runtime</td><td>0.2584</td></tr><tr><td>test/samples_per_second</td><td>580.543</td></tr><tr><td>test/steps_per_second</td><td>19.351</td></tr><tr><td>total_flos</td><td>0</td></tr><tr><td>train/epoch</td><td>2</td></tr><tr><td>train/global_step</td><td>44</td></tr><tr><td>train/grad_norm</td><td>5.6033</td></tr><tr><td>train/learning_rate</td><td>1e-05</td></tr><tr><td>train/loss</td><td>0.4236</td></tr><tr><td>train_loss</td><td>0.51104</td></tr><tr><td>train_runtime</td><td>23.377</td></tr><tr><td>train_samples_per_second</td><td>59.888</td></tr><tr><td>train_steps_per_second</td><td>1.882</td></tr></table><br/></div></div>"
      ]
     },
     "metadata": {}
    },
    {
     "output_type": "display_data",
     "data": {
      "text/plain": [
       "<IPython.core.display.HTML object>"
      ],
      "text/html": [
       " View run <strong style=\"color:#cdcd00\">BERT_WithExtraLayer2025-01-05_18-53-56</strong> at: <a href='https://wandb.ai/maxnienh-xx/German_Hate_Speech_Classification/runs/BERT_WithExtraLayer2025-01-05_18-53-56' target=\"_blank\">https://wandb.ai/maxnienh-xx/German_Hate_Speech_Classification/runs/BERT_WithExtraLayer2025-01-05_18-53-56</a><br> View project at: <a href='https://wandb.ai/maxnienh-xx/German_Hate_Speech_Classification' target=\"_blank\">https://wandb.ai/maxnienh-xx/German_Hate_Speech_Classification</a><br>Synced 5 W&B file(s), 0 media file(s), 0 artifact file(s) and 0 other file(s)"
      ]
     },
     "metadata": {}
    },
    {
     "output_type": "display_data",
     "data": {
      "text/plain": [
       "<IPython.core.display.HTML object>"
      ],
      "text/html": [
       "Find logs at: <code>./wandb/run-20250105_185356-BERT_WithExtraLayer2025-01-05_18-53-56/logs</code>"
      ]
     },
     "metadata": {}
    },
    {
     "output_type": "stream",
     "name": "stderr",
     "text": [
      "2025-01-05 18:54:51,583 - INFO - wandb.finish() completed successfully.\n",
      "2025-01-05 18:54:51,585 - INFO - Model saved to /content/drive/MyDrive/model/BERT_WithExtraLayer_fixed_param_2025-01-05_18-53-56\n",
      "2025-01-05 18:54:51,586 - INFO - Process finished and terminated\n"
     ]
    }
   ]
  }
 ],
 "metadata": {
  "kernelspec": {
   "display_name": "Python 3",
   "name": "python3"
  },
  "language_info": {
   "codemirror_mode": {
    "name": "ipython",
    "version": 2
   },
   "file_extension": ".py",
   "mimetype": "text/x-python",
   "name": "python",
   "nbconvert_exporter": "python",
   "pygments_lexer": "ipython2",
   "version": "2.7.6"
  },
  "colab": {
   "provenance": [],
   "gpuType": "L4",
   "machine_shape": "hm"
  },
  "accelerator": "GPU",
  "widgets": {
   "application/vnd.jupyter.widget-state+json": {
    "state": {
        "07758c1a8f8942688b3df9c9af6d21a0": {
     "model_module": "@jupyter-widgets/controls",
     "model_name": "HBoxModel",
     "model_module_version": "1.5.0",
     "state": {
      "_dom_classes": [],
      "_model_module": "@jupyter-widgets/controls",
      "_model_module_version": "1.5.0",
      "_model_name": "HBoxModel",
      "_view_count": null,
      "_view_module": "@jupyter-widgets/controls",
      "_view_module_version": "1.5.0",
      "_view_name": "HBoxView",
      "box_style": "",
      "children": [
       "IPY_MODEL_d317639e1c0045259e1abf429db91770",
       "IPY_MODEL_052e877212dc4e8bb6290e217f10cfb5",
       "IPY_MODEL_fc7f0027659c4d189daa300a14333c53"
      ],
      "layout": "IPY_MODEL_54f35838dbfc47b2af93ebb2f8fe2202"
     }
    },
    "d317639e1c0045259e1abf429db91770": {
     "model_module": "@jupyter-widgets/controls",
     "model_name": "HTMLModel",
     "model_module_version": "1.5.0",
     "state": {
      "_dom_classes": [],
      "_model_module": "@jupyter-widgets/controls",
      "_model_module_version": "1.5.0",
      "_model_name": "HTMLModel",
      "_view_count": null,
      "_view_module": "@jupyter-widgets/controls",
      "_view_module_version": "1.5.0",
      "_view_name": "HTMLView",
      "description": "",
      "description_tooltip": null,
      "layout": "IPY_MODEL_8f1cff02f49a4b4282402ae40a21b5da",
      "placeholder": "​",
      "style": "IPY_MODEL_5a1137d8d4ec42209d505cda39ccd542",
      "value": "tokenizer_config.json: 100%"
     }
    },
    "052e877212dc4e8bb6290e217f10cfb5": {
     "model_module": "@jupyter-widgets/controls",
     "model_name": "FloatProgressModel",
     "model_module_version": "1.5.0",
     "state": {
      "_dom_classes": [],
      "_model_module": "@jupyter-widgets/controls",
      "_model_module_version": "1.5.0",
      "_model_name": "FloatProgressModel",
      "_view_count": null,
      "_view_module": "@jupyter-widgets/controls",
      "_view_module_version": "1.5.0",
      "_view_name": "ProgressView",
      "bar_style": "success",
      "description": "",
      "description_tooltip": null,
      "layout": "IPY_MODEL_5d4b3bcaf5414e818e98dd1e4c5b5736",
      "max": 83,
      "min": 0,
      "orientation": "horizontal",
      "style": "IPY_MODEL_57c910088a704e2e8286e21b121727c2",
      "value": 83
     }
    },
    "fc7f0027659c4d189daa300a14333c53": {
     "model_module": "@jupyter-widgets/controls",
     "model_name": "HTMLModel",
     "model_module_version": "1.5.0",
     "state": {
      "_dom_classes": [],
      "_model_module": "@jupyter-widgets/controls",
      "_model_module_version": "1.5.0",
      "_model_name": "HTMLModel",
      "_view_count": null,
      "_view_module": "@jupyter-widgets/controls",
      "_view_module_version": "1.5.0",
      "_view_name": "HTMLView",
      "description": "",
      "description_tooltip": null,
      "layout": "IPY_MODEL_b5603c54f1a84ab1a1f9a673a2219e3d",
      "placeholder": "​",
      "style": "IPY_MODEL_827844d1a8204b98a2cec04ce0583725",
      "value": " 83.0/83.0 [00:00&lt;00:00, 6.61kB/s]"
     }
    },
    "54f35838dbfc47b2af93ebb2f8fe2202": {
     "model_module": "@jupyter-widgets/base",
     "model_name": "LayoutModel",
     "model_module_version": "1.2.0",
     "state": {
      "_model_module": "@jupyter-widgets/base",
      "_model_module_version": "1.2.0",
      "_model_name": "LayoutModel",
      "_view_count": null,
      "_view_module": "@jupyter-widgets/base",
      "_view_module_version": "1.2.0",
      "_view_name": "LayoutView",
      "align_content": null,
      "align_items": null,
      "align_self": null,
      "border": null,
      "bottom": null,
      "display": null,
      "flex": null,
      "flex_flow": null,
      "grid_area": null,
      "grid_auto_columns": null,
      "grid_auto_flow": null,
      "grid_auto_rows": null,
      "grid_column": null,
      "grid_gap": null,
      "grid_row": null,
      "grid_template_areas": null,
      "grid_template_columns": null,
      "grid_template_rows": null,
      "height": null,
      "justify_content": null,
      "justify_items": null,
      "left": null,
      "margin": null,
      "max_height": null,
      "max_width": null,
      "min_height": null,
      "min_width": null,
      "object_fit": null,
      "object_position": null,
      "order": null,
      "overflow": null,
      "overflow_x": null,
      "overflow_y": null,
      "padding": null,
      "right": null,
      "top": null,
      "visibility": null,
      "width": null
     }
    },
    "8f1cff02f49a4b4282402ae40a21b5da": {
     "model_module": "@jupyter-widgets/base",
     "model_name": "LayoutModel",
     "model_module_version": "1.2.0",
     "state": {
      "_model_module": "@jupyter-widgets/base",
      "_model_module_version": "1.2.0",
      "_model_name": "LayoutModel",
      "_view_count": null,
      "_view_module": "@jupyter-widgets/base",
      "_view_module_version": "1.2.0",
      "_view_name": "LayoutView",
      "align_content": null,
      "align_items": null,
      "align_self": null,
      "border": null,
      "bottom": null,
      "display": null,
      "flex": null,
      "flex_flow": null,
      "grid_area": null,
      "grid_auto_columns": null,
      "grid_auto_flow": null,
      "grid_auto_rows": null,
      "grid_column": null,
      "grid_gap": null,
      "grid_row": null,
      "grid_template_areas": null,
      "grid_template_columns": null,
      "grid_template_rows": null,
      "height": null,
      "justify_content": null,
      "justify_items": null,
      "left": null,
      "margin": null,
      "max_height": null,
      "max_width": null,
      "min_height": null,
      "min_width": null,
      "object_fit": null,
      "object_position": null,
      "order": null,
      "overflow": null,
      "overflow_x": null,
      "overflow_y": null,
      "padding": null,
      "right": null,
      "top": null,
      "visibility": null,
      "width": null
     }
    },
    "5a1137d8d4ec42209d505cda39ccd542": {
     "model_module": "@jupyter-widgets/controls",
     "model_name": "DescriptionStyleModel",
     "model_module_version": "1.5.0",
     "state": {
      "_model_module": "@jupyter-widgets/controls",
      "_model_module_version": "1.5.0",
      "_model_name": "DescriptionStyleModel",
      "_view_count": null,
      "_view_module": "@jupyter-widgets/base",
      "_view_module_version": "1.2.0",
      "_view_name": "StyleView",
      "description_width": ""
     }
    },
    "5d4b3bcaf5414e818e98dd1e4c5b5736": {
     "model_module": "@jupyter-widgets/base",
     "model_name": "LayoutModel",
     "model_module_version": "1.2.0",
     "state": {
      "_model_module": "@jupyter-widgets/base",
      "_model_module_version": "1.2.0",
      "_model_name": "LayoutModel",
      "_view_count": null,
      "_view_module": "@jupyter-widgets/base",
      "_view_module_version": "1.2.0",
      "_view_name": "LayoutView",
      "align_content": null,
      "align_items": null,
      "align_self": null,
      "border": null,
      "bottom": null,
      "display": null,
      "flex": null,
      "flex_flow": null,
      "grid_area": null,
      "grid_auto_columns": null,
      "grid_auto_flow": null,
      "grid_auto_rows": null,
      "grid_column": null,
      "grid_gap": null,
      "grid_row": null,
      "grid_template_areas": null,
      "grid_template_columns": null,
      "grid_template_rows": null,
      "height": null,
      "justify_content": null,
      "justify_items": null,
      "left": null,
      "margin": null,
      "max_height": null,
      "max_width": null,
      "min_height": null,
      "min_width": null,
      "object_fit": null,
      "object_position": null,
      "order": null,
      "overflow": null,
      "overflow_x": null,
      "overflow_y": null,
      "padding": null,
      "right": null,
      "top": null,
      "visibility": null,
      "width": null
     }
    },
    "57c910088a704e2e8286e21b121727c2": {
     "model_module": "@jupyter-widgets/controls",
     "model_name": "ProgressStyleModel",
     "model_module_version": "1.5.0",
     "state": {
      "_model_module": "@jupyter-widgets/controls",
      "_model_module_version": "1.5.0",
      "_model_name": "ProgressStyleModel",
      "_view_count": null,
      "_view_module": "@jupyter-widgets/base",
      "_view_module_version": "1.2.0",
      "_view_name": "StyleView",
      "bar_color": null,
      "description_width": ""
     }
    },
    "b5603c54f1a84ab1a1f9a673a2219e3d": {
     "model_module": "@jupyter-widgets/base",
     "model_name": "LayoutModel",
     "model_module_version": "1.2.0",
     "state": {
      "_model_module": "@jupyter-widgets/base",
      "_model_module_version": "1.2.0",
      "_model_name": "LayoutModel",
      "_view_count": null,
      "_view_module": "@jupyter-widgets/base",
      "_view_module_version": "1.2.0",
      "_view_name": "LayoutView",
      "align_content": null,
      "align_items": null,
      "align_self": null,
      "border": null,
      "bottom": null,
      "display": null,
      "flex": null,
      "flex_flow": null,
      "grid_area": null,
      "grid_auto_columns": null,
      "grid_auto_flow": null,
      "grid_auto_rows": null,
      "grid_column": null,
      "grid_gap": null,
      "grid_row": null,
      "grid_template_areas": null,
      "grid_template_columns": null,
      "grid_template_rows": null,
      "height": null,
      "justify_content": null,
      "justify_items": null,
      "left": null,
      "margin": null,
      "max_height": null,
      "max_width": null,
      "min_height": null,
      "min_width": null,
      "object_fit": null,
      "object_position": null,
      "order": null,
      "overflow": null,
      "overflow_x": null,
      "overflow_y": null,
      "padding": null,
      "right": null,
      "top": null,
      "visibility": null,
      "width": null
     }
    },
    "827844d1a8204b98a2cec04ce0583725": {
     "model_module": "@jupyter-widgets/controls",
     "model_name": "DescriptionStyleModel",
     "model_module_version": "1.5.0",
     "state": {
      "_model_module": "@jupyter-widgets/controls",
      "_model_module_version": "1.5.0",
      "_model_name": "DescriptionStyleModel",
      "_view_count": null,
      "_view_module": "@jupyter-widgets/base",
      "_view_module_version": "1.2.0",
      "_view_name": "StyleView",
      "description_width": ""
     }
    },
    "d5588ca1ec94408db3c99997e1b1b2e2": {
     "model_module": "@jupyter-widgets/controls",
     "model_name": "HBoxModel",
     "model_module_version": "1.5.0",
     "state": {
      "_dom_classes": [],
      "_model_module": "@jupyter-widgets/controls",
      "_model_module_version": "1.5.0",
      "_model_name": "HBoxModel",
      "_view_count": null,
      "_view_module": "@jupyter-widgets/controls",
      "_view_module_version": "1.5.0",
      "_view_name": "HBoxView",
      "box_style": "",
      "children": [
       "IPY_MODEL_2a3a3cac068b460285b882c07706062a",
       "IPY_MODEL_b485131819454b4c84bc810eb695e018",
       "IPY_MODEL_71f7c47035e94252b9c1471f9d1f77ec"
      ],
      "layout": "IPY_MODEL_49053bb2394842799e4bd18ab1eab133"
     }
    },
    "2a3a3cac068b460285b882c07706062a": {
     "model_module": "@jupyter-widgets/controls",
     "model_name": "HTMLModel",
     "model_module_version": "1.5.0",
     "state": {
      "_dom_classes": [],
      "_model_module": "@jupyter-widgets/controls",
      "_model_module_version": "1.5.0",
      "_model_name": "HTMLModel",
      "_view_count": null,
      "_view_module": "@jupyter-widgets/controls",
      "_view_module_version": "1.5.0",
      "_view_name": "HTMLView",
      "description": "",
      "description_tooltip": null,
      "layout": "IPY_MODEL_f15e9350e6bf4c8599b5ef9852b0512d",
      "placeholder": "​",
      "style": "IPY_MODEL_29ede69ef1264ce481207fd7f68579bc",
      "value": "config.json: 100%"
     }
    },
    "b485131819454b4c84bc810eb695e018": {
     "model_module": "@jupyter-widgets/controls",
     "model_name": "FloatProgressModel",
     "model_module_version": "1.5.0",
     "state": {
      "_dom_classes": [],
      "_model_module": "@jupyter-widgets/controls",
      "_model_module_version": "1.5.0",
      "_model_name": "FloatProgressModel",
      "_view_count": null,
      "_view_module": "@jupyter-widgets/controls",
      "_view_module_version": "1.5.0",
      "_view_name": "ProgressView",
      "bar_style": "success",
      "description": "",
      "description_tooltip": null,
      "layout": "IPY_MODEL_e2e43cd2d19143b28ede75dd220f7671",
      "max": 362,
      "min": 0,
      "orientation": "horizontal",
      "style": "IPY_MODEL_12bf527139db46058f95c691e702bc78",
      "value": 362
     }
    },
    "71f7c47035e94252b9c1471f9d1f77ec": {
     "model_module": "@jupyter-widgets/controls",
     "model_name": "HTMLModel",
     "model_module_version": "1.5.0",
     "state": {
      "_dom_classes": [],
      "_model_module": "@jupyter-widgets/controls",
      "_model_module_version": "1.5.0",
      "_model_name": "HTMLModel",
      "_view_count": null,
      "_view_module": "@jupyter-widgets/controls",
      "_view_module_version": "1.5.0",
      "_view_name": "HTMLView",
      "description": "",
      "description_tooltip": null,
      "layout": "IPY_MODEL_334a314a40144e97b785b0c5a0b17470",
      "placeholder": "​",
      "style": "IPY_MODEL_fd23e938eda3445fadafaeb3c1522a5f",
      "value": " 362/362 [00:00&lt;00:00, 30.3kB/s]"
     }
    },
    "49053bb2394842799e4bd18ab1eab133": {
     "model_module": "@jupyter-widgets/base",
     "model_name": "LayoutModel",
     "model_module_version": "1.2.0",
     "state": {
      "_model_module": "@jupyter-widgets/base",
      "_model_module_version": "1.2.0",
      "_model_name": "LayoutModel",
      "_view_count": null,
      "_view_module": "@jupyter-widgets/base",
      "_view_module_version": "1.2.0",
      "_view_name": "LayoutView",
      "align_content": null,
      "align_items": null,
      "align_self": null,
      "border": null,
      "bottom": null,
      "display": null,
      "flex": null,
      "flex_flow": null,
      "grid_area": null,
      "grid_auto_columns": null,
      "grid_auto_flow": null,
      "grid_auto_rows": null,
      "grid_column": null,
      "grid_gap": null,
      "grid_row": null,
      "grid_template_areas": null,
      "grid_template_columns": null,
      "grid_template_rows": null,
      "height": null,
      "justify_content": null,
      "justify_items": null,
      "left": null,
      "margin": null,
      "max_height": null,
      "max_width": null,
      "min_height": null,
      "min_width": null,
      "object_fit": null,
      "object_position": null,
      "order": null,
      "overflow": null,
      "overflow_x": null,
      "overflow_y": null,
      "padding": null,
      "right": null,
      "top": null,
      "visibility": null,
      "width": null
     }
    },
    "f15e9350e6bf4c8599b5ef9852b0512d": {
     "model_module": "@jupyter-widgets/base",
     "model_name": "LayoutModel",
     "model_module_version": "1.2.0",
     "state": {
      "_model_module": "@jupyter-widgets/base",
      "_model_module_version": "1.2.0",
      "_model_name": "LayoutModel",
      "_view_count": null,
      "_view_module": "@jupyter-widgets/base",
      "_view_module_version": "1.2.0",
      "_view_name": "LayoutView",
      "align_content": null,
      "align_items": null,
      "align_self": null,
      "border": null,
      "bottom": null,
      "display": null,
      "flex": null,
      "flex_flow": null,
      "grid_area": null,
      "grid_auto_columns": null,
      "grid_auto_flow": null,
      "grid_auto_rows": null,
      "grid_column": null,
      "grid_gap": null,
      "grid_row": null,
      "grid_template_areas": null,
      "grid_template_columns": null,
      "grid_template_rows": null,
      "height": null,
      "justify_content": null,
      "justify_items": null,
      "left": null,
      "margin": null,
      "max_height": null,
      "max_width": null,
      "min_height": null,
      "min_width": null,
      "object_fit": null,
      "object_position": null,
      "order": null,
      "overflow": null,
      "overflow_x": null,
      "overflow_y": null,
      "padding": null,
      "right": null,
      "top": null,
      "visibility": null,
      "width": null
     }
    },
    "29ede69ef1264ce481207fd7f68579bc": {
     "model_module": "@jupyter-widgets/controls",
     "model_name": "DescriptionStyleModel",
     "model_module_version": "1.5.0",
     "state": {
      "_model_module": "@jupyter-widgets/controls",
      "_model_module_version": "1.5.0",
      "_model_name": "DescriptionStyleModel",
      "_view_count": null,
      "_view_module": "@jupyter-widgets/base",
      "_view_module_version": "1.2.0",
      "_view_name": "StyleView",
      "description_width": ""
     }
    },
    "e2e43cd2d19143b28ede75dd220f7671": {
     "model_module": "@jupyter-widgets/base",
     "model_name": "LayoutModel",
     "model_module_version": "1.2.0",
     "state": {
      "_model_module": "@jupyter-widgets/base",
      "_model_module_version": "1.2.0",
      "_model_name": "LayoutModel",
      "_view_count": null,
      "_view_module": "@jupyter-widgets/base",
      "_view_module_version": "1.2.0",
      "_view_name": "LayoutView",
      "align_content": null,
      "align_items": null,
      "align_self": null,
      "border": null,
      "bottom": null,
      "display": null,
      "flex": null,
      "flex_flow": null,
      "grid_area": null,
      "grid_auto_columns": null,
      "grid_auto_flow": null,
      "grid_auto_rows": null,
      "grid_column": null,
      "grid_gap": null,
      "grid_row": null,
      "grid_template_areas": null,
      "grid_template_columns": null,
      "grid_template_rows": null,
      "height": null,
      "justify_content": null,
      "justify_items": null,
      "left": null,
      "margin": null,
      "max_height": null,
      "max_width": null,
      "min_height": null,
      "min_width": null,
      "object_fit": null,
      "object_position": null,
      "order": null,
      "overflow": null,
      "overflow_x": null,
      "overflow_y": null,
      "padding": null,
      "right": null,
      "top": null,
      "visibility": null,
      "width": null
     }
    },
    "12bf527139db46058f95c691e702bc78": {
     "model_module": "@jupyter-widgets/controls",
     "model_name": "ProgressStyleModel",
     "model_module_version": "1.5.0",
     "state": {
      "_model_module": "@jupyter-widgets/controls",
      "_model_module_version": "1.5.0",
      "_model_name": "ProgressStyleModel",
      "_view_count": null,
      "_view_module": "@jupyter-widgets/base",
      "_view_module_version": "1.2.0",
      "_view_name": "StyleView",
      "bar_color": null,
      "description_width": ""
     }
    },
    "334a314a40144e97b785b0c5a0b17470": {
     "model_module": "@jupyter-widgets/base",
     "model_name": "LayoutModel",
     "model_module_version": "1.2.0",
     "state": {
      "_model_module": "@jupyter-widgets/base",
      "_model_module_version": "1.2.0",
      "_model_name": "LayoutModel",
      "_view_count": null,
      "_view_module": "@jupyter-widgets/base",
      "_view_module_version": "1.2.0",
      "_view_name": "LayoutView",
      "align_content": null,
      "align_items": null,
      "align_self": null,
      "border": null,
      "bottom": null,
      "display": null,
      "flex": null,
      "flex_flow": null,
      "grid_area": null,
      "grid_auto_columns": null,
      "grid_auto_flow": null,
      "grid_auto_rows": null,
      "grid_column": null,
      "grid_gap": null,
      "grid_row": null,
      "grid_template_areas": null,
      "grid_template_columns": null,
      "grid_template_rows": null,
      "height": null,
      "justify_content": null,
      "justify_items": null,
      "left": null,
      "margin": null,
      "max_height": null,
      "max_width": null,
      "min_height": null,
      "min_width": null,
      "object_fit": null,
      "object_position": null,
      "order": null,
      "overflow": null,
      "overflow_x": null,
      "overflow_y": null,
      "padding": null,
      "right": null,
      "top": null,
      "visibility": null,
      "width": null
     }
    },
    "fd23e938eda3445fadafaeb3c1522a5f": {
     "model_module": "@jupyter-widgets/controls",
     "model_name": "DescriptionStyleModel",
     "model_module_version": "1.5.0",
     "state": {
      "_model_module": "@jupyter-widgets/controls",
      "_model_module_version": "1.5.0",
      "_model_name": "DescriptionStyleModel",
      "_view_count": null,
      "_view_module": "@jupyter-widgets/base",
      "_view_module_version": "1.2.0",
      "_view_name": "StyleView",
      "description_width": ""
     }
    },
    "3d0c812357cd4cdf9a4f342875299c81": {
     "model_module": "@jupyter-widgets/controls",
     "model_name": "HBoxModel",
     "model_module_version": "1.5.0",
     "state": {
      "_dom_classes": [],
      "_model_module": "@jupyter-widgets/controls",
      "_model_module_version": "1.5.0",
      "_model_name": "HBoxModel",
      "_view_count": null,
      "_view_module": "@jupyter-widgets/controls",
      "_view_module_version": "1.5.0",
      "_view_name": "HBoxView",
      "box_style": "",
      "children": [
       "IPY_MODEL_077886e86bac4636a1579a8c902577e1",
       "IPY_MODEL_2131da14eb104c8f90962829c17eac67",
       "IPY_MODEL_02cd5b66fb464af98d6414b07f233a20"
      ],
      "layout": "IPY_MODEL_33d8bd67a4164dcea606e5a2c4508bbd"
     }
    },
    "077886e86bac4636a1579a8c902577e1": {
     "model_module": "@jupyter-widgets/controls",
     "model_name": "HTMLModel",
     "model_module_version": "1.5.0",
     "state": {
      "_dom_classes": [],
      "_model_module": "@jupyter-widgets/controls",
      "_model_module_version": "1.5.0",
      "_model_name": "HTMLModel",
      "_view_count": null,
      "_view_module": "@jupyter-widgets/controls",
      "_view_module_version": "1.5.0",
      "_view_name": "HTMLView",
      "description": "",
      "description_tooltip": null,
      "layout": "IPY_MODEL_676ee0984f0f420d8e2e59ca81da0131",
      "placeholder": "​",
      "style": "IPY_MODEL_1b2c4f7050f546e9ad84418586c66914",
      "value": "vocab.txt: 100%"
     }
    },
    "2131da14eb104c8f90962829c17eac67": {
     "model_module": "@jupyter-widgets/controls",
     "model_name": "FloatProgressModel",
     "model_module_version": "1.5.0",
     "state": {
      "_dom_classes": [],
      "_model_module": "@jupyter-widgets/controls",
      "_model_module_version": "1.5.0",
      "_model_name": "FloatProgressModel",
      "_view_count": null,
      "_view_module": "@jupyter-widgets/controls",
      "_view_module_version": "1.5.0",
      "_view_name": "ProgressView",
      "bar_style": "success",
      "description": "",
      "description_tooltip": null,
      "layout": "IPY_MODEL_ddbc8ea666b14b6881c9703276f1437c",
      "max": 239836,
      "min": 0,
      "orientation": "horizontal",
      "style": "IPY_MODEL_6fdac4a27bf74e7a9e6b4275c7da0dda",
      "value": 239836
     }
    },
    "02cd5b66fb464af98d6414b07f233a20": {
     "model_module": "@jupyter-widgets/controls",
     "model_name": "HTMLModel",
     "model_module_version": "1.5.0",
     "state": {
      "_dom_classes": [],
      "_model_module": "@jupyter-widgets/controls",
      "_model_module_version": "1.5.0",
      "_model_name": "HTMLModel",
      "_view_count": null,
      "_view_module": "@jupyter-widgets/controls",
      "_view_module_version": "1.5.0",
      "_view_name": "HTMLView",
      "description": "",
      "description_tooltip": null,
      "layout": "IPY_MODEL_294ab138837444c48bfdd8e64aa8c359",
      "placeholder": "​",
      "style": "IPY_MODEL_d12dd76cd7e540d38dbd264383d74125",
      "value": " 240k/240k [00:00&lt;00:00, 12.0MB/s]"
     }
    },
    "33d8bd67a4164dcea606e5a2c4508bbd": {
     "model_module": "@jupyter-widgets/base",
     "model_name": "LayoutModel",
     "model_module_version": "1.2.0",
     "state": {
      "_model_module": "@jupyter-widgets/base",
      "_model_module_version": "1.2.0",
      "_model_name": "LayoutModel",
      "_view_count": null,
      "_view_module": "@jupyter-widgets/base",
      "_view_module_version": "1.2.0",
      "_view_name": "LayoutView",
      "align_content": null,
      "align_items": null,
      "align_self": null,
      "border": null,
      "bottom": null,
      "display": null,
      "flex": null,
      "flex_flow": null,
      "grid_area": null,
      "grid_auto_columns": null,
      "grid_auto_flow": null,
      "grid_auto_rows": null,
      "grid_column": null,
      "grid_gap": null,
      "grid_row": null,
      "grid_template_areas": null,
      "grid_template_columns": null,
      "grid_template_rows": null,
      "height": null,
      "justify_content": null,
      "justify_items": null,
      "left": null,
      "margin": null,
      "max_height": null,
      "max_width": null,
      "min_height": null,
      "min_width": null,
      "object_fit": null,
      "object_position": null,
      "order": null,
      "overflow": null,
      "overflow_x": null,
      "overflow_y": null,
      "padding": null,
      "right": null,
      "top": null,
      "visibility": null,
      "width": null
     }
    },
    "676ee0984f0f420d8e2e59ca81da0131": {
     "model_module": "@jupyter-widgets/base",
     "model_name": "LayoutModel",
     "model_module_version": "1.2.0",
     "state": {
      "_model_module": "@jupyter-widgets/base",
      "_model_module_version": "1.2.0",
      "_model_name": "LayoutModel",
      "_view_count": null,
      "_view_module": "@jupyter-widgets/base",
      "_view_module_version": "1.2.0",
      "_view_name": "LayoutView",
      "align_content": null,
      "align_items": null,
      "align_self": null,
      "border": null,
      "bottom": null,
      "display": null,
      "flex": null,
      "flex_flow": null,
      "grid_area": null,
      "grid_auto_columns": null,
      "grid_auto_flow": null,
      "grid_auto_rows": null,
      "grid_column": null,
      "grid_gap": null,
      "grid_row": null,
      "grid_template_areas": null,
      "grid_template_columns": null,
      "grid_template_rows": null,
      "height": null,
      "justify_content": null,
      "justify_items": null,
      "left": null,
      "margin": null,
      "max_height": null,
      "max_width": null,
      "min_height": null,
      "min_width": null,
      "object_fit": null,
      "object_position": null,
      "order": null,
      "overflow": null,
      "overflow_x": null,
      "overflow_y": null,
      "padding": null,
      "right": null,
      "top": null,
      "visibility": null,
      "width": null
     }
    },
    "1b2c4f7050f546e9ad84418586c66914": {
     "model_module": "@jupyter-widgets/controls",
     "model_name": "DescriptionStyleModel",
     "model_module_version": "1.5.0",
     "state": {
      "_model_module": "@jupyter-widgets/controls",
      "_model_module_version": "1.5.0",
      "_model_name": "DescriptionStyleModel",
      "_view_count": null,
      "_view_module": "@jupyter-widgets/base",
      "_view_module_version": "1.2.0",
      "_view_name": "StyleView",
      "description_width": ""
     }
    },
    "ddbc8ea666b14b6881c9703276f1437c": {
     "model_module": "@jupyter-widgets/base",
     "model_name": "LayoutModel",
     "model_module_version": "1.2.0",
     "state": {
      "_model_module": "@jupyter-widgets/base",
      "_model_module_version": "1.2.0",
      "_model_name": "LayoutModel",
      "_view_count": null,
      "_view_module": "@jupyter-widgets/base",
      "_view_module_version": "1.2.0",
      "_view_name": "LayoutView",
      "align_content": null,
      "align_items": null,
      "align_self": null,
      "border": null,
      "bottom": null,
      "display": null,
      "flex": null,
      "flex_flow": null,
      "grid_area": null,
      "grid_auto_columns": null,
      "grid_auto_flow": null,
      "grid_auto_rows": null,
      "grid_column": null,
      "grid_gap": null,
      "grid_row": null,
      "grid_template_areas": null,
      "grid_template_columns": null,
      "grid_template_rows": null,
      "height": null,
      "justify_content": null,
      "justify_items": null,
      "left": null,
      "margin": null,
      "max_height": null,
      "max_width": null,
      "min_height": null,
      "min_width": null,
      "object_fit": null,
      "object_position": null,
      "order": null,
      "overflow": null,
      "overflow_x": null,
      "overflow_y": null,
      "padding": null,
      "right": null,
      "top": null,
      "visibility": null,
      "width": null
     }
    },
    "6fdac4a27bf74e7a9e6b4275c7da0dda": {
     "model_module": "@jupyter-widgets/controls",
     "model_name": "ProgressStyleModel",
     "model_module_version": "1.5.0",
     "state": {
      "_model_module": "@jupyter-widgets/controls",
      "_model_module_version": "1.5.0",
      "_model_name": "ProgressStyleModel",
      "_view_count": null,
      "_view_module": "@jupyter-widgets/base",
      "_view_module_version": "1.2.0",
      "_view_name": "StyleView",
      "bar_color": null,
      "description_width": ""
     }
    },
    "294ab138837444c48bfdd8e64aa8c359": {
     "model_module": "@jupyter-widgets/base",
     "model_name": "LayoutModel",
     "model_module_version": "1.2.0",
     "state": {
      "_model_module": "@jupyter-widgets/base",
      "_model_module_version": "1.2.0",
      "_model_name": "LayoutModel",
      "_view_count": null,
      "_view_module": "@jupyter-widgets/base",
      "_view_module_version": "1.2.0",
      "_view_name": "LayoutView",
      "align_content": null,
      "align_items": null,
      "align_self": null,
      "border": null,
      "bottom": null,
      "display": null,
      "flex": null,
      "flex_flow": null,
      "grid_area": null,
      "grid_auto_columns": null,
      "grid_auto_flow": null,
      "grid_auto_rows": null,
      "grid_column": null,
      "grid_gap": null,
      "grid_row": null,
      "grid_template_areas": null,
      "grid_template_columns": null,
      "grid_template_rows": null,
      "height": null,
      "justify_content": null,
      "justify_items": null,
      "left": null,
      "margin": null,
      "max_height": null,
      "max_width": null,
      "min_height": null,
      "min_width": null,
      "object_fit": null,
      "object_position": null,
      "order": null,
      "overflow": null,
      "overflow_x": null,
      "overflow_y": null,
      "padding": null,
      "right": null,
      "top": null,
      "visibility": null,
      "width": null
     }
    },
    "d12dd76cd7e540d38dbd264383d74125": {
     "model_module": "@jupyter-widgets/controls",
     "model_name": "DescriptionStyleModel",
     "model_module_version": "1.5.0",
     "state": {
      "_model_module": "@jupyter-widgets/controls",
      "_model_module_version": "1.5.0",
      "_model_name": "DescriptionStyleModel",
      "_view_count": null,
      "_view_module": "@jupyter-widgets/base",
      "_view_module_version": "1.2.0",
      "_view_name": "StyleView",
      "description_width": ""
     }
    },
    "7294706a4d524010b5bd7670481000cb": {
     "model_module": "@jupyter-widgets/controls",
     "model_name": "HBoxModel",
     "model_module_version": "1.5.0",
     "state": {
      "_dom_classes": [],
      "_model_module": "@jupyter-widgets/controls",
      "_model_module_version": "1.5.0",
      "_model_name": "HBoxModel",
      "_view_count": null,
      "_view_module": "@jupyter-widgets/controls",
      "_view_module_version": "1.5.0",
      "_view_name": "HBoxView",
      "box_style": "",
      "children": [
       "IPY_MODEL_2d4ffbe831b24f7aa8adf936bfb06246",
       "IPY_MODEL_e54b704ca926497bbac2fde3e85f6c93",
       "IPY_MODEL_42a255cc09e7448ea49bb77301e59de6"
      ],
      "layout": "IPY_MODEL_2b5628ea79ae4447b2807fd4542ab397"
     }
    },
    "2d4ffbe831b24f7aa8adf936bfb06246": {
     "model_module": "@jupyter-widgets/controls",
     "model_name": "HTMLModel",
     "model_module_version": "1.5.0",
     "state": {
      "_dom_classes": [],
      "_model_module": "@jupyter-widgets/controls",
      "_model_module_version": "1.5.0",
      "_model_name": "HTMLModel",
      "_view_count": null,
      "_view_module": "@jupyter-widgets/controls",
      "_view_module_version": "1.5.0",
      "_view_name": "HTMLView",
      "description": "",
      "description_tooltip": null,
      "layout": "IPY_MODEL_a9373b0203dc4afa90f73a173228ce96",
      "placeholder": "​",
      "style": "IPY_MODEL_30224ef170a94a49babdef9065e343bf",
      "value": "model.safetensors: 100%"
     }
    },
    "e54b704ca926497bbac2fde3e85f6c93": {
     "model_module": "@jupyter-widgets/controls",
     "model_name": "FloatProgressModel",
     "model_module_version": "1.5.0",
     "state": {
      "_dom_classes": [],
      "_model_module": "@jupyter-widgets/controls",
      "_model_module_version": "1.5.0",
      "_model_name": "FloatProgressModel",
      "_view_count": null,
      "_view_module": "@jupyter-widgets/controls",
      "_view_module_version": "1.5.0",
      "_view_name": "ProgressView",
      "bar_style": "success",
      "description": "",
      "description_tooltip": null,
      "layout": "IPY_MODEL_5df760e4ca54449fb448973fdbae1170",
      "max": 442233876,
      "min": 0,
      "orientation": "horizontal",
      "style": "IPY_MODEL_4e0ddc8eeb3b4bea8b19776f8b6beb8b",
      "value": 442233876
     }
    },
    "42a255cc09e7448ea49bb77301e59de6": {
     "model_module": "@jupyter-widgets/controls",
     "model_name": "HTMLModel",
     "model_module_version": "1.5.0",
     "state": {
      "_dom_classes": [],
      "_model_module": "@jupyter-widgets/controls",
      "_model_module_version": "1.5.0",
      "_model_name": "HTMLModel",
      "_view_count": null,
      "_view_module": "@jupyter-widgets/controls",
      "_view_module_version": "1.5.0",
      "_view_name": "HTMLView",
      "description": "",
      "description_tooltip": null,
      "layout": "IPY_MODEL_b7cda1a0468f4689bc8d4ce095dfe523",
      "placeholder": "​",
      "style": "IPY_MODEL_4142128dc33f4e618dd56db7a14d7a1b",
      "value": " 442M/442M [00:21&lt;00:00, 21.1MB/s]"
     }
    },
    "2b5628ea79ae4447b2807fd4542ab397": {
     "model_module": "@jupyter-widgets/base",
     "model_name": "LayoutModel",
     "model_module_version": "1.2.0",
     "state": {
      "_model_module": "@jupyter-widgets/base",
      "_model_module_version": "1.2.0",
      "_model_name": "LayoutModel",
      "_view_count": null,
      "_view_module": "@jupyter-widgets/base",
      "_view_module_version": "1.2.0",
      "_view_name": "LayoutView",
      "align_content": null,
      "align_items": null,
      "align_self": null,
      "border": null,
      "bottom": null,
      "display": null,
      "flex": null,
      "flex_flow": null,
      "grid_area": null,
      "grid_auto_columns": null,
      "grid_auto_flow": null,
      "grid_auto_rows": null,
      "grid_column": null,
      "grid_gap": null,
      "grid_row": null,
      "grid_template_areas": null,
      "grid_template_columns": null,
      "grid_template_rows": null,
      "height": null,
      "justify_content": null,
      "justify_items": null,
      "left": null,
      "margin": null,
      "max_height": null,
      "max_width": null,
      "min_height": null,
      "min_width": null,
      "object_fit": null,
      "object_position": null,
      "order": null,
      "overflow": null,
      "overflow_x": null,
      "overflow_y": null,
      "padding": null,
      "right": null,
      "top": null,
      "visibility": null,
      "width": null
     }
    },
    "a9373b0203dc4afa90f73a173228ce96": {
     "model_module": "@jupyter-widgets/base",
     "model_name": "LayoutModel",
     "model_module_version": "1.2.0",
     "state": {
      "_model_module": "@jupyter-widgets/base",
      "_model_module_version": "1.2.0",
      "_model_name": "LayoutModel",
      "_view_count": null,
      "_view_module": "@jupyter-widgets/base",
      "_view_module_version": "1.2.0",
      "_view_name": "LayoutView",
      "align_content": null,
      "align_items": null,
      "align_self": null,
      "border": null,
      "bottom": null,
      "display": null,
      "flex": null,
      "flex_flow": null,
      "grid_area": null,
      "grid_auto_columns": null,
      "grid_auto_flow": null,
      "grid_auto_rows": null,
      "grid_column": null,
      "grid_gap": null,
      "grid_row": null,
      "grid_template_areas": null,
      "grid_template_columns": null,
      "grid_template_rows": null,
      "height": null,
      "justify_content": null,
      "justify_items": null,
      "left": null,
      "margin": null,
      "max_height": null,
      "max_width": null,
      "min_height": null,
      "min_width": null,
      "object_fit": null,
      "object_position": null,
      "order": null,
      "overflow": null,
      "overflow_x": null,
      "overflow_y": null,
      "padding": null,
      "right": null,
      "top": null,
      "visibility": null,
      "width": null
     }
    },
    "30224ef170a94a49babdef9065e343bf": {
     "model_module": "@jupyter-widgets/controls",
     "model_name": "DescriptionStyleModel",
     "model_module_version": "1.5.0",
     "state": {
      "_model_module": "@jupyter-widgets/controls",
      "_model_module_version": "1.5.0",
      "_model_name": "DescriptionStyleModel",
      "_view_count": null,
      "_view_module": "@jupyter-widgets/base",
      "_view_module_version": "1.2.0",
      "_view_name": "StyleView",
      "description_width": ""
     }
    },
    "5df760e4ca54449fb448973fdbae1170": {
     "model_module": "@jupyter-widgets/base",
     "model_name": "LayoutModel",
     "model_module_version": "1.2.0",
     "state": {
      "_model_module": "@jupyter-widgets/base",
      "_model_module_version": "1.2.0",
      "_model_name": "LayoutModel",
      "_view_count": null,
      "_view_module": "@jupyter-widgets/base",
      "_view_module_version": "1.2.0",
      "_view_name": "LayoutView",
      "align_content": null,
      "align_items": null,
      "align_self": null,
      "border": null,
      "bottom": null,
      "display": null,
      "flex": null,
      "flex_flow": null,
      "grid_area": null,
      "grid_auto_columns": null,
      "grid_auto_flow": null,
      "grid_auto_rows": null,
      "grid_column": null,
      "grid_gap": null,
      "grid_row": null,
      "grid_template_areas": null,
      "grid_template_columns": null,
      "grid_template_rows": null,
      "height": null,
      "justify_content": null,
      "justify_items": null,
      "left": null,
      "margin": null,
      "max_height": null,
      "max_width": null,
      "min_height": null,
      "min_width": null,
      "object_fit": null,
      "object_position": null,
      "order": null,
      "overflow": null,
      "overflow_x": null,
      "overflow_y": null,
      "padding": null,
      "right": null,
      "top": null,
      "visibility": null,
      "width": null
     }
    },
    "4e0ddc8eeb3b4bea8b19776f8b6beb8b": {
     "model_module": "@jupyter-widgets/controls",
     "model_name": "ProgressStyleModel",
     "model_module_version": "1.5.0",
     "state": {
      "_model_module": "@jupyter-widgets/controls",
      "_model_module_version": "1.5.0",
      "_model_name": "ProgressStyleModel",
      "_view_count": null,
      "_view_module": "@jupyter-widgets/base",
      "_view_module_version": "1.2.0",
      "_view_name": "StyleView",
      "bar_color": null,
      "description_width": ""
     }
    },
    "b7cda1a0468f4689bc8d4ce095dfe523": {
     "model_module": "@jupyter-widgets/base",
     "model_name": "LayoutModel",
     "model_module_version": "1.2.0",
     "state": {
      "_model_module": "@jupyter-widgets/base",
      "_model_module_version": "1.2.0",
      "_model_name": "LayoutModel",
      "_view_count": null,
      "_view_module": "@jupyter-widgets/base",
      "_view_module_version": "1.2.0",
      "_view_name": "LayoutView",
      "align_content": null,
      "align_items": null,
      "align_self": null,
      "border": null,
      "bottom": null,
      "display": null,
      "flex": null,
      "flex_flow": null,
      "grid_area": null,
      "grid_auto_columns": null,
      "grid_auto_flow": null,
      "grid_auto_rows": null,
      "grid_column": null,
      "grid_gap": null,
      "grid_row": null,
      "grid_template_areas": null,
      "grid_template_columns": null,
      "grid_template_rows": null,
      "height": null,
      "justify_content": null,
      "justify_items": null,
      "left": null,
      "margin": null,
      "max_height": null,
      "max_width": null,
      "min_height": null,
      "min_width": null,
      "object_fit": null,
      "object_position": null,
      "order": null,
      "overflow": null,
      "overflow_x": null,
      "overflow_y": null,
      "padding": null,
      "right": null,
      "top": null,
      "visibility": null,
      "width": null
     }
    },
    "4142128dc33f4e618dd56db7a14d7a1b": {
     "model_module": "@jupyter-widgets/controls",
     "model_name": "DescriptionStyleModel",
     "model_module_version": "1.5.0",
     "state": {
      "_model_module": "@jupyter-widgets/controls",
      "_model_module_version": "1.5.0",
      "_model_name": "DescriptionStyleModel",
      "_view_count": null,
      "_view_module": "@jupyter-widgets/base",
      "_view_module_version": "1.2.0",
      "_view_name": "StyleView",
      "description_width": ""
     }
    }
    }
    
   }
  }
 },
 "nbformat": 4,
 "nbformat_minor": 5
}
